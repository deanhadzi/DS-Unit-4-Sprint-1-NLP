{
 "cells": [
  {
   "cell_type": "markdown",
   "metadata": {},
   "source": [
    "Lambda School Data Science\n",
    "\n",
    "*Unit 4, Sprint 1, Module 2*\n",
    "\n",
    "---\n",
    "\n",
    "# Vector Representations (Prepare)\n",
    "\n",
    "\n",
    "As we learned yesterday, machines cannot intrepret raw text. We need to transform that text into something we/machines can more readily analyze. Yesterday, we did simple counts of counts to summarize the content of Amazon reviews. Today, we'll extend those concepts to talk about vector representations such as Bag of Words (BoW) and word embedding models. We'll use those representations for search, visualization, and prepare for our classification day tomorrow. \n",
    "\n",
    "Processing text data to prepare it for maching learning models often means translating the information from documents into a numerical format. Bag-of-Words approaches (sometimes referred to as Frequency-Based word embeddings) accomplish this by \"vectorizing\" tokenized documents. This is done by representing each document as a row in a dataframe and creating a column for each unique word in the corpora (group of documents). The presence or lack of a given word in a document is then represented either as a raw count of how many times a given word appears in a document (CountVectorizer) or as that word's TF-IDF score (TfidfVectorizer).\n",
    "\n",
    "On the python side, we will be focusing on `sklearn` and `spacy` today.  \n",
    "\n",
    "## Case Study\n",
    "\n",
    "We're going to pretend we're on the data science team at the BBC. We want to recommend articles to visiters to on the BBC website based on the article they just read.\n",
    "\n",
    "**Dataset:**\n",
    "\n",
    "[D. Greene and P. Cunningham. \"Practical Solutions to the Problem of Diagonal Dominance in Kernel Document Clustering\", Proc. ICML 2006.](http://mlg.ucd.ie/datasets/bbc.html)\n",
    "*Please note that the dataset has been sampled down to tech articles only.* \n",
    "\n",
    "## Learning Objectives\n",
    "* <a href=\"#p1\">Part 1</a>: Represent a document as a vector\n",
    "* <a href=\"#p2\">Part 2</a>: Query Documents by Similarity\n",
    "* <a href=\"#p3\">Part 3</a>: Apply word embedding models to create document vectors"
   ]
  },
  {
   "cell_type": "markdown",
   "metadata": {},
   "source": [
    "# Represent a document as a vector (Learn)\n",
    "<a id=\"p1\"></a>"
   ]
  },
  {
   "cell_type": "markdown",
   "metadata": {},
   "source": [
    "## Overview\n",
    "\n",
    "In this section, we are going to create Document Term Matrices (DTM). Each column represents a word. Each row represents a document. The value in each cell can be range of different things. The most traditional: counts of appearences of words, does the word appear at all (binary), and term-frequency inverse-document frequence (TF-IDF). \n",
    "\n",
    "**Discussion:** Don't we loose all the context and grammar if we do this? So Why does it work?"
   ]
  },
  {
   "cell_type": "markdown",
   "metadata": {
    "toc-hr-collapsed": true
   },
   "source": [
    "## Follow Along"
   ]
  },
  {
   "cell_type": "code",
   "execution_count": 1,
   "metadata": {},
   "outputs": [],
   "source": [
    "\"\"\" Import Statements \"\"\"\n",
    "\n",
    "# Classics\n",
    "import pandas as pd\n",
    "import seaborn as sns\n",
    "import matplotlib.pyplot as plt\n",
    "\n",
    "from sklearn.feature_extraction.text import CountVectorizer, TfidfVectorizer\n",
    "from sklearn.metrics.pairwise import cosine_similarity\n",
    "from sklearn.neighbors import NearestNeighbors\n",
    "from sklearn.decomposition import PCA\n",
    "\n",
    "import spacy\n",
    "nlp = spacy.load(\"en_core_web_lg\")"
   ]
  },
  {
   "cell_type": "markdown",
   "metadata": {},
   "source": [
    "**Warm Up (_3 Minutes_)**\n",
    "\n",
    "Extract the tokens from this sentence using Spacy. Text is from [OpenAI](https://openai.com/blog/better-language-models/)"
   ]
  },
  {
   "cell_type": "code",
   "execution_count": 2,
   "metadata": {},
   "outputs": [],
   "source": [
    "text = '''We created a new dataset which emphasizes diversity of content, by scraping content from the Internet. \n",
    "In order to preserve document quality, we used only pages which have been curated/filtered by humans—specifically, \n",
    "we used outbound links from Reddit which received at least 3 karma. This can be thought of as a heuristic indicator \n",
    "for whether other users found the link interesting (whether educational or funny), leading to higher data quality than \n",
    "other similar datasets, such as CommonCrawl.'''"
   ]
  },
  {
   "cell_type": "code",
   "execution_count": 3,
   "metadata": {},
   "outputs": [
    {
     "name": "stdout",
     "output_type": "stream",
     "text": [
      "['create', 'new', 'dataset', 'emphasize', 'diversity', 'content', 'scrape', 'content', 'internet', '\\n', 'order', 'preserve', 'document', 'quality', 'page', 'curate', 'filter', 'human', 'specifically', '\\n', 'outbound', 'link', 'Reddit', 'receive', '3', 'karma', 'think', 'heuristic', 'indicator', '\\n', 'user', 'find', 'link', 'interesting', 'educational', 'funny', 'lead', 'high', 'datum', 'quality', '\\n', 'similar', 'dataset', 'CommonCrawl']\n"
     ]
    }
   ],
   "source": [
    "doc = nlp(text)\n",
    "print([token.lemma_ for token in doc if (token.is_stop != True) and (token.is_punct != True)])"
   ]
  },
  {
   "cell_type": "code",
   "execution_count": 4,
   "metadata": {},
   "outputs": [],
   "source": [
    "import os \n",
    "\n",
    "def gather_data(filefolder):\n",
    "    \"\"\" Produces List of Documents from a Directory\n",
    "    \n",
    "    filefolder (str): a path of .txt files\n",
    "    \n",
    "    returns list of strings \n",
    "    \"\"\"\n",
    "    \n",
    "    data = []\n",
    "    \n",
    "    files = os.listdir(filefolder) # Causes variation across machines\n",
    "    \n",
    "    for article in files: \n",
    "        \n",
    "        path = os.path.join(filefolder, article)\n",
    "                    \n",
    "        if  path[-3:] == 'txt':\n",
    "            with open(path, 'rb') as f:\n",
    "                data.append(f.read())\n",
    "    \n",
    "    return data"
   ]
  },
  {
   "cell_type": "code",
   "execution_count": 5,
   "metadata": {},
   "outputs": [],
   "source": [
    "data = gather_data('./data')"
   ]
  },
  {
   "cell_type": "code",
   "execution_count": 6,
   "metadata": {},
   "outputs": [
    {
     "data": {
      "text/plain": [
       "b'BT program to beat dialler scams\\n\\nBT is introducing two initiatives to help beat rogue dialler scams, which can cost dial-up net users thousands.\\n\\nFrom May, dial-up net users will be able to download free software to stop computers using numbers not on a user\\'s \"pre-approved list\". Inadvertently downloaded by surfers, rogue diallers are programs which hijack modems and dial up a premium rate number when users log on. Thousands of UK dial-up users are believed to have been hit by the scam. Some people have faced phone bills of up to \\xc2\\xa32,000. BT\\'s Modem Protection program will check numbers that are dialled by a computer and will block them if they have not been pre-approved, such as national and net service provider numbers. Icstis, the UK\\'s premium rate services watchdog, said it had been looking for companies to take the lead in initiatives. \"The initiatives are very welcome,\" a spokesperson from Icstis told the BBC News website. \"We are very pleased to see they are putting into place new measures to protect consumers.\"\\n\\nThe second initiative BT announced is an early warning system which will alert BT customers if there is unusual activity on their phone bills. If a bill rises substantially above its usual daily average, or if a call is made to a suspect number, a text or voice alert will be sent to the user\\'s landline phone. As part of the clamp-down on rogue diallers, companies must now satisfy stringent conditions, including clear terms and conditions, information about how to delete diallers and responsibility for customer refunds. Any firm running a dialler without permission can now be closed down by Icstis. The watchdog brought in the action last October following a decision to license all companies which wanted to operate legitimate premium rate dialler services.\\n\\nThere are legitimate companies who offer services such as adult content, sports results and music downloads by charging a premium rate rather than by credit card BT said it had ploughed an enormous amount of effort into protecting people from the problem. It has already barred more than 1,000 premium rate numbers and has tried to raise public awareness about the scams. \"We now want to ensure there are even stronger safeguards for our customers, who we would urge to make use of these new options to protect themselves,\" said Gavin Patterson, group managing director for consumer the arm of BT. Both schemes have been undergoing trials in Ireland, and will be made available to 20 million BT customers from May.\\n'"
      ]
     },
     "execution_count": 6,
     "metadata": {},
     "output_type": "execute_result"
    }
   ],
   "source": [
    "data[0]"
   ]
  },
  {
   "cell_type": "code",
   "execution_count": 7,
   "metadata": {},
   "outputs": [
    {
     "data": {
      "text/plain": [
       "401"
      ]
     },
     "execution_count": 7,
     "metadata": {},
     "output_type": "execute_result"
    }
   ],
   "source": [
    "len(data)"
   ]
  },
  {
   "cell_type": "markdown",
   "metadata": {},
   "source": [
    "### CountVectorizer"
   ]
  },
  {
   "cell_type": "code",
   "execution_count": 8,
   "metadata": {},
   "outputs": [
    {
     "name": "stdout",
     "output_type": "stream",
     "text": [
      "(3, 61)\n"
     ]
    }
   ],
   "source": [
    "from sklearn.feature_extraction.text import CountVectorizer\n",
    "\n",
    "# list of text documents\n",
    "text = [\"We created a new dataset which emphasizes diversity of content, by scraping content from the Internet.\",\n",
    "        \"In order to preserve document quality, we used only pages which have been curated/filtered by humans—specifically, we used outbound links from Reddit which received at least 3 karma.\",\n",
    "        \"This can be thought of as a heuristic indicator for whether other users found the link interesting (whether educational or funny), leading to higher data quality than other similar datasets, such as CommonCrawl.\"]\n",
    "\n",
    "# create the transformer\n",
    "vect = CountVectorizer()\n",
    "\n",
    "# build vocab\n",
    "vect.fit(text)\n",
    "\n",
    "# transform text\n",
    "dtm = vect.transform(text)\n",
    "print(dtm.shape)\n",
    "\n",
    "# Create a Vocabulary\n",
    "# The vocabulary establishes all of the possible words that we might use.\n",
    "# The vocabulary dictionary does not represent the counts of words!!"
   ]
  },
  {
   "cell_type": "code",
   "execution_count": 9,
   "metadata": {},
   "outputs": [
    {
     "name": "stdout",
     "output_type": "stream",
     "text": [
      "['as', 'at', 'be', 'been', 'by', 'can', 'commoncrawl', 'content', 'created', 'curated', 'data', 'dataset', 'datasets', 'diversity', 'document', 'educational', 'emphasizes', 'filtered', 'for', 'found', 'from', 'funny', 'have', 'heuristic', 'higher', 'humans', 'in', 'indicator', 'interesting', 'internet', 'karma', 'leading', 'least', 'link', 'links', 'new', 'of', 'only', 'or', 'order', 'other', 'outbound', 'pages', 'preserve', 'quality', 'received', 'reddit', 'scraping', 'similar', 'specifically', 'such', 'than', 'the', 'this', 'thought', 'to', 'used', 'users', 'we', 'whether', 'which']\n"
     ]
    }
   ],
   "source": [
    "print(vect.get_feature_names())"
   ]
  },
  {
   "cell_type": "code",
   "execution_count": 10,
   "metadata": {},
   "outputs": [
    {
     "data": {
      "text/plain": [
       "['We created a new dataset which emphasizes diversity of content, by scraping content from the Internet.',\n",
       " 'In order to preserve document quality, we used only pages which have been curated/filtered by humans—specifically, we used outbound links from Reddit which received at least 3 karma.',\n",
       " 'This can be thought of as a heuristic indicator for whether other users found the link interesting (whether educational or funny), leading to higher data quality than other similar datasets, such as CommonCrawl.']"
      ]
     },
     "execution_count": 10,
     "metadata": {},
     "output_type": "execute_result"
    }
   ],
   "source": [
    "text"
   ]
  },
  {
   "cell_type": "code",
   "execution_count": 11,
   "metadata": {},
   "outputs": [
    {
     "data": {
      "text/plain": [
       "scipy.sparse.csr.csr_matrix"
      ]
     },
     "execution_count": 11,
     "metadata": {},
     "output_type": "execute_result"
    }
   ],
   "source": [
    "type(dtm)"
   ]
  },
  {
   "cell_type": "code",
   "execution_count": 12,
   "metadata": {},
   "outputs": [
    {
     "name": "stdout",
     "output_type": "stream",
     "text": [
      "  (0, 4)\t1\n",
      "  (0, 7)\t2\n",
      "  (0, 8)\t1\n",
      "  (0, 11)\t1\n",
      "  (0, 13)\t1\n",
      "  (0, 16)\t1\n",
      "  (0, 20)\t1\n",
      "  (0, 29)\t1\n",
      "  (0, 35)\t1\n",
      "  (0, 36)\t1\n",
      "  (0, 47)\t1\n",
      "  (0, 52)\t1\n",
      "  (0, 58)\t1\n",
      "  (0, 60)\t1\n",
      "  (1, 1)\t1\n",
      "  (1, 3)\t1\n",
      "  (1, 4)\t1\n",
      "  (1, 9)\t1\n",
      "  (1, 14)\t1\n",
      "  (1, 17)\t1\n",
      "  (1, 20)\t1\n",
      "  (1, 22)\t1\n",
      "  (1, 25)\t1\n",
      "  (1, 26)\t1\n",
      "  (1, 30)\t1\n",
      "  :\t:\n",
      "  (2, 10)\t1\n",
      "  (2, 12)\t1\n",
      "  (2, 15)\t1\n",
      "  (2, 18)\t1\n",
      "  (2, 19)\t1\n",
      "  (2, 21)\t1\n",
      "  (2, 23)\t1\n",
      "  (2, 24)\t1\n",
      "  (2, 27)\t1\n",
      "  (2, 28)\t1\n",
      "  (2, 31)\t1\n",
      "  (2, 33)\t1\n",
      "  (2, 36)\t1\n",
      "  (2, 38)\t1\n",
      "  (2, 40)\t2\n",
      "  (2, 44)\t1\n",
      "  (2, 48)\t1\n",
      "  (2, 50)\t1\n",
      "  (2, 51)\t1\n",
      "  (2, 52)\t1\n",
      "  (2, 53)\t1\n",
      "  (2, 54)\t1\n",
      "  (2, 55)\t1\n",
      "  (2, 57)\t1\n",
      "  (2, 59)\t2\n"
     ]
    }
   ],
   "source": [
    "print(dtm)"
   ]
  },
  {
   "cell_type": "code",
   "execution_count": 13,
   "metadata": {},
   "outputs": [
    {
     "data": {
      "text/plain": [
       "matrix([[0, 0, 0, 0, 1, 0, 0, 2, 1, 0, 0, 1, 0, 1, 0, 0, 1, 0, 0, 0, 1,\n",
       "         0, 0, 0, 0, 0, 0, 0, 0, 1, 0, 0, 0, 0, 0, 1, 1, 0, 0, 0, 0, 0,\n",
       "         0, 0, 0, 0, 0, 1, 0, 0, 0, 0, 1, 0, 0, 0, 0, 0, 1, 0, 1],\n",
       "        [0, 1, 0, 1, 1, 0, 0, 0, 0, 1, 0, 0, 0, 0, 1, 0, 0, 1, 0, 0, 1,\n",
       "         0, 1, 0, 0, 1, 1, 0, 0, 0, 1, 0, 1, 0, 1, 0, 0, 1, 0, 1, 0, 1,\n",
       "         1, 1, 1, 1, 1, 0, 0, 1, 0, 0, 0, 0, 0, 1, 2, 0, 2, 0, 2],\n",
       "        [2, 0, 1, 0, 0, 1, 1, 0, 0, 0, 1, 0, 1, 0, 0, 1, 0, 0, 1, 1, 0,\n",
       "         1, 0, 1, 1, 0, 0, 1, 1, 0, 0, 1, 0, 1, 0, 0, 1, 0, 1, 0, 2, 0,\n",
       "         0, 0, 1, 0, 0, 0, 1, 0, 1, 1, 1, 1, 1, 1, 0, 1, 0, 2, 0]])"
      ]
     },
     "execution_count": 13,
     "metadata": {},
     "output_type": "execute_result"
    }
   ],
   "source": [
    "# Dealing with Sparse Matrix\n",
    "dtm.todense()"
   ]
  },
  {
   "cell_type": "code",
   "execution_count": 14,
   "metadata": {},
   "outputs": [
    {
     "data": {
      "text/html": [
       "<div>\n",
       "<style scoped>\n",
       "    .dataframe tbody tr th:only-of-type {\n",
       "        vertical-align: middle;\n",
       "    }\n",
       "\n",
       "    .dataframe tbody tr th {\n",
       "        vertical-align: top;\n",
       "    }\n",
       "\n",
       "    .dataframe thead th {\n",
       "        text-align: right;\n",
       "    }\n",
       "</style>\n",
       "<table border=\"1\" class=\"dataframe\">\n",
       "  <thead>\n",
       "    <tr style=\"text-align: right;\">\n",
       "      <th></th>\n",
       "      <th>as</th>\n",
       "      <th>at</th>\n",
       "      <th>be</th>\n",
       "      <th>been</th>\n",
       "      <th>by</th>\n",
       "      <th>can</th>\n",
       "      <th>commoncrawl</th>\n",
       "      <th>content</th>\n",
       "      <th>created</th>\n",
       "      <th>curated</th>\n",
       "      <th>...</th>\n",
       "      <th>than</th>\n",
       "      <th>the</th>\n",
       "      <th>this</th>\n",
       "      <th>thought</th>\n",
       "      <th>to</th>\n",
       "      <th>used</th>\n",
       "      <th>users</th>\n",
       "      <th>we</th>\n",
       "      <th>whether</th>\n",
       "      <th>which</th>\n",
       "    </tr>\n",
       "  </thead>\n",
       "  <tbody>\n",
       "    <tr>\n",
       "      <th>0</th>\n",
       "      <td>0</td>\n",
       "      <td>0</td>\n",
       "      <td>0</td>\n",
       "      <td>0</td>\n",
       "      <td>1</td>\n",
       "      <td>0</td>\n",
       "      <td>0</td>\n",
       "      <td>2</td>\n",
       "      <td>1</td>\n",
       "      <td>0</td>\n",
       "      <td>...</td>\n",
       "      <td>0</td>\n",
       "      <td>1</td>\n",
       "      <td>0</td>\n",
       "      <td>0</td>\n",
       "      <td>0</td>\n",
       "      <td>0</td>\n",
       "      <td>0</td>\n",
       "      <td>1</td>\n",
       "      <td>0</td>\n",
       "      <td>1</td>\n",
       "    </tr>\n",
       "    <tr>\n",
       "      <th>1</th>\n",
       "      <td>0</td>\n",
       "      <td>1</td>\n",
       "      <td>0</td>\n",
       "      <td>1</td>\n",
       "      <td>1</td>\n",
       "      <td>0</td>\n",
       "      <td>0</td>\n",
       "      <td>0</td>\n",
       "      <td>0</td>\n",
       "      <td>1</td>\n",
       "      <td>...</td>\n",
       "      <td>0</td>\n",
       "      <td>0</td>\n",
       "      <td>0</td>\n",
       "      <td>0</td>\n",
       "      <td>1</td>\n",
       "      <td>2</td>\n",
       "      <td>0</td>\n",
       "      <td>2</td>\n",
       "      <td>0</td>\n",
       "      <td>2</td>\n",
       "    </tr>\n",
       "    <tr>\n",
       "      <th>2</th>\n",
       "      <td>2</td>\n",
       "      <td>0</td>\n",
       "      <td>1</td>\n",
       "      <td>0</td>\n",
       "      <td>0</td>\n",
       "      <td>1</td>\n",
       "      <td>1</td>\n",
       "      <td>0</td>\n",
       "      <td>0</td>\n",
       "      <td>0</td>\n",
       "      <td>...</td>\n",
       "      <td>1</td>\n",
       "      <td>1</td>\n",
       "      <td>1</td>\n",
       "      <td>1</td>\n",
       "      <td>1</td>\n",
       "      <td>0</td>\n",
       "      <td>1</td>\n",
       "      <td>0</td>\n",
       "      <td>2</td>\n",
       "      <td>0</td>\n",
       "    </tr>\n",
       "  </tbody>\n",
       "</table>\n",
       "<p>3 rows × 61 columns</p>\n",
       "</div>"
      ],
      "text/plain": [
       "   as  at  be  been  by  can  commoncrawl  content  created  curated  ...  \\\n",
       "0   0   0   0     0   1    0            0        2        1        0  ...   \n",
       "1   0   1   0     1   1    0            0        0        0        1  ...   \n",
       "2   2   0   1     0   0    1            1        0        0        0  ...   \n",
       "\n",
       "   than  the  this  thought  to  used  users  we  whether  which  \n",
       "0     0    1     0        0   0     0      0   1        0      1  \n",
       "1     0    0     0        0   1     2      0   2        0      2  \n",
       "2     1    1     1        1   1     0      1   0        2      0  \n",
       "\n",
       "[3 rows x 61 columns]"
      ]
     },
     "execution_count": 14,
     "metadata": {},
     "output_type": "execute_result"
    }
   ],
   "source": [
    "# Get Word Counts for each document\n",
    "dtm = pd.DataFrame(dtm.todense(), columns=vect.get_feature_names())\n",
    "dtm"
   ]
  },
  {
   "cell_type": "code",
   "execution_count": 15,
   "metadata": {},
   "outputs": [
    {
     "data": {
      "text/plain": [
       "'We created a new dataset which emphasizes diversity of content, by scraping content from the Internet.'"
      ]
     },
     "execution_count": 15,
     "metadata": {},
     "output_type": "execute_result"
    }
   ],
   "source": [
    "text[0]"
   ]
  },
  {
   "cell_type": "markdown",
   "metadata": {},
   "source": [
    "**Three Minute Challenge:** \n",
    "* Apply CountVectorizer to our BBC Data\n",
    "* Store results in a dataframe called `dtm`\n",
    "* Extra Challenge - Try to Customize CountVectorizer with Spacy Processing"
   ]
  },
  {
   "cell_type": "code",
   "execution_count": 16,
   "metadata": {},
   "outputs": [
    {
     "name": "stdout",
     "output_type": "stream",
     "text": [
      "(401, 11820)\n"
     ]
    },
    {
     "data": {
      "text/html": [
       "<div>\n",
       "<style scoped>\n",
       "    .dataframe tbody tr th:only-of-type {\n",
       "        vertical-align: middle;\n",
       "    }\n",
       "\n",
       "    .dataframe tbody tr th {\n",
       "        vertical-align: top;\n",
       "    }\n",
       "\n",
       "    .dataframe thead th {\n",
       "        text-align: right;\n",
       "    }\n",
       "</style>\n",
       "<table border=\"1\" class=\"dataframe\">\n",
       "  <thead>\n",
       "    <tr style=\"text-align: right;\">\n",
       "      <th></th>\n",
       "      <th>00</th>\n",
       "      <th>000</th>\n",
       "      <th>000s</th>\n",
       "      <th>0051</th>\n",
       "      <th>007</th>\n",
       "      <th>01</th>\n",
       "      <th>028</th>\n",
       "      <th>04m</th>\n",
       "      <th>05</th>\n",
       "      <th>0530</th>\n",
       "      <th>...</th>\n",
       "      <th>zip</th>\n",
       "      <th>zodiac</th>\n",
       "      <th>zombie</th>\n",
       "      <th>zombies</th>\n",
       "      <th>zone</th>\n",
       "      <th>zonealarm</th>\n",
       "      <th>zones</th>\n",
       "      <th>zoom</th>\n",
       "      <th>zooms</th>\n",
       "      <th>zurich</th>\n",
       "    </tr>\n",
       "  </thead>\n",
       "  <tbody>\n",
       "    <tr>\n",
       "      <th>0</th>\n",
       "      <td>0</td>\n",
       "      <td>2</td>\n",
       "      <td>0</td>\n",
       "      <td>0</td>\n",
       "      <td>0</td>\n",
       "      <td>0</td>\n",
       "      <td>0</td>\n",
       "      <td>0</td>\n",
       "      <td>0</td>\n",
       "      <td>0</td>\n",
       "      <td>...</td>\n",
       "      <td>0</td>\n",
       "      <td>0</td>\n",
       "      <td>0</td>\n",
       "      <td>0</td>\n",
       "      <td>0</td>\n",
       "      <td>0</td>\n",
       "      <td>0</td>\n",
       "      <td>0</td>\n",
       "      <td>0</td>\n",
       "      <td>0</td>\n",
       "    </tr>\n",
       "    <tr>\n",
       "      <th>1</th>\n",
       "      <td>0</td>\n",
       "      <td>1</td>\n",
       "      <td>0</td>\n",
       "      <td>0</td>\n",
       "      <td>0</td>\n",
       "      <td>0</td>\n",
       "      <td>0</td>\n",
       "      <td>0</td>\n",
       "      <td>0</td>\n",
       "      <td>0</td>\n",
       "      <td>...</td>\n",
       "      <td>0</td>\n",
       "      <td>0</td>\n",
       "      <td>0</td>\n",
       "      <td>0</td>\n",
       "      <td>0</td>\n",
       "      <td>0</td>\n",
       "      <td>0</td>\n",
       "      <td>0</td>\n",
       "      <td>0</td>\n",
       "      <td>0</td>\n",
       "    </tr>\n",
       "    <tr>\n",
       "      <th>2</th>\n",
       "      <td>0</td>\n",
       "      <td>1</td>\n",
       "      <td>0</td>\n",
       "      <td>0</td>\n",
       "      <td>0</td>\n",
       "      <td>0</td>\n",
       "      <td>0</td>\n",
       "      <td>0</td>\n",
       "      <td>0</td>\n",
       "      <td>0</td>\n",
       "      <td>...</td>\n",
       "      <td>0</td>\n",
       "      <td>0</td>\n",
       "      <td>0</td>\n",
       "      <td>0</td>\n",
       "      <td>0</td>\n",
       "      <td>0</td>\n",
       "      <td>0</td>\n",
       "      <td>0</td>\n",
       "      <td>0</td>\n",
       "      <td>0</td>\n",
       "    </tr>\n",
       "    <tr>\n",
       "      <th>3</th>\n",
       "      <td>0</td>\n",
       "      <td>0</td>\n",
       "      <td>0</td>\n",
       "      <td>0</td>\n",
       "      <td>0</td>\n",
       "      <td>0</td>\n",
       "      <td>0</td>\n",
       "      <td>0</td>\n",
       "      <td>0</td>\n",
       "      <td>0</td>\n",
       "      <td>...</td>\n",
       "      <td>0</td>\n",
       "      <td>0</td>\n",
       "      <td>0</td>\n",
       "      <td>0</td>\n",
       "      <td>0</td>\n",
       "      <td>0</td>\n",
       "      <td>0</td>\n",
       "      <td>0</td>\n",
       "      <td>0</td>\n",
       "      <td>0</td>\n",
       "    </tr>\n",
       "    <tr>\n",
       "      <th>4</th>\n",
       "      <td>0</td>\n",
       "      <td>0</td>\n",
       "      <td>0</td>\n",
       "      <td>0</td>\n",
       "      <td>0</td>\n",
       "      <td>0</td>\n",
       "      <td>0</td>\n",
       "      <td>0</td>\n",
       "      <td>0</td>\n",
       "      <td>0</td>\n",
       "      <td>...</td>\n",
       "      <td>0</td>\n",
       "      <td>0</td>\n",
       "      <td>0</td>\n",
       "      <td>0</td>\n",
       "      <td>0</td>\n",
       "      <td>0</td>\n",
       "      <td>0</td>\n",
       "      <td>0</td>\n",
       "      <td>0</td>\n",
       "      <td>0</td>\n",
       "    </tr>\n",
       "  </tbody>\n",
       "</table>\n",
       "<p>5 rows × 11820 columns</p>\n",
       "</div>"
      ],
      "text/plain": [
       "   00  000  000s  0051  007  01  028  04m  05  0530  ...  zip  zodiac  zombie  \\\n",
       "0   0    2     0     0    0   0    0    0   0     0  ...    0       0       0   \n",
       "1   0    1     0     0    0   0    0    0   0     0  ...    0       0       0   \n",
       "2   0    1     0     0    0   0    0    0   0     0  ...    0       0       0   \n",
       "3   0    0     0     0    0   0    0    0   0     0  ...    0       0       0   \n",
       "4   0    0     0     0    0   0    0    0   0     0  ...    0       0       0   \n",
       "\n",
       "   zombies  zone  zonealarm  zones  zoom  zooms  zurich  \n",
       "0        0     0          0      0     0      0       0  \n",
       "1        0     0          0      0     0      0       0  \n",
       "2        0     0          0      0     0      0       0  \n",
       "3        0     0          0      0     0      0       0  \n",
       "4        0     0          0      0     0      0       0  \n",
       "\n",
       "[5 rows x 11820 columns]"
      ]
     },
     "execution_count": 16,
     "metadata": {},
     "output_type": "execute_result"
    }
   ],
   "source": [
    "# Apply CountVectorizer to our Data\n",
    "# Use custom Spacy Vectorizer\n",
    "# BBC articles in `data` variable\n",
    "\n",
    "from sklearn.feature_extraction.text import CountVectorizer\n",
    "\n",
    "# Initialize the CountVectorizer\n",
    "vect = CountVectorizer(stop_words='english')\n",
    "\n",
    "# Fit the vectorizer to learn vocab and transform the data into dtm\n",
    "dtm = vect.fit_transform(data)\n",
    "\n",
    "# Convert the dtm to pandas dataframe\n",
    "dtm = pd.DataFrame(dtm.todense(), columns=vect.get_feature_names())\n",
    "print(dtm.shape)\n",
    "dtm.head()"
   ]
  },
  {
   "cell_type": "code",
   "execution_count": 17,
   "metadata": {},
   "outputs": [],
   "source": [
    "import seaborn as sns\n",
    "sns.set()\n",
    "\n",
    "def plot_sample_length_distribution(sample_texts):\n",
    "    \"\"\"Plots the sample length distribution.\n",
    "    \n",
    "    # Arguments\n",
    "        samples_texts: list, sample texts.\n",
    "    \"\"\"\n",
    "    num_words = [len(s.split()) for s in sample_texts]\n",
    "    \n",
    "    plt.figure(figsize=(8,6))\n",
    "    sns.distplot(num_words)\n",
    "    plt.title('Number of Words per Document', fontsize=14)\n",
    "    plt.xlabel('Number of Words', fontsize=12)\n",
    "    plt.ylabel('Proportion of documents', fontsize=12)\n",
    "    plt.show()"
   ]
  },
  {
   "cell_type": "code",
   "execution_count": 18,
   "metadata": {},
   "outputs": [
    {
     "data": {
      "image/png": "[encoded data removed]",
      "text/plain": [
       "<Figure size 576x432 with 1 Axes>"
      ]
     },
     "metadata": {},
     "output_type": "display_data"
    }
   ],
   "source": [
    "plot_sample_length_distribution(data)"
   ]
  },
  {
   "cell_type": "markdown",
   "metadata": {},
   "source": [
    "### TfidfVectorizer\n",
    "\n",
    "## Term Frequency - Inverse Document Frequency (TF-IDF)\n",
    "\n",
    "<center><img src=\"https://mungingdata.files.wordpress.com/2017/11/equation.png?w=430&h=336\" width=\"300\"></center>\n",
    "\n",
    "Term Frequency: Percentage of words in document for each word\n",
    "\n",
    "Document Frequency: A penalty for the word existing in a high number of documents.\n",
    "\n",
    "The purpose of TF-IDF is to find what is **unique** to each document. Because of this we will penalize the term frequencies of words that are common across all documents which will allow for each document's most different topics to rise to the top."
   ]
  },
  {
   "cell_type": "code",
   "execution_count": 19,
   "metadata": {},
   "outputs": [
    {
     "data": {
      "text/plain": [
       "'We created a new dataset which emphasizes diversity of content, by scraping content from the Internet.'"
      ]
     },
     "execution_count": 19,
     "metadata": {},
     "output_type": "execute_result"
    }
   ],
   "source": [
    "text[0]"
   ]
  },
  {
   "cell_type": "code",
   "execution_count": 20,
   "metadata": {},
   "outputs": [
    {
     "data": {
      "text/plain": [
       "16"
      ]
     },
     "execution_count": 20,
     "metadata": {},
     "output_type": "execute_result"
    }
   ],
   "source": [
    "len(text[0].split())"
   ]
  },
  {
   "cell_type": "code",
   "execution_count": 21,
   "metadata": {},
   "outputs": [],
   "source": [
    "def tokenize(document):\n",
    "    \n",
    "    doc = nlp(document)\n",
    "    \n",
    "    return [token.lemma_.strip() for token in doc if (token.is_stop != True) and (token.is_punct != True)]"
   ]
  },
  {
   "cell_type": "code",
   "execution_count": 22,
   "metadata": {},
   "outputs": [
    {
     "name": "stdout",
     "output_type": "stream",
     "text": [
      "(401, 4009)\n"
     ]
    },
    {
     "data": {
      "text/html": [
       "<div>\n",
       "<style scoped>\n",
       "    .dataframe tbody tr th:only-of-type {\n",
       "        vertical-align: middle;\n",
       "    }\n",
       "\n",
       "    .dataframe tbody tr th {\n",
       "        vertical-align: top;\n",
       "    }\n",
       "\n",
       "    .dataframe thead th {\n",
       "        text-align: right;\n",
       "    }\n",
       "</style>\n",
       "<table border=\"1\" class=\"dataframe\">\n",
       "  <thead>\n",
       "    <tr style=\"text-align: right;\">\n",
       "      <th></th>\n",
       "      <th>000</th>\n",
       "      <th>000 new</th>\n",
       "      <th>000 people</th>\n",
       "      <th>000 times</th>\n",
       "      <th>10</th>\n",
       "      <th>10 000</th>\n",
       "      <th>10 million</th>\n",
       "      <th>10 times</th>\n",
       "      <th>10 years</th>\n",
       "      <th>100</th>\n",
       "      <th>...</th>\n",
       "      <th>year said</th>\n",
       "      <th>years</th>\n",
       "      <th>years ago</th>\n",
       "      <th>yen</th>\n",
       "      <th>yes</th>\n",
       "      <th>york</th>\n",
       "      <th>young</th>\n",
       "      <th>younger</th>\n",
       "      <th>youth</th>\n",
       "      <th>zombies</th>\n",
       "    </tr>\n",
       "  </thead>\n",
       "  <tbody>\n",
       "    <tr>\n",
       "      <th>0</th>\n",
       "      <td>0.056177</td>\n",
       "      <td>0.0</td>\n",
       "      <td>0.0</td>\n",
       "      <td>0.0</td>\n",
       "      <td>0.000000</td>\n",
       "      <td>0.0</td>\n",
       "      <td>0.0</td>\n",
       "      <td>0.0</td>\n",
       "      <td>0.0</td>\n",
       "      <td>0.000000</td>\n",
       "      <td>...</td>\n",
       "      <td>0.0</td>\n",
       "      <td>0.000000</td>\n",
       "      <td>0.000000</td>\n",
       "      <td>0.0</td>\n",
       "      <td>0.0</td>\n",
       "      <td>0.0</td>\n",
       "      <td>0.0</td>\n",
       "      <td>0.00000</td>\n",
       "      <td>0.0</td>\n",
       "      <td>0.0</td>\n",
       "    </tr>\n",
       "    <tr>\n",
       "      <th>1</th>\n",
       "      <td>0.025723</td>\n",
       "      <td>0.0</td>\n",
       "      <td>0.0</td>\n",
       "      <td>0.0</td>\n",
       "      <td>0.029619</td>\n",
       "      <td>0.0</td>\n",
       "      <td>0.0</td>\n",
       "      <td>0.0</td>\n",
       "      <td>0.0</td>\n",
       "      <td>0.037162</td>\n",
       "      <td>...</td>\n",
       "      <td>0.0</td>\n",
       "      <td>0.000000</td>\n",
       "      <td>0.000000</td>\n",
       "      <td>0.0</td>\n",
       "      <td>0.0</td>\n",
       "      <td>0.0</td>\n",
       "      <td>0.0</td>\n",
       "      <td>0.00000</td>\n",
       "      <td>0.0</td>\n",
       "      <td>0.0</td>\n",
       "    </tr>\n",
       "    <tr>\n",
       "      <th>2</th>\n",
       "      <td>0.022705</td>\n",
       "      <td>0.0</td>\n",
       "      <td>0.0</td>\n",
       "      <td>0.0</td>\n",
       "      <td>0.000000</td>\n",
       "      <td>0.0</td>\n",
       "      <td>0.0</td>\n",
       "      <td>0.0</td>\n",
       "      <td>0.0</td>\n",
       "      <td>0.000000</td>\n",
       "      <td>...</td>\n",
       "      <td>0.0</td>\n",
       "      <td>0.024287</td>\n",
       "      <td>0.041326</td>\n",
       "      <td>0.0</td>\n",
       "      <td>0.0</td>\n",
       "      <td>0.0</td>\n",
       "      <td>0.0</td>\n",
       "      <td>0.09328</td>\n",
       "      <td>0.0</td>\n",
       "      <td>0.0</td>\n",
       "    </tr>\n",
       "    <tr>\n",
       "      <th>3</th>\n",
       "      <td>0.000000</td>\n",
       "      <td>0.0</td>\n",
       "      <td>0.0</td>\n",
       "      <td>0.0</td>\n",
       "      <td>0.021687</td>\n",
       "      <td>0.0</td>\n",
       "      <td>0.0</td>\n",
       "      <td>0.0</td>\n",
       "      <td>0.0</td>\n",
       "      <td>0.000000</td>\n",
       "      <td>...</td>\n",
       "      <td>0.0</td>\n",
       "      <td>0.000000</td>\n",
       "      <td>0.000000</td>\n",
       "      <td>0.0</td>\n",
       "      <td>0.0</td>\n",
       "      <td>0.0</td>\n",
       "      <td>0.0</td>\n",
       "      <td>0.00000</td>\n",
       "      <td>0.0</td>\n",
       "      <td>0.0</td>\n",
       "    </tr>\n",
       "    <tr>\n",
       "      <th>4</th>\n",
       "      <td>0.000000</td>\n",
       "      <td>0.0</td>\n",
       "      <td>0.0</td>\n",
       "      <td>0.0</td>\n",
       "      <td>0.000000</td>\n",
       "      <td>0.0</td>\n",
       "      <td>0.0</td>\n",
       "      <td>0.0</td>\n",
       "      <td>0.0</td>\n",
       "      <td>0.000000</td>\n",
       "      <td>...</td>\n",
       "      <td>0.0</td>\n",
       "      <td>0.000000</td>\n",
       "      <td>0.000000</td>\n",
       "      <td>0.0</td>\n",
       "      <td>0.0</td>\n",
       "      <td>0.0</td>\n",
       "      <td>0.0</td>\n",
       "      <td>0.00000</td>\n",
       "      <td>0.0</td>\n",
       "      <td>0.0</td>\n",
       "    </tr>\n",
       "  </tbody>\n",
       "</table>\n",
       "<p>5 rows × 4009 columns</p>\n",
       "</div>"
      ],
      "text/plain": [
       "        000  000 new  000 people  000 times        10  10 000  10 million  \\\n",
       "0  0.056177      0.0         0.0        0.0  0.000000     0.0         0.0   \n",
       "1  0.025723      0.0         0.0        0.0  0.029619     0.0         0.0   \n",
       "2  0.022705      0.0         0.0        0.0  0.000000     0.0         0.0   \n",
       "3  0.000000      0.0         0.0        0.0  0.021687     0.0         0.0   \n",
       "4  0.000000      0.0         0.0        0.0  0.000000     0.0         0.0   \n",
       "\n",
       "   10 times  10 years       100  ...  year said     years  years ago  yen  \\\n",
       "0       0.0       0.0  0.000000  ...        0.0  0.000000   0.000000  0.0   \n",
       "1       0.0       0.0  0.037162  ...        0.0  0.000000   0.000000  0.0   \n",
       "2       0.0       0.0  0.000000  ...        0.0  0.024287   0.041326  0.0   \n",
       "3       0.0       0.0  0.000000  ...        0.0  0.000000   0.000000  0.0   \n",
       "4       0.0       0.0  0.000000  ...        0.0  0.000000   0.000000  0.0   \n",
       "\n",
       "   yes  york  young  younger  youth  zombies  \n",
       "0  0.0   0.0    0.0  0.00000    0.0      0.0  \n",
       "1  0.0   0.0    0.0  0.00000    0.0      0.0  \n",
       "2  0.0   0.0    0.0  0.09328    0.0      0.0  \n",
       "3  0.0   0.0    0.0  0.00000    0.0      0.0  \n",
       "4  0.0   0.0    0.0  0.00000    0.0      0.0  \n",
       "\n",
       "[5 rows x 4009 columns]"
      ]
     },
     "execution_count": 22,
     "metadata": {},
     "output_type": "execute_result"
    }
   ],
   "source": [
    "from sklearn.feature_extraction.text import TfidfVectorizer\n",
    "\n",
    "# Instantiate vectorizer object\n",
    "tfidf = TfidfVectorizer(stop_words = 'english',\n",
    "                        # tokenizer = tokenize,\n",
    "                        ngram_range = (1, 2),\n",
    "                        min_df = 5, \n",
    "                        max_df = 0.5)\n",
    "                        # max_features = 5000)\n",
    "\n",
    "# Create a vocabulary and tf-idf score per document\n",
    "dtm = tfidf.fit_transform(data)\n",
    "\n",
    "# Get feature names to use as dataframe column headers\n",
    "dtm = pd.DataFrame(dtm.todense(), columns=tfidf.get_feature_names())\n",
    "\n",
    "# View Feature Matrix as DataFrame\n",
    "print(dtm.shape)\n",
    "dtm.head()"
   ]
  },
  {
   "cell_type": "markdown",
   "metadata": {},
   "source": [
    "text data machines\n",
    "\n",
    "\"text data\" \"data machines\""
   ]
  },
  {
   "cell_type": "markdown",
   "metadata": {},
   "source": [
    "## Challenge\n",
    "\n",
    "During this module's project assignment, you will transform data science job listings to vector representations for analysis downstream. "
   ]
  },
  {
   "cell_type": "markdown",
   "metadata": {},
   "source": [
    "# Query Documents by Similarity (Learn)\n",
    "<a id=\"p2\"></a>"
   ]
  },
  {
   "cell_type": "markdown",
   "metadata": {},
   "source": [
    "## Overview\n",
    "\n",
    "Have you ever considered how a search bar works? You may just think that search bars simply match your input text againist the documents. While there are many different mechanisms for the 'match', one of the most classic is to search by similarity. We will apply n-dimensional distance to measure similarity, and query for input and output. "
   ]
  },
  {
   "cell_type": "markdown",
   "metadata": {
    "toc-hr-collapsed": true
   },
   "source": [
    "## Follow Along"
   ]
  },
  {
   "cell_type": "markdown",
   "metadata": {},
   "source": [
    "### Cosine Similarity (Brute Force)"
   ]
  },
  {
   "cell_type": "code",
   "execution_count": 23,
   "metadata": {},
   "outputs": [],
   "source": [
    "# Calculate Distance of TF-IDF Vectors\n",
    "from sklearn.metrics.pairwise import cosine_similarity\n",
    "\n",
    "dist_matrix  = cosine_similarity(dtm)"
   ]
  },
  {
   "cell_type": "code",
   "execution_count": 24,
   "metadata": {},
   "outputs": [
    {
     "name": "stdout",
     "output_type": "stream",
     "text": [
      "(401, 401)\n"
     ]
    },
    {
     "data": {
      "text/html": [
       "<div>\n",
       "<style scoped>\n",
       "    .dataframe tbody tr th:only-of-type {\n",
       "        vertical-align: middle;\n",
       "    }\n",
       "\n",
       "    .dataframe tbody tr th {\n",
       "        vertical-align: top;\n",
       "    }\n",
       "\n",
       "    .dataframe thead th {\n",
       "        text-align: right;\n",
       "    }\n",
       "</style>\n",
       "<table border=\"1\" class=\"dataframe\">\n",
       "  <thead>\n",
       "    <tr style=\"text-align: right;\">\n",
       "      <th></th>\n",
       "      <th>0</th>\n",
       "      <th>1</th>\n",
       "      <th>2</th>\n",
       "      <th>3</th>\n",
       "      <th>4</th>\n",
       "      <th>5</th>\n",
       "      <th>6</th>\n",
       "      <th>7</th>\n",
       "      <th>8</th>\n",
       "      <th>9</th>\n",
       "      <th>...</th>\n",
       "      <th>391</th>\n",
       "      <th>392</th>\n",
       "      <th>393</th>\n",
       "      <th>394</th>\n",
       "      <th>395</th>\n",
       "      <th>396</th>\n",
       "      <th>397</th>\n",
       "      <th>398</th>\n",
       "      <th>399</th>\n",
       "      <th>400</th>\n",
       "    </tr>\n",
       "  </thead>\n",
       "  <tbody>\n",
       "    <tr>\n",
       "      <th>0</th>\n",
       "      <td>1.000000</td>\n",
       "      <td>0.041111</td>\n",
       "      <td>0.073003</td>\n",
       "      <td>0.036436</td>\n",
       "      <td>0.043080</td>\n",
       "      <td>0.038224</td>\n",
       "      <td>0.017734</td>\n",
       "      <td>0.059920</td>\n",
       "      <td>0.024006</td>\n",
       "      <td>0.046716</td>\n",
       "      <td>...</td>\n",
       "      <td>0.059237</td>\n",
       "      <td>0.063639</td>\n",
       "      <td>0.262100</td>\n",
       "      <td>0.044590</td>\n",
       "      <td>0.033888</td>\n",
       "      <td>0.020211</td>\n",
       "      <td>0.045021</td>\n",
       "      <td>0.040960</td>\n",
       "      <td>0.046568</td>\n",
       "      <td>0.019715</td>\n",
       "    </tr>\n",
       "    <tr>\n",
       "      <th>1</th>\n",
       "      <td>0.041111</td>\n",
       "      <td>1.000000</td>\n",
       "      <td>0.063424</td>\n",
       "      <td>0.058106</td>\n",
       "      <td>0.049854</td>\n",
       "      <td>0.104980</td>\n",
       "      <td>0.077609</td>\n",
       "      <td>0.041286</td>\n",
       "      <td>0.033127</td>\n",
       "      <td>0.066861</td>\n",
       "      <td>...</td>\n",
       "      <td>0.099714</td>\n",
       "      <td>0.038518</td>\n",
       "      <td>0.048802</td>\n",
       "      <td>0.076236</td>\n",
       "      <td>0.022861</td>\n",
       "      <td>0.083589</td>\n",
       "      <td>0.026910</td>\n",
       "      <td>0.115402</td>\n",
       "      <td>0.115059</td>\n",
       "      <td>0.038124</td>\n",
       "    </tr>\n",
       "    <tr>\n",
       "      <th>2</th>\n",
       "      <td>0.073003</td>\n",
       "      <td>0.063424</td>\n",
       "      <td>1.000000</td>\n",
       "      <td>0.056042</td>\n",
       "      <td>0.182224</td>\n",
       "      <td>0.047602</td>\n",
       "      <td>0.109360</td>\n",
       "      <td>0.036326</td>\n",
       "      <td>0.020137</td>\n",
       "      <td>0.105167</td>\n",
       "      <td>...</td>\n",
       "      <td>0.107089</td>\n",
       "      <td>0.034300</td>\n",
       "      <td>0.086412</td>\n",
       "      <td>0.028450</td>\n",
       "      <td>0.036050</td>\n",
       "      <td>0.016168</td>\n",
       "      <td>0.017757</td>\n",
       "      <td>0.182297</td>\n",
       "      <td>0.059815</td>\n",
       "      <td>0.052373</td>\n",
       "    </tr>\n",
       "    <tr>\n",
       "      <th>3</th>\n",
       "      <td>0.036436</td>\n",
       "      <td>0.058106</td>\n",
       "      <td>0.056042</td>\n",
       "      <td>1.000000</td>\n",
       "      <td>0.033603</td>\n",
       "      <td>0.022116</td>\n",
       "      <td>0.034595</td>\n",
       "      <td>0.080064</td>\n",
       "      <td>0.012106</td>\n",
       "      <td>0.012403</td>\n",
       "      <td>...</td>\n",
       "      <td>0.024671</td>\n",
       "      <td>0.053210</td>\n",
       "      <td>0.022399</td>\n",
       "      <td>0.051919</td>\n",
       "      <td>0.024608</td>\n",
       "      <td>0.019682</td>\n",
       "      <td>0.068282</td>\n",
       "      <td>0.032733</td>\n",
       "      <td>0.078278</td>\n",
       "      <td>0.010267</td>\n",
       "    </tr>\n",
       "    <tr>\n",
       "      <th>4</th>\n",
       "      <td>0.043080</td>\n",
       "      <td>0.049854</td>\n",
       "      <td>0.182224</td>\n",
       "      <td>0.033603</td>\n",
       "      <td>1.000000</td>\n",
       "      <td>0.037532</td>\n",
       "      <td>0.030327</td>\n",
       "      <td>0.028237</td>\n",
       "      <td>0.017045</td>\n",
       "      <td>0.052306</td>\n",
       "      <td>...</td>\n",
       "      <td>0.093163</td>\n",
       "      <td>0.012909</td>\n",
       "      <td>0.099773</td>\n",
       "      <td>0.022873</td>\n",
       "      <td>0.038531</td>\n",
       "      <td>0.024932</td>\n",
       "      <td>0.020100</td>\n",
       "      <td>0.167826</td>\n",
       "      <td>0.049514</td>\n",
       "      <td>0.016771</td>\n",
       "    </tr>\n",
       "  </tbody>\n",
       "</table>\n",
       "<p>5 rows × 401 columns</p>\n",
       "</div>"
      ],
      "text/plain": [
       "        0         1         2         3         4         5         6    \\\n",
       "0  1.000000  0.041111  0.073003  0.036436  0.043080  0.038224  0.017734   \n",
       "1  0.041111  1.000000  0.063424  0.058106  0.049854  0.104980  0.077609   \n",
       "2  0.073003  0.063424  1.000000  0.056042  0.182224  0.047602  0.109360   \n",
       "3  0.036436  0.058106  0.056042  1.000000  0.033603  0.022116  0.034595   \n",
       "4  0.043080  0.049854  0.182224  0.033603  1.000000  0.037532  0.030327   \n",
       "\n",
       "        7         8         9    ...       391       392       393       394  \\\n",
       "0  0.059920  0.024006  0.046716  ...  0.059237  0.063639  0.262100  0.044590   \n",
       "1  0.041286  0.033127  0.066861  ...  0.099714  0.038518  0.048802  0.076236   \n",
       "2  0.036326  0.020137  0.105167  ...  0.107089  0.034300  0.086412  0.028450   \n",
       "3  0.080064  0.012106  0.012403  ...  0.024671  0.053210  0.022399  0.051919   \n",
       "4  0.028237  0.017045  0.052306  ...  0.093163  0.012909  0.099773  0.022873   \n",
       "\n",
       "        395       396       397       398       399       400  \n",
       "0  0.033888  0.020211  0.045021  0.040960  0.046568  0.019715  \n",
       "1  0.022861  0.083589  0.026910  0.115402  0.115059  0.038124  \n",
       "2  0.036050  0.016168  0.017757  0.182297  0.059815  0.052373  \n",
       "3  0.024608  0.019682  0.068282  0.032733  0.078278  0.010267  \n",
       "4  0.038531  0.024932  0.020100  0.167826  0.049514  0.016771  \n",
       "\n",
       "[5 rows x 401 columns]"
      ]
     },
     "execution_count": 24,
     "metadata": {},
     "output_type": "execute_result"
    }
   ],
   "source": [
    "# Turn it into a DataFrame\n",
    "df = pd.DataFrame(dist_matrix)\n",
    "print(df.shape)\n",
    "df.head()"
   ]
  },
  {
   "cell_type": "code",
   "execution_count": 25,
   "metadata": {},
   "outputs": [
    {
     "data": {
      "text/plain": [
       "0    1.000000\n",
       "1    0.041111\n",
       "2    0.073003\n",
       "3    0.036436\n",
       "4    0.043080\n",
       "Name: 0, dtype: float64"
      ]
     },
     "execution_count": 25,
     "metadata": {},
     "output_type": "execute_result"
    }
   ],
   "source": [
    "# Each row is the similarity of one document to all other documents (including itself)\n",
    "df[0][:5]"
   ]
  },
  {
   "cell_type": "code",
   "execution_count": 26,
   "metadata": {},
   "outputs": [
    {
     "data": {
      "text/plain": [
       "126    0.506113\n",
       "155    0.343726\n",
       "393    0.262100\n",
       "327    0.262100\n",
       "238    0.222366\n",
       "Name: 0, dtype: float64"
      ]
     },
     "execution_count": 26,
     "metadata": {},
     "output_type": "execute_result"
    }
   ],
   "source": [
    "# Grab the top 5 most similar documents to document 0\n",
    "df[df[0] < 1][0].sort_values(ascending=False)[:5]"
   ]
  },
  {
   "cell_type": "code",
   "execution_count": 27,
   "metadata": {},
   "outputs": [
    {
     "name": "stdout",
     "output_type": "stream",
     "text": [
      "b'BT program to beat dialler scams\\n\\nBT is introducing two initiatives to help beat rogue dialler scams, which can cost dial-up net users thousands.\\n\\nFro'\n"
     ]
    }
   ],
   "source": [
    "print(data[0][:150])"
   ]
  },
  {
   "cell_type": "code",
   "execution_count": 28,
   "metadata": {},
   "outputs": [
    {
     "name": "stdout",
     "output_type": "stream",
     "text": [
      "b'Call for action on internet scam\\n\\nPhone companies are not doing enough to warn customers about internet \"rogue-dialling\" scams, according to premium p'\n"
     ]
    }
   ],
   "source": [
    "print(data[126][:150])"
   ]
  },
  {
   "cell_type": "markdown",
   "metadata": {},
   "source": [
    "### NearestNeighbor (K-NN) \n",
    "\n",
    "To address the computational inefficiencies of the brute-force approach, a variety of tree-based data structures have been invented. In general, these structures attempt to reduce the required number of distance calculations by efficiently encoding aggregate distance information for the sample. The basic idea is that if point  is very distant from point , and point  is very close to point , then we know that points  and  are very distant, without having to explicitly calculate their distance. In this way, the computational cost of a nearest neighbors search can be reduced to  or better. This is a significant improvement over brute-force for large data.\n",
    "\n",
    "To address the inefficiencies of KD Trees in higher dimensions, the ball tree data structure was developed. Where KD trees partition data along Cartesian axes, ball trees partition data in a series of nesting hyper-spheres. This makes tree construction more costly than that of the KD tree, but results in a data structure which can be very efficient on highly structured data, even in very high dimensions.\n",
    "\n",
    "A ball tree recursively divides the data into nodes defined by a centroid  and radius , such that each point in the node lies within the hyper-sphere defined by  and . The number of candidate points for a neighbor search is reduced through use of the triangle inequality:\n",
    "\n",
    "With this setup, a single distance calculation between a test point and the centroid is sufficient to determine a lower and upper bound on the distance to all points within the node. Because of the spherical geometry of the ball tree nodes, it can out-perform a KD-tree in high dimensions, though the actual performance is highly dependent on the structure of the training data. In scikit-learn, ball-tree-based neighbors searches are specified using the keyword algorithm = 'ball_tree', and are computed using the class sklearn.neighbors.BallTree. Alternatively, the user can work with the BallTree class directly."
   ]
  },
  {
   "cell_type": "code",
   "execution_count": 29,
   "metadata": {},
   "outputs": [
    {
     "data": {
      "text/html": [
       "<div>\n",
       "<style scoped>\n",
       "    .dataframe tbody tr th:only-of-type {\n",
       "        vertical-align: middle;\n",
       "    }\n",
       "\n",
       "    .dataframe tbody tr th {\n",
       "        vertical-align: top;\n",
       "    }\n",
       "\n",
       "    .dataframe thead th {\n",
       "        text-align: right;\n",
       "    }\n",
       "</style>\n",
       "<table border=\"1\" class=\"dataframe\">\n",
       "  <thead>\n",
       "    <tr style=\"text-align: right;\">\n",
       "      <th></th>\n",
       "      <th>000</th>\n",
       "      <th>000 new</th>\n",
       "      <th>000 people</th>\n",
       "      <th>000 times</th>\n",
       "      <th>10</th>\n",
       "      <th>10 000</th>\n",
       "      <th>10 million</th>\n",
       "      <th>10 times</th>\n",
       "      <th>10 years</th>\n",
       "      <th>100</th>\n",
       "      <th>...</th>\n",
       "      <th>year said</th>\n",
       "      <th>years</th>\n",
       "      <th>years ago</th>\n",
       "      <th>yen</th>\n",
       "      <th>yes</th>\n",
       "      <th>york</th>\n",
       "      <th>young</th>\n",
       "      <th>younger</th>\n",
       "      <th>youth</th>\n",
       "      <th>zombies</th>\n",
       "    </tr>\n",
       "  </thead>\n",
       "  <tbody>\n",
       "    <tr>\n",
       "      <th>0</th>\n",
       "      <td>0.056177</td>\n",
       "      <td>0.0</td>\n",
       "      <td>0.0</td>\n",
       "      <td>0.0</td>\n",
       "      <td>0.000000</td>\n",
       "      <td>0.0</td>\n",
       "      <td>0.0</td>\n",
       "      <td>0.0</td>\n",
       "      <td>0.0</td>\n",
       "      <td>0.000000</td>\n",
       "      <td>...</td>\n",
       "      <td>0.0</td>\n",
       "      <td>0.000000</td>\n",
       "      <td>0.000000</td>\n",
       "      <td>0.0</td>\n",
       "      <td>0.0</td>\n",
       "      <td>0.0</td>\n",
       "      <td>0.0</td>\n",
       "      <td>0.00000</td>\n",
       "      <td>0.0</td>\n",
       "      <td>0.0</td>\n",
       "    </tr>\n",
       "    <tr>\n",
       "      <th>1</th>\n",
       "      <td>0.025723</td>\n",
       "      <td>0.0</td>\n",
       "      <td>0.0</td>\n",
       "      <td>0.0</td>\n",
       "      <td>0.029619</td>\n",
       "      <td>0.0</td>\n",
       "      <td>0.0</td>\n",
       "      <td>0.0</td>\n",
       "      <td>0.0</td>\n",
       "      <td>0.037162</td>\n",
       "      <td>...</td>\n",
       "      <td>0.0</td>\n",
       "      <td>0.000000</td>\n",
       "      <td>0.000000</td>\n",
       "      <td>0.0</td>\n",
       "      <td>0.0</td>\n",
       "      <td>0.0</td>\n",
       "      <td>0.0</td>\n",
       "      <td>0.00000</td>\n",
       "      <td>0.0</td>\n",
       "      <td>0.0</td>\n",
       "    </tr>\n",
       "    <tr>\n",
       "      <th>2</th>\n",
       "      <td>0.022705</td>\n",
       "      <td>0.0</td>\n",
       "      <td>0.0</td>\n",
       "      <td>0.0</td>\n",
       "      <td>0.000000</td>\n",
       "      <td>0.0</td>\n",
       "      <td>0.0</td>\n",
       "      <td>0.0</td>\n",
       "      <td>0.0</td>\n",
       "      <td>0.000000</td>\n",
       "      <td>...</td>\n",
       "      <td>0.0</td>\n",
       "      <td>0.024287</td>\n",
       "      <td>0.041326</td>\n",
       "      <td>0.0</td>\n",
       "      <td>0.0</td>\n",
       "      <td>0.0</td>\n",
       "      <td>0.0</td>\n",
       "      <td>0.09328</td>\n",
       "      <td>0.0</td>\n",
       "      <td>0.0</td>\n",
       "    </tr>\n",
       "    <tr>\n",
       "      <th>3</th>\n",
       "      <td>0.000000</td>\n",
       "      <td>0.0</td>\n",
       "      <td>0.0</td>\n",
       "      <td>0.0</td>\n",
       "      <td>0.021687</td>\n",
       "      <td>0.0</td>\n",
       "      <td>0.0</td>\n",
       "      <td>0.0</td>\n",
       "      <td>0.0</td>\n",
       "      <td>0.000000</td>\n",
       "      <td>...</td>\n",
       "      <td>0.0</td>\n",
       "      <td>0.000000</td>\n",
       "      <td>0.000000</td>\n",
       "      <td>0.0</td>\n",
       "      <td>0.0</td>\n",
       "      <td>0.0</td>\n",
       "      <td>0.0</td>\n",
       "      <td>0.00000</td>\n",
       "      <td>0.0</td>\n",
       "      <td>0.0</td>\n",
       "    </tr>\n",
       "    <tr>\n",
       "      <th>4</th>\n",
       "      <td>0.000000</td>\n",
       "      <td>0.0</td>\n",
       "      <td>0.0</td>\n",
       "      <td>0.0</td>\n",
       "      <td>0.000000</td>\n",
       "      <td>0.0</td>\n",
       "      <td>0.0</td>\n",
       "      <td>0.0</td>\n",
       "      <td>0.0</td>\n",
       "      <td>0.000000</td>\n",
       "      <td>...</td>\n",
       "      <td>0.0</td>\n",
       "      <td>0.000000</td>\n",
       "      <td>0.000000</td>\n",
       "      <td>0.0</td>\n",
       "      <td>0.0</td>\n",
       "      <td>0.0</td>\n",
       "      <td>0.0</td>\n",
       "      <td>0.00000</td>\n",
       "      <td>0.0</td>\n",
       "      <td>0.0</td>\n",
       "    </tr>\n",
       "  </tbody>\n",
       "</table>\n",
       "<p>5 rows × 4009 columns</p>\n",
       "</div>"
      ],
      "text/plain": [
       "        000  000 new  000 people  000 times        10  10 000  10 million  \\\n",
       "0  0.056177      0.0         0.0        0.0  0.000000     0.0         0.0   \n",
       "1  0.025723      0.0         0.0        0.0  0.029619     0.0         0.0   \n",
       "2  0.022705      0.0         0.0        0.0  0.000000     0.0         0.0   \n",
       "3  0.000000      0.0         0.0        0.0  0.021687     0.0         0.0   \n",
       "4  0.000000      0.0         0.0        0.0  0.000000     0.0         0.0   \n",
       "\n",
       "   10 times  10 years       100  ...  year said     years  years ago  yen  \\\n",
       "0       0.0       0.0  0.000000  ...        0.0  0.000000   0.000000  0.0   \n",
       "1       0.0       0.0  0.037162  ...        0.0  0.000000   0.000000  0.0   \n",
       "2       0.0       0.0  0.000000  ...        0.0  0.024287   0.041326  0.0   \n",
       "3       0.0       0.0  0.000000  ...        0.0  0.000000   0.000000  0.0   \n",
       "4       0.0       0.0  0.000000  ...        0.0  0.000000   0.000000  0.0   \n",
       "\n",
       "   yes  york  young  younger  youth  zombies  \n",
       "0  0.0   0.0    0.0  0.00000    0.0      0.0  \n",
       "1  0.0   0.0    0.0  0.00000    0.0      0.0  \n",
       "2  0.0   0.0    0.0  0.09328    0.0      0.0  \n",
       "3  0.0   0.0    0.0  0.00000    0.0      0.0  \n",
       "4  0.0   0.0    0.0  0.00000    0.0      0.0  \n",
       "\n",
       "[5 rows x 4009 columns]"
      ]
     },
     "execution_count": 29,
     "metadata": {},
     "output_type": "execute_result"
    }
   ],
   "source": [
    "dtm.head()"
   ]
  },
  {
   "cell_type": "code",
   "execution_count": 30,
   "metadata": {},
   "outputs": [
    {
     "data": {
      "text/plain": [
       "NearestNeighbors(algorithm='kd_tree', leaf_size=30, metric='minkowski',\n",
       "                 metric_params=None, n_jobs=None, n_neighbors=5, p=2,\n",
       "                 radius=1.0)"
      ]
     },
     "execution_count": 30,
     "metadata": {},
     "output_type": "execute_result"
    }
   ],
   "source": [
    "from sklearn.neighbors import NearestNeighbors\n",
    "\n",
    "# Fit on DTM\n",
    "nn = NearestNeighbors(n_neighbors=5, algorithm='kd_tree')\n",
    "nn.fit(dtm)"
   ]
  },
  {
   "cell_type": "code",
   "execution_count": 31,
   "metadata": {},
   "outputs": [
    {
     "data": {
      "text/plain": [
       "(array([[0.        , 0.993868  , 1.14566506, 1.21482523, 1.21482523]]),\n",
       " array([[  0, 126, 155, 327, 393]]))"
      ]
     },
     "execution_count": 31,
     "metadata": {},
     "output_type": "execute_result"
    }
   ],
   "source": [
    "nn.kneighbors([dtm.iloc[0].values])"
   ]
  },
  {
   "cell_type": "code",
   "execution_count": 32,
   "metadata": {},
   "outputs": [
    {
     "data": {
      "text/plain": [
       "b'BT program to beat dialler scams\\n\\nBT is introducing two initiatives to help beat rogue dialler scams, which can cost dial-up net users thousands.\\n\\nFro'"
      ]
     },
     "execution_count": 32,
     "metadata": {},
     "output_type": "execute_result"
    }
   ],
   "source": [
    "data[0][:150]"
   ]
  },
  {
   "cell_type": "code",
   "execution_count": 33,
   "metadata": {},
   "outputs": [
    {
     "data": {
      "text/plain": [
       "b'Call for action on internet scam\\n\\nPhone companies are not doing enough to warn customers about internet \"rogue-dialling\" scams, according to premium p'"
      ]
     },
     "execution_count": 33,
     "metadata": {},
     "output_type": "execute_result"
    }
   ],
   "source": [
    "data[126][:150]"
   ]
  },
  {
   "cell_type": "code",
   "execution_count": 34,
   "metadata": {},
   "outputs": [],
   "source": [
    "rndm_tech_article = [ \"\"\"\n",
    "Zoom is implementing new security measures as it battles to prevent hackers from \"zoombombing\" video calls.\n",
    "\n",
    "Trolls have been disrupting video conferences with offensive content, including racist and homophobic imagery.\n",
    "\n",
    "Those with free Zoom accounts must use a password for all meetings.\n",
    "\n",
    "It follows reports that a sexual assault awareness meeting on the platform was targeted by a hacker who posted a video depicting child abuse.\n",
    "\n",
    "Zoom support meeting 'hacked' with child abuse images\n",
    "Zoom meetings targeted by abuse footage sharers\n",
    "Zoom has been attempting to toughen up its security measures ever since it vowed to fix its \"biggest trust, safety and privacy\" issues in April.\n",
    "\n",
    "Its latest move, aimed at free users of its platform, will be implemented on 9 May.\n",
    "\n",
    "A new level of encryption will also be introduced across the platform from 30 May, which it says will \"provide increased protection for meeting data and resistance against tampering\".\n",
    "\n",
    "Jo O'Reilly, deputy editor at ProPrivacy, has suggested that Zoom still has some way to go if it is to stop large-scale companies such as Google from banning the use of the platform.\n",
    "\n",
    "\"This update may be enough to get consumers back on board,\" she told the BBC.\n",
    "\n",
    "\"However, if they want to turn the tide of big companies and government moving away from using Zoom, it is going to take more than superficial fixes such as enforced passwords.\n",
    "\n",
    "\"The bigger issues such as the of the lack of end-to-end encryption, making it unsuitable for commercially or politically sensitive meetings, are much trickier to solve\",\" added Ms O'Reilly.\n",
    "\n",
    "Perpetrators of video-call hijackings can often be hard to identify and track down, due to the quick nature of the attacks.\n",
    "\n",
    "Such an attack occurred on 30 April during a video conference to mark the end of Sexual Assault Awareness Month.\n",
    "\n",
    "According to The Mercury News, a hacker posted a video depicting child abuse, and forced the meeting to end.\n",
    "\n",
    "The community-organised event in San Francisco had been intended to allow victims of sexual assault to share their stories.\n",
    "\n",
    "A spokesman for the District Attorney said they were aware of the matter and were looking into it.\n",
    "\n",
    "“We are horrified about what occurred during one of our partner’s town hall events promoting Sexual Assault Awareness Month,\" he said.\n",
    "\n",
    "\"The intrusion further emphasises the importance of programs that combat and prevent sexual violence, including the prosecution of those who exploit children.\"\n",
    "\n",
    "A spokesman for Zoom added that the platform was looking into the incident to \"ensure appropriate action is taken\".\n",
    "\"\"\"]\n"
   ]
  },
  {
   "cell_type": "code",
   "execution_count": 35,
   "metadata": {},
   "outputs": [
    {
     "data": {
      "text/plain": [
       "<1x4009 sparse matrix of type '<class 'numpy.float64'>'\n",
       "\twith 116 stored elements in Compressed Sparse Row format>"
      ]
     },
     "execution_count": 35,
     "metadata": {},
     "output_type": "execute_result"
    }
   ],
   "source": [
    "# Query for Sim of Random doc to BBC\n",
    "new = tfidf.transform(rndm_tech_article)\n",
    "new"
   ]
  },
  {
   "cell_type": "code",
   "execution_count": 36,
   "metadata": {},
   "outputs": [
    {
     "data": {
      "text/plain": [
       "(array([[1.30329404, 1.30679482, 1.31503151, 1.32058971, 1.3221766 ]]),\n",
       " array([[106, 123, 342, 364, 228]]))"
      ]
     },
     "execution_count": 36,
     "metadata": {},
     "output_type": "execute_result"
    }
   ],
   "source": [
    "nn.kneighbors(new.todense())"
   ]
  },
  {
   "cell_type": "code",
   "execution_count": 37,
   "metadata": {},
   "outputs": [
    {
     "data": {
      "text/plain": [
       "b'Parents face video game lessons\\n\\nWays of ensuring that parents know which video games are suitable for children are to be considered by the games industry.\\n\\nThe issue was discussed at a meeting between UK government officials, industry representatives and the British Board of Film Classification. It follows concerns that children may be playing games aimed at adults which include high levels of violence. In 2003, Britons spent \\xc2\\xa31,152m on games, more than ever before. And this Christmas, parents are expected to spend millions on video games and consoles.\\n\\nViolent games have been hit by controversy after the game Manhunt was blamed by the parents of 14-year-old Stefan Pakeerah, who was stabbed to death in Leicester in February. His mother, Giselle, said her son\\'s killer, Warren Leblanc, 17 - who was jailed for life in September - had mimicked behaviour in the game.\\n\\nPolice investigating Stefan\\'s murder dismissed its influence and said Manhunt was not part of its legal case. The issue of warnings on games for adults was raised on Sunday by Trade and Industry Secretary Patricia Hewitt. This was the focus of the talks between government officials, representatives from the games industry and the British Board of Film Classification. \"Adults can make informed choices about what games to play. Children can\\'t and they deserve to be protected,\" said Culture Secretary Tessa Jowell after the meeting. \"Industry will consider how to make sure parents know what games their children should and shouldn\\'t play.\" Roger Bennett, director general of Entertainment and Leisure Software Publishers Association, said: \"A number of initiatives were discussed at the meeting. \"They will be formulated to create specific proposals to promote greater understanding, recognition and awareness of the games rating system, ensuring that young people are not exposed to inappropriate content.\"\\n\\nAmong the possible measures could be a campaign to explain to parents that many games are made for an adult audience, as well as changes to the labelling of the games themselves.\\n\\nAccording to industry statistics, a majority of players are over 18, with the average age of a gamer being 29. Academics point out that there has not been any definitive research linking bloodthirsty games such as Manhunt with violent responses in players. In a report published this week for the Video Standards Council, Dr Guy Cumberbatch said: \"The research evidence on media violence causing harm to viewers is wildly exaggerated and does not stand up to scrutiny.\" Dr Cumberbatch, head of the social policy think tank, the Communications Research Group, reviewed the studies on the issue. He concluded that there was an absence of convincing research that media violence caused harm.\\n'"
      ]
     },
     "execution_count": 37,
     "metadata": {},
     "output_type": "execute_result"
    }
   ],
   "source": [
    "# Inspect Most relevant result\n",
    "data[106]"
   ]
  },
  {
   "cell_type": "markdown",
   "metadata": {},
   "source": [
    "## Challenge\n",
    "\n",
    "In the module project assignment, you will apply one of these search techniques to retrieve documents related to a query document. "
   ]
  },
  {
   "cell_type": "markdown",
   "metadata": {},
   "source": [
    "# Apply word embedding models to create document vectors (Learn)\n",
    "<a id=\"p3\"></a>"
   ]
  },
  {
   "cell_type": "markdown",
   "metadata": {},
   "source": [
    "## Overview\n",
    "### BoW discards textual context\n",
    "\n",
    "One of the limitations of Bag-of-Words approaches is that any information about the textual context surrounding that word is lost. This also means that with bag-of-words approaches often the only tools that we have for identifying words with similar usage or meaning and subsequently consolidating them into a single vector is through the processes of stemming and lemmatization which tend to be quite limited at consolidating words unless the two words are very close in their spelling or in their root parts-of-speech.\n",
    "\n",
    "### Embedding approaches preserve more textual context\n",
    "Word2Vec is an increasingly popular word embedding technique. Like Bag-of-words it learns a real-value vector representation for a predefined fixed-size vocabulary that is generated from a corpus of text. However, in contrast to BoW, Word2Vec approaches are much more capable of accounting for textual context, and are better at discovering words with similar meanings or usages (semantic or syntactic similarity).\n",
    "\n",
    "### Word2Vec Intuition\n",
    "### The Distribution Hypothesis\n",
    "\n",
    "In order to understand how Word2Vec preserves textual context we have to understand what's called the Distribution Hypothesis (Reference: Distribution Hypothesis Theory  -https://en.wikipedia.org/wiki/Distributional_semantics. The Distribution Hypothesis operates under the assumption that words that have similar contexts will have similar meanings. Practically speaking, this means that if two words are found to have similar words both to the right and to the left of them throughout the corpora then those words have the same context and are assumed to have the same meaning. \n",
    "\n",
    "> \"You shall know a word by the company it keeps\" - John Firth\n",
    "\n",
    "This means that we let the usage of a word define its meaning and its \"similarity\" to other words. In the following example, which words would you say have a similar meaning? \n",
    "\n",
    "**Sentence 1**: Traffic was light today\n",
    "\n",
    "**Sentence 2**: Traffic was heavy yesterday\n",
    "\n",
    "**Sentence 3**: Prediction is that traffic will be smooth-flowing tomorrow since it is a national holiday\n",
    "\n",
    "What words in the above sentences seem to have a similar meaning if all you knew about them was the context in which they appeared above? \n",
    "\n",
    "Lets take a look at how this might work in action, the following example is simplified, but will give you an idea of the intuition for how this works.\n",
    "\n",
    "#### Corpora:\n",
    "\n",
    "1) \"It was the sunniest of days.\"\n",
    "\n",
    "2) \"It was the raniest of days.\"\n",
    "\n",
    "#### Vocabulary:\n",
    "\n",
    "{\"it\": 1, \"was\": 2, \"the\": 3, \"of\": 4, \"days\": 5, \"sunniest\": 6, \"raniest\": 7}\n",
    "\n",
    "### Vectorization\n",
    "\n",
    "|       doc   | START_was | it_the | was_sunniest | the_of | sunniest_days | of_it | days_was | it_the | was_raniest | raniest_days | of_END |\n",
    "|----------|-----------|--------|--------------|--------|---------------|-------|----------|--------|-------------|--------------|--------|\n",
    "| it       | 1         | 0      | 0            | 0      | 0             | 0     | 1        | 0      | 0           | 0            | 0      |\n",
    "| was      | 0         | 1      | 0            | 0      | 0             | 0     | 0        | 1      | 0           | 0            | 0      |\n",
    "| the      | 0         | 0      | 1            | 0      | 0             | 0     | 0        | 0      | 1           | 0            | 0      |\n",
    "| sunniest | 0         | 0      | 0            | 1      | 0             | 0     | 0        | 0      | 0           | 0            | 0      |\n",
    "| of       | 0         | 0      | 0            | 0      | 1             | 0     | 0        | 0      | 0           | 1            | 0      |\n",
    "| days     | 0         | 0      | 0            | 0      | 0             | 0     | 0        | 0      | 0           | 0            | 1      |\n",
    "| raniest  | 0         | 0      | 0            | 1      | 0             | 0     | 0        | 0      | 0           | 0            | 0      |\n",
    "\n",
    "Each column vector represents the word's context -in this case defined by the words to the left and right of the center word. How far we look to the left and right of a given word is referred to as our \"window of context.\" Each row vector represents the the different usages of a given word. Word2Vec can consider a larger context than only words that are immediately to the left and right of a given word, but we're going to keep our window of context small for this example. What's most important is that this vectorization has translated our documents from a text representation to a numeric one in a way that preserves information about the underlying context. \n",
    "\n",
    "We can see that words that have a similar context will have similar row-vector representations, but before looking that more in-depth, lets simplify our vectorization slightly. You'll notice that we're repeating the column-vector \"it_the\" twice. Lets combine those into a single vector by adding them element-wise. \n",
    "\n",
    "|       *   | START_was | it_the | was_sunniest | the_of | sunniest_days | of_it | days_was | was_raniest | raniest_days | of_END |\n",
    "|----------|-----------|--------|--------------|--------|---------------|-------|----------|-------------|--------------|--------|\n",
    "| it       | 1         | 0      | 0            | 0      | 0             | 0     | 1        | 0           | 0            | 0      |\n",
    "| was      | 0         | 2      | 0            | 0      | 0             | 0     | 0        | 0           | 0            | 0      |\n",
    "| the      | 0         | 0      | 1            | 0      | 0             | 0     | 0        | 1           | 0            | 0      |\n",
    "| sunniest | 0         | 0      | 0            | 1      | 0             | 0     | 0        | 0           | 0            | 0      |\n",
    "| of       | 0         | 0      | 0            | 0      | 1             | 0     | 0        | 0           | 1            | 0      |\n",
    "| days     | 0         | 0      | 0            | 0      | 0             | 0     | 0        | 0           | 0            | 1      |\n",
    "| raniest  | 0         | 0      | 0            | 1      | 0             | 0     | 0        | 0           | 0            | 0      |\n",
    "\n",
    "Now, can you spot which words have a similar row-vector representation? Hint: Look for values that are repeated in a given column. Each column represents the context that word was found in. If there are multiple words that share a context then those words are understood to have a closer meaning with each other than with other words in the text.\n",
    "\n",
    "Lets look specifically at the words sunniest and raniest. You'll notice that these two words have exactly the same 10-dimensional vector representation. Based on this very small corpora of text we would conclude that these two words have the same meaning because they share the same usage. Is this a good assumption? Well, they are both referring to the weather outside so that's better than nothing. You could imagine that as our corpora grows larger we will be exposed a greater number of contexts and the Distribution Hypothesis assumption will improve. \n",
    "\n",
    "### Word2Vec Variants\n",
    "\n",
    "#### Skip-Gram\n",
    "\n",
    "The Skip-Gram method predicts the neighbors’ of a word given a center word. In the skip-gram model, we take a center word and a window of context (neighbors) words to train the model and then predict context words out to some window size for each center word.\n",
    "\n",
    "This notion of “context” or “neighboring” words is best described by considering a center word and a window of words around it. \n",
    "\n",
    "For example, if we consider the sentence **“The speedy Porsche drove past the elegant Rolls-Royce”** and a window size of 2, we’d have the following pairs for the skip-gram model:\n",
    "\n",
    "**Text:**\n",
    "**The**\tspeedy\tPorsche\tdrove\tpast\tthe\telegant\tRolls-Royce\n",
    "\n",
    "*Training Sample with window of 2*: (the, speedy), (the, Porsche)\n",
    "\n",
    "**Text:**\n",
    "The\t**speedy**\tPorsche\tdrove\tpast\tthe\telegant\tRolls-Royce\n",
    "\n",
    "*Training Sample with window of 2*: (speedy, the), (speedy, Porsche), (speedy, drove)\n",
    "\n",
    "**Text:**\n",
    "The\tspeedy\t**Porsche**\tdrove\tpast\tthe\telegant\tRolls-Royce\n",
    "\n",
    "*Training Sample with window of 2*: (Porsche, the), (Porsche, speedy), (Porsche, drove), (Porsche, past)\n",
    "\n",
    "**Text:**\n",
    "The\tspeedy\tPorsche\t**drove**\tpast\tthe\telegant\tRolls-Royce\n",
    "\n",
    "*Training Sample with window of 2*: (drove, speedy), (drove, Porsche), (drove, past), (drove, the)\n",
    "\n",
    "The **Skip-gram model** is going to output a probability distribution i.e. the probability of a word appearing in context given a center word and we are going to select the vector representation that maximizes the probability.\n",
    "\n",
    "With CountVectorizer and TF-IDF the best we could do for context was to look at common bi-grams and tri-grams (n-grams). Well, skip-grams go far beyond that and give our model much stronger contextual information.\n",
    "\n",
    "![alt text](https://www.dropbox.com/s/c7mwy6dk9k99bgh/Image%202%20-%20SkipGrams.jpg?raw=1)\n",
    "\n",
    "## Continuous Bag of Words\n",
    "\n",
    "This model takes thes opposite approach from the skip-gram model in that it tries to predict a center word based on the neighboring words. In the case of the CBOW model, we input the context words within the window (such as “the”, “Proshe”, “drove”) and aim to predict the target or center word “speedy” (the input to the prediction pipeline is reversed as compared to the SkipGram model).\n",
    "\n",
    "A graphical depiction of the input to output prediction pipeline for both variants of the Word2vec model is attached. The graphical depiction will help crystallize the difference between SkipGrams and Continuous Bag of Words.\n",
    "\n",
    "![alt text](https://www.dropbox.com/s/k3ddmbtd52wq2li/Image%203%20-%20CBOW%20Model.jpg?raw=1)\n",
    "\n",
    "## Notable Differences between Word Embedding methods:\n",
    "\n",
    "1) W2V focuses less document topic-modeling. You'll notice that the vectorizations don't really retain much information about the original document that the information came from. At least not in our examples.\n",
    "\n",
    "2) W2V can result in really large and complex vectorizations. In fact, you need Deep Neural Networks to train your Word2Vec models from scratch, but we can use helpful pretrained embeddings (thank you Google) to do really cool things!\n",
    "\n",
    "*^ All that noise....AND Spacy has pretrained a Word2Vec model you can just use? WTF JC?*\n",
    "\n",
    "Let's take a look at how to do it. "
   ]
  },
  {
   "cell_type": "code",
   "execution_count": 38,
   "metadata": {},
   "outputs": [
    {
     "name": "stdout",
     "output_type": "stream",
     "text": [
      "dog True 7.0336733 False\n",
      "cat True 6.6808186 False\n",
      "banana True 6.700014 False\n",
      "asksfdsa False 0.0 True\n"
     ]
    }
   ],
   "source": [
    "tokens = nlp('dog cat banana asksfdsa')\n",
    "\n",
    "for token in tokens:\n",
    "    print(token.text, token.has_vector, token.vector_norm, token.is_oov)"
   ]
  },
  {
   "cell_type": "code",
   "execution_count": 39,
   "metadata": {},
   "outputs": [
    {
     "name": "stdout",
     "output_type": "stream",
     "text": [
      "[-2.2009e-01 -3.0322e-02 -7.9859e-02 -4.6279e-01 -3.8600e-01  3.6962e-01\n",
      " -7.7178e-01 -1.1529e-01  3.3601e-02  5.6573e-01 -2.4001e-01  4.1833e-01\n",
      "  1.5049e-01  3.5621e-01 -2.1508e-01 -4.2743e-01  8.1400e-02  3.3916e-01\n",
      "  2.1637e-01  1.4792e-01  4.5811e-01  2.0966e-01 -3.5706e-01  2.3800e-01\n",
      "  2.7971e-02 -8.4538e-01  4.1917e-01 -3.9181e-01  4.0434e-04 -1.0662e+00\n",
      "  1.4591e-01  1.4643e-03  5.1277e-01  2.6072e-01  8.3785e-02  3.0340e-01\n",
      "  1.8579e-01  5.9999e-02 -4.0270e-01  5.0888e-01 -1.1358e-01 -2.8854e-01\n",
      " -2.7068e-01  1.1017e-02 -2.2217e-01  6.9076e-01  3.6459e-02  3.0394e-01\n",
      "  5.6989e-02  2.2733e-01 -9.9473e-02  1.5165e-01  1.3540e-01 -2.4965e-01\n",
      "  9.8078e-01 -8.0492e-01  1.9326e-01  3.1128e-01  5.5390e-02 -4.2423e-01\n",
      " -1.4082e-02  1.2708e-01  1.8868e-01  5.9777e-02 -2.2215e-01 -8.3950e-01\n",
      "  9.1987e-02  1.0180e-01 -3.1299e-01  5.5083e-01 -3.0717e-01  4.4201e-01\n",
      "  1.2666e-01  3.7643e-01  3.2333e-01  9.5673e-02  2.5083e-01 -6.4049e-02\n",
      "  4.2143e-01 -1.9375e-01  3.8026e-01  7.0883e-03 -2.0371e-01  1.5402e-01\n",
      " -3.7877e-03 -2.9396e-01  9.6518e-01  2.0068e-01 -5.6572e-01 -2.2581e-01\n",
      "  3.2251e-01 -3.4634e-01  2.7064e-01 -2.0687e-01 -4.7229e-01  3.1704e-01\n",
      " -3.4665e-01 -2.5188e-01 -1.1201e-01 -3.3937e-01  3.1518e-01 -3.2221e-01\n",
      " -2.4530e-01 -7.1571e-02 -4.3971e-01 -1.2070e+00  3.3365e-01 -5.8208e-02\n",
      "  8.0899e-01  4.2335e-01  3.8678e-01 -6.0797e-01 -7.3760e-01 -2.0547e-01\n",
      " -1.7499e-01 -3.7842e-03  2.1930e-01 -5.2486e-02  3.4869e-01  4.3852e-01\n",
      " -3.4471e-01  2.8910e-01  7.2554e-02 -4.8625e-01 -3.8390e-01 -4.4760e-01\n",
      "  4.3278e-01 -2.7128e-03 -9.0067e-01 -3.0819e-02 -3.8630e-01 -8.0798e-02\n",
      " -1.6243e-01  2.8830e-01 -2.6349e-01  1.7628e-01  3.5958e-01  5.7672e-01\n",
      " -5.4624e-01  3.8555e-02 -2.0182e+00  3.2916e-01  3.4672e-01  1.5398e-01\n",
      " -4.3446e-01 -4.1428e-02 -6.9588e-02  5.1513e-01 -1.3489e-01 -5.7239e-02\n",
      "  4.9241e-01  1.8643e-01  3.8596e-01 -3.7329e-02 -5.4216e-01 -1.8152e-01\n",
      "  4.3110e-01 -4.6967e-01  6.6801e-02  5.0323e-01 -2.4059e-01  3.6742e-01\n",
      "  2.9300e-01 -8.7883e-02 -4.7940e-01 -4.3431e-02 -2.6137e-01 -6.2658e-01\n",
      "  1.1446e-01  2.7682e-01  3.4800e-01  5.0018e-01  1.4269e-01 -3.3545e-01\n",
      " -3.9712e-01 -3.3121e-01 -3.4434e-01 -4.1627e-01 -3.5707e-03 -6.2350e-01\n",
      "  3.7794e-01 -1.6765e-01 -4.1954e-01 -3.3134e-01  3.1232e-01 -3.9494e-01\n",
      " -4.6921e-03 -4.8884e-01 -2.2059e-02 -2.6174e-01  1.7937e-01  3.6628e-01\n",
      "  5.8971e-02 -3.5991e-01 -4.4393e-01 -1.1890e-01  3.3487e-01  3.6505e-02\n",
      " -3.2788e-01  3.3425e-01 -5.6361e-01 -1.1190e-01  5.3770e-01  2.0311e-01\n",
      "  1.5110e-01  1.0623e-02  3.3401e-01  4.6084e-01  5.6293e-01 -7.5432e-02\n",
      "  5.4813e-01  1.9395e-01 -2.6265e-01 -3.1699e-01 -8.1778e-01  5.8169e-02\n",
      " -5.7866e-02 -1.1781e-01 -5.8742e-02 -1.4092e-01 -9.9394e-01 -9.4532e-02\n",
      "  2.3503e-01 -4.9027e-01  8.5832e-01  1.1540e-01 -1.5049e-01  1.9065e-01\n",
      " -2.6705e-01  2.5326e-01 -6.7579e-01 -1.0633e-02 -5.5158e-02 -3.1004e-01\n",
      " -5.8036e-02 -1.7200e-01  1.3298e-01 -3.2899e-01 -7.5481e-02  2.9425e-02\n",
      " -3.2949e-01 -1.8691e-01 -9.5323e-01 -3.5468e-01 -3.3162e-01  5.6441e-02\n",
      "  2.1790e-02  1.7182e-01 -4.4267e-01  6.9765e-01 -2.6876e-01  1.1659e-01\n",
      " -1.6584e-01  3.8296e-01  2.9109e-01  3.6318e-01  3.6961e-01  1.6305e-01\n",
      "  1.8152e-01  2.2453e-01  3.9866e-02 -3.7607e-02 -3.6089e-01  7.0818e-02\n",
      " -2.1509e-01  3.6551e-01 -5.1603e-01 -5.8102e-03 -4.8320e-01 -2.5068e-01\n",
      " -5.2062e-02 -2.0828e-01  2.9060e-01  2.2084e-02 -6.8123e-01  4.2063e-01\n",
      "  9.5973e-02  8.1720e-01 -1.5241e-01  6.2994e-01  2.6449e-01 -1.3516e-01\n",
      "  3.2450e-01  3.0503e-01  1.2357e-01  1.5107e-01  2.8327e-01 -3.3838e-01\n",
      "  4.6106e-02 -1.2361e-01  1.4516e-01 -2.7947e-02  2.6231e-02 -5.9591e-01\n",
      " -4.4183e-01  7.8440e-01 -3.4375e-02 -1.3928e+00  3.5248e-01  6.5220e-01]\n"
     ]
    }
   ],
   "source": [
    "# Process a word\n",
    "doc = nlp(\"bananas\")\n",
    "\n",
    "# Get the vector for the token \"bananas\"\n",
    "bananas_vector = doc.vector\n",
    "print(bananas_vector)"
   ]
  },
  {
   "cell_type": "code",
   "execution_count": 40,
   "metadata": {},
   "outputs": [
    {
     "data": {
      "text/plain": [
       "300"
      ]
     },
     "execution_count": 40,
     "metadata": {},
     "output_type": "execute_result"
    }
   ],
   "source": [
    "len(bananas_vector)"
   ]
  },
  {
   "cell_type": "code",
   "execution_count": 41,
   "metadata": {},
   "outputs": [
    {
     "name": "stdout",
     "output_type": "stream",
     "text": [
      "[ 2.07984239e-01 -2.60890484e-01 -1.15457252e-01 -1.96443751e-01\n",
      " -2.83249468e-03  3.55849974e-02 -2.05170006e-01 -2.27374747e-01\n",
      "  8.56052488e-02  1.36894751e+00 -5.74124977e-02  8.06210041e-02\n",
      "  2.37275064e-02  1.17454052e-01 -6.53099641e-03 -1.24400005e-01\n",
      "  1.99086756e-01  6.37722552e-01  1.52916998e-01 -2.33504996e-01\n",
      " -2.40909994e-01 -7.11500049e-02 -9.10753161e-02  7.16734976e-02\n",
      "  1.16262749e-01 -3.91372502e-01  1.13048747e-01 -2.11327493e-01\n",
      "  1.09019078e-01 -2.44885415e-01  3.00577488e-02  4.77855802e-02\n",
      "  7.37800002e-02  2.57142037e-01  2.62586236e-01 -1.66897491e-01\n",
      "  1.87596500e-01 -1.23680010e-02 -1.76299751e-01  1.11685000e-01\n",
      "  1.82024967e-02  9.86500084e-03 -3.58770013e-01 -2.23265499e-01\n",
      " -4.37720008e-02  3.63999486e-01  7.42954984e-02  1.21225506e-01\n",
      "  1.37013003e-01 -5.50666526e-02  2.66017504e-02  8.87180045e-02\n",
      " -1.14092499e-01 -2.02865750e-01  3.63092512e-01 -3.08394760e-01\n",
      "  1.13859497e-01  3.13650146e-02  2.62076259e-01  1.90399922e-02\n",
      "  7.24634901e-02  2.79004984e-02  8.65525007e-02  6.92452565e-02\n",
      " -9.77424979e-02 -1.47966757e-01  2.32025003e-03  1.62278250e-01\n",
      "  1.59857497e-02  3.52048993e-01 -5.51802553e-02  2.13179991e-01\n",
      "  3.63152504e-01  1.01501703e-01  1.73463732e-01  9.20909941e-02\n",
      "  1.27134249e-01  1.00527555e-02  2.44570002e-01 -6.89124968e-03\n",
      "  6.30075037e-02  1.31706819e-01 -1.36811763e-01 -3.73892523e-02\n",
      " -1.71941705e-02 -1.47585243e-01  2.69147515e-01  1.97296605e-01\n",
      " -1.14209257e-01  7.49210045e-02  1.12407543e-02  6.53382465e-02\n",
      "  7.39065409e-02 -1.47568747e-01 -9.98437554e-02  2.56100774e-01\n",
      "  3.41899954e-02 -1.95817441e-01  1.52259752e-01 -2.98299998e-01\n",
      "  3.71480025e-02  1.38142243e-01 -3.84989977e-02 -2.02540010e-02\n",
      "  2.38000415e-03 -8.94232512e-01  1.20125249e-01 -1.48699433e-03\n",
      "  3.07812482e-01  1.31904989e-01  2.28665009e-01 -4.28467512e-01\n",
      " -1.50100499e-01 -3.99947166e-05  7.09750131e-03 -9.08460468e-02\n",
      "  1.15139998e-01  2.73323029e-01  6.97097555e-02  1.37960017e-01\n",
      " -7.76264742e-02 -3.58945057e-02  1.47073746e-01 -2.70538747e-01\n",
      " -4.16769907e-02 -2.20907256e-01  1.29162997e-01  5.66806756e-02\n",
      " -2.10923001e-01 -1.12912245e-01 -1.24349967e-02  2.90902629e-02\n",
      " -9.14399922e-02  1.48545001e-02  1.73015013e-01  2.45295018e-01\n",
      "  2.36412495e-01  1.51691005e-01 -6.30199909e-02  2.67812014e-01\n",
      " -1.31286001e+00 -7.58474991e-02  1.29823506e-01 -1.51231751e-01\n",
      " -8.19625035e-02  1.39788002e-01 -1.48047015e-01  6.38692454e-02\n",
      "  2.33854756e-01 -9.88075137e-03  1.93658501e-01  2.27525085e-03\n",
      "  4.02045511e-02 -4.90897447e-02 -3.33292484e-01 -2.25562245e-01\n",
      " -2.13249400e-03 -1.25110000e-01 -2.07584769e-01 -8.20675045e-02\n",
      " -3.08577478e-01  2.42340490e-01  1.01082012e-01  1.69142485e-02\n",
      " -2.96225518e-01 -2.39765748e-01 -2.06788242e-01 -2.19947502e-01\n",
      "  1.32491991e-01  2.83937510e-02 -2.12792531e-02  2.11183250e-01\n",
      "  7.47520030e-02  5.15667535e-02 -2.79584527e-01  5.96700013e-02\n",
      " -1.40897244e-01 -7.72149861e-03  9.76998210e-02 -2.29924992e-01\n",
      " -3.91512439e-02 -2.62144983e-01 -9.46324915e-02 -1.49488509e-01\n",
      " -4.47402522e-02  4.87175062e-02 -1.00491997e-02 -1.57508999e-01\n",
      "  1.83425248e-01 -7.38234967e-02 -5.53542078e-02  3.62554997e-01\n",
      "  6.00774996e-02 -3.51069048e-02 -2.12482512e-02 -5.44437282e-02\n",
      "  5.77000529e-03 -4.17417213e-02 -2.30720505e-01  3.05450335e-03\n",
      " -2.60736495e-01  9.90725309e-03  1.44257501e-01  1.58988327e-01\n",
      "  3.12480003e-01 -4.21992540e-02  1.47941500e-01 -2.60480493e-03\n",
      " -1.18254803e-01  3.76944989e-02  8.56549889e-02  2.98762500e-01\n",
      " -1.82907507e-01 -5.01237512e-01 -3.22812736e-01 -1.04721501e-01\n",
      " -2.11069018e-01 -1.58998221e-01 -1.63172990e-01 -1.53411508e-01\n",
      " -4.72389996e-01 -2.52688266e-02  6.80677444e-02 -3.47925007e-01\n",
      "  1.00139998e-01  3.17759998e-02 -2.02882513e-02  2.72649899e-02\n",
      "  2.80047543e-02  6.36423454e-02 -2.32529998e-01  1.78696245e-01\n",
      " -4.16299030e-02 -6.78092465e-02 -1.87866479e-01 -3.47625017e-01\n",
      "  5.43992445e-02 -1.05034754e-01  3.68332490e-02  2.01451257e-01\n",
      " -2.68060744e-01 -7.03077465e-02 -3.46807480e-01  1.18331507e-01\n",
      "  3.82332467e-02 -1.15444995e-01 -9.92614999e-02 -4.42850590e-03\n",
      " -3.42225015e-01  3.17104995e-01 -1.48628756e-01 -6.13242462e-02\n",
      " -8.43070000e-02  1.16139993e-01  1.61483496e-01  1.70949996e-01\n",
      "  1.95979327e-01  2.56112486e-01 -2.15889998e-02 -2.78974995e-02\n",
      "  2.59169757e-01  1.79182500e-01 -2.46662006e-01  1.68815508e-01\n",
      " -3.45774740e-03  2.30412483e-01 -1.22785002e-01  2.36632437e-01\n",
      " -4.52876002e-01 -3.92082512e-01 -2.01881751e-01 -1.27992496e-01\n",
      "  2.75517516e-02  5.54060042e-02 -3.12609941e-01  1.01338752e-01\n",
      "  1.83728248e-01  4.08405006e-01  1.23905048e-01  4.37955022e-01\n",
      "  2.54640013e-01 -6.01055101e-02 -2.90097505e-01  7.99837485e-02\n",
      "  6.81065023e-02  6.80774972e-02  1.45408496e-01 -1.65033251e-01\n",
      " -6.48526996e-02 -1.71237499e-01 -5.75472489e-02 -4.43175063e-03\n",
      "  2.72267759e-01 -2.11504504e-01 -2.87027508e-01  3.25110495e-01\n",
      " -4.72727492e-02 -3.86672527e-01  2.08224997e-01  1.24032997e-01]\n"
     ]
    }
   ],
   "source": [
    "# Process a text\n",
    "doc = nlp(\"Two bananas in pyjamas\")\n",
    "\n",
    "# Get the vector for the sentence\n",
    "sent_vec = doc.vector\n",
    "print(sent_vec)"
   ]
  },
  {
   "cell_type": "code",
   "execution_count": 42,
   "metadata": {},
   "outputs": [
    {
     "name": "stdout",
     "output_type": "stream",
     "text": [
      "0.6325916466756616\n"
     ]
    }
   ],
   "source": [
    "doc1 = nlp(\"It's a warm summer day\")\n",
    "doc2 = nlp(\"I like dogs.\")\n",
    "\n",
    "# Get the similarity of doc1 and doc2\n",
    "similarity = doc1.similarity(doc2)\n",
    "print(similarity)"
   ]
  },
  {
   "cell_type": "code",
   "execution_count": 43,
   "metadata": {},
   "outputs": [
    {
     "name": "stdout",
     "output_type": "stream",
     "text": [
      "apple vs. banana: 0.5831844567891399\n",
      "car vs. banana: 0.16172661654333717\n",
      "car vs. bus: 0.4816960149829203\n",
      "tomato vs. apple: 0.5343438565390118\n",
      "tomato vs. cucumber: 0.7295041033138109\n"
     ]
    }
   ],
   "source": [
    "apple = nlp('apple')\n",
    "banana = nlp('banana')\n",
    "car = nlp('car')\n",
    "bus = nlp('bus')\n",
    "tomato = nlp('tomato')\n",
    "cucumber = nlp('cucumber')\n",
    "\n",
    "print('apple vs. banana:', apple.similarity(banana))\n",
    "print('car vs. banana:', car.similarity(banana))\n",
    "print('car vs. bus:', car.similarity(bus))\n",
    "print('tomato vs. apple:', tomato.similarity(apple))\n",
    "print('tomato vs. cucumber:', tomato.similarity(cucumber))"
   ]
  },
  {
   "cell_type": "code",
   "execution_count": 44,
   "metadata": {},
   "outputs": [
    {
     "data": {
      "text/plain": [
       "array([[ 5.15021219, -1.02589405],\n",
       "       [ 4.68847306, -0.32752874],\n",
       "       [ 4.18183622, -1.25490821],\n",
       "       [ 2.3045236 , -0.62841121],\n",
       "       [-1.6975279 , -1.26790577],\n",
       "       [-2.19008419,  0.0674359 ],\n",
       "       [-2.41987038, -1.23168885],\n",
       "       [-2.4303113 , -2.84156896],\n",
       "       [-1.9405539 , -2.55571106],\n",
       "       [-2.16312982, -2.6337209 ],\n",
       "       [ 0.66759362,  0.42236702],\n",
       "       [-0.36687779,  4.15296085],\n",
       "       [-1.89448123,  1.39241361],\n",
       "       [-1.44081158,  2.52885279],\n",
       "       [-0.87134078,  2.86535252],\n",
       "       [ 0.42235018,  2.33795505]])"
      ]
     },
     "execution_count": 44,
     "metadata": {},
     "output_type": "execute_result"
    }
   ],
   "source": [
    "# import the PCA module from sklearn\n",
    "from sklearn.decomposition import PCA\n",
    "\n",
    "def get_word_vectors(words):\n",
    "    # converts a list of words into their word vectors\n",
    "    return [nlp(word).vector for word in words]\n",
    "\n",
    "words = ['car', 'truck', 'suv', 'race', 'elves', 'dragon', 'sword', 'king', 'queen', 'prince', 'horse', 'fish' , 'lion', 'tiger', 'lynx', 'potato']\n",
    "\n",
    "# intialise pca model and tell it to project data down onto 2 dimensions\n",
    "pca = PCA(n_components=2)\n",
    "\n",
    "# fit the pca model to our 300D data, this will work out which is the best \n",
    "# way to project the data down that will best maintain the relative distances \n",
    "# between data points. It will store these intructioons on how to transform the data.\n",
    "pca.fit(get_word_vectors(words))\n",
    "\n",
    "# Tell our (fitted) pca model to transform our 300D data down onto 2D using the \n",
    "# instructions it learnt during the fit phase.\n",
    "word_vecs_2d = pca.transform(get_word_vectors(words))\n",
    "\n",
    "# let's look at our new 2D word vectors\n",
    "word_vecs_2d"
   ]
  },
  {
   "cell_type": "code",
   "execution_count": 45,
   "metadata": {},
   "outputs": [
    {
     "data": {
      "image/png": "[encoded data removed]",
      "text/plain": [
       "<Figure size 576x576 with 1 Axes>"
      ]
     },
     "metadata": {},
     "output_type": "display_data"
    }
   ],
   "source": [
    "# create a nice big plot \n",
    "plt.figure(figsize=(8,8))\n",
    "\n",
    "# plot the scatter plot of where the words will be\n",
    "plt.scatter(word_vecs_2d[:,0], word_vecs_2d[:,1])\n",
    "\n",
    "# for each word and coordinate pair: draw the text on the plot\n",
    "for word, coord in zip(words, word_vecs_2d):\n",
    "    x, y = coord\n",
    "    plt.text(x, y, word, size= 15)\n",
    "\n",
    "# show the plot\n",
    "plt.title('2-D PCA of 300-Dimension SpaCy Word Vectors', fontsize=14)\n",
    "plt.xlabel('PCA1'); plt.ylabel('PCA2')\n",
    "plt.show()"
   ]
  },
  {
   "cell_type": "code",
   "execution_count": 46,
   "metadata": {},
   "outputs": [
    {
     "name": "stdout",
     "output_type": "stream",
     "text": [
      "Cosine Similarity between (King - Man + Woman) and Queen vector:\n",
      "0.7880843877792358\n"
     ]
    }
   ],
   "source": [
    "from scipy.spatial.distance import cosine\n",
    "\n",
    "# Define vectors\n",
    "king_vec = nlp(\"king\").vector\n",
    "man_vec = nlp(\"man\").vector\n",
    "woman_vec = nlp(\"woman\").vector\n",
    "queen_vec = nlp(\"queen\").vector\n",
    "\n",
    "# Perform vector math\n",
    "result_vec = king_vec - man_vec + woman_vec\n",
    "\n",
    "print('Cosine Similarity between (King - Man + Woman) and Queen vector:')\n",
    "print(1 - cosine(queen_vec, result_vec))"
   ]
  },
  {
   "cell_type": "markdown",
   "metadata": {},
   "source": [
    "## Follow Along\n",
    "### Extract Document Vectors\n",
    "\n",
    "Let's see how much the quality of our query will work when we try a new embedding model.\n",
    "\n",
    "Steps:\n",
    "* Extract Vectors from Each Document\n",
    "* Search using KNN\n"
   ]
  },
  {
   "cell_type": "code",
   "execution_count": null,
   "metadata": {},
   "outputs": [],
   "source": [
    "X = [nlp(str(d)).vector for d in data]"
   ]
  },
  {
   "cell_type": "code",
   "execution_count": null,
   "metadata": {},
   "outputs": [],
   "source": [
    "X[0]"
   ]
  },
  {
   "cell_type": "markdown",
   "metadata": {},
   "source": [
    "## Challenge\n",
    "\n",
    "You will extract word embeddings from documents using Spacy's pretrained model in the upcoming module project. "
   ]
  },
  {
   "cell_type": "markdown",
   "metadata": {},
   "source": [
    "# Review\n",
    "For your module project assignment you will create vector repsentations of indeed.com Data Science job listings. You will then estimate a similarity model to perform searches for job descriptions. Get started with your [module project here](./LS_DS_412_Vector_Representations_Assignment.ipynb)"
   ]
  },
  {
   "cell_type": "markdown",
   "metadata": {},
   "source": [
    "# Sources\n",
    "\n",
    "* Spacy 101 - https://course.spacy.io\n",
    "* NLTK Book - https://www.nltk.org/book/\n",
    "* An Introduction to Information Retrieval - https://nlp.stanford.edu/IR-book/pdf/irbookonlinereading.pdf"
   ]
  }
 ],
 "metadata": {
  "kernelspec": {
   "display_name": "U4-S1-NLP (Python3)",
   "language": "python",
   "name": "u4-s1-nlp"
  },
  "language_info": {
   "codemirror_mode": {
    "name": "ipython",
    "version": 3
   },
   "file_extension": ".py",
   "mimetype": "text/x-python",
   "name": "python",
   "nbconvert_exporter": "python",
   "pygments_lexer": "ipython3",
   "version": "3.7.0"
  }
 },
 "nbformat": 4,
 "nbformat_minor": 4
}
