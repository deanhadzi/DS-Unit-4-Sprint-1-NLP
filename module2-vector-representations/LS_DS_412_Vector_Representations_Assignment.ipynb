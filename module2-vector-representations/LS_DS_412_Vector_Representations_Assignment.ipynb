{
 "cells": [
  {
   "cell_type": "markdown",
   "metadata": {},
   "source": [
    "<img align=\"left\" src=\"https://lever-client-logos.s3.amazonaws.com/864372b1-534c-480e-acd5-9711f850815c-1524247202159.png\" width=200>\n",
    "<br></br>\n",
    "\n",
    "# Vector Representations\n",
    "## *Data Science Unit 4 Sprint 2 Assignment 2*"
   ]
  },
  {
   "cell_type": "code",
   "execution_count": 1,
   "metadata": {
    "colab": {
     "base_uri": "https://localhost:8080/",
     "height": 159
    },
    "colab_type": "code",
    "id": "hyj-f9FDcVFp",
    "outputId": "5dd045fe-6e4c-458c-e2fc-253c3da9c805"
   },
   "outputs": [],
   "source": [
    "import re\n",
    "import string\n",
    "\n",
    "from sklearn.feature_extraction.text import CountVectorizer, TfidfVectorizer\n",
    "from sklearn.neighbors import NearestNeighbors\n",
    "import matplotlib.pyplot as plt\n",
    "import pandas as pd\n",
    "import numpy as np\n",
    "import spacy\n",
    "from spacy.tokenizer import Tokenizer\n",
    "import seaborn as sns\n",
    "sns.set()\n",
    "\n",
    "from bs4 import BeautifulSoup\n",
    "import requests"
   ]
  },
  {
   "cell_type": "markdown",
   "metadata": {
    "colab_type": "text",
    "id": "M7bcmqfGXrFG"
   },
   "source": [
    "## 1) *Clean:* Job Listings from indeed.com that contain the title \"Data Scientist\" \n",
    "\n",
    "You have `job_listings.csv` in the data folder for this module. The text data in the description column is still messy - full of html tags. Use the [BeautifulSoup](https://www.crummy.com/software/BeautifulSoup/bs4/doc/) library to clean up this column. You will need to read through the documentation to accomplish this task. "
   ]
  },
  {
   "cell_type": "code",
   "execution_count": 2,
   "metadata": {},
   "outputs": [
    {
     "data": {
      "text/html": [
       "<div>\n",
       "<style scoped>\n",
       "    .dataframe tbody tr th:only-of-type {\n",
       "        vertical-align: middle;\n",
       "    }\n",
       "\n",
       "    .dataframe tbody tr th {\n",
       "        vertical-align: top;\n",
       "    }\n",
       "\n",
       "    .dataframe thead th {\n",
       "        text-align: right;\n",
       "    }\n",
       "</style>\n",
       "<table border=\"1\" class=\"dataframe\">\n",
       "  <thead>\n",
       "    <tr style=\"text-align: right;\">\n",
       "      <th></th>\n",
       "      <th>Unnamed: 0</th>\n",
       "      <th>description</th>\n",
       "      <th>title</th>\n",
       "    </tr>\n",
       "  </thead>\n",
       "  <tbody>\n",
       "    <tr>\n",
       "      <th>0</th>\n",
       "      <td>0</td>\n",
       "      <td>b\"&lt;div&gt;&lt;div&gt;Job Requirements:&lt;/div&gt;&lt;ul&gt;&lt;li&gt;&lt;p&gt;...</td>\n",
       "      <td>Data scientist</td>\n",
       "    </tr>\n",
       "    <tr>\n",
       "      <th>1</th>\n",
       "      <td>1</td>\n",
       "      <td>b'&lt;div&gt;Job Description&lt;br/&gt;\\n&lt;br/&gt;\\n&lt;p&gt;As a Da...</td>\n",
       "      <td>Data Scientist I</td>\n",
       "    </tr>\n",
       "    <tr>\n",
       "      <th>2</th>\n",
       "      <td>2</td>\n",
       "      <td>b'&lt;div&gt;&lt;p&gt;As a Data Scientist you will be work...</td>\n",
       "      <td>Data Scientist - Entry Level</td>\n",
       "    </tr>\n",
       "    <tr>\n",
       "      <th>3</th>\n",
       "      <td>3</td>\n",
       "      <td>b'&lt;div class=\"jobsearch-JobMetadataHeader icl-...</td>\n",
       "      <td>Data Scientist</td>\n",
       "    </tr>\n",
       "    <tr>\n",
       "      <th>4</th>\n",
       "      <td>4</td>\n",
       "      <td>b'&lt;ul&gt;&lt;li&gt;Location: USA \\xe2\\x80\\x93 multiple ...</td>\n",
       "      <td>Data Scientist</td>\n",
       "    </tr>\n",
       "  </tbody>\n",
       "</table>\n",
       "</div>"
      ],
      "text/plain": [
       "   Unnamed: 0                                        description  \\\n",
       "0           0  b\"<div><div>Job Requirements:</div><ul><li><p>...   \n",
       "1           1  b'<div>Job Description<br/>\\n<br/>\\n<p>As a Da...   \n",
       "2           2  b'<div><p>As a Data Scientist you will be work...   \n",
       "3           3  b'<div class=\"jobsearch-JobMetadataHeader icl-...   \n",
       "4           4  b'<ul><li>Location: USA \\xe2\\x80\\x93 multiple ...   \n",
       "\n",
       "                          title  \n",
       "0               Data scientist   \n",
       "1              Data Scientist I  \n",
       "2  Data Scientist - Entry Level  \n",
       "3                Data Scientist  \n",
       "4                Data Scientist  "
      ]
     },
     "execution_count": 2,
     "metadata": {},
     "output_type": "execute_result"
    }
   ],
   "source": [
    "# Import the dataframe.\n",
    "\n",
    "df = pd.read_csv('data/job_listings.csv')\n",
    "df.head()"
   ]
  },
  {
   "cell_type": "code",
   "execution_count": 3,
   "metadata": {},
   "outputs": [],
   "source": [
    "# Define BeautifulSoup function to help in cleaning text.\n",
    "\n",
    "def bs(text):\n",
    "    cleaned_text = BeautifulSoup(text)\n",
    "    return cleaned_text"
   ]
  },
  {
   "cell_type": "code",
   "execution_count": 4,
   "metadata": {
    "colab": {},
    "colab_type": "code",
    "id": "KcYlc1URXhlC"
   },
   "outputs": [
    {
     "data": {
      "text/html": [
       "<div>\n",
       "<style scoped>\n",
       "    .dataframe tbody tr th:only-of-type {\n",
       "        vertical-align: middle;\n",
       "    }\n",
       "\n",
       "    .dataframe tbody tr th {\n",
       "        vertical-align: top;\n",
       "    }\n",
       "\n",
       "    .dataframe thead th {\n",
       "        text-align: right;\n",
       "    }\n",
       "</style>\n",
       "<table border=\"1\" class=\"dataframe\">\n",
       "  <thead>\n",
       "    <tr style=\"text-align: right;\">\n",
       "      <th></th>\n",
       "      <th>Unnamed: 0</th>\n",
       "      <th>description</th>\n",
       "      <th>title</th>\n",
       "      <th>text</th>\n",
       "    </tr>\n",
       "  </thead>\n",
       "  <tbody>\n",
       "    <tr>\n",
       "      <th>0</th>\n",
       "      <td>0</td>\n",
       "      <td>b\"&lt;div&gt;&lt;div&gt;Job Requirements:&lt;/div&gt;&lt;ul&gt;&lt;li&gt;&lt;p&gt;...</td>\n",
       "      <td>Data scientist</td>\n",
       "      <td>b\"job requirements: conceptual understanding i...</td>\n",
       "    </tr>\n",
       "    <tr>\n",
       "      <th>1</th>\n",
       "      <td>1</td>\n",
       "      <td>b'&lt;div&gt;Job Description&lt;br/&gt;\\n&lt;br/&gt;\\n&lt;p&gt;As a Da...</td>\n",
       "      <td>Data Scientist I</td>\n",
       "      <td>b'job description  as a data scientist 1, you ...</td>\n",
       "    </tr>\n",
       "    <tr>\n",
       "      <th>2</th>\n",
       "      <td>2</td>\n",
       "      <td>b'&lt;div&gt;&lt;p&gt;As a Data Scientist you will be work...</td>\n",
       "      <td>Data Scientist - Entry Level</td>\n",
       "      <td>b'as a data scientist you will be working on c...</td>\n",
       "    </tr>\n",
       "    <tr>\n",
       "      <th>3</th>\n",
       "      <td>3</td>\n",
       "      <td>b'&lt;div class=\"jobsearch-JobMetadataHeader icl-...</td>\n",
       "      <td>Data Scientist</td>\n",
       "      <td>b'$4,969 - $6,756 a monthcontractunder the gen...</td>\n",
       "    </tr>\n",
       "    <tr>\n",
       "      <th>4</th>\n",
       "      <td>4</td>\n",
       "      <td>b'&lt;ul&gt;&lt;li&gt;Location: USA \\xe2\\x80\\x93 multiple ...</td>\n",
       "      <td>Data Scientist</td>\n",
       "      <td>b'location: usa \\xe2\\x80\\x93 multiple location...</td>\n",
       "    </tr>\n",
       "  </tbody>\n",
       "</table>\n",
       "</div>"
      ],
      "text/plain": [
       "   Unnamed: 0                                        description  \\\n",
       "0           0  b\"<div><div>Job Requirements:</div><ul><li><p>...   \n",
       "1           1  b'<div>Job Description<br/>\\n<br/>\\n<p>As a Da...   \n",
       "2           2  b'<div><p>As a Data Scientist you will be work...   \n",
       "3           3  b'<div class=\"jobsearch-JobMetadataHeader icl-...   \n",
       "4           4  b'<ul><li>Location: USA \\xe2\\x80\\x93 multiple ...   \n",
       "\n",
       "                          title  \\\n",
       "0               Data scientist    \n",
       "1              Data Scientist I   \n",
       "2  Data Scientist - Entry Level   \n",
       "3                Data Scientist   \n",
       "4                Data Scientist   \n",
       "\n",
       "                                                text  \n",
       "0  b\"job requirements: conceptual understanding i...  \n",
       "1  b'job description  as a data scientist 1, you ...  \n",
       "2  b'as a data scientist you will be working on c...  \n",
       "3  b'$4,969 - $6,756 a monthcontractunder the gen...  \n",
       "4  b'location: usa \\xe2\\x80\\x93 multiple location...  "
      ]
     },
     "execution_count": 4,
     "metadata": {},
     "output_type": "execute_result"
    }
   ],
   "source": [
    "# Remove the HTML tags from the description column.\n",
    "\n",
    "df['text'] = df['description'].apply(lambda x: bs(x).get_text().replace(\"\\\\n\", \" \").lower())\n",
    "df.head()"
   ]
  },
  {
   "cell_type": "code",
   "execution_count": 5,
   "metadata": {},
   "outputs": [
    {
     "data": {
      "text/html": [
       "<div>\n",
       "<style scoped>\n",
       "    .dataframe tbody tr th:only-of-type {\n",
       "        vertical-align: middle;\n",
       "    }\n",
       "\n",
       "    .dataframe tbody tr th {\n",
       "        vertical-align: top;\n",
       "    }\n",
       "\n",
       "    .dataframe thead th {\n",
       "        text-align: right;\n",
       "    }\n",
       "</style>\n",
       "<table border=\"1\" class=\"dataframe\">\n",
       "  <thead>\n",
       "    <tr style=\"text-align: right;\">\n",
       "      <th></th>\n",
       "      <th>Unnamed: 0</th>\n",
       "      <th>description</th>\n",
       "      <th>title</th>\n",
       "      <th>text</th>\n",
       "    </tr>\n",
       "  </thead>\n",
       "  <tbody>\n",
       "    <tr>\n",
       "      <th>0</th>\n",
       "      <td>0</td>\n",
       "      <td>b\"&lt;div&gt;&lt;div&gt;Job Requirements:&lt;/div&gt;&lt;ul&gt;&lt;li&gt;&lt;p&gt;...</td>\n",
       "      <td>Data scientist</td>\n",
       "      <td>job requirements: conceptual understanding in ...</td>\n",
       "    </tr>\n",
       "    <tr>\n",
       "      <th>1</th>\n",
       "      <td>1</td>\n",
       "      <td>b'&lt;div&gt;Job Description&lt;br/&gt;\\n&lt;br/&gt;\\n&lt;p&gt;As a Da...</td>\n",
       "      <td>Data Scientist I</td>\n",
       "      <td>job description  as a data scientist 1, you wi...</td>\n",
       "    </tr>\n",
       "    <tr>\n",
       "      <th>2</th>\n",
       "      <td>2</td>\n",
       "      <td>b'&lt;div&gt;&lt;p&gt;As a Data Scientist you will be work...</td>\n",
       "      <td>Data Scientist - Entry Level</td>\n",
       "      <td>as a data scientist you will be working on con...</td>\n",
       "    </tr>\n",
       "    <tr>\n",
       "      <th>3</th>\n",
       "      <td>3</td>\n",
       "      <td>b'&lt;div class=\"jobsearch-JobMetadataHeader icl-...</td>\n",
       "      <td>Data Scientist</td>\n",
       "      <td>$4,969 - $6,756 a monthcontractunder the gener...</td>\n",
       "    </tr>\n",
       "    <tr>\n",
       "      <th>4</th>\n",
       "      <td>4</td>\n",
       "      <td>b'&lt;ul&gt;&lt;li&gt;Location: USA \\xe2\\x80\\x93 multiple ...</td>\n",
       "      <td>Data Scientist</td>\n",
       "      <td>location: usa \\xe2\\x80\\x93 multiple locations ...</td>\n",
       "    </tr>\n",
       "  </tbody>\n",
       "</table>\n",
       "</div>"
      ],
      "text/plain": [
       "   Unnamed: 0                                        description  \\\n",
       "0           0  b\"<div><div>Job Requirements:</div><ul><li><p>...   \n",
       "1           1  b'<div>Job Description<br/>\\n<br/>\\n<p>As a Da...   \n",
       "2           2  b'<div><p>As a Data Scientist you will be work...   \n",
       "3           3  b'<div class=\"jobsearch-JobMetadataHeader icl-...   \n",
       "4           4  b'<ul><li>Location: USA \\xe2\\x80\\x93 multiple ...   \n",
       "\n",
       "                          title  \\\n",
       "0               Data scientist    \n",
       "1              Data Scientist I   \n",
       "2  Data Scientist - Entry Level   \n",
       "3                Data Scientist   \n",
       "4                Data Scientist   \n",
       "\n",
       "                                                text  \n",
       "0  job requirements: conceptual understanding in ...  \n",
       "1  job description  as a data scientist 1, you wi...  \n",
       "2  as a data scientist you will be working on con...  \n",
       "3  $4,969 - $6,756 a monthcontractunder the gener...  \n",
       "4  location: usa \\xe2\\x80\\x93 multiple locations ...  "
      ]
     },
     "execution_count": 5,
     "metadata": {},
     "output_type": "execute_result"
    }
   ],
   "source": [
    "# Remove some bold HTML tags.\n",
    "\n",
    "df['text'] = df['text'].apply(lambda x: x[2:].strip())\n",
    "df['text'] = df['text'].apply(lambda x: x[:-1].strip())\n",
    "df.head()"
   ]
  },
  {
   "cell_type": "markdown",
   "metadata": {
    "colab_type": "text",
    "id": "5C4xFZNtX1m2"
   },
   "source": [
    "## 2) Use Spacy to tokenize the listings "
   ]
  },
  {
   "cell_type": "code",
   "execution_count": 6,
   "metadata": {
    "colab": {},
    "colab_type": "code",
    "id": "dhUHuMr-X-II"
   },
   "outputs": [],
   "source": [
    "# Instantiate the spaCy nlp object\n",
    "\n",
    "nlp = spacy.load(\"en_core_web_lg\")\n",
    "tokenizer = Tokenizer(nlp.vocab)"
   ]
  },
  {
   "cell_type": "code",
   "execution_count": 7,
   "metadata": {},
   "outputs": [],
   "source": [
    "# Build custom spaCy tokenizer.\n",
    "\n",
    "def my_tokenizer(text):\n",
    "    \"\"\"\n",
    "    Create custom tokenizer to use in sklearn vectorizers.\n",
    "    Return lemmas.\n",
    "    \"\"\"\n",
    "    doc = tokenizer(text)\n",
    "    \n",
    "    tokens = []\n",
    "    \n",
    "    for token in doc:\n",
    "        if (\n",
    "            (token.is_stop == False)\n",
    "            & (token.is_punct == False)\n",
    "            & (token.pos_ != \"PRON\")\n",
    "            & (token.like_num == False)\n",
    "            & (token.is_oov == False)\n",
    "            & (token.is_space == False)\n",
    "            & (token.is_currency == False)\n",
    "            & (token.like_email == False)\n",
    "        ):\n",
    "            tokens.append(token.lemma_)\n",
    "    \n",
    "    return tokens"
   ]
  },
  {
   "cell_type": "markdown",
   "metadata": {
    "colab_type": "text",
    "id": "-lgCZNL_YycP"
   },
   "source": [
    "## 3) Use Scikit-Learn's CountVectorizer to get word counts for each listing."
   ]
  },
  {
   "cell_type": "code",
   "execution_count": 8,
   "metadata": {
    "colab": {},
    "colab_type": "code",
    "id": "X2PZ8Pj_YxcF"
   },
   "outputs": [
    {
     "data": {
      "text/plain": [
       "(426, 2082)"
      ]
     },
     "execution_count": 8,
     "metadata": {},
     "output_type": "execute_result"
    }
   ],
   "source": [
    "# Create the transformer\n",
    "vect = CountVectorizer(tokenizer=my_tokenizer,\n",
    "                      min_df=5,\n",
    "                      max_df=0.5)\n",
    "\n",
    "# Create the document term matrix\n",
    "dtm = vect.fit_transform(df['text'])\n",
    "\n",
    "dtm = pd.DataFrame(dtm.todense(), columns=vect.get_feature_names())\n",
    "dtm.shape"
   ]
  },
  {
   "cell_type": "markdown",
   "metadata": {
    "colab_type": "text",
    "id": "Zo1iH_UeY7_n"
   },
   "source": [
    "## 4) Visualize the most common word counts"
   ]
  },
  {
   "cell_type": "code",
   "execution_count": 9,
   "metadata": {},
   "outputs": [
    {
     "data": {
      "text/plain": [
       "analytics      555\n",
       "customer       466\n",
       "analytic       442\n",
       "solution       440\n",
       "advance        414\n",
       "insight        413\n",
       "technology     412\n",
       "support        395\n",
       "technical      382\n",
       "knowledge      381\n",
       "provide        355\n",
       "company        340\n",
       "project        340\n",
       "large          327\n",
       "engineer       313\n",
       "well           309\n",
       "development    306\n",
       "create         291\n",
       "people         289\n",
       "relate         289\n",
       "dtype: int64"
      ]
     },
     "execution_count": 9,
     "metadata": {},
     "output_type": "execute_result"
    }
   ],
   "source": [
    "# Get the count of the top 20 most common words.\n",
    "\n",
    "top_20 = dtm.sum()\n",
    "top_20.sort_values(ascending=False)[:20]"
   ]
  },
  {
   "cell_type": "code",
   "execution_count": 10,
   "metadata": {},
   "outputs": [
    {
     "data": {
      "image/png": "[encoded data removed]",
      "text/plain": [
       "<Figure size 432x288 with 1 Axes>"
      ]
     },
     "metadata": {},
     "output_type": "display_data"
    }
   ],
   "source": [
    "# Visualize most common words.\n",
    "\n",
    "g = sns.barplot(top_20.sort_values(ascending=False)[:20].index, top_20.sort_values(ascending=False)[:20].values)\n",
    "g.set_xticklabels(g.get_xticklabels(), rotation=90);"
   ]
  },
  {
   "cell_type": "markdown",
   "metadata": {
    "colab_type": "text",
    "id": "bwFsTqrVZMYi"
   },
   "source": [
    "## 5) Use Scikit-Learn's tfidfVectorizer to get a TF-IDF feature matrix"
   ]
  },
  {
   "cell_type": "code",
   "execution_count": 11,
   "metadata": {
    "colab": {},
    "colab_type": "code",
    "id": "-gx2gZCbl5Np"
   },
   "outputs": [
    {
     "name": "stdout",
     "output_type": "stream",
     "text": [
      "(426, 4785)\n"
     ]
    },
    {
     "data": {
      "text/html": [
       "<div>\n",
       "<style scoped>\n",
       "    .dataframe tbody tr th:only-of-type {\n",
       "        vertical-align: middle;\n",
       "    }\n",
       "\n",
       "    .dataframe tbody tr th {\n",
       "        vertical-align: top;\n",
       "    }\n",
       "\n",
       "    .dataframe thead th {\n",
       "        text-align: right;\n",
       "    }\n",
       "</style>\n",
       "<table border=\"1\" class=\"dataframe\">\n",
       "  <thead>\n",
       "    <tr style=\"text-align: right;\">\n",
       "      <th></th>\n",
       "      <th>+</th>\n",
       "      <th>1+</th>\n",
       "      <th>1+ year</th>\n",
       "      <th>1-2</th>\n",
       "      <th>2+</th>\n",
       "      <th>2+ year</th>\n",
       "      <th>2-5</th>\n",
       "      <th>3+</th>\n",
       "      <th>3+ year</th>\n",
       "      <th>3-5</th>\n",
       "      <th>...</th>\n",
       "      <th>yes</th>\n",
       "      <th>york</th>\n",
       "      <th>york city.</th>\n",
       "      <th>york office</th>\n",
       "      <th>you'll</th>\n",
       "      <th>you'll need</th>\n",
       "      <th>you're</th>\n",
       "      <th>you've</th>\n",
       "      <th>you.</th>\n",
       "      <th>|</th>\n",
       "    </tr>\n",
       "  </thead>\n",
       "  <tbody>\n",
       "    <tr>\n",
       "      <th>0</th>\n",
       "      <td>0.0</td>\n",
       "      <td>0.000000</td>\n",
       "      <td>0.000000</td>\n",
       "      <td>0.0</td>\n",
       "      <td>0.000000</td>\n",
       "      <td>0.000000</td>\n",
       "      <td>0.0</td>\n",
       "      <td>0.0</td>\n",
       "      <td>0.0</td>\n",
       "      <td>0.0</td>\n",
       "      <td>...</td>\n",
       "      <td>0.0</td>\n",
       "      <td>0.0</td>\n",
       "      <td>0.0</td>\n",
       "      <td>0.0</td>\n",
       "      <td>0.0</td>\n",
       "      <td>0.0</td>\n",
       "      <td>0.0</td>\n",
       "      <td>0.0</td>\n",
       "      <td>0.0</td>\n",
       "      <td>0.0</td>\n",
       "    </tr>\n",
       "    <tr>\n",
       "      <th>1</th>\n",
       "      <td>0.0</td>\n",
       "      <td>0.073358</td>\n",
       "      <td>0.073358</td>\n",
       "      <td>0.0</td>\n",
       "      <td>0.000000</td>\n",
       "      <td>0.000000</td>\n",
       "      <td>0.0</td>\n",
       "      <td>0.0</td>\n",
       "      <td>0.0</td>\n",
       "      <td>0.0</td>\n",
       "      <td>...</td>\n",
       "      <td>0.0</td>\n",
       "      <td>0.0</td>\n",
       "      <td>0.0</td>\n",
       "      <td>0.0</td>\n",
       "      <td>0.0</td>\n",
       "      <td>0.0</td>\n",
       "      <td>0.0</td>\n",
       "      <td>0.0</td>\n",
       "      <td>0.0</td>\n",
       "      <td>0.0</td>\n",
       "    </tr>\n",
       "    <tr>\n",
       "      <th>2</th>\n",
       "      <td>0.0</td>\n",
       "      <td>0.000000</td>\n",
       "      <td>0.000000</td>\n",
       "      <td>0.0</td>\n",
       "      <td>0.000000</td>\n",
       "      <td>0.000000</td>\n",
       "      <td>0.0</td>\n",
       "      <td>0.0</td>\n",
       "      <td>0.0</td>\n",
       "      <td>0.0</td>\n",
       "      <td>...</td>\n",
       "      <td>0.0</td>\n",
       "      <td>0.0</td>\n",
       "      <td>0.0</td>\n",
       "      <td>0.0</td>\n",
       "      <td>0.0</td>\n",
       "      <td>0.0</td>\n",
       "      <td>0.0</td>\n",
       "      <td>0.0</td>\n",
       "      <td>0.0</td>\n",
       "      <td>0.0</td>\n",
       "    </tr>\n",
       "    <tr>\n",
       "      <th>3</th>\n",
       "      <td>0.0</td>\n",
       "      <td>0.000000</td>\n",
       "      <td>0.000000</td>\n",
       "      <td>0.0</td>\n",
       "      <td>0.000000</td>\n",
       "      <td>0.000000</td>\n",
       "      <td>0.0</td>\n",
       "      <td>0.0</td>\n",
       "      <td>0.0</td>\n",
       "      <td>0.0</td>\n",
       "      <td>...</td>\n",
       "      <td>0.0</td>\n",
       "      <td>0.0</td>\n",
       "      <td>0.0</td>\n",
       "      <td>0.0</td>\n",
       "      <td>0.0</td>\n",
       "      <td>0.0</td>\n",
       "      <td>0.0</td>\n",
       "      <td>0.0</td>\n",
       "      <td>0.0</td>\n",
       "      <td>0.0</td>\n",
       "    </tr>\n",
       "    <tr>\n",
       "      <th>4</th>\n",
       "      <td>0.0</td>\n",
       "      <td>0.000000</td>\n",
       "      <td>0.000000</td>\n",
       "      <td>0.0</td>\n",
       "      <td>0.214903</td>\n",
       "      <td>0.222964</td>\n",
       "      <td>0.0</td>\n",
       "      <td>0.0</td>\n",
       "      <td>0.0</td>\n",
       "      <td>0.0</td>\n",
       "      <td>...</td>\n",
       "      <td>0.0</td>\n",
       "      <td>0.0</td>\n",
       "      <td>0.0</td>\n",
       "      <td>0.0</td>\n",
       "      <td>0.0</td>\n",
       "      <td>0.0</td>\n",
       "      <td>0.0</td>\n",
       "      <td>0.0</td>\n",
       "      <td>0.0</td>\n",
       "      <td>0.0</td>\n",
       "    </tr>\n",
       "  </tbody>\n",
       "</table>\n",
       "<p>5 rows × 4785 columns</p>\n",
       "</div>"
      ],
      "text/plain": [
       "     +        1+   1+ year  1-2        2+   2+ year  2-5   3+  3+ year  3-5  \\\n",
       "0  0.0  0.000000  0.000000  0.0  0.000000  0.000000  0.0  0.0      0.0  0.0   \n",
       "1  0.0  0.073358  0.073358  0.0  0.000000  0.000000  0.0  0.0      0.0  0.0   \n",
       "2  0.0  0.000000  0.000000  0.0  0.000000  0.000000  0.0  0.0      0.0  0.0   \n",
       "3  0.0  0.000000  0.000000  0.0  0.000000  0.000000  0.0  0.0      0.0  0.0   \n",
       "4  0.0  0.000000  0.000000  0.0  0.214903  0.222964  0.0  0.0      0.0  0.0   \n",
       "\n",
       "   ...  yes  york  york city.  york office  you'll  you'll need  you're  \\\n",
       "0  ...  0.0   0.0         0.0          0.0     0.0          0.0     0.0   \n",
       "1  ...  0.0   0.0         0.0          0.0     0.0          0.0     0.0   \n",
       "2  ...  0.0   0.0         0.0          0.0     0.0          0.0     0.0   \n",
       "3  ...  0.0   0.0         0.0          0.0     0.0          0.0     0.0   \n",
       "4  ...  0.0   0.0         0.0          0.0     0.0          0.0     0.0   \n",
       "\n",
       "   you've  you.    |  \n",
       "0     0.0   0.0  0.0  \n",
       "1     0.0   0.0  0.0  \n",
       "2     0.0   0.0  0.0  \n",
       "3     0.0   0.0  0.0  \n",
       "4     0.0   0.0  0.0  \n",
       "\n",
       "[5 rows x 4785 columns]"
      ]
     },
     "execution_count": 11,
     "metadata": {},
     "output_type": "execute_result"
    }
   ],
   "source": [
    "# Instantiate vectorizer object\n",
    "tfidf = TfidfVectorizer(tokenizer = my_tokenizer,\n",
    "                        ngram_range = (1, 2),\n",
    "                        min_df = 5, \n",
    "                        max_df = 0.5)\n",
    "                        \n",
    "\n",
    "# Create a vocabulary and tf-idf score per document\n",
    "dtm = tfidf.fit_transform(df['text'])\n",
    "\n",
    "# Get feature names to use as dataframe column headers\n",
    "dtm = pd.DataFrame(dtm.todense(), columns=tfidf.get_feature_names())\n",
    "\n",
    "# View Feature Matrix as DataFrame\n",
    "print(dtm.shape)\n",
    "dtm.head()"
   ]
  },
  {
   "cell_type": "markdown",
   "metadata": {},
   "source": [
    "## 6) Create a NearestNeighbor Model. Write the description of your ideal datascience job and query your job listings. "
   ]
  },
  {
   "cell_type": "code",
   "execution_count": 12,
   "metadata": {
    "collapsed": false,
    "inputHidden": false,
    "jupyter": {
     "outputs_hidden": false
    },
    "outputHidden": false
   },
   "outputs": [
    {
     "data": {
      "text/plain": [
       "NearestNeighbors(algorithm='kd_tree', leaf_size=30, metric='minkowski',\n",
       "                 metric_params=None, n_jobs=None, n_neighbors=5, p=2,\n",
       "                 radius=1.0)"
      ]
     },
     "execution_count": 12,
     "metadata": {},
     "output_type": "execute_result"
    }
   ],
   "source": [
    "# Query documents for similar entries.\n",
    "\n",
    "nn = NearestNeighbors(n_neighbors=5, algorithm='kd_tree')\n",
    "nn.fit(dtm)"
   ]
  },
  {
   "cell_type": "code",
   "execution_count": 13,
   "metadata": {},
   "outputs": [
    {
     "data": {
      "text/plain": [
       "(array([[0.        , 0.        , 1.25515077, 1.26763027, 1.27351614]]),\n",
       " array([[123,  23, 140, 314, 256]]))"
      ]
     },
     "execution_count": 13,
     "metadata": {},
     "output_type": "execute_result"
    }
   ],
   "source": [
    "nn.kneighbors([dtm.iloc[123].values])"
   ]
  },
  {
   "cell_type": "code",
   "execution_count": 14,
   "metadata": {},
   "outputs": [
    {
     "name": "stdout",
     "output_type": "stream",
     "text": [
      "motiion is a technology and data company for the food industry. we believe in transparency, diversity, merit and fostering a culture of accountability, personal impact and career growth.  as a member of the first product engineering team at motiion you have will have a unique opportunity to turning previously scattered and inconsistently structured data into directly actionable food industry insights to reduce waste, increase freshness and much more.  you have a proven track record of reading data and making solid conclusions. you know both the art and science of analytics - now only do you know how to find answers in the data, you also know which questions should be asked in the first place and what data might could help us further bolster our conclusions. you love engaging with customers, learn about their challenges and then dive into the data to see how to solve them!  we are building a product engineering team with a breadth of combined experiences so that we can collaboratively build great products. there are no hard requirements on specific educational background, technology, experience or geographical location. we are however looking for specific traits in the people we work with. you might not yet be able to check all of the boxes, but at least you aspire to do so! some signs of a great candidate toolbox oriented. whether your background is in mathematics, statistics, machine learning, artificial intelligence, or something else, you have enough experience to intuitively shortlist tools and approaches from most of these disciplines. understanding business and customer needs. you believe in creating models that will help the company and make short- and long-termimpact, focusing on\\xe2\\x80\\x9cbang-for-the-buck\\xe2\\x80\\x9d. performance recognized by your peers. past colleagues would love to work with you again. starter and finisher. you often identify a problem, design a solution and bring it to a state of completion - alone or with collaborators. you\\xe2\\x80\\x99ve worked with developers in the past, hope to continue doing so, but you would get far even without technical help. work hard and smart. your work ethic is unquestioned, and you know how to get things done so you can balance your work and personal life in a sustainable way. disciplined and reliable. we are a remote company and you enjoy the benefits of working remotely while consistently delivering what you have committed to. when you hit a snag, you communicate and reset expectations early. collaborative. you know that your team members\\xe2\\x80\\x99 perspectives will make your solutions better. similarly, you use your strengths to make the team perform. appreciation of honest feedback. you know that the best way to learn and grow is through constructive feedback delivered kindly, but without unnecessary ambiguity. you feedback given to as an opportunity to get better and strive to do the same for others. analytical and practical mind. you strive for simple, precise solutions to complex problems. complex solutions are only acceptable when absolutely needed. why we are different  our main goals with motiion are easy to explain: we want to build a company that we would like to enjoy spending the rest of our careers in, that has a positive impact on the world and that will outlast us. achieving these goals will be challenging, but we know we can do it. here\\xe2\\x80\\x99s why:  a strong founder team we, the founders, have a proven track record of building successful companies from scratch. we will take all of the amazing and painful experiences of the past and apply them to create a company we all will be very proud of.  self-funded the founders have invested $10 million to allow us to focus on building technology and product the right way. our eyes are on the goals of building a global technology platform. we are laser focused on customer needs, but will make product priorities based on our long-term goals, not short-term revenue.  remote-first we believe technology that enables remote work to be better than a corporate office setting is already here and the world of business is just about to catch up. remote work certainly comes with drawbacks, but the strongly believe the advantages vastly outnumber the disadvantages. speaking to dozens of experienced remote employees has shown us that the number one obstacle to building a successful remote workplace is doing it half-way by having some people be co-located and some remote. we want the same mode of collaboration for everyone and our team will be working remotely most of the time.  this does not mean that you have to work from home all the time, or at all. motiion will pay for co-working space if that\\xe2\\x80\\x99s what you prefer. we will also encourage team members that live in the same area to meet up and work together when it makes sense. we will also make sure we all meet regularly for real in-person interaction!  personal impact of collaborating individuals we have seen first-hand how corporate culture can devolve into empire building and reporting lines. motiion will have great managers, but we recognize and value the skills of individual contributors. you can grow your career at motiion doing the work you love and excel at. your merit matters, not your title.  benefits we have top notch benefits, matching most of the large us tech companies, including 401k matching, excellent health insurance and a generous vacation policy.\n"
     ]
    }
   ],
   "source": [
    "# Random pic - this entry is in the food industry.\n",
    "\n",
    "print(df['text'][123])"
   ]
  },
  {
   "cell_type": "code",
   "execution_count": 15,
   "metadata": {},
   "outputs": [
    {
     "name": "stdout",
     "output_type": "stream",
     "text": [
      "*****only local candidates will be consider for this role*****  who we are!  hi, we are chewse! hundreds of offices work with us to run their employee meal programs and culture services. on a monthly basis, we serve over 19,000 people. chewse delivers family-style office meals from the best local restaurants. we take on the burden of planning group meals, so companies large and small can focus on doing great work, with amazing people, on time. we outperform our competition around three core value propositions. 1) curated menus, 2) local restaurants, and 3) consistent experience.  we are a unique little team that is constantly experimenting with the best ways to have a fun, fulfilling, and productive culture. if you want to be part of a team that is paving the way for the culture as a service (caas) industry, and working on big hairy problems in order to help facilitate authentic human connection, then please reach out to us. the work is not easy, but the positive impact is real. every day we are working hard on building a love company.  ------------ who are you? ------------   you are intellectually curious and have an insatiable desire to solve problems. you are comfortable speaking in front of groups and leading cross-functional teams. you have the ability to sweat the details and then flip the switch to zoom out to understand the corporate strategy. you know how to inspire, motivate and support your teammates in order to deliver impactful insights you care about your co-workers and are invested in their growth professionally and personally.  ----------------------------- what's the job, really? -----------------------------   work closely with cross-functional partners in product, finance, and operations to brainstorm, design, and execute effective analyses. report directly to the head of engineering build tooling to allow for process automation and scaling communicate results clearly to both technical and non-technical stakeholders build complex predictive models welding multiple data sources lead the charge in creating a robust source of truth to empower decentralized decision making  -------------------- what do we look for? --------------------   extremely fluent in python, pandas, and scikit learn at least 3 years of experience leading decision making in a fast-moving, high-impact environment strong knowledge in data fundamentals including sql and etl experience building databases and reporting from the ground up experience working with cross-functional departments to gather requirements you feel comfortable acting as a de-facto project manager to ensure your team stays on track exposure to periscope is a plus a bachelors in mathematics/computer science or statistic is a plus  why should you care?   flexible time off: we believe that a balance between work and life is essential to happiness and success, so work hard and take the time you need. health coverage: we offer competitive coverage plans for medical, dental and vision because you're worth it. food to build community: food is our love language, so we serve chewse catered meals 3x a week, gather for a monthly company team bonding and stock the office with healthy snacks! professional development: we help fund our employees to attend workshops, conferences, or night classes that will help them go the extra mile. team love: chewse teams have quarterly bonding budgets, strengthening your weekday tribe to get the job done.\n"
     ]
    }
   ],
   "source": [
    "# This is the closest entry. Also in food industry. \n",
    "\n",
    "print(df['text'][140])"
   ]
  },
  {
   "cell_type": "markdown",
   "metadata": {
    "colab_type": "text",
    "id": "FiDfTWceoRkH"
   },
   "source": [
    "## Stretch Goals\n",
    "\n",
    " - Try different visualizations for words and frequencies - what story do you want to tell with the data?\n",
    " - Scrape Job Listings for the job title \"Data Analyst\". How do these differ from Data Scientist Job Listings\n",
    " - Try and identify requirements for experience specific technologies that are asked for in the job listings. How are those distributed among the job listings?\n",
    " - Use a clustering algorithm to cluster documents by their most important terms. Do the clusters reveal any common themes?\n",
    "  - **Hint:** K-means might not be the best algorithm for this. Do a little bit of research to see what might be good for this. Also, remember that algorithms that depend on Euclidean distance break down with high dimensional data.\n",
    " - Create a labeled dataset - which jobs will you apply for? Train a model to select the jobs you are most likely to apply for. :) "
   ]
  }
 ],
 "metadata": {
  "colab": {
   "collapsed_sections": [],
   "name": "LS_DS_422_BOW_Assignment.ipynb",
   "provenance": [],
   "version": "0.3.2"
  },
  "kernel_info": {
   "name": "python3"
  },
  "kernelspec": {
   "display_name": "U4-S1-NLP (Python3)",
   "language": "python",
   "name": "u4-s1-nlp"
  },
  "language_info": {
   "codemirror_mode": {
    "name": "ipython",
    "version": 3
   },
   "file_extension": ".py",
   "mimetype": "text/x-python",
   "name": "python",
   "nbconvert_exporter": "python",
   "pygments_lexer": "ipython3",
   "version": "3.7.0"
  },
  "nteract": {
   "version": "0.14.3"
  }
 },
 "nbformat": 4,
 "nbformat_minor": 4
}
