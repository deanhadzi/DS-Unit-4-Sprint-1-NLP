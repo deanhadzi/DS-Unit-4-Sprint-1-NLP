{
 "cells": [
  {
   "cell_type": "markdown",
   "metadata": {},
   "source": [
    "Lambda School Data Science\n",
    "\n",
    "*Unit 4, Sprint 1, Module 4*\n",
    "\n",
    "---"
   ]
  },
  {
   "cell_type": "markdown",
   "metadata": {},
   "source": [
    "# Topic Modeling (Prepare)\n",
    "\n",
    "On Monday we talked about summarizing your documents using just token counts. Today, we're going to learn about a much more sophisticated approach - learning 'topics' from documents. Topics are a latent structure. They are not directly observable in the data, but we know they're there by reading them.\n",
    "\n",
    "> **latent**: existing but not yet developed or manifest; hidden or concealed.\n",
    "\n",
    "## Use Cases\n",
    "Primary use case: what the hell are your documents about? Who might want to know that in industry - \n",
    "* Identifying common themes in customer reviews\n",
    "* Discovering the needle in a haystack \n",
    "* Monitoring communications (Email - State Department) \n",
    "\n",
    "## Learning Objectives\n",
    "*At the end of the lesson you should be able to:*\n",
    "* <a href=\"#p1\">Part 1</a>: Describe how an LDA Model works\n",
    "* <a href=\"#p2\">Part 2</a>: Estimate a LDA Model with Gensim\n",
    "* <a href=\"#p3\">Part 3</a>: Interpret LDA results\n",
    "* <a href=\"#p4\">Part 4</a>: Select the appropriate number of topics\n"
   ]
  },
  {
   "cell_type": "markdown",
   "metadata": {},
   "source": [
    "# Latent Dirchilet Allocation Models (Learn)\n",
    "<a id=\"#p1\"></a>"
   ]
  },
  {
   "cell_type": "markdown",
   "metadata": {},
   "source": [
    "## Overview\n",
    "LDA is a \"generative probabilistic model\". \n",
    "\n",
    "Let's play with a model available [here](https://lettier.com/projects/lda-topic-modeling/)"
   ]
  },
  {
   "cell_type": "markdown",
   "metadata": {},
   "source": [
    "## Follow Along"
   ]
  },
  {
   "cell_type": "markdown",
   "metadata": {},
   "source": [
    "## Challenge "
   ]
  },
  {
   "cell_type": "markdown",
   "metadata": {},
   "source": [
    "# Estimating LDA Models with Gensim (Learn)\n",
    "<a id=\"#p1\"></a>"
   ]
  },
  {
   "cell_type": "markdown",
   "metadata": {
    "toc-hr-collapsed": true
   },
   "source": [
    "## Overview\n",
    "### A Literary Introduction: *Jane Austen V. Charlotte Bronte*\n",
    "Despite being born nearly forty years apart, modern fans often pit Jane Austen & Charlotte Bronte against one another in a battle for literary  supremacy. The battle centers around the topics of education for women, courting, and marriage. The authors' similar backgrounds naturally draw comparisons, but the modern fascination is probably due to novelty of British women publishing novels during the early 19th century. \n",
    "\n",
    "Can we help close a literary battle for supremacy and simply acknowledge that the authors addressed different topics and deserve to be acknowledged as excellent authors each in their own right?\n",
    "\n",
    "We're going to apply Latent Dirichlet Allocation a machine learning algorithm for topic modeling to each of the author's novels to compare the distribution of topics in their novels."
   ]
  },
  {
   "cell_type": "code",
   "execution_count": 1,
   "metadata": {},
   "outputs": [],
   "source": [
    "import numpy as np\n",
    "import gensim\n",
    "import os\n",
    "import re\n",
    "\n",
    "from gensim.utils import simple_preprocess\n",
    "from gensim.parsing.preprocessing import STOPWORDS\n",
    "from gensim import corpora\n",
    "\n",
    "from gensim.models.ldamulticore import LdaMulticore\n",
    "\n",
    "import pandas as pd"
   ]
  },
  {
   "cell_type": "code",
   "execution_count": 2,
   "metadata": {},
   "outputs": [
    {
     "data": {
      "text/plain": [
       "'3.8.1'"
      ]
     },
     "execution_count": 2,
     "metadata": {},
     "output_type": "execute_result"
    }
   ],
   "source": [
    "gensim.__version__"
   ]
  },
  {
   "cell_type": "markdown",
   "metadata": {},
   "source": [
    "### Novel Data\n",
    "I grabbed the novel data pre-split into a bunch of smaller chunks"
   ]
  },
  {
   "cell_type": "code",
   "execution_count": 3,
   "metadata": {},
   "outputs": [],
   "source": [
    "path = './data/austen-brontë-split'"
   ]
  },
  {
   "cell_type": "markdown",
   "metadata": {},
   "source": [
    "### Text Preprocessing\n",
    "**Activity**: update the function `tokenize` with any technique you have learned so far this week. "
   ]
  },
  {
   "cell_type": "code",
   "execution_count": 4,
   "metadata": {},
   "outputs": [],
   "source": [
    "# 1) Plain Python - ''.split command\n",
    "# 2) Spacy - just the lemmas from the document\n",
    "# 3) Gensim - simple_preprocess\n",
    "\n",
    "STOPWORDS = set(STOPWORDS).union(set(['said', 'mr', 'mrs']))\n",
    "\n",
    "def tokenize(text):\n",
    "    return [token for token in simple_preprocess(text) if token not in STOPWORDS]"
   ]
  },
  {
   "cell_type": "code",
   "execution_count": 14,
   "metadata": {},
   "outputs": [],
   "source": [
    "ex_str = ('This is an example of a string.  ')"
   ]
  },
  {
   "cell_type": "code",
   "execution_count": 7,
   "metadata": {},
   "outputs": [
    {
     "data": {
      "text/plain": [
       "['example', 'string']"
      ]
     },
     "execution_count": 7,
     "metadata": {},
     "output_type": "execute_result"
    }
   ],
   "source": [
    "from gensim.parsing.preprocessing import preprocess_string, strip_tags, strip_punctuation, strip_numeric, stem_text\n",
    "from gensim.parsing.preprocessing import strip_multiple_whitespaces, strip_non_alphanum, remove_stopwords, strip_short\n",
    "\n",
    "CUSTOM_FILTERS = [lambda x: x.lower(),         # Lowercase\n",
    "                  strip_multiple_whitespaces,  # Remove repeating white space\n",
    "                  strip_numeric,               # Remove numbers\n",
    "                  remove_stopwords,            # Remove stopwords\n",
    "                  strip_non_alphanum,          # Remove non-alpha numeric characters,\n",
    "                  strip_short                  # Remove words less than 3 characters long\n",
    "                  ]\n",
    "\n",
    "# Preprocess text with custom filters\n",
    "preprocess_string(ex_str, CUSTOM_FILTERS)"
   ]
  },
  {
   "cell_type": "code",
   "execution_count": 8,
   "metadata": {},
   "outputs": [],
   "source": [
    "import os\n",
    "\n",
    "def gather_data(path_to_data): \n",
    "    data = []\n",
    "    for f in os.listdir(path):\n",
    "        if os.path.isdir(f) == False:\n",
    "            if f[-3:] == 'txt':\n",
    "                with open(os.path.join(path,f)) as t:\n",
    "                    text = t.read().strip('\\n')\n",
    "                    data.append(tokenize(str(text)))       \n",
    "    return data"
   ]
  },
  {
   "cell_type": "code",
   "execution_count": 9,
   "metadata": {},
   "outputs": [],
   "source": [
    "tokens = gather_data(path)"
   ]
  },
  {
   "cell_type": "code",
   "execution_count": 10,
   "metadata": {},
   "outputs": [
    {
     "data": {
      "text/plain": [
       "['liberty',\n",
       " 'society',\n",
       " 'amusement',\n",
       " 'till',\n",
       " 'father',\n",
       " 'point',\n",
       " 'gained',\n",
       " 'depended',\n",
       " 'fortitude',\n",
       " 'far']"
      ]
     },
     "execution_count": 10,
     "metadata": {},
     "output_type": "execute_result"
    }
   ],
   "source": [
    "tokens[0][0:10]"
   ]
  },
  {
   "cell_type": "code",
   "execution_count": 11,
   "metadata": {},
   "outputs": [
    {
     "data": {
      "text/plain": [
       "'this is a sample string with a  newline character'"
      ]
     },
     "execution_count": 11,
     "metadata": {},
     "output_type": "execute_result"
    }
   ],
   "source": [
    "\"this is a sample string with a \\n newline character\".replace('\\n', '')"
   ]
  },
  {
   "cell_type": "code",
   "execution_count": 15,
   "metadata": {},
   "outputs": [
    {
     "data": {
      "text/plain": [
       "'This is an example of a string.'"
      ]
     },
     "execution_count": 15,
     "metadata": {},
     "output_type": "execute_result"
    }
   ],
   "source": [
    "' '.join(ex_str.split())"
   ]
  },
  {
   "cell_type": "markdown",
   "metadata": {
    "toc-hr-collapsed": true
   },
   "source": [
    "## Follow Along"
   ]
  },
  {
   "cell_type": "code",
   "execution_count": 16,
   "metadata": {},
   "outputs": [],
   "source": [
    "titles = [t[:-4] for t in os.listdir(path) if os.path.isdir(t) == False]"
   ]
  },
  {
   "cell_type": "code",
   "execution_count": 17,
   "metadata": {},
   "outputs": [
    {
     "data": {
      "text/plain": [
       "813"
      ]
     },
     "execution_count": 17,
     "metadata": {},
     "output_type": "execute_result"
    }
   ],
   "source": [
    "len(titles)"
   ]
  },
  {
   "cell_type": "code",
   "execution_count": 18,
   "metadata": {},
   "outputs": [
    {
     "data": {
      "text/plain": [
       "813"
      ]
     },
     "execution_count": 18,
     "metadata": {},
     "output_type": "execute_result"
    }
   ],
   "source": [
    "len(tokens)"
   ]
  },
  {
   "cell_type": "markdown",
   "metadata": {},
   "source": [
    "### Author DataFrame\n"
   ]
  },
  {
   "cell_type": "code",
   "execution_count": 19,
   "metadata": {},
   "outputs": [],
   "source": [
    "df = pd.DataFrame(index=titles, data={'tokens':tokens})"
   ]
  },
  {
   "cell_type": "code",
   "execution_count": 20,
   "metadata": {},
   "outputs": [
    {
     "data": {
      "text/html": [
       "<div>\n",
       "<style scoped>\n",
       "    .dataframe tbody tr th:only-of-type {\n",
       "        vertical-align: middle;\n",
       "    }\n",
       "\n",
       "    .dataframe tbody tr th {\n",
       "        vertical-align: top;\n",
       "    }\n",
       "\n",
       "    .dataframe thead th {\n",
       "        text-align: right;\n",
       "    }\n",
       "</style>\n",
       "<table border=\"1\" class=\"dataframe\">\n",
       "  <thead>\n",
       "    <tr style=\"text-align: right;\">\n",
       "      <th></th>\n",
       "      <th>tokens</th>\n",
       "    </tr>\n",
       "  </thead>\n",
       "  <tbody>\n",
       "    <tr>\n",
       "      <th>Austen_Sense0057</th>\n",
       "      <td>[liberty, society, amusement, till, father, po...</td>\n",
       "    </tr>\n",
       "    <tr>\n",
       "      <th>Austen_Pride0013</th>\n",
       "      <td>[attention, messages, sister, hurst, bingley, ...</td>\n",
       "    </tr>\n",
       "    <tr>\n",
       "      <th>CBronte_Villette0007</th>\n",
       "      <td>[likes, better, turns, away, thoughts, consoli...</td>\n",
       "    </tr>\n",
       "    <tr>\n",
       "      <th>Austen_Pride0109</th>\n",
       "      <td>[attentions, spring, score, let, sit, understa...</td>\n",
       "    </tr>\n",
       "    <tr>\n",
       "      <th>Austen_Emma0123</th>\n",
       "      <td>[far, strongly, issue, feeling, softer, uprigh...</td>\n",
       "    </tr>\n",
       "  </tbody>\n",
       "</table>\n",
       "</div>"
      ],
      "text/plain": [
       "                                                                 tokens\n",
       "Austen_Sense0057      [liberty, society, amusement, till, father, po...\n",
       "Austen_Pride0013      [attention, messages, sister, hurst, bingley, ...\n",
       "CBronte_Villette0007  [likes, better, turns, away, thoughts, consoli...\n",
       "Austen_Pride0109      [attentions, spring, score, let, sit, understa...\n",
       "Austen_Emma0123       [far, strongly, issue, feeling, softer, uprigh..."
      ]
     },
     "execution_count": 20,
     "metadata": {},
     "output_type": "execute_result"
    }
   ],
   "source": [
    "df.head()"
   ]
  },
  {
   "cell_type": "code",
   "execution_count": 21,
   "metadata": {},
   "outputs": [],
   "source": [
    "df['author'] = df.reset_index()['index'].apply(lambda x: x.split('_')[0]).tolist()\n",
    "df['book'] = df.reset_index()['index'].apply(lambda x: x.split('_')[1][:-4]).tolist()\n",
    "df['section'] = df.reset_index()['index'].apply(lambda x: x[-4:]).tolist()\n",
    "df['section'] = df['section'].astype('int')"
   ]
  },
  {
   "cell_type": "code",
   "execution_count": 22,
   "metadata": {},
   "outputs": [],
   "source": [
    "df['author'] = df['author'].map({'Austen':1, 'CBronte':0})"
   ]
  },
  {
   "cell_type": "code",
   "execution_count": 23,
   "metadata": {},
   "outputs": [
    {
     "data": {
      "text/plain": [
       "0    441\n",
       "1    372\n",
       "Name: author, dtype: int64"
      ]
     },
     "execution_count": 23,
     "metadata": {},
     "output_type": "execute_result"
    }
   ],
   "source": [
    "df.author.value_counts()"
   ]
  },
  {
   "cell_type": "code",
   "execution_count": 24,
   "metadata": {},
   "outputs": [
    {
     "data": {
      "text/html": [
       "<div>\n",
       "<style scoped>\n",
       "    .dataframe tbody tr th:only-of-type {\n",
       "        vertical-align: middle;\n",
       "    }\n",
       "\n",
       "    .dataframe tbody tr th {\n",
       "        vertical-align: top;\n",
       "    }\n",
       "\n",
       "    .dataframe thead th {\n",
       "        text-align: right;\n",
       "    }\n",
       "</style>\n",
       "<table border=\"1\" class=\"dataframe\">\n",
       "  <thead>\n",
       "    <tr style=\"text-align: right;\">\n",
       "      <th></th>\n",
       "      <th>tokens</th>\n",
       "      <th>author</th>\n",
       "      <th>book</th>\n",
       "      <th>section</th>\n",
       "    </tr>\n",
       "  </thead>\n",
       "  <tbody>\n",
       "    <tr>\n",
       "      <th>Austen_Sense0057</th>\n",
       "      <td>[liberty, society, amusement, till, father, po...</td>\n",
       "      <td>1</td>\n",
       "      <td>Sense</td>\n",
       "      <td>57</td>\n",
       "    </tr>\n",
       "    <tr>\n",
       "      <th>Austen_Pride0013</th>\n",
       "      <td>[attention, messages, sister, hurst, bingley, ...</td>\n",
       "      <td>1</td>\n",
       "      <td>Pride</td>\n",
       "      <td>13</td>\n",
       "    </tr>\n",
       "    <tr>\n",
       "      <th>CBronte_Villette0007</th>\n",
       "      <td>[likes, better, turns, away, thoughts, consoli...</td>\n",
       "      <td>0</td>\n",
       "      <td>Villette</td>\n",
       "      <td>7</td>\n",
       "    </tr>\n",
       "    <tr>\n",
       "      <th>Austen_Pride0109</th>\n",
       "      <td>[attentions, spring, score, let, sit, understa...</td>\n",
       "      <td>1</td>\n",
       "      <td>Pride</td>\n",
       "      <td>109</td>\n",
       "    </tr>\n",
       "    <tr>\n",
       "      <th>Austen_Emma0123</th>\n",
       "      <td>[far, strongly, issue, feeling, softer, uprigh...</td>\n",
       "      <td>1</td>\n",
       "      <td>Emma</td>\n",
       "      <td>123</td>\n",
       "    </tr>\n",
       "  </tbody>\n",
       "</table>\n",
       "</div>"
      ],
      "text/plain": [
       "                                                                 tokens  \\\n",
       "Austen_Sense0057      [liberty, society, amusement, till, father, po...   \n",
       "Austen_Pride0013      [attention, messages, sister, hurst, bingley, ...   \n",
       "CBronte_Villette0007  [likes, better, turns, away, thoughts, consoli...   \n",
       "Austen_Pride0109      [attentions, spring, score, let, sit, understa...   \n",
       "Austen_Emma0123       [far, strongly, issue, feeling, softer, uprigh...   \n",
       "\n",
       "                      author      book  section  \n",
       "Austen_Sense0057           1     Sense       57  \n",
       "Austen_Pride0013           1     Pride       13  \n",
       "CBronte_Villette0007       0  Villette        7  \n",
       "Austen_Pride0109           1     Pride      109  \n",
       "Austen_Emma0123            1      Emma      123  "
      ]
     },
     "execution_count": 24,
     "metadata": {},
     "output_type": "execute_result"
    }
   ],
   "source": [
    "df.head()"
   ]
  },
  {
   "cell_type": "markdown",
   "metadata": {},
   "source": [
    "### Streaming Documents\n",
    "Here we use a new pythonic thingy: the `yield` statement in our function. This allows us to iterate over a bunch of documents without actually reading them into memory. You can see how we use this function later on. "
   ]
  },
  {
   "cell_type": "code",
   "execution_count": 25,
   "metadata": {},
   "outputs": [],
   "source": [
    "def doc_stream(path):\n",
    "    for f in os.listdir(path):\n",
    "        if os.path.isdir(f) == False:\n",
    "            if f[-3:] == 'txt':\n",
    "                with open(os.path.join(path,f)) as t:\n",
    "                    text = t.read().strip('\\n')\n",
    "                    tokens = tokenize(text)\n",
    "                yield tokens"
   ]
  },
  {
   "cell_type": "code",
   "execution_count": 26,
   "metadata": {},
   "outputs": [],
   "source": [
    "streaming_data = doc_stream(path)"
   ]
  },
  {
   "cell_type": "code",
   "execution_count": 27,
   "metadata": {},
   "outputs": [
    {
     "data": {
      "text/plain": [
       "generator"
      ]
     },
     "execution_count": 27,
     "metadata": {},
     "output_type": "execute_result"
    }
   ],
   "source": [
    "type(streaming_data)"
   ]
  },
  {
   "cell_type": "code",
   "execution_count": 28,
   "metadata": {},
   "outputs": [],
   "source": [
    "# gather_data => returns a list\n",
    "# doc_stream => returns a generator"
   ]
  },
  {
   "cell_type": "code",
   "execution_count": 31,
   "metadata": {},
   "outputs": [
    {
     "data": {
      "text/plain": [
       "['likes',\n",
       " 'better',\n",
       " 'turns',\n",
       " 'away',\n",
       " 'thoughts',\n",
       " 'consoling',\n",
       " 'improving',\n",
       " 'occasion',\n",
       " 'inculcating',\n",
       " 'maxims',\n",
       " 'philosophy',\n",
       " 'whereof',\n",
       " 'tolerable',\n",
       " 'stock',\n",
       " 'ready',\n",
       " 'application',\n",
       " 'stopped',\n",
       " 'putting',\n",
       " 'fingers',\n",
       " 'ears',\n",
       " 'words',\n",
       " 'uttered',\n",
       " 'lying',\n",
       " 'mat',\n",
       " 'face',\n",
       " 'flags',\n",
       " 'warren',\n",
       " 'cook',\n",
       " 'root',\n",
       " 'position',\n",
       " 'allowed',\n",
       " 'lie',\n",
       " 'till',\n",
       " 'chose',\n",
       " 'rise',\n",
       " 'accord',\n",
       " 'graham',\n",
       " 'forgot',\n",
       " 'impatience',\n",
       " 'evening',\n",
       " 'accosted',\n",
       " 'usual',\n",
       " 'friends',\n",
       " 'gone',\n",
       " 'wrenched',\n",
       " 'hand',\n",
       " 'eye',\n",
       " 'flashed',\n",
       " 'bid',\n",
       " 'good',\n",
       " 'night',\n",
       " 'look',\n",
       " 'face',\n",
       " 'day',\n",
       " 'treated',\n",
       " 'indifference',\n",
       " 'grew',\n",
       " 'like',\n",
       " 'bit',\n",
       " 'marble',\n",
       " 'day',\n",
       " 'teased',\n",
       " 'know',\n",
       " 'matter',\n",
       " 'lips',\n",
       " 'unclose',\n",
       " 'course',\n",
       " 'feel',\n",
       " 'real',\n",
       " 'anger',\n",
       " 'match',\n",
       " 'unequal',\n",
       " 'way',\n",
       " 'tried',\n",
       " 'soothing',\n",
       " 'coaxing',\n",
       " 'angry',\n",
       " 'tears',\n",
       " 'answered',\n",
       " 'petted',\n",
       " 'friends',\n",
       " 'incidents',\n",
       " 'lost',\n",
       " 'remarked',\n",
       " 'rebuff',\n",
       " 'seek',\n",
       " 'follow',\n",
       " 'way',\n",
       " 'solicit',\n",
       " 'notice',\n",
       " 'told',\n",
       " 'carry',\n",
       " 'book',\n",
       " 'article',\n",
       " 'graham',\n",
       " 'shut',\n",
       " 'study',\n",
       " 'shall',\n",
       " 'wait',\n",
       " 'till',\n",
       " 'comes',\n",
       " 'proudly',\n",
       " 'choose',\n",
       " 'trouble',\n",
       " 'rising',\n",
       " 'open',\n",
       " 'door',\n",
       " 'young',\n",
       " 'bretton',\n",
       " 'favourite',\n",
       " 'pony',\n",
       " 'rode',\n",
       " 'window',\n",
       " 'watched',\n",
       " 'departure',\n",
       " 'return',\n",
       " 'ambition',\n",
       " 'permitted',\n",
       " 'ride',\n",
       " 'round',\n",
       " 'courtyard',\n",
       " 'pony',\n",
       " 'far',\n",
       " 'ask',\n",
       " 'favour',\n",
       " 'day',\n",
       " 'descended',\n",
       " 'yard',\n",
       " 'watch',\n",
       " 'dismount',\n",
       " 'leaned',\n",
       " 'gate',\n",
       " 'longing',\n",
       " 'wish',\n",
       " 'indulgence',\n",
       " 'ride',\n",
       " 'glittered',\n",
       " 'eye',\n",
       " 'come',\n",
       " 'polly',\n",
       " 'canter',\n",
       " 'asked',\n",
       " 'graham',\n",
       " 'half',\n",
       " 'carelessly',\n",
       " 'suppose',\n",
       " 'thought',\n",
       " 'careless',\n",
       " 'thank',\n",
       " 'turning',\n",
       " 'away',\n",
       " 'utmost',\n",
       " 'coolness',\n",
       " 'better',\n",
       " 'pursued',\n",
       " 'like',\n",
       " 'sure',\n",
       " 'think',\n",
       " 'care',\n",
       " 'fig',\n",
       " 'response',\n",
       " 'true',\n",
       " 'told',\n",
       " 'lucy',\n",
       " 'snowe',\n",
       " 'longed',\n",
       " 'ride',\n",
       " 'lucy',\n",
       " 'snowe',\n",
       " 'box',\n",
       " 'heard',\n",
       " 'imperfect',\n",
       " 'articulation',\n",
       " 'precocious',\n",
       " 'thing',\n",
       " 'walked',\n",
       " 'house',\n",
       " 'graham',\n",
       " 'coming',\n",
       " 'soon',\n",
       " 'observed',\n",
       " 'mother',\n",
       " 'mamma',\n",
       " 'believe',\n",
       " 'creature',\n",
       " 'changeling',\n",
       " 'perfect',\n",
       " 'cabinet',\n",
       " 'oddities',\n",
       " 'dull',\n",
       " 'amuses',\n",
       " 'great',\n",
       " 'deal',\n",
       " 'lucy',\n",
       " 'snowe',\n",
       " 'miss',\n",
       " 'snowe',\n",
       " 'paulina',\n",
       " 'got',\n",
       " 'habit',\n",
       " 'occasionally',\n",
       " 'chatting',\n",
       " 'room',\n",
       " 'night',\n",
       " 'know',\n",
       " 'day',\n",
       " 'week',\n",
       " 'like',\n",
       " 'graham',\n",
       " 'best',\n",
       " 'possibly',\n",
       " 'know',\n",
       " 'strange',\n",
       " 'day',\n",
       " 'seven',\n",
       " 'sure',\n",
       " 'know',\n",
       " 'excellent',\n",
       " 'sunday',\n",
       " 'day',\n",
       " 'quiet',\n",
       " 'evening',\n",
       " 'kind',\n",
       " 'observation',\n",
       " 'altogether',\n",
       " 'groundless',\n",
       " 'going',\n",
       " 'church',\n",
       " 'kept',\n",
       " 'graham',\n",
       " 'quiet',\n",
       " 'sunday',\n",
       " 'evening',\n",
       " 'generally',\n",
       " 'dedicated',\n",
       " 'serene',\n",
       " 'indolent',\n",
       " 'sort',\n",
       " 'enjoyment',\n",
       " 'parlour',\n",
       " 'fireside',\n",
       " 'possession',\n",
       " 'couch',\n",
       " 'polly',\n",
       " 'graham',\n",
       " 'boy',\n",
       " 'boys',\n",
       " 'delight',\n",
       " 'lie',\n",
       " 'action',\n",
       " 'capable',\n",
       " 'intervals',\n",
       " 'contemplation',\n",
       " 'pleasure',\n",
       " 'reading',\n",
       " 'selection',\n",
       " 'books',\n",
       " 'wholly',\n",
       " 'indiscriminate',\n",
       " 'glimmerings',\n",
       " 'characteristic',\n",
       " 'preference',\n",
       " 'instinctive',\n",
       " 'taste',\n",
       " 'choice',\n",
       " 'rarely',\n",
       " 'true',\n",
       " 'remarked',\n",
       " 'read',\n",
       " 'seen',\n",
       " 'sit',\n",
       " 'think',\n",
       " 'polly',\n",
       " 'near',\n",
       " 'kneeling',\n",
       " 'little',\n",
       " 'cushion',\n",
       " 'carpet',\n",
       " 'conversation',\n",
       " 'begin',\n",
       " 'murmurs',\n",
       " 'inaudible',\n",
       " 'subdued',\n",
       " 'caught',\n",
       " 'snatch',\n",
       " 'tenor',\n",
       " 'truth',\n",
       " 'influence',\n",
       " 'better',\n",
       " 'finer',\n",
       " 'day',\n",
       " 'soothe',\n",
       " 'graham',\n",
       " 'times',\n",
       " 'ungentle',\n",
       " 'mood',\n",
       " 'learned',\n",
       " 'hymns',\n",
       " 'week',\n",
       " 'polly',\n",
       " 'learned',\n",
       " 'pretty',\n",
       " 'verses',\n",
       " 'long',\n",
       " 'shall',\n",
       " 'speak',\n",
       " 'nicely',\n",
       " 'hurry',\n",
       " 'hymn',\n",
       " 'rehearsed',\n",
       " 'half',\n",
       " 'chanted',\n",
       " 'little',\n",
       " 'singing',\n",
       " 'voice',\n",
       " 'graham',\n",
       " 'exceptions',\n",
       " 'manner',\n",
       " 'proceed',\n",
       " 'lesson',\n",
       " 'recitation',\n",
       " 'quick',\n",
       " 'learning',\n",
       " 'apt',\n",
       " 'imitating',\n",
       " 'pleasure',\n",
       " 'graham',\n",
       " 'proved',\n",
       " 'ready',\n",
       " 'scholar',\n",
       " 'hymn',\n",
       " 'succeed',\n",
       " 'reading',\n",
       " 'chapter',\n",
       " 'bible',\n",
       " 'correction',\n",
       " 'seldom',\n",
       " 'required',\n",
       " 'child',\n",
       " 'read',\n",
       " 'simple',\n",
       " 'narrative',\n",
       " 'chapter',\n",
       " 'subject',\n",
       " 'understand',\n",
       " 'expression',\n",
       " 'emphasis',\n",
       " 'remarkable',\n",
       " 'joseph',\n",
       " 'cast',\n",
       " 'pit',\n",
       " 'calling',\n",
       " 'samuel',\n",
       " 'daniel',\n",
       " 'lions',\n",
       " 'den',\n",
       " 'favourite',\n",
       " 'passages',\n",
       " 'especially',\n",
       " 'perfectly',\n",
       " 'feel',\n",
       " 'pathos',\n",
       " 'poor',\n",
       " 'jacob',\n",
       " 'quivering',\n",
       " 'lips',\n",
       " 'loved',\n",
       " 'son',\n",
       " 'joseph',\n",
       " 'added',\n",
       " 'graham',\n",
       " 'love',\n",
       " 'die',\n",
       " 'opened',\n",
       " 'book',\n",
       " 'sought',\n",
       " 'verse',\n",
       " 'read',\n",
       " 'refuse',\n",
       " 'comforted',\n",
       " 'grave',\n",
       " 'mourning',\n",
       " 'words',\n",
       " 'gathered',\n",
       " 'graham',\n",
       " 'little',\n",
       " 'arms',\n",
       " 'drawing',\n",
       " 'long',\n",
       " 'tressed',\n",
       " 'head',\n",
       " 'action',\n",
       " 'remember',\n",
       " 'struck',\n",
       " 'strangely',\n",
       " 'rash',\n",
       " 'exciting',\n",
       " 'feeling',\n",
       " 'experience',\n",
       " 'seeing',\n",
       " 'animal',\n",
       " 'dangerous',\n",
       " 'nature',\n",
       " 'half',\n",
       " 'tamed',\n",
       " 'art',\n",
       " 'heedlessly',\n",
       " 'fondled',\n",
       " 'feared',\n",
       " 'graham',\n",
       " 'hurt',\n",
       " 'roughly',\n",
       " 'check',\n",
       " 'thought',\n",
       " 'ran',\n",
       " 'risk',\n",
       " 'incurring',\n",
       " 'careless',\n",
       " 'impatient',\n",
       " 'repulse',\n",
       " 'worse',\n",
       " 'blow']"
      ]
     },
     "execution_count": 31,
     "metadata": {},
     "output_type": "execute_result"
    }
   ],
   "source": [
    "next(streaming_data) # Returns one document at a time from the generator"
   ]
  },
  {
   "cell_type": "markdown",
   "metadata": {},
   "source": [
    "### Gensim LDA Topic Modeling"
   ]
  },
  {
   "cell_type": "code",
   "execution_count": 32,
   "metadata": {},
   "outputs": [],
   "source": [
    "# A Dictionary Representation of all the words in our corpus\n",
    "id2word = corpora.Dictionary(doc_stream(path))"
   ]
  },
  {
   "cell_type": "code",
   "execution_count": 33,
   "metadata": {},
   "outputs": [
    {
     "data": {
      "text/plain": [
       "78"
      ]
     },
     "execution_count": 33,
     "metadata": {},
     "output_type": "execute_result"
    }
   ],
   "source": [
    "id2word.token2id['england']"
   ]
  },
  {
   "cell_type": "code",
   "execution_count": 34,
   "metadata": {},
   "outputs": [
    {
     "data": {
      "text/plain": [
       "[(78, 3), (353, 1), (6207, 1), (18936, 1)]"
      ]
     },
     "execution_count": 34,
     "metadata": {},
     "output_type": "execute_result"
    }
   ],
   "source": [
    "id2word.doc2bow(tokenize(\"This is a sample message Darcy England England England\"))"
   ]
  },
  {
   "cell_type": "code",
   "execution_count": 35,
   "metadata": {},
   "outputs": [
    {
     "name": "stdout",
     "output_type": "stream",
     "text": [
      "56\n",
      "7056\n"
     ]
    }
   ],
   "source": [
    "import sys\n",
    "print(sys.getsizeof(id2word))\n",
    "print(sys.getsizeof(tokens))"
   ]
  },
  {
   "cell_type": "code",
   "execution_count": 36,
   "metadata": {},
   "outputs": [
    {
     "data": {
      "text/plain": [
       "22095"
      ]
     },
     "execution_count": 36,
     "metadata": {},
     "output_type": "execute_result"
    }
   ],
   "source": [
    "len(id2word.keys())"
   ]
  },
  {
   "cell_type": "code",
   "execution_count": 37,
   "metadata": {},
   "outputs": [],
   "source": [
    "# Let's remove extreme values from the dataset\n",
    "id2word.filter_extremes(no_below=5, no_above=0.95)"
   ]
  },
  {
   "cell_type": "code",
   "execution_count": 38,
   "metadata": {},
   "outputs": [
    {
     "data": {
      "text/plain": [
       "8102"
      ]
     },
     "execution_count": 38,
     "metadata": {},
     "output_type": "execute_result"
    }
   ],
   "source": [
    "len(id2word.keys())"
   ]
  },
  {
   "cell_type": "code",
   "execution_count": 39,
   "metadata": {},
   "outputs": [],
   "source": [
    "# a bag of words(bow) representation of our corpus\n",
    "# Note: we haven't actually read any text into memory here\n",
    "# Although abstracted away - tokenization IS happening in the doc_stream f(x)\n",
    "corpus = [id2word.doc2bow(text) for text in doc_stream(path)]"
   ]
  },
  {
   "cell_type": "code",
   "execution_count": 41,
   "metadata": {},
   "outputs": [
    {
     "data": {
      "text/plain": [
       "[(4, 1),\n",
       " (17, 1),\n",
       " (28, 1),\n",
       " (30, 1),\n",
       " (31, 2),\n",
       " (40, 1),\n",
       " (46, 1),\n",
       " (51, 1),\n",
       " (55, 1),\n",
       " (71, 1)]"
      ]
     },
     "execution_count": 41,
     "metadata": {},
     "output_type": "execute_result"
    }
   ],
   "source": [
    "corpus[345][:10]"
   ]
  },
  {
   "cell_type": "code",
   "execution_count": 40,
   "metadata": {},
   "outputs": [],
   "source": [
    "lda = LdaMulticore(corpus=corpus,\n",
    "                   id2word=id2word,\n",
    "                   random_state=723812,\n",
    "                   num_topics = 15,\n",
    "                   passes=10,\n",
    "                   workers=12\n",
    "                  )"
   ]
  },
  {
   "cell_type": "code",
   "execution_count": 41,
   "metadata": {},
   "outputs": [
    {
     "data": {
      "text/plain": [
       "[(0,\n",
       "  '0.013*\"miss\" + 0.005*\"bingley\" + 0.004*\"ingram\" + 0.004*\"elizabeth\" + 0.004*\"english\" + 0.004*\"monsieur\" + 0.004*\"good\" + 0.004*\"little\" + 0.004*\"darcy\" + 0.004*\"books\"'),\n",
       " (1,\n",
       "  '0.008*\"reed\" + 0.004*\"thought\" + 0.004*\"thing\" + 0.004*\"vault\" + 0.003*\"like\" + 0.003*\"love\" + 0.003*\"mother\" + 0.003*\"strange\" + 0.003*\"john\" + 0.003*\"child\"'),\n",
       " (2,\n",
       "  '0.011*\"weston\" + 0.010*\"churchill\" + 0.008*\"frank\" + 0.007*\"miss\" + 0.006*\"elton\" + 0.005*\"life\" + 0.005*\"great\" + 0.005*\"thing\" + 0.005*\"shall\" + 0.004*\"like\"'),\n",
       " (3,\n",
       "  '0.009*\"hawkins\" + 0.006*\"news\" + 0.005*\"miss\" + 0.004*\"says\" + 0.004*\"campbell\" + 0.004*\"bates\" + 0.003*\"mother\" + 0.003*\"precise\" + 0.003*\"worlds\" + 0.003*\"deaf\"'),\n",
       " (4,\n",
       "  '0.015*\"dear\" + 0.009*\"perry\" + 0.009*\"sea\" + 0.008*\"little\" + 0.007*\"children\" + 0.007*\"good\" + 0.006*\"gruel\" + 0.006*\"air\" + 0.006*\"south\" + 0.006*\"sir\"'),\n",
       " (5,\n",
       "  '0.005*\"little\" + 0.005*\"like\" + 0.004*\"thought\" + 0.004*\"time\" + 0.003*\"know\" + 0.003*\"hand\" + 0.003*\"long\" + 0.003*\"day\" + 0.003*\"good\" + 0.003*\"heart\"'),\n",
       " (6,\n",
       "  '0.011*\"miss\" + 0.010*\"little\" + 0.010*\"papa\" + 0.010*\"harriet\" + 0.009*\"bessie\" + 0.009*\"graham\" + 0.008*\"bretton\" + 0.008*\"like\" + 0.008*\"think\" + 0.007*\"reed\"'),\n",
       " (7,\n",
       "  '0.007*\"like\" + 0.006*\"little\" + 0.005*\"night\" + 0.005*\"madame\" + 0.004*\"thought\" + 0.004*\"door\" + 0.004*\"long\" + 0.004*\"room\" + 0.004*\"good\" + 0.004*\"time\"'),\n",
       " (8,\n",
       "  '0.007*\"miss\" + 0.007*\"little\" + 0.005*\"like\" + 0.004*\"think\" + 0.004*\"thought\" + 0.004*\"room\" + 0.003*\"man\" + 0.003*\"good\" + 0.003*\"eyes\" + 0.003*\"know\"'),\n",
       " (9,\n",
       "  '0.007*\"like\" + 0.006*\"little\" + 0.005*\"likeness\" + 0.005*\"man\" + 0.005*\"yes\" + 0.005*\"john\" + 0.004*\"st\" + 0.004*\"good\" + 0.003*\"sir\" + 0.003*\"asked\"'),\n",
       " (10,\n",
       "  '0.014*\"elinor\" + 0.011*\"marianne\" + 0.007*\"sister\" + 0.006*\"mother\" + 0.006*\"edward\" + 0.006*\"know\" + 0.006*\"time\" + 0.005*\"think\" + 0.005*\"dashwood\" + 0.004*\"jennings\"'),\n",
       " (11,\n",
       "  '0.018*\"emma\" + 0.010*\"harriet\" + 0.009*\"miss\" + 0.009*\"knightley\" + 0.009*\"thing\" + 0.008*\"weston\" + 0.007*\"elton\" + 0.007*\"good\" + 0.007*\"woodhouse\" + 0.007*\"think\"'),\n",
       " (12,\n",
       "  '0.007*\"know\" + 0.007*\"like\" + 0.005*\"jane\" + 0.005*\"miss\" + 0.004*\"day\" + 0.004*\"thousand\" + 0.004*\"time\" + 0.004*\"man\" + 0.003*\"saw\" + 0.003*\"diana\"'),\n",
       " (13,\n",
       "  '0.011*\"elizabeth\" + 0.010*\"jane\" + 0.009*\"miss\" + 0.007*\"darcy\" + 0.006*\"know\" + 0.006*\"think\" + 0.006*\"bennet\" + 0.005*\"good\" + 0.005*\"soon\" + 0.005*\"bingley\"'),\n",
       " (14,\n",
       "  '0.009*\"rochester\" + 0.006*\"little\" + 0.005*\"sir\" + 0.005*\"good\" + 0.005*\"day\" + 0.005*\"like\" + 0.005*\"monsieur\" + 0.004*\"adele\" + 0.004*\"thought\" + 0.004*\"madame\"')]"
      ]
     },
     "execution_count": 41,
     "metadata": {},
     "output_type": "execute_result"
    }
   ],
   "source": [
    "lda.print_topics()"
   ]
  },
  {
   "cell_type": "code",
   "execution_count": 42,
   "metadata": {},
   "outputs": [],
   "source": [
    "words = [re.findall(r'\"([^\"]*)\"',t[1]) for t in lda.print_topics()]"
   ]
  },
  {
   "cell_type": "code",
   "execution_count": 43,
   "metadata": {},
   "outputs": [],
   "source": [
    "topics = [' '.join(t[0:5]) for t in words]"
   ]
  },
  {
   "cell_type": "code",
   "execution_count": 45,
   "metadata": {},
   "outputs": [
    {
     "name": "stdout",
     "output_type": "stream",
     "text": [
      "------ Topic 0 ------\n",
      "pounds mother sure think year\n",
      "\n",
      "------ Topic 1 ------\n",
      "pelet thought like little man\n",
      "\n",
      "------ Topic 2 ------\n",
      "madame little like day vous\n",
      "\n",
      "------ Topic 3 ------\n",
      "night look like old est\n",
      "\n",
      "------ Topic 4 ------\n",
      "little madame like thought know\n",
      "\n",
      "------ Topic 5 ------\n",
      "elizabeth darcy miss bingley bennet\n",
      "\n",
      "------ Topic 6 ------\n",
      "know jane life like long\n",
      "\n",
      "------ Topic 7 ------\n",
      "frances monsieur hunsden little english\n",
      "\n",
      "------ Topic 8 ------\n",
      "good little like emma elton\n",
      "\n",
      "------ Topic 9 ------\n",
      "sir long jane rochester little\n",
      "\n",
      "------ Topic 10 ------\n",
      "like little rochester miss room\n",
      "\n",
      "------ Topic 11 ------\n",
      "emma miss harriet thing weston\n",
      "\n",
      "------ Topic 12 ------\n",
      "jane emma little thing miss\n",
      "\n",
      "------ Topic 13 ------\n",
      "elinor marianne sister mother time\n",
      "\n",
      "------ Topic 14 ------\n",
      "monsieur henri georgiana mdlle little\n",
      "\n"
     ]
    }
   ],
   "source": [
    "for id, t in enumerate(topics): \n",
    "    print(f\"------ Topic {id} ------\")\n",
    "    print(t, end=\"\\n\\n\")"
   ]
  },
  {
   "cell_type": "markdown",
   "metadata": {},
   "source": [
    "## Challenge \n",
    "\n",
    "You will apply an LDA model to a customer review dataset to practice the fitting and estimation of LDA. "
   ]
  },
  {
   "cell_type": "markdown",
   "metadata": {},
   "source": [
    "# Interpret LDA Results (Learn)\n",
    "<a id=\"#p3\"></a>"
   ]
  },
  {
   "cell_type": "markdown",
   "metadata": {},
   "source": [
    "## Overview"
   ]
  },
  {
   "cell_type": "markdown",
   "metadata": {
    "toc-hr-collapsed": true
   },
   "source": [
    "## Follow Along"
   ]
  },
  {
   "cell_type": "markdown",
   "metadata": {},
   "source": [
    "### Topic Distance Visualization"
   ]
  },
  {
   "cell_type": "code",
   "execution_count": 44,
   "metadata": {},
   "outputs": [],
   "source": [
    "import pyLDAvis.gensim\n",
    "\n",
    "pyLDAvis.enable_notebook()"
   ]
  },
  {
   "cell_type": "code",
   "execution_count": 45,
   "metadata": {},
   "outputs": [
    {
     "data": {
      "text/html": [
       "\n",
       "<link rel=\"stylesheet\" type=\"text/css\" href=\"https://cdn.rawgit.com/bmabey/pyLDAvis/files/ldavis.v1.0.0.css\">\n",
       "\n",
       "\n",
       "<div id=\"ldavis_el80991401234936696481639394456\"></div>\n",
       "<script type=\"text/javascript\">\n",
       "\n",
       "var ldavis_el80991401234936696481639394456_data = {\"mdsDat\": {\"x\": [-0.03583718715456748, 0.1287969894160167, -0.018747526299462237, 0.11006680414823798, 0.1364404721939671, -0.004402243766052127, -0.018052297004228925, 0.07949224480039488, -0.006303758026136364, 0.009417038781942496, 0.04561429146778147, -0.09003051417391278, -0.14411720100482595, -0.07869332033994818, -0.11364379303920684], \"y\": [-0.08702764479607096, 0.04781481415450235, -0.06621585649427454, 0.041640639539229286, 0.05237290318730303, -0.09099534016420062, -0.10777907063966609, -0.05157376227827433, -0.026824525263320693, -0.023442524686270994, 0.08310940552239111, 0.0045896843263618725, 0.057869077334304096, 0.09834045601106918, 0.06812174424691719], \"topics\": [1, 2, 3, 4, 5, 6, 7, 8, 9, 10, 11, 12, 13, 14, 15], \"cluster\": [1, 1, 1, 1, 1, 1, 1, 1, 1, 1, 1, 1, 1, 1, 1], \"Freq\": [19.998714447021484, 17.269521713256836, 16.610149383544922, 15.069299697875977, 12.89259147644043, 6.4557647705078125, 5.041889667510986, 3.5878491401672363, 0.9918360710144043, 0.7281181216239929, 0.6921515464782715, 0.3193627893924713, 0.15718156099319458, 0.14797042310237885, 0.037593863904476166]}, \"tinfo\": {\"Term\": [\"miss\", \"little\", \"emma\", \"dear\", \"like\", \"good\", \"thing\", \"elizabeth\", \"weston\", \"elinor\", \"know\", \"jane\", \"harriet\", \"mother\", \"thought\", \"john\", \"time\", \"sir\", \"marianne\", \"knightley\", \"think\", \"man\", \"elton\", \"darcy\", \"long\", \"great\", \"bingley\", \"woodhouse\", \"yes\", \"shall\", \"hamal\", \"stillness\", \"grenier\", \"desiree\", \"mirror\", \"cushioned\", \"washstand\", \"spectral\", \"mason\", \"overhead\", \"cette\", \"pear\", \"shrine\", \"vapour\", \"upward\", \"covers\", \"alleys\", \"subjoined\", \"severed\", \"venerable\", \"inscription\", \"demonstrative\", \"blanched\", \"slippers\", \"drenched\", \"burghers\", \"panels\", \"storey\", \"hail\", \"leafy\", \"blew\", \"stole\", \"dormitory\", \"gallery\", \"surgeon\", \"priest\", \"fossette\", \"gleamed\", \"villette\", \"alley\", \"lamps\", \"ville\", \"candle\", \"madame\", \"beck\", \"ghost\", \"rue\", \"rosine\", \"wall\", \"chamber\", \"staircase\", \"sleep\", \"white\", \"city\", \"dr\", \"trees\", \"amidst\", \"godmother\", \"shawl\", \"hall\", \"bed\", \"door\", \"night\", \"glass\", \"rochester\", \"stood\", \"dark\", \"sky\", \"strange\", \"black\", \"like\", \"light\", \"garden\", \"lay\", \"church\", \"eyes\", \"hand\", \"room\", \"long\", \"little\", \"thought\", \"looked\", \"saw\", \"old\", \"round\", \"face\", \"came\", \"house\", \"day\", \"come\", \"went\", \"time\", \"good\", \"heard\", \"know\", \"knew\", \"life\", \"way\", \"heart\", \"collins\", \"bennet\", \"lydia\", \"lucas\", \"netherfield\", \"longbourn\", \"meryton\", \"wickham\", \"bourgh\", \"lizzy\", \"catherine\", \"rosings\", \"forster\", \"elizabeth\", \"phillips\", \"officers\", \"hertfordshire\", \"darcy\", \"hunsford\", \"gardiner\", \"kitty\", \"brighton\", \"bingley\", \"lucases\", \"denny\", \"judgement\", \"kent\", \"bennets\", \"lambton\", \"dixon\", \"derbyshire\", \"regiment\", \"fitzwilliam\", \"campbell\", \"saturday\", \"pemberley\", \"charlotte\", \"jane\", \"aunt\", \"miss\", \"family\", \"father\", \"dear\", \"lady\", \"soon\", \"know\", \"friend\", \"fairfax\", \"think\", \"uncle\", \"sister\", \"shall\", \"good\", \"man\", \"young\", \"time\", \"little\", \"great\", \"mother\", \"day\", \"room\", \"sure\", \"oh\", \"thought\", \"vandenhuten\", \"yorke\", \"frances\", \"faubourg\", \"narrated\", \"translation\", \"thrilling\", \"hannah\", \"icy\", \"causeway\", \"rosamond\", \"scrupulously\", \"evans\", \"vapid\", \"morally\", \"shores\", \"fille\", \"mutinous\", \"bands\", \"truthful\", \"leap\", \"ranged\", \"fade\", \"sew\", \"scholars\", \"relentless\", \"susceptible\", \"scoured\", \"undisturbed\", \"thereof\", \"oliver\", \"rivers\", \"diana\", \"hunsden\", \"henri\", \"marsh\", \"lamb\", \"thrice\", \"st\", \"melt\", \"mdlle\", \"track\", \"directress\", \"mien\", \"monsieur\", \"brussels\", \"stern\", \"victor\", \"english\", \"pupils\", \"lad\", \"francs\", \"ere\", \"england\", \"school\", \"soft\", \"human\", \"mary\", \"hand\", \"face\", \"desk\", \"read\", \"asked\", \"like\", \"life\", \"eye\", \"words\", \"work\", \"little\", \"heart\", \"thought\", \"voice\", \"looked\", \"long\", \"time\", \"look\", \"john\", \"night\", \"house\", \"took\", \"eyes\", \"day\", \"know\", \"come\", \"good\", \"shall\", \"felt\", \"tell\", \"saw\", \"room\", \"think\", \"ferrars\", \"elinor\", \"fanny\", \"delaford\", \"marianne\", \"margaret\", \"brandon\", \"harley\", \"willoughby\", \"steele\", \"dashwood\", \"middletons\", \"jennings\", \"longstaple\", \"norland\", \"thoughtfulness\", \"edward\", \"plymouth\", \"devonshire\", \"distresses\", \"steeles\", \"dorsetshire\", \"unceasing\", \"berkeley\", \"promoting\", \"lesser\", \"sussex\", \"invariable\", \"unjustifiable\", \"beaux\", \"barton\", \"palmers\", \"monstrous\", \"somersetshire\", \"middleton\", \"colonel\", \"sister\", \"cleveland\", \"engagement\", \"lucy\", \"dashwoods\", \"mother\", \"robert\", \"cottage\", \"affection\", \"behaviour\", \"pounds\", \"thousand\", \"brother\", \"time\", \"know\", \"town\", \"john\", \"think\", \"heart\", \"thing\", \"soon\", \"replied\", \"sure\", \"felt\", \"feelings\", \"mind\", \"man\", \"great\", \"good\", \"lady\", \"miss\", \"day\", \"little\", \"shall\", \"thought\", \"isabella\", \"larkins\", \"taylor\", \"donwell\", \"abbey\", \"knightley\", \"hartfield\", \"patty\", \"unexceptionable\", \"goddard\", \"disparity\", \"randalls\", \"connexions\", \"woodhouse\", \"richmond\", \"martin\", \"surprized\", \"supplanted\", \"emma\", \"vicarage\", \"surry\", \"westons\", \"perry\", \"henry\", \"weston\", \"harriet\", \"elton\", \"strawberries\", \"aches\", \"surprize\", \"churchill\", \"smith\", \"highbury\", \"frank\", \"body\", \"bates\", \"thing\", \"cole\", \"enscombe\", \"miss\", \"poor\", \"great\", \"party\", \"dear\", \"good\", \"father\", \"think\", \"little\", \"time\", \"know\", \"sure\", \"john\", \"come\", \"oh\", \"young\", \"day\", \"thought\", \"home\", \"man\", \"like\", \"soon\", \"helen\", \"bigben\", \"temple\", \"spectators\", \"benefactress\", \"burns\", \"scatcherd\", \"vicious\", \"messieurs\", \"potatoes\", \"waltz\", \"dans\", \"bonnets\", \"needles\", \"bouquet\", \"brocklehurst\", \"petty\", \"unused\", \"interchanged\", \"oriental\", \"raving\", \"eighty\", \"blossoms\", \"amour\", \"harass\", \"displeasing\", \"gestures\", \"robes\", \"etre\", \"swung\", \"prettiest\", \"lowood\", \"wages\", \"curled\", \"crimsworth\", \"zelie\", \"clerk\", \"tyrant\", \"institution\", \"ginevra\", \"paul\", \"butter\", \"est\", \"emanuel\", \"eyre\", \"handkerchief\", \"pierre\", \"girl\", \"et\", \"miss\", \"la\", \"bread\", \"little\", \"hair\", \"chair\", \"eyes\", \"eye\", \"like\", \"room\", \"hand\", \"man\", \"thought\", \"read\", \"think\", \"looked\", \"half\", \"face\", \"good\", \"know\", \"round\", \"took\", \"look\", \"come\", \"heart\", \"time\", \"felt\", \"day\", \"let\", \"lady\", \"saw\", \"long\", \"rien\", \"celine\", \"meme\", \"petit\", \"maman\", \"circled\", \"chocolate\", \"chalk\", \"scarf\", \"david\", \"plus\", \"allez\", \"ringlets\", \"circlet\", \"forthwith\", \"fraternity\", \"reste\", \"feast\", \"jour\", \"eshton\", \"comme\", \"blanche\", \"paris\", \"vrai\", \"sais\", \"oblivious\", \"mildly\", \"millcote\", \"reine\", \"eulalie\", \"lynn\", \"une\", \"ingram\", \"adele\", \"votre\", \"rochester\", \"ne\", \"pas\", \"il\", \"les\", \"des\", \"je\", \"indian\", \"monsieur\", \"et\", \"pelet\", \"vous\", \"que\", \"est\", \"emanuel\", \"mademoiselle\", \"reuter\", \"en\", \"paul\", \"sir\", \"madame\", \"thornfield\", \"day\", \"little\", \"good\", \"like\", \"night\", \"yes\", \"thought\", \"half\", \"eyes\", \"shall\", \"know\", \"long\", \"face\", \"jane\", \"think\", \"look\", \"time\", \"man\", \"came\", \"knew\", \"nash\", \"polly\", \"warren\", \"abbot\", \"bessie\", \"missis\", \"naughty\", \"creating\", \"lloyd\", \"reed\", \"countess\", \"papa\", \"martins\", \"iv\", \"charade\", \"punished\", \"bends\", \"scotch\", \"gateshead\", \"couldn\", \"flown\", \"softest\", \"syne\", \"snowe\", \"auburn\", \"bassompierre\", \"opaque\", \"scold\", \"graham\", \"womanly\", \"bretton\", \"paulina\", \"pet\", \"nursery\", \"child\", \"georgiana\", \"harriet\", \"mama\", \"boy\", \"miss\", \"little\", \"shall\", \"like\", \"think\", \"lucy\", \"dr\", \"thought\", \"home\", \"look\", \"good\", \"father\", \"eye\", \"thing\", \"sir\", \"know\", \"long\", \"soon\", \"jane\", \"way\", \"come\", \"love\", \"philanthropist\", \"miller\", \"manifestation\", \"impassioned\", \"porridge\", \"submissive\", \"asylum\", \"yawned\", \"population\", \"moorland\", \"deigned\", \"gross\", \"affluence\", \"devoured\", \"whitcross\", \"barouche\", \"famine\", \"vile\", \"misunderstand\", \"uncles\", \"rubber\", \"roads\", \"cursed\", \"indicating\", \"repentance\", \"sisterly\", \"swallow\", \"destitution\", \"mountains\", \"association\", \"diana\", \"moor\", \"sunrise\", \"topic\", \"thousand\", \"francs\", \"tables\", \"pounds\", \"sisters\", \"rivers\", \"frances\", \"monday\", \"hunsden\", \"justice\", \"like\", \"know\", \"jane\", \"mary\", \"st\", \"day\", \"miss\", \"rest\", \"saw\", \"way\", \"man\", \"pleasure\", \"brother\", \"time\", \"let\", \"pity\", \"monsieur\", \"tell\", \"shall\", \"little\", \"think\", \"soon\", \"place\", \"thought\", \"john\", \"life\", \"good\", \"purchases\", \"herd\", \"devoured\", \"undue\", \"inattention\", \"scatcherd\", \"hem\", \"mission\", \"charles\", \"coarseness\", \"waiter\", \"burns\", \"arithmetic\", \"tacitly\", \"obviously\", \"amy\", \"perish\", \"adoption\", \"pastor\", \"geography\", \"bundle\", \"inattentive\", \"conformity\", \"ascribe\", \"solved\", \"protesting\", \"launched\", \"spontaneously\", \"stocks\", \"brevity\", \"grammar\", \"accomplished\", \"pemberley\", \"ingram\", \"hurst\", \"needful\", \"library\", \"eshton\", \"lace\", \"books\", \"lessons\", \"interposed\", \"mark\", \"phrases\", \"henri\", \"bingley\", \"miss\", \"english\", \"class\", \"history\", \"monsieur\", \"wished\", \"darcy\", \"elizabeth\", \"yes\", \"gentlemen\", \"aunt\", \"returned\", \"half\", \"heart\", \"good\", \"answer\", \"soon\", \"think\", \"time\", \"little\", \"heard\", \"long\", \"day\", \"room\", \"like\", \"know\", \"girl\", \"looked\", \"saw\", \"great\", \"selina\", \"slate\", \"suckling\", \"yorkshire\", \"exploring\", \"profusion\", \"reckon\", \"maple\", \"encore\", \"grant\", \"mortify\", \"february\", \"grove\", \"militia\", \"heir\", \"captain\", \"enscombe\", \"inference\", \"entertaining\", \"punished\", \"conservatory\", \"yawn\", \"tacitly\", \"antagonist\", \"mortals\", \"dissimulation\", \"immense\", \"block\", \"adoption\", \"military\", \"bath\", \"churchill\", \"protest\", \"resources\", \"disengaged\", \"frank\", \"connexion\", \"weston\", \"speaks\", \"purchase\", \"ordered\", \"elton\", \"highbury\", \"life\", \"pride\", \"son\", \"despair\", \"place\", \"miss\", \"assure\", \"things\", \"thing\", \"sort\", \"great\", \"shall\", \"body\", \"sure\", \"like\", \"time\", \"know\", \"fine\", \"think\", \"little\", \"thought\", \"hope\", \"oh\", \"good\", \"way\", \"soon\", \"tutor\", \"lengths\", \"profile\", \"scholar\", \"schoolmistress\", \"colours\", \"wives\", \"likeness\", \"husbands\", \"artist\", \"list\", \"dissimulation\", \"evade\", \"grecian\", \"attorney\", \"meets\", \"reported\", \"yawn\", \"performances\", \"confided\", \"jocund\", \"corded\", \"suggestive\", \"saddened\", \"trunks\", \"respite\", \"lame\", \"featured\", \"symmetry\", \"sketch\", \"farthest\", \"sylvie\", \"finds\", \"eulalie\", \"fashionable\", \"considerably\", \"belgian\", \"stiff\", \"st\", \"teach\", \"sullen\", \"books\", \"intellect\", \"rivers\", \"like\", \"yes\", \"john\", \"man\", \"little\", \"appearance\", \"asked\", \"sir\", \"good\", \"certain\", \"study\", \"case\", \"length\", \"face\", \"eyes\", \"followed\", \"figure\", \"school\", \"hand\", \"given\", \"young\", \"mind\", \"near\", \"time\", \"long\", \"left\", \"rochester\", \"bends\", \"vault\", \"waken\", \"irids\", \"gardener\", \"punished\", \"noxious\", \"conservatory\", \"rave\", \"strove\", \"pillar\", \"necks\", \"rubbish\", \"dogs\", \"irrational\", \"bled\", \"drain\", \"spoiled\", \"yawned\", \"peep\", \"contours\", \"unconnected\", \"casements\", \"serving\", \"meadow\", \"obviously\", \"transitory\", \"achieve\", \"wrongs\", \"elicit\", \"finds\", \"reed\", \"stimulus\", \"unjust\", \"useless\", \"harmony\", \"noon\", \"violent\", \"doubted\", \"recall\", \"gateshead\", \"wishes\", \"bound\", \"ceaseless\", \"children\", \"strange\", \"expedient\", \"thought\", \"thing\", \"child\", \"die\", \"church\", \"love\", \"mother\", \"john\", \"like\", \"death\", \"hall\", \"began\", \"little\", \"turned\", \"dark\", \"heard\", \"promise\", \"equally\", \"idea\", \"afternoon\", \"servants\", \"fault\", \"gruel\", \"bathing\", \"colds\", \"knightleys\", \"drain\", \"bateses\", \"sickly\", \"forgets\", \"south\", \"interrupting\", \"anecdote\", \"prohibited\", \"local\", \"fence\", \"divisions\", \"terribly\", \"magistrate\", \"sea\", \"bilious\", \"envious\", \"attachments\", \"perry\", \"brunswick\", \"longest\", \"cooler\", \"communicative\", \"throat\", \"considers\", \"joining\", \"killed\", \"autumn\", \"rarely\", \"dear\", \"children\", \"isabella\", \"air\", \"bates\", \"london\", \"basin\", \"inquiry\", \"sir\", \"season\", \"little\", \"good\", \"recommended\", \"emma\", \"poor\", \"ah\", \"bad\", \"general\", \"suppose\", \"thing\", \"known\", \"end\", \"hope\", \"long\", \"oh\", \"hawkins\", \"precise\", \"worlds\", \"bars\", \"healed\", \"tune\", \"joyfully\", \"regards\", \"deaf\", \"restoring\", \"cherishing\", \"exulting\", \"feebly\", \"desires\", \"bathing\", \"washing\", \"random\", \"standard\", \"medium\", \"starting\", \"patty\", \"campbell\", \"appeal\", \"talks\", \"roast\", \"ye\", \"vicarage\", \"casement\", \"news\", \"conjecture\", \"says\", \"bates\", \"played\", \"miss\", \"mother\", \"cole\", \"smile\", \"hear\", \"fairfax\", \"knightley\", \"colonel\", \"little\", \"jane\", \"emma\"], \"Freq\": [1507.0, 1720.0, 885.0, 582.0, 1332.0, 1355.0, 795.0, 612.0, 443.0, 675.0, 1430.0, 913.0, 535.0, 658.0, 1145.0, 631.0, 1315.0, 594.0, 558.0, 402.0, 1310.0, 900.0, 390.0, 394.0, 942.0, 830.0, 289.0, 320.0, 594.0, 921.0, 27.723424911499023, 16.12872314453125, 10.084966659545898, 17.544822692871094, 15.139505386352539, 9.045794486999512, 8.120036125183105, 9.929896354675293, 56.071815490722656, 9.876008987426758, 11.687439918518066, 7.110993385314941, 8.011469841003418, 7.074852466583252, 7.054059028625488, 7.068129539489746, 7.065261363983154, 7.050849437713623, 7.028985023498535, 6.1362786293029785, 7.007550239562988, 7.006972312927246, 7.004996299743652, 6.9933037757873535, 6.092360019683838, 6.087611675262451, 6.086053848266602, 15.903779983520508, 6.070653438568115, 6.079346656799316, 12.307926177978516, 21.06840705871582, 31.302978515625, 36.33412170410156, 13.096447944641113, 33.12867736816406, 42.62677764892578, 13.03602123260498, 44.831565856933594, 24.358333587646484, 15.39426326751709, 11.038814544677734, 50.116981506347656, 283.4111022949219, 121.88863372802734, 22.951051712036133, 57.525272369384766, 29.781877517700195, 57.65263748168945, 75.90281677246094, 38.480926513671875, 65.28703308105469, 146.05072021484375, 32.55845260620117, 140.41510009765625, 73.9076919555664, 45.7828369140625, 24.16752815246582, 45.014713287353516, 101.87303924560547, 125.64200592041016, 258.6720886230469, 286.247802734375, 74.65036010742188, 177.11476135253906, 163.03591918945312, 122.58650970458984, 62.95241165161133, 131.72207641601562, 98.9395751953125, 417.4808349609375, 140.37510681152344, 94.293212890625, 100.23677825927734, 69.71598052978516, 204.21751403808594, 198.50502014160156, 248.5777587890625, 256.5533447265625, 369.3682556152344, 272.02569580078125, 202.23696899414062, 211.57301330566406, 159.69473266601562, 131.87832641601562, 157.45846557617188, 184.24342346191406, 189.43174743652344, 220.29681396484375, 197.06622314453125, 151.4469451904297, 220.7268829345703, 221.2512969970703, 164.2439727783203, 202.50860595703125, 149.38185119628906, 147.36659240722656, 150.19894409179688, 147.22119140625, 168.87472534179688, 303.4532775878906, 160.55303955078125, 66.16123962402344, 68.8051528930664, 82.76806640625, 53.86552047729492, 181.56301879882812, 36.90889358520508, 90.5918960571289, 120.68212890625, 45.92060089111328, 36.66932678222656, 594.2327880859375, 29.287124633789062, 30.1838321685791, 38.40489959716797, 380.7031555175781, 23.653059005737305, 86.64170837402344, 67.76253509521484, 22.409372329711914, 274.6448059082031, 13.282050132751465, 11.341586112976074, 10.439047813415527, 13.067231178283691, 9.5079927444458, 9.48584270477295, 39.32339096069336, 21.5246639251709, 23.382427215576172, 31.7611141204834, 42.02183151245117, 22.541439056396484, 40.974586486816406, 82.31914520263672, 538.4066772460938, 122.95392608642578, 490.7554016113281, 175.015625, 200.71453857421875, 217.8074493408203, 215.30340576171875, 279.557861328125, 349.9059143066406, 164.86329650878906, 147.97706604003906, 308.90826416015625, 83.2948226928711, 180.1559600830078, 233.98602294921875, 289.0022888183594, 227.9624481201172, 189.23342895507812, 254.33900451660156, 273.32257080078125, 181.38681030273438, 165.16639709472656, 192.1350860595703, 180.32249450683594, 157.66845703125, 154.84864807128906, 156.04856872558594, 20.894926071166992, 12.738204002380371, 107.45188903808594, 8.970373153686523, 8.00303840637207, 7.9940009117126465, 8.894819259643555, 37.757896423339844, 6.987914562225342, 6.945446968078613, 14.979236602783203, 7.812599182128906, 7.816263198852539, 6.035437107086182, 6.909451961517334, 6.03181266784668, 6.912271022796631, 6.0248942375183105, 6.011600494384766, 6.0121893882751465, 5.992648124694824, 5.983895301818848, 5.994873523712158, 5.97762393951416, 14.845186233520508, 6.843479633331299, 7.715791702270508, 5.958163261413574, 6.8298563957214355, 8.551475524902344, 26.374683380126953, 48.62687683105469, 59.638214111328125, 116.07000732421875, 42.97316360473633, 11.751822471618652, 12.888514518737793, 7.6499481201171875, 134.4141845703125, 7.578988552093506, 75.10467529296875, 17.623178482055664, 32.54071044921875, 23.269821166992188, 143.49481201171875, 25.48381996154785, 30.073026657104492, 17.55958366394043, 103.35391998291016, 73.88877868652344, 13.199060440063477, 16.210189819335938, 63.33759689331055, 59.31841278076172, 95.8267822265625, 50.267845153808594, 55.68671417236328, 61.690494537353516, 169.74928283691406, 142.207763671875, 47.808441162109375, 102.26946258544922, 115.263671875, 249.27023315429688, 146.80172729492188, 114.45638275146484, 103.75621795654297, 85.97667694091797, 277.3555908203125, 152.5917510986328, 198.87240600585938, 106.15410614013672, 144.06393432617188, 166.38612365722656, 197.5292510986328, 134.52479553222656, 132.72830200195312, 130.45362854003906, 141.34683227539062, 115.49600219726562, 128.70965576171875, 156.68663024902344, 173.75233459472656, 138.96092224121094, 154.87478637695312, 135.45228576660156, 122.2603988647461, 112.91783905029297, 119.9598388671875, 118.41302490234375, 116.53170013427734, 126.58729553222656, 655.1608276367188, 46.42797088623047, 29.08943748474121, 535.961669921875, 34.352664947509766, 134.5786590576172, 15.563385009765625, 200.86045837402344, 35.780216217041016, 232.4249267578125, 17.84999656677246, 208.3504638671875, 7.8784284591674805, 48.348419189453125, 6.908615589141846, 279.6575622558594, 5.922327518463135, 23.43067741394043, 6.774316310882568, 26.63536834716797, 5.860604286193848, 5.84395170211792, 15.359749794006348, 4.948617458343506, 4.92763614654541, 8.352921485900879, 5.748605728149414, 5.709716796875, 9.931760787963867, 75.00361633300781, 9.146987915039062, 13.226426124572754, 7.423977851867676, 79.10625457763672, 189.27455139160156, 332.770751953125, 21.144542694091797, 73.39563751220703, 204.48341369628906, 25.812522888183594, 282.3816223144531, 44.543033599853516, 46.8394889831543, 106.77667999267578, 68.37767791748047, 51.54777526855469, 63.43333435058594, 101.06599426269531, 265.802001953125, 275.75091552734375, 87.32413482666016, 158.30975341796875, 241.2497100830078, 158.721923828125, 176.53370666503906, 191.34182739257812, 106.6405029296875, 142.11538696289062, 145.58038330078125, 109.41790008544922, 130.59002685546875, 155.49876403808594, 149.3583984375, 178.69090270996094, 131.93309020996094, 179.00607299804688, 146.53118896484375, 166.5025634765625, 139.35997009277344, 134.2322235107422, 68.08975982666016, 13.502920150756836, 48.31355285644531, 47.26945495605469, 30.411733627319336, 367.64312744140625, 151.08457946777344, 11.385972023010254, 7.32775354385376, 55.210418701171875, 7.178432464599609, 81.5105209350586, 9.39324951171875, 274.6539611816406, 11.982439994812012, 74.48248291015625, 27.78708267211914, 4.9142961502075195, 722.1375732421875, 13.627079963684082, 7.70530891418457, 9.410422325134277, 59.1376953125, 24.797863006591797, 335.2090148925781, 403.7109069824219, 289.3951721191406, 8.16508960723877, 4.212029933929443, 28.45598030090332, 160.5099639892578, 80.96261596679688, 84.96080017089844, 153.2632293701172, 168.80709838867188, 88.42684173583984, 346.608642578125, 38.59210205078125, 23.65673065185547, 373.0674743652344, 136.68157958984375, 223.2573699951172, 94.54107666015625, 164.2703857421875, 278.9750061035156, 147.72154235839844, 263.8951721191406, 254.3367156982422, 220.022216796875, 223.3802947998047, 143.13587951660156, 143.24464416503906, 161.32960510253906, 132.8951873779297, 140.38760375976562, 161.38685607910156, 163.4241485595703, 127.25886535644531, 144.471923828125, 156.411865234375, 140.2257537841797, 58.492950439453125, 5.624761581420898, 61.329402923583984, 4.5961432456970215, 8.423333168029785, 23.415796279907227, 15.892573356628418, 10.373342514038086, 8.931486129760742, 3.7538065910339355, 4.487217903137207, 7.900787353515625, 4.539816856384277, 4.520834445953369, 9.18209457397461, 36.49373245239258, 3.7396998405456543, 5.12624979019165, 4.455108642578125, 3.7921955585479736, 4.4704084396362305, 4.454839706420898, 3.716860055923462, 5.565134048461914, 3.622140407562256, 3.5951473712921143, 5.630529880523682, 3.522315740585327, 4.071497440338135, 3.514544725418091, 4.625507354736328, 28.914817810058594, 8.986323356628418, 10.599959373474121, 49.782466888427734, 9.928580284118652, 12.706363677978516, 10.288808822631836, 6.890234470367432, 36.39600372314453, 49.148834228515625, 8.092592239379883, 29.976642608642578, 29.473867416381836, 27.990007400512695, 18.092504501342773, 12.606030464172363, 55.69569778442383, 23.854476928710938, 143.18861389160156, 27.03966522216797, 21.05964469909668, 132.65724182128906, 36.655609130859375, 34.25456237792969, 68.42991638183594, 52.5998649597168, 96.90644836425781, 74.05921936035156, 61.70696258544922, 70.81729125976562, 77.15665435791016, 41.36399841308594, 77.7785415649414, 58.255191802978516, 53.200172424316406, 47.97290802001953, 69.52833557128906, 67.99483489990234, 41.63601303100586, 45.80779266357422, 48.71138381958008, 51.378501892089844, 48.26062774658203, 56.96573257446289, 47.638614654541016, 48.84393310546875, 42.384613037109375, 42.603431701660156, 42.968231201171875, 42.495765686035156, 7.257670879364014, 11.86512279510498, 6.159945011138916, 4.329689025878906, 5.602887153625488, 5.576744079589844, 4.735300064086914, 4.71167516708374, 8.123358726501465, 4.653134822845459, 8.488860130310059, 4.580296039581299, 4.514735698699951, 3.774674892425537, 4.297788619995117, 4.804839611053467, 3.602517604827881, 4.813093662261963, 4.139596462249756, 17.615219116210938, 14.403103828430176, 16.82826042175293, 6.253935813903809, 4.475471019744873, 4.497630596160889, 3.3368642330169678, 3.813974618911743, 16.6767520904541, 3.2532153129577637, 7.727656841278076, 11.216480255126953, 20.577699661254883, 43.95719528198242, 63.99607467651367, 7.014582633972168, 134.87237548828125, 17.826932907104492, 26.399648666381836, 19.681705474853516, 18.22359275817871, 16.074569702148438, 28.093080520629883, 10.111075401306152, 74.5069351196289, 29.992752075195312, 35.333160400390625, 35.703121185302734, 23.071714401245117, 33.389923095703125, 33.05833053588867, 35.23967361450195, 25.875244140625, 18.852359771728516, 42.08279037475586, 82.84371948242188, 60.5468635559082, 25.733854293823242, 76.75749969482422, 91.1646499633789, 79.33615112304688, 74.94786071777344, 50.019813537597656, 48.6084098815918, 60.93877410888672, 41.12730407714844, 40.59081268310547, 44.89056396484375, 50.33799362182617, 44.85637664794922, 37.015865325927734, 41.719444274902344, 43.325660705566406, 37.46920394897461, 40.25558090209961, 37.6949348449707, 36.30696487426758, 34.382080078125, 12.080507278442383, 69.86298370361328, 7.402879238128662, 20.999008178710938, 105.32185363769531, 15.865653038024902, 8.940058708190918, 5.582029342651367, 8.522574424743652, 81.61988067626953, 9.839858055114746, 109.04190826416016, 8.362688064575195, 4.601014137268066, 13.916603088378906, 2.797100067138672, 3.696528673171997, 8.53408145904541, 22.003585815429688, 3.4817354679107666, 2.8836121559143066, 2.84932541847229, 4.6843719482421875, 28.922016143798828, 3.24920392036438, 34.52154541015625, 2.9635374546051025, 3.71730899810791, 97.31734466552734, 3.2807576656341553, 95.24789428710938, 32.59650421142578, 4.50961971282959, 15.671345710754395, 70.88654327392578, 18.92959976196289, 108.54572296142578, 13.804494857788086, 16.984386444091797, 127.038818359375, 116.94882202148438, 75.16209411621094, 92.6443099975586, 85.48475646972656, 40.402549743652344, 31.387775421142578, 59.22490692138672, 39.25282287597656, 42.351837158203125, 53.840614318847656, 36.30171203613281, 32.88201141357422, 41.06077575683594, 37.06881332397461, 45.619354248046875, 39.200157165527344, 38.03634262084961, 37.66218185424805, 35.591636657714844, 35.79966354370117, 34.23884963989258, 3.1823222637176514, 9.404919624328613, 2.187464952468872, 1.7863397598266602, 2.369107484817505, 2.395089864730835, 2.0849533081054688, 1.620323657989502, 1.53737211227417, 1.724525809288025, 1.6196447610855103, 1.6271671056747437, 2.1890764236450195, 1.5997029542922974, 2.3606650829315186, 2.301985025405884, 1.475223183631897, 1.6182726621627808, 1.6092472076416016, 3.961670160293579, 1.6116783618927002, 1.594468116760254, 1.2978483438491821, 1.2957978248596191, 1.6217882633209229, 1.6130551099777222, 1.5899016857147217, 1.6225690841674805, 2.49361252784729, 1.9208687543869019, 10.522418975830078, 4.258302688598633, 2.1408307552337646, 2.8268418312072754, 11.798283576965332, 3.1811342239379883, 3.5311551094055176, 7.502098560333252, 9.53562068939209, 4.8747053146362305, 6.820903778076172, 2.3964805603027344, 7.307699680328369, 5.690396785736084, 21.288759231567383, 21.791528701782227, 15.461567878723145, 6.582019805908203, 7.240702152252197, 12.823091506958008, 14.386277198791504, 7.492594242095947, 10.693171501159668, 10.172147750854492, 10.903521537780762, 8.469290733337402, 7.265781879425049, 11.396438598632812, 7.898329734802246, 5.0496506690979, 6.664820671081543, 7.875627040863037, 9.013725280761719, 10.367060661315918, 9.1588773727417, 8.246600151062012, 7.355544090270996, 7.97515344619751, 7.253314971923828, 6.947603702545166, 6.979196071624756, 1.6044381856918335, 1.608033537864685, 1.6097229719161987, 1.6093254089355469, 1.6089709997177124, 4.710395336151123, 1.6080354452133179, 1.6118524074554443, 3.1700656414031982, 1.5676226615905762, 2.3838083744049072, 5.467107772827148, 1.6074438095092773, 0.8304433226585388, 0.8321229219436646, 1.6103564500808716, 0.8312975168228149, 0.831726610660553, 0.830484926700592, 1.6117268800735474, 0.8247689604759216, 0.8274700045585632, 0.8312036991119385, 0.8309053182601929, 0.8268923759460449, 0.817108154296875, 0.8320770859718323, 0.8314246535301208, 0.8291794657707214, 0.8290947675704956, 2.3829102516174316, 6.28098201751709, 7.015169143676758, 10.192663192749023, 3.9009697437286377, 1.6116315126419067, 6.439300060272217, 3.170790910720825, 4.730541706085205, 8.126004219055176, 4.730208873748779, 1.6077399253845215, 3.172374963760376, 2.3849008083343506, 3.9396283626556396, 11.950826644897461, 28.646343231201172, 8.667428970336914, 4.726572513580322, 3.9549179077148438, 8.636609077453613, 7.210851669311523, 8.223088264465332, 9.142292022705078, 8.12358283996582, 4.774416923522949, 5.052163124084473, 5.578306674957275, 7.112232685089111, 7.247660160064697, 8.568791389465332, 5.853610992431641, 7.438597679138184, 8.066217422485352, 8.012465476989746, 8.387513160705566, 6.36359977722168, 6.733910083770752, 6.8157525062561035, 6.549470901489258, 6.629026412963867, 6.463898181915283, 5.535003185272217, 5.773072242736816, 5.784172058105469, 5.7424092292785645, 4.015255451202393, 2.9821770191192627, 4.114785194396973, 2.275678873062134, 3.0551345348358154, 1.4165337085723877, 1.5252078771591187, 7.11992883682251, 1.4423726797103882, 2.031017303466797, 1.2547155618667603, 3.7232863903045654, 7.1626458168029785, 1.4973739385604858, 1.715915322303772, 2.244356155395508, 5.961246967315674, 1.5171546936035156, 1.5149136781692505, 0.7748153805732727, 0.7855151891708374, 0.7839785814285278, 0.802594006061554, 0.7865934371948242, 0.7863091230392456, 0.7830668687820435, 1.52279794216156, 0.7826426029205322, 0.7831348776817322, 0.7795150279998779, 3.0362296104431152, 20.699670791625977, 1.681073546409607, 2.3807029724121094, 1.8686412572860718, 16.3339786529541, 2.266889810562134, 23.514381408691406, 2.7284770011901855, 2.259840965270996, 3.394010066986084, 12.43344783782959, 5.628172874450684, 11.698040962219238, 5.202375411987305, 6.296369552612305, 3.0054564476013184, 9.536401748657227, 15.511764526367188, 5.484861373901367, 7.190609455108643, 10.962775230407715, 7.889346599578857, 11.061665534973145, 10.77660846710205, 6.199164390563965, 7.957713603973389, 9.707554817199707, 9.520051002502441, 9.624151229858398, 5.745678424835205, 8.48303508758545, 8.948136329650879, 7.415652275085449, 6.421464443206787, 6.501886367797852, 7.026538848876953, 6.202712535858154, 5.754347324371338, 1.2806124687194824, 1.2751808166503906, 1.2806810140609741, 1.2769606113433838, 1.2765347957611084, 1.9065089225769043, 1.8771268129348755, 5.261684417724609, 1.8690608739852905, 1.9019416570663452, 1.9040162563323975, 0.6611602902412415, 0.6593762040138245, 1.2804075479507446, 0.6621325016021729, 0.6592941284179688, 0.6607156991958618, 0.6295066475868225, 0.6566245555877686, 0.6577075123786926, 0.6606218218803406, 0.6617258191108704, 0.6591013073921204, 0.6595671772956848, 0.660302460193634, 0.6606960892677307, 0.6557943820953369, 1.280316948890686, 0.672629177570343, 1.8856422901153564, 1.2853809595108032, 2.369828701019287, 1.2835009098052979, 1.282965064048767, 1.2845191955566406, 1.2787331342697144, 1.2840731143951416, 1.2813911437988281, 3.800936460494995, 1.9015226364135742, 1.287289023399353, 2.6556997299194336, 1.2824211120605469, 1.9009912014007568, 6.944653034210205, 4.850484371185303, 4.6273884773254395, 5.152482986450195, 5.683836936950684, 2.534712553024292, 3.0302820205688477, 3.259157180786133, 3.6640563011169434, 2.59078049659729, 1.8425195217132568, 2.1240718364715576, 1.817754864692688, 2.39497709274292, 2.414513349533081, 1.937849521636963, 1.7679500579833984, 1.9297436475753784, 2.1077866554260254, 1.9838873147964478, 2.087689161300659, 2.0370192527770996, 1.9930729866027832, 2.086743116378784, 2.065648317337036, 1.9814382791519165, 1.9535937309265137, 0.9418137073516846, 1.7501729726791382, 0.7939323782920837, 0.8304939866065979, 0.8423974514007568, 0.4880051910877228, 0.488697350025177, 0.4870450496673584, 0.4835939109325409, 0.48775508999824524, 0.7348359227180481, 0.48791781067848206, 0.4850628972053528, 0.4878224730491638, 0.48691755533218384, 0.48808327317237854, 0.4234253764152527, 0.9452652931213379, 0.4812292754650116, 0.9089544415473938, 0.413566917181015, 0.48734334111213684, 0.4840003550052643, 0.487495094537735, 0.7844277024269104, 0.40649864077568054, 0.4882369041442871, 0.48843351006507874, 0.4877781867980957, 0.4881042540073395, 0.8965736627578735, 3.7233870029449463, 0.6874127388000488, 0.9475789666175842, 0.9467030763626099, 0.8825899958610535, 0.9478824734687805, 0.9478396773338318, 0.9486581683158875, 0.949142336845398, 0.9560778737068176, 1.2858071327209473, 0.9504159092903137, 0.6960389018058777, 1.4177484512329102, 1.4774912595748901, 0.7285877466201782, 2.153554916381836, 1.904665231704712, 1.425147533416748, 0.9535534381866455, 1.095396876335144, 1.563740611076355, 1.4836106300354004, 1.469786286354065, 1.6711357831954956, 1.0770303010940552, 1.080098032951355, 1.0793988704681396, 1.1963287591934204, 1.040656328201294, 1.0183730125427246, 1.0412635803222656, 0.9713278412818909, 0.9620293378829956, 0.9651982188224792, 0.9543027877807617, 0.951826274394989, 0.9509657621383667, 3.012326717376709, 1.7577522993087769, 0.9190115332603455, 0.9151994585990906, 0.4731975495815277, 0.4754506051540375, 1.3612881898880005, 0.4725923240184784, 2.6854336261749268, 0.47290289402008057, 0.47439780831336975, 0.47259995341300964, 0.47229528427124023, 0.4744659960269928, 0.4749365448951721, 0.47286030650138855, 0.47356346249580383, 4.1674065589904785, 0.47106635570526123, 0.475300133228302, 0.47399723529815674, 4.270065784454346, 0.6098105907440186, 0.473139226436615, 0.47499656677246094, 0.47398248314857483, 1.3555235862731934, 0.47614094614982605, 0.4720273017883301, 0.47595295310020447, 1.1742277145385742, 0.979416012763977, 7.17985200881958, 3.236111879348755, 1.4999504089355469, 2.7890689373016357, 1.8396291732788086, 1.9131009578704834, 0.7685834169387817, 1.118704915046692, 2.6720027923583984, 0.9178271293640137, 3.6744210720062256, 3.050881862640381, 0.9171277284622192, 2.417029857635498, 1.8578568696975708, 1.308146595954895, 1.371672511100769, 1.4736651182174683, 1.5772390365600586, 1.9552942514419556, 1.382002830505371, 1.3242610692977905, 1.5141774415969849, 1.5601407289505005, 1.447047472000122, 1.0571526288986206, 0.34196871519088745, 0.34079688787460327, 0.17320773005485535, 0.1694040298461914, 0.17605701088905334, 0.1696852445602417, 0.16251572966575623, 0.33047768473625183, 0.13870616257190704, 0.17016896605491638, 0.14546164870262146, 0.16300109028816223, 0.17629894614219666, 0.12578865885734558, 0.1755036562681198, 0.1435811072587967, 0.1765037626028061, 0.177402064204216, 0.1568448692560196, 0.15007063746452332, 0.5089290142059326, 0.16237768530845642, 0.16922523081302643, 0.08971743285655975, 0.26306620240211487, 0.14568468928337097, 0.1769259124994278, 0.7145500183105469, 0.2240627557039261, 0.5201687216758728, 0.44150200486183167, 0.22074685990810394, 0.6455420851707458, 0.3861882984638214, 0.21938176453113556, 0.3002682328224182, 0.2682291269302368, 0.25202637910842896, 0.2346487194299698, 0.2251846343278885, 0.25353607535362244, 0.23780156672000885, 0.18884122371673584], \"Total\": [1507.0, 1720.0, 885.0, 582.0, 1332.0, 1355.0, 795.0, 612.0, 443.0, 675.0, 1430.0, 913.0, 535.0, 658.0, 1145.0, 631.0, 1315.0, 594.0, 558.0, 402.0, 1310.0, 900.0, 390.0, 394.0, 942.0, 830.0, 289.0, 320.0, 594.0, 921.0, 29.218238830566406, 17.039966583251953, 10.939295768737793, 19.05579376220703, 16.47823715209961, 9.91885757446289, 8.911067008972168, 10.937481880187988, 61.98036575317383, 10.92419147491455, 12.939960479736328, 7.8854660987854, 8.89345645904541, 7.889440059661865, 7.870947360992432, 7.8897480964660645, 7.888374328613281, 7.888618469238281, 7.879438877105713, 6.88139009475708, 7.872469425201416, 7.881206512451172, 7.880648136138916, 7.883899688720703, 6.872395992279053, 6.869062423706055, 6.878747940063477, 17.97744369506836, 6.864970684051514, 6.878148555755615, 13.93148136138916, 24.052330017089844, 36.08202362060547, 42.16552734375, 14.93200969696045, 39.05315017700195, 51.38277053833008, 14.991471290588379, 55.208229064941406, 29.140819549560547, 18.026174545288086, 12.69812297821045, 64.14138793945312, 416.0116271972656, 168.0167236328125, 27.927827835083008, 75.54875946044922, 36.97313690185547, 77.9675521850586, 106.88674926757812, 50.76696014404297, 93.96768951416016, 238.11973571777344, 43.2078857421875, 236.85011291503906, 113.49141693115234, 65.16580963134766, 30.762115478515625, 65.28939056396484, 174.7467498779297, 226.2223358154297, 546.2496337890625, 630.682861328125, 121.03302764892578, 358.134765625, 329.10992431640625, 229.6252899169922, 98.3879165649414, 256.75360107421875, 185.38644409179688, 1332.2545166015625, 310.669189453125, 179.03404235839844, 197.16799926757812, 118.30933380126953, 640.7048950195312, 619.9794921875, 890.92236328125, 942.6679077148438, 1720.167236328125, 1145.9637451171875, 702.1097412109375, 778.751708984375, 487.64337158203125, 356.5009765625, 501.9029235839844, 692.5238037109375, 761.3785400390625, 1060.7850341796875, 838.9443359375, 496.9854736328125, 1315.916259765625, 1355.073974609375, 622.1698608398438, 1430.1473388671875, 550.3916015625, 583.9517211914062, 692.0734252929688, 656.0563354492188, 170.81747436523438, 307.3638916015625, 163.15260314941406, 67.27088165283203, 70.13658905029297, 84.37177276611328, 54.917015075683594, 185.11256408691406, 37.83671188354492, 92.9781494140625, 124.35132598876953, 47.3360710144043, 37.81990051269531, 612.9086303710938, 30.225942611694336, 31.186954498291016, 39.73036193847656, 394.3883972167969, 24.536487579345703, 90.61766815185547, 71.032958984375, 23.54733657836914, 289.0171813964844, 14.082432746887207, 12.175731658935547, 11.232048034667969, 14.087563514709473, 10.280858993530273, 10.283031463623047, 42.64225387573242, 23.43407440185547, 25.505638122558594, 35.06153869628906, 47.23883056640625, 25.541059494018555, 49.68971252441406, 109.30162048339844, 913.3943481445312, 174.9491424560547, 1507.31298828125, 375.45159912109375, 511.48248291015625, 582.1837768554688, 614.0896606445312, 919.4879150390625, 1430.1473388671875, 436.94073486328125, 371.71575927734375, 1310.17822265625, 149.98681640625, 576.886474609375, 921.1527709960938, 1355.073974609375, 900.0565185546875, 663.8438720703125, 1315.916259765625, 1720.167236328125, 830.2116088867188, 658.8948364257812, 1060.7850341796875, 890.92236328125, 615.2989501953125, 558.617919921875, 1145.9637451171875, 21.838571548461914, 13.815461158752441, 117.18832397460938, 9.799234390258789, 8.80038833618164, 8.803009033203125, 9.797258377075195, 41.991336822509766, 7.793899059295654, 7.788428783416748, 16.842737197875977, 8.78955078125, 8.798460960388184, 6.795033931732178, 7.782774925231934, 6.795276165008545, 7.789603233337402, 6.795166969299316, 6.785470962524414, 6.795892238616943, 6.775636196136475, 6.776951313018799, 6.791266441345215, 6.783140182495117, 16.8482723236084, 7.783803462982178, 8.78170108795166, 6.788206100463867, 7.782556056976318, 9.801691055297852, 30.681310653686523, 58.41600799560547, 74.00285339355469, 148.76715087890625, 53.58857345581055, 13.817743301391602, 15.251578330993652, 8.772334098815918, 193.7509765625, 8.715800285339355, 111.43352508544922, 22.72574806213379, 46.37467575073242, 32.34758758544922, 275.4767150878906, 36.79987716674805, 45.24473190307617, 23.84520149230957, 229.76724243164062, 156.31765747070312, 17.287992477416992, 22.685041427612305, 137.24630737304688, 128.11386108398438, 245.97447204589844, 103.88854217529297, 119.72479248046875, 145.81533813476562, 619.9794921875, 501.9029235839844, 102.5694351196289, 316.18365478515625, 398.4774475097656, 1332.2545166015625, 583.9517211914062, 398.49896240234375, 343.2998046875, 255.7698516845703, 1720.167236328125, 656.0563354492188, 1145.9637451171875, 397.43084716796875, 702.1097412109375, 942.6679077148438, 1315.916259765625, 645.3533325195312, 631.1640014648438, 630.682861328125, 761.3785400390625, 498.8166198730469, 640.7048950195312, 1060.7850341796875, 1430.1473388671875, 838.9443359375, 1355.073974609375, 921.1527709960938, 668.4219360351562, 542.7648315429688, 778.751708984375, 890.92236328125, 1310.17822265625, 128.62110900878906, 675.0624389648438, 47.99882125854492, 30.28400421142578, 558.340576171875, 36.226314544677734, 142.7336883544922, 16.515226364135742, 213.78260803222656, 38.18095016479492, 249.4604949951172, 19.507003784179688, 227.95675659179688, 8.646337509155273, 53.10496520996094, 7.659918308258057, 313.9676208496094, 6.681057453155518, 26.466524124145508, 7.654573917388916, 30.33978843688965, 6.682748317718506, 6.676750659942627, 17.580402374267578, 5.695023536682129, 5.680567741394043, 9.63862133026123, 6.668014049530029, 6.629959583282471, 11.541990280151367, 89.04996490478516, 10.65485668182373, 15.603863716125488, 8.672895431518555, 102.33221435546875, 300.7801818847656, 576.886474609375, 27.666610717773438, 114.8108901977539, 374.466552734375, 36.79838943481445, 658.8948364257812, 79.29933166503906, 85.36959838867188, 260.4835205078125, 142.964111328125, 97.9756851196289, 135.2831268310547, 282.11688232421875, 1315.916259765625, 1430.1473388671875, 235.98330688476562, 631.1640014648438, 1310.17822265625, 656.0563354492188, 795.998046875, 919.4879150390625, 346.4422607421875, 615.2989501953125, 668.4219360351562, 381.1256408691406, 575.2291870117188, 900.0565185546875, 830.2116088867188, 1355.073974609375, 614.0896606445312, 1507.31298828125, 1060.7850341796875, 1720.167236328125, 921.1527709960938, 1145.9637451171875, 71.06460571289062, 14.395800590515137, 52.370601654052734, 51.26784133911133, 33.07884979248047, 402.49761962890625, 166.86349487304688, 12.591019630432129, 8.113903999328613, 61.97299575805664, 8.096697807312012, 93.36351013183594, 10.94554615020752, 320.9432067871094, 14.245341300964355, 88.60302734375, 33.50224685668945, 5.967287540435791, 885.744384765625, 17.32014274597168, 9.840669631958008, 12.098346710205078, 77.220947265625, 32.4001579284668, 443.48504638671875, 535.7296752929688, 390.4412536621094, 11.02257251739502, 5.708967685699463, 38.59264373779297, 222.73052978515625, 117.55065155029297, 125.83586120605469, 238.2892608642578, 282.63214111328125, 147.39093017578125, 795.998046875, 61.31947708129883, 35.51420974731445, 1507.31298828125, 393.18798828125, 830.2116088867188, 255.0172882080078, 582.1837768554688, 1355.073974609375, 511.48248291015625, 1310.17822265625, 1720.167236328125, 1315.916259765625, 1430.1473388671875, 615.2989501953125, 631.1640014648438, 838.9443359375, 558.617919921875, 663.8438720703125, 1060.7850341796875, 1145.9637451171875, 497.3430480957031, 900.0565185546875, 1332.2545166015625, 919.4879150390625, 60.012115478515625, 6.414469242095947, 71.83013916015625, 5.484097480773926, 10.192502975463867, 29.765182495117188, 21.46152687072754, 14.043408393859863, 12.177834510803223, 5.320713996887207, 6.399468898773193, 11.28074836730957, 6.484646797180176, 6.480852127075195, 13.210837364196777, 52.91566848754883, 5.436641216278076, 7.4539995193481445, 6.4868340492248535, 5.529373645782471, 6.539324760437012, 6.528049945831299, 5.55186128616333, 8.363519668579102, 5.458910942077637, 5.563899040222168, 8.761375427246094, 5.557844161987305, 6.430501937866211, 5.556661605834961, 7.399065017700195, 52.59902572631836, 15.149847030639648, 18.15740966796875, 98.73190307617188, 17.014198303222656, 24.028953552246094, 18.759475708007812, 12.11064338684082, 110.90274047851562, 181.8739471435547, 15.096468925476074, 107.78522491455078, 106.43316650390625, 99.02289581298828, 51.61954879760742, 30.630966186523438, 304.674560546875, 84.68177032470703, 1507.31298828125, 105.45816802978516, 73.00261688232422, 1720.167236328125, 187.90113830566406, 173.19970703125, 640.7048950195312, 398.49896240234375, 1332.2545166015625, 890.92236328125, 619.9794921875, 900.0565185546875, 1145.9637451171875, 316.18365478515625, 1310.17822265625, 702.1097412109375, 592.3170166015625, 501.9029235839844, 1355.073974609375, 1430.1473388671875, 356.5009765625, 498.8166198730469, 645.3533325195312, 838.9443359375, 656.0563354492188, 1315.916259765625, 668.4219360351562, 1060.7850341796875, 460.8338623046875, 614.0896606445312, 778.751708984375, 942.6679077148438, 8.35405445098877, 14.114072799682617, 7.407471179962158, 5.49877405166626, 7.244475364685059, 7.400331974029541, 6.445026397705078, 6.449343204498291, 11.259075164794922, 6.486989498138428, 11.969179153442383, 6.500036716461182, 6.516540050506592, 5.578296661376953, 6.47540807723999, 7.445522308349609, 5.586373329162598, 7.51814603805542, 6.4682745933532715, 27.67919158935547, 22.902029037475586, 27.94403839111328, 10.456186294555664, 7.49110746383667, 7.540895462036133, 5.599879264831543, 6.496042728424072, 28.503742218017578, 5.6046462059021, 13.376561164855957, 19.49892234802246, 37.247314453125, 83.96923828125, 134.4224395751953, 12.222050666809082, 358.134765625, 35.61966323852539, 59.16404342651367, 42.18693161010742, 38.55264663696289, 33.99067687988281, 69.99501037597656, 19.176231384277344, 275.4767150878906, 84.68177032470703, 107.58126068115234, 116.01362609863281, 62.487586975097656, 107.78522491455078, 106.43316650390625, 117.19485473632812, 77.2141342163086, 49.499000549316406, 181.8739471435547, 594.7706909179688, 416.0116271972656, 99.95891571044922, 1060.7850341796875, 1720.167236328125, 1355.073974609375, 1332.2545166015625, 630.682861328125, 594.3369750976562, 1145.9637451171875, 592.3170166015625, 640.7048950195312, 921.1527709960938, 1430.1473388671875, 942.6679077148438, 501.9029235839844, 913.3943481445312, 1310.17822265625, 645.3533325195312, 1315.916259765625, 900.0565185546875, 692.5238037109375, 550.3916015625, 13.06310749053955, 76.61370086669922, 8.349815368652344, 24.591814041137695, 125.36459350585938, 19.77899742126465, 11.479151725769043, 7.37949275970459, 12.105944633483887, 120.58797454833984, 15.173528671264648, 170.48875427246094, 13.480619430541992, 7.481109142303467, 23.113956451416016, 4.824812412261963, 6.428482532501221, 15.126349449157715, 40.95867919921875, 6.603458404541016, 5.584949970245361, 5.55302619934082, 9.489476203918457, 58.72856140136719, 6.601772785186768, 73.36919403076172, 6.615129470825195, 8.419271469116211, 220.95652770996094, 7.455960273742676, 238.98939514160156, 83.04753112792969, 10.454052925109863, 44.607513427734375, 293.5565490722656, 58.25743103027344, 535.7296752929688, 48.21100997924805, 68.01646423339844, 1507.31298828125, 1720.167236328125, 921.1527709960938, 1332.2545166015625, 1310.17822265625, 374.466552734375, 236.85011291503906, 1145.9637451171875, 497.3430480957031, 645.3533325195312, 1355.073974609375, 511.48248291015625, 398.49896240234375, 795.998046875, 594.7706909179688, 1430.1473388671875, 942.6679077148438, 919.4879150390625, 913.3943481445312, 692.0734252929688, 838.9443359375, 566.5552978515625, 5.9258036613464355, 22.089397430419922, 6.108642101287842, 5.3049845695495605, 7.83842658996582, 8.172478675842285, 7.12619686126709, 5.632070064544678, 5.394114017486572, 6.334483623504639, 6.117566108703613, 6.376439571380615, 8.87963581085205, 6.881232261657715, 10.17126750946045, 9.994647979736328, 6.4202117919921875, 7.164881229400635, 7.1324286460876465, 18.137622833251953, 7.560078144073486, 7.609436988830566, 6.320894718170166, 6.36942195892334, 8.14251708984375, 8.133039474487305, 8.030136108398438, 8.41207504272461, 13.007580757141113, 10.133526802062988, 74.00285339355469, 27.183513641357422, 11.963125228881836, 17.99859046936035, 135.2831268310547, 22.685041427612305, 26.902353286743164, 97.9756851196289, 179.9993896484375, 58.41600799560547, 117.18832397460938, 15.530848503112793, 148.76715087890625, 89.82264709472656, 1332.2545166015625, 1430.1473388671875, 913.3943481445312, 145.81533813476562, 193.7509765625, 1060.7850341796875, 1507.31298828125, 274.0497741699219, 778.751708984375, 692.0734252929688, 900.0565185546875, 448.1014404296875, 282.11688232421875, 1315.916259765625, 460.8338623046875, 105.4913101196289, 275.4767150878906, 542.7648315429688, 921.1527709960938, 1720.167236328125, 1310.17822265625, 919.4879150390625, 506.8476257324219, 1145.9637451171875, 631.1640014648438, 583.9517211914062, 1355.073974609375, 6.235391616821289, 6.35245418548584, 6.881232261657715, 7.2179365158081055, 7.233044147491455, 21.46152687072754, 7.6129374504089355, 7.915380001068115, 15.633788108825684, 8.2276611328125, 12.94501781463623, 29.765182495117188, 9.324857711791992, 5.1445512771606445, 5.155162334442139, 10.009937286376953, 5.304760456085205, 5.318207740783691, 5.334481239318848, 10.38115119934082, 5.334583282470703, 5.360107421875, 5.421329498291016, 5.436715126037598, 5.411250591278076, 5.363480567932129, 5.468874454498291, 5.477360248565674, 5.469018459320068, 5.485594272613525, 15.827920913696289, 43.35962677001953, 49.68971252441406, 83.96923828125, 34.164859771728516, 11.960186958312988, 63.68513488769531, 27.67919158935547, 56.27794647216797, 121.89825439453125, 63.09865188598633, 13.814567565917969, 37.5315055847168, 24.957197189331055, 53.58857345581055, 289.0171813964844, 1507.31298828125, 229.76724243164062, 80.42721557617188, 58.136138916015625, 275.4767150878906, 279.4281005859375, 394.3883972167969, 612.9086303710938, 594.3369750976562, 139.41781616210938, 174.9491424560547, 237.2531280517578, 592.3170166015625, 656.0563354492188, 1355.073974609375, 348.4165344238281, 919.4879150390625, 1310.17822265625, 1315.916259765625, 1720.167236328125, 622.1698608398438, 942.6679077148438, 1060.7850341796875, 890.92236328125, 1332.2545166015625, 1430.1473388671875, 304.674560546875, 702.1097412109375, 778.751708984375, 830.2116088867188, 9.142807006835938, 8.810297012329102, 13.201885223388672, 7.737973213195801, 10.946215629577637, 5.146414279937744, 6.077790260314941, 29.3302001953125, 6.643553733825684, 9.920783996582031, 6.196536064147949, 18.592262268066406, 37.57965850830078, 7.9597249031066895, 9.226664543151855, 12.822281837463379, 35.51420974731445, 9.206464767456055, 9.298391342163086, 4.824812412261963, 4.934785842895508, 5.017436504364014, 5.1445512771606445, 5.075783729553223, 5.134389400482178, 5.125043869018555, 10.195232391357422, 5.258047580718994, 5.318207740783691, 5.29538106918335, 23.21446990966797, 222.73052978515625, 12.693862915039062, 19.05666160583496, 15.126248359680176, 238.2892608642578, 20.17388343811035, 443.48504638671875, 26.019895553588867, 22.456130981445312, 43.4693603515625, 390.4412536621094, 125.83586120605469, 583.9517211914062, 122.30750274658203, 193.7382049560547, 40.07792663574219, 506.8476257324219, 1507.31298828125, 152.46435546875, 287.4009094238281, 795.998046875, 362.5544128417969, 830.2116088867188, 921.1527709960938, 282.63214111328125, 615.2989501953125, 1332.2545166015625, 1315.916259765625, 1430.1473388671875, 246.42054748535156, 1310.17822265625, 1720.167236328125, 1145.9637451171875, 506.3880615234375, 558.617919921875, 1355.073974609375, 692.0734252929688, 919.4879150390625, 5.800779819488525, 5.981465816497803, 6.014845848083496, 6.794930934906006, 7.044076442718506, 11.370685577392578, 11.432897567749023, 37.09947204589844, 13.277092933654785, 13.53791618347168, 14.362907409667969, 5.125043869018555, 5.1507248878479, 10.02058219909668, 5.199305534362793, 5.205591201782227, 5.245383262634277, 5.017436504364014, 5.240556716918945, 5.265585422515869, 5.304907321929932, 5.334993839263916, 5.316040992736816, 5.320748805999756, 5.359823226928711, 5.396759510040283, 5.464842319488525, 10.771848678588867, 5.800492763519287, 16.511775970458984, 11.385546684265137, 25.279338836669922, 12.866177558898926, 13.376561164855957, 13.710397720336914, 14.980545043945312, 16.08897590637207, 17.545833587646484, 193.7509765625, 46.265037536621094, 21.02776336669922, 121.89825439453125, 23.477659225463867, 58.41600799560547, 1332.2545166015625, 594.3369750976562, 631.1640014648438, 900.0565185546875, 1720.167236328125, 142.69775390625, 398.4774475097656, 594.7706909179688, 1355.073974609375, 337.3101501464844, 75.15548706054688, 203.641845703125, 89.10710144042969, 501.9029235839844, 640.7048950195312, 201.73292541503906, 100.92681884765625, 245.97447204589844, 619.9794921875, 330.37017822265625, 663.8438720703125, 575.2291870117188, 363.9041442871094, 1315.916259765625, 942.6679077148438, 538.3954467773438, 358.134765625, 6.428482532501221, 12.906251907348633, 6.932740211486816, 7.784318447113037, 7.947926044464111, 4.824812412261963, 4.911766052246094, 4.934785842895508, 4.967289924621582, 5.099045276641846, 7.686963081359863, 5.104809284210205, 5.167747497558594, 5.211397647857666, 5.273185729980469, 5.2981109619140625, 4.732558250427246, 10.68966293334961, 5.632070064544678, 10.679054260253906, 5.095266342163086, 6.080503940582275, 6.053892135620117, 6.145554065704346, 9.937886238098145, 5.155162334442139, 6.2109479904174805, 6.218734264373779, 6.229945659637451, 6.243089199066162, 12.866177558898926, 120.58797454833984, 11.905279159545898, 25.163705825805664, 27.835901260375977, 23.872669219970703, 30.63288116455078, 35.28030014038086, 38.03717803955078, 38.267887115478516, 40.95867919921875, 107.86570739746094, 42.075199127197266, 16.398977279663086, 209.04603576660156, 256.75360107421875, 21.128524780273438, 1145.9637451171875, 795.998046875, 293.5565490722656, 64.85961151123047, 118.30933380126953, 566.5552978515625, 658.8948364257812, 631.1640014648438, 1332.2545166015625, 135.19064331054688, 174.7467498779297, 298.4854736328125, 1720.167236328125, 340.3453674316406, 229.6252899169922, 622.1698608398438, 114.87877655029297, 107.3071517944336, 290.47796630859375, 96.77739715576172, 94.18963623046875, 66.04683685302734, 8.193093299865723, 6.018492698669434, 5.458054065704346, 6.672283172607422, 4.732558250427246, 5.0246076583862305, 14.675764083862305, 5.168327808380127, 30.659021377563477, 5.988536834716797, 6.008796691894531, 6.043424129486084, 6.052512168884277, 6.098549842834473, 6.324356555938721, 6.336343288421631, 6.88128662109375, 61.82081985473633, 7.299258708953857, 7.727875709533691, 7.988582134246826, 77.220947265625, 11.311774253845215, 8.86506175994873, 9.14380931854248, 9.614744186401367, 28.110136032104492, 10.256669044494629, 10.908803939819336, 11.164498329162598, 28.77570152282715, 25.750089645385742, 582.1837768554688, 209.04603576660156, 71.06460571289062, 264.1769104003906, 147.39093017578125, 172.0393524169922, 23.35771942138672, 60.877376556396484, 594.7706909179688, 37.10514831542969, 1720.167236328125, 1355.073974609375, 41.466426849365234, 885.744384765625, 393.18798828125, 131.8230743408203, 163.77378845214844, 236.04713439941406, 338.58551025390625, 795.998046875, 273.1529846191406, 243.81961059570312, 506.3880615234375, 942.6679077148438, 558.617919921875, 14.726298332214355, 5.939638137817383, 6.124088287353516, 4.811466693878174, 4.719446659088135, 4.964839935302734, 4.893485069274902, 4.848407745361328, 10.11328411102295, 5.0565385818481445, 7.010830879211426, 6.171008586883545, 7.099341869354248, 7.699465751647949, 6.018492698669434, 8.619733810424805, 7.080978870391846, 8.870405197143555, 13.546269416809082, 12.933445930480957, 12.591019630432129, 47.23883056640625, 15.6688232421875, 16.949180603027344, 9.452728271484375, 29.863819122314453, 17.32014274597168, 23.871810913085938, 105.56488037109375, 34.86379623413086, 110.07966613769531, 147.39093017578125, 46.09242630004883, 1507.31298828125, 658.8948364257812, 61.31947708129883, 260.0787658691406, 405.6542663574219, 371.71575927734375, 402.49761962890625, 300.7801818847656, 1720.167236328125, 913.3943481445312, 885.744384765625], \"Category\": [\"Default\", \"Default\", \"Default\", \"Default\", \"Default\", \"Default\", \"Default\", \"Default\", \"Default\", \"Default\", \"Default\", \"Default\", \"Default\", \"Default\", \"Default\", \"Default\", \"Default\", \"Default\", \"Default\", \"Default\", \"Default\", \"Default\", \"Default\", \"Default\", \"Default\", \"Default\", \"Default\", \"Default\", \"Default\", \"Default\", \"Topic1\", \"Topic1\", \"Topic1\", \"Topic1\", \"Topic1\", \"Topic1\", \"Topic1\", \"Topic1\", \"Topic1\", \"Topic1\", \"Topic1\", \"Topic1\", \"Topic1\", \"Topic1\", \"Topic1\", \"Topic1\", \"Topic1\", \"Topic1\", \"Topic1\", \"Topic1\", \"Topic1\", \"Topic1\", \"Topic1\", \"Topic1\", \"Topic1\", \"Topic1\", \"Topic1\", \"Topic1\", \"Topic1\", \"Topic1\", \"Topic1\", \"Topic1\", \"Topic1\", \"Topic1\", \"Topic1\", \"Topic1\", \"Topic1\", \"Topic1\", \"Topic1\", \"Topic1\", \"Topic1\", \"Topic1\", \"Topic1\", \"Topic1\", \"Topic1\", \"Topic1\", \"Topic1\", \"Topic1\", \"Topic1\", \"Topic1\", \"Topic1\", \"Topic1\", \"Topic1\", \"Topic1\", \"Topic1\", \"Topic1\", \"Topic1\", \"Topic1\", \"Topic1\", \"Topic1\", \"Topic1\", \"Topic1\", \"Topic1\", \"Topic1\", \"Topic1\", \"Topic1\", \"Topic1\", \"Topic1\", \"Topic1\", \"Topic1\", \"Topic1\", \"Topic1\", \"Topic1\", \"Topic1\", \"Topic1\", \"Topic1\", \"Topic1\", \"Topic1\", \"Topic1\", \"Topic1\", \"Topic1\", \"Topic1\", \"Topic1\", \"Topic1\", \"Topic1\", \"Topic1\", \"Topic1\", \"Topic1\", \"Topic1\", \"Topic1\", \"Topic1\", \"Topic1\", \"Topic1\", \"Topic1\", \"Topic1\", \"Topic1\", \"Topic1\", \"Topic1\", \"Topic1\", \"Topic2\", \"Topic2\", \"Topic2\", \"Topic2\", \"Topic2\", \"Topic2\", \"Topic2\", \"Topic2\", \"Topic2\", \"Topic2\", \"Topic2\", \"Topic2\", \"Topic2\", \"Topic2\", \"Topic2\", \"Topic2\", \"Topic2\", \"Topic2\", \"Topic2\", \"Topic2\", \"Topic2\", \"Topic2\", \"Topic2\", \"Topic2\", \"Topic2\", \"Topic2\", \"Topic2\", \"Topic2\", \"Topic2\", \"Topic2\", \"Topic2\", \"Topic2\", \"Topic2\", \"Topic2\", \"Topic2\", \"Topic2\", \"Topic2\", \"Topic2\", \"Topic2\", \"Topic2\", \"Topic2\", \"Topic2\", \"Topic2\", \"Topic2\", \"Topic2\", \"Topic2\", \"Topic2\", \"Topic2\", \"Topic2\", \"Topic2\", \"Topic2\", \"Topic2\", \"Topic2\", \"Topic2\", \"Topic2\", \"Topic2\", \"Topic2\", \"Topic2\", \"Topic2\", \"Topic2\", \"Topic2\", \"Topic2\", \"Topic2\", \"Topic2\", \"Topic3\", \"Topic3\", \"Topic3\", \"Topic3\", \"Topic3\", \"Topic3\", \"Topic3\", \"Topic3\", \"Topic3\", \"Topic3\", \"Topic3\", \"Topic3\", \"Topic3\", \"Topic3\", \"Topic3\", \"Topic3\", \"Topic3\", \"Topic3\", \"Topic3\", \"Topic3\", \"Topic3\", \"Topic3\", \"Topic3\", \"Topic3\", \"Topic3\", \"Topic3\", \"Topic3\", \"Topic3\", \"Topic3\", \"Topic3\", \"Topic3\", \"Topic3\", \"Topic3\", \"Topic3\", \"Topic3\", \"Topic3\", \"Topic3\", \"Topic3\", \"Topic3\", \"Topic3\", \"Topic3\", \"Topic3\", \"Topic3\", \"Topic3\", \"Topic3\", \"Topic3\", \"Topic3\", \"Topic3\", \"Topic3\", \"Topic3\", \"Topic3\", \"Topic3\", \"Topic3\", \"Topic3\", \"Topic3\", \"Topic3\", \"Topic3\", \"Topic3\", \"Topic3\", \"Topic3\", \"Topic3\", \"Topic3\", \"Topic3\", \"Topic3\", \"Topic3\", \"Topic3\", \"Topic3\", \"Topic3\", \"Topic3\", \"Topic3\", \"Topic3\", \"Topic3\", \"Topic3\", \"Topic3\", \"Topic3\", \"Topic3\", \"Topic3\", \"Topic3\", \"Topic3\", \"Topic3\", \"Topic3\", \"Topic3\", \"Topic3\", \"Topic3\", \"Topic3\", \"Topic3\", \"Topic3\", \"Topic3\", \"Topic3\", \"Topic3\", \"Topic3\", \"Topic4\", \"Topic4\", \"Topic4\", \"Topic4\", \"Topic4\", \"Topic4\", \"Topic4\", \"Topic4\", \"Topic4\", \"Topic4\", \"Topic4\", \"Topic4\", \"Topic4\", \"Topic4\", \"Topic4\", \"Topic4\", \"Topic4\", \"Topic4\", \"Topic4\", \"Topic4\", \"Topic4\", \"Topic4\", \"Topic4\", \"Topic4\", \"Topic4\", \"Topic4\", \"Topic4\", \"Topic4\", \"Topic4\", \"Topic4\", \"Topic4\", \"Topic4\", \"Topic4\", \"Topic4\", \"Topic4\", \"Topic4\", \"Topic4\", \"Topic4\", \"Topic4\", \"Topic4\", \"Topic4\", \"Topic4\", \"Topic4\", \"Topic4\", \"Topic4\", \"Topic4\", \"Topic4\", \"Topic4\", \"Topic4\", \"Topic4\", \"Topic4\", \"Topic4\", \"Topic4\", \"Topic4\", \"Topic4\", \"Topic4\", \"Topic4\", \"Topic4\", \"Topic4\", \"Topic4\", \"Topic4\", \"Topic4\", \"Topic4\", \"Topic4\", \"Topic4\", \"Topic4\", \"Topic4\", \"Topic4\", \"Topic4\", \"Topic4\", \"Topic4\", \"Topic5\", \"Topic5\", \"Topic5\", \"Topic5\", \"Topic5\", \"Topic5\", \"Topic5\", \"Topic5\", \"Topic5\", \"Topic5\", \"Topic5\", \"Topic5\", \"Topic5\", \"Topic5\", \"Topic5\", \"Topic5\", \"Topic5\", \"Topic5\", \"Topic5\", \"Topic5\", \"Topic5\", \"Topic5\", \"Topic5\", \"Topic5\", \"Topic5\", \"Topic5\", \"Topic5\", \"Topic5\", \"Topic5\", \"Topic5\", \"Topic5\", \"Topic5\", \"Topic5\", \"Topic5\", \"Topic5\", \"Topic5\", \"Topic5\", \"Topic5\", \"Topic5\", \"Topic5\", \"Topic5\", \"Topic5\", \"Topic5\", \"Topic5\", \"Topic5\", \"Topic5\", \"Topic5\", \"Topic5\", \"Topic5\", \"Topic5\", \"Topic5\", \"Topic5\", \"Topic5\", \"Topic5\", \"Topic5\", \"Topic5\", \"Topic5\", \"Topic5\", \"Topic5\", \"Topic5\", \"Topic5\", \"Topic6\", \"Topic6\", \"Topic6\", \"Topic6\", \"Topic6\", \"Topic6\", \"Topic6\", \"Topic6\", \"Topic6\", \"Topic6\", \"Topic6\", \"Topic6\", \"Topic6\", \"Topic6\", \"Topic6\", \"Topic6\", \"Topic6\", \"Topic6\", \"Topic6\", \"Topic6\", \"Topic6\", \"Topic6\", \"Topic6\", \"Topic6\", \"Topic6\", \"Topic6\", \"Topic6\", \"Topic6\", \"Topic6\", \"Topic6\", \"Topic6\", \"Topic6\", \"Topic6\", \"Topic6\", \"Topic6\", \"Topic6\", \"Topic6\", \"Topic6\", \"Topic6\", \"Topic6\", \"Topic6\", \"Topic6\", \"Topic6\", \"Topic6\", \"Topic6\", \"Topic6\", \"Topic6\", \"Topic6\", \"Topic6\", \"Topic6\", \"Topic6\", \"Topic6\", \"Topic6\", \"Topic6\", \"Topic6\", \"Topic6\", \"Topic6\", \"Topic6\", \"Topic6\", \"Topic6\", \"Topic6\", \"Topic6\", \"Topic6\", \"Topic6\", \"Topic6\", \"Topic6\", \"Topic6\", \"Topic6\", \"Topic6\", \"Topic6\", \"Topic6\", \"Topic6\", \"Topic6\", \"Topic6\", \"Topic6\", \"Topic6\", \"Topic6\", \"Topic6\", \"Topic6\", \"Topic6\", \"Topic6\", \"Topic7\", \"Topic7\", \"Topic7\", \"Topic7\", \"Topic7\", \"Topic7\", \"Topic7\", \"Topic7\", \"Topic7\", \"Topic7\", \"Topic7\", \"Topic7\", \"Topic7\", \"Topic7\", \"Topic7\", \"Topic7\", \"Topic7\", \"Topic7\", \"Topic7\", \"Topic7\", \"Topic7\", \"Topic7\", \"Topic7\", \"Topic7\", \"Topic7\", \"Topic7\", \"Topic7\", \"Topic7\", \"Topic7\", \"Topic7\", \"Topic7\", \"Topic7\", \"Topic7\", \"Topic7\", \"Topic7\", \"Topic7\", \"Topic7\", \"Topic7\", \"Topic7\", \"Topic7\", \"Topic7\", \"Topic7\", \"Topic7\", \"Topic7\", \"Topic7\", \"Topic7\", \"Topic7\", \"Topic7\", \"Topic7\", \"Topic7\", \"Topic7\", \"Topic7\", \"Topic7\", \"Topic7\", \"Topic7\", \"Topic7\", \"Topic7\", \"Topic7\", \"Topic7\", \"Topic7\", \"Topic7\", \"Topic7\", \"Topic7\", \"Topic7\", \"Topic7\", \"Topic7\", \"Topic7\", \"Topic7\", \"Topic7\", \"Topic7\", \"Topic7\", \"Topic7\", \"Topic7\", \"Topic7\", \"Topic7\", \"Topic7\", \"Topic7\", \"Topic8\", \"Topic8\", \"Topic8\", \"Topic8\", \"Topic8\", \"Topic8\", \"Topic8\", \"Topic8\", \"Topic8\", \"Topic8\", \"Topic8\", \"Topic8\", \"Topic8\", \"Topic8\", \"Topic8\", \"Topic8\", \"Topic8\", \"Topic8\", \"Topic8\", \"Topic8\", \"Topic8\", \"Topic8\", \"Topic8\", \"Topic8\", \"Topic8\", \"Topic8\", \"Topic8\", \"Topic8\", \"Topic8\", \"Topic8\", \"Topic8\", \"Topic8\", \"Topic8\", \"Topic8\", \"Topic8\", \"Topic8\", \"Topic8\", \"Topic8\", \"Topic8\", \"Topic8\", \"Topic8\", \"Topic8\", \"Topic8\", \"Topic8\", \"Topic8\", \"Topic8\", \"Topic8\", \"Topic8\", \"Topic8\", \"Topic8\", \"Topic8\", \"Topic8\", \"Topic8\", \"Topic8\", \"Topic8\", \"Topic8\", \"Topic8\", \"Topic8\", \"Topic8\", \"Topic8\", \"Topic8\", \"Topic9\", \"Topic9\", \"Topic9\", \"Topic9\", \"Topic9\", \"Topic9\", \"Topic9\", \"Topic9\", \"Topic9\", \"Topic9\", \"Topic9\", \"Topic9\", \"Topic9\", \"Topic9\", \"Topic9\", \"Topic9\", \"Topic9\", \"Topic9\", \"Topic9\", \"Topic9\", \"Topic9\", \"Topic9\", \"Topic9\", \"Topic9\", \"Topic9\", \"Topic9\", \"Topic9\", \"Topic9\", \"Topic9\", \"Topic9\", \"Topic9\", \"Topic9\", \"Topic9\", \"Topic9\", \"Topic9\", \"Topic9\", \"Topic9\", \"Topic9\", \"Topic9\", \"Topic9\", \"Topic9\", \"Topic9\", \"Topic9\", \"Topic9\", \"Topic9\", \"Topic9\", \"Topic9\", \"Topic9\", \"Topic9\", \"Topic9\", \"Topic9\", \"Topic9\", \"Topic9\", \"Topic9\", \"Topic9\", \"Topic9\", \"Topic9\", \"Topic9\", \"Topic9\", \"Topic9\", \"Topic9\", \"Topic9\", \"Topic9\", \"Topic9\", \"Topic9\", \"Topic9\", \"Topic9\", \"Topic9\", \"Topic9\", \"Topic9\", \"Topic9\", \"Topic10\", \"Topic10\", \"Topic10\", \"Topic10\", \"Topic10\", \"Topic10\", \"Topic10\", \"Topic10\", \"Topic10\", \"Topic10\", \"Topic10\", \"Topic10\", \"Topic10\", \"Topic10\", \"Topic10\", \"Topic10\", \"Topic10\", \"Topic10\", \"Topic10\", \"Topic10\", \"Topic10\", \"Topic10\", \"Topic10\", \"Topic10\", \"Topic10\", \"Topic10\", \"Topic10\", \"Topic10\", \"Topic10\", \"Topic10\", \"Topic10\", \"Topic10\", \"Topic10\", \"Topic10\", \"Topic10\", \"Topic10\", \"Topic10\", \"Topic10\", \"Topic10\", \"Topic10\", \"Topic10\", \"Topic10\", \"Topic10\", \"Topic10\", \"Topic10\", \"Topic10\", \"Topic10\", \"Topic10\", \"Topic10\", \"Topic10\", \"Topic10\", \"Topic10\", \"Topic10\", \"Topic10\", \"Topic10\", \"Topic10\", \"Topic10\", \"Topic10\", \"Topic10\", \"Topic10\", \"Topic10\", \"Topic10\", \"Topic10\", \"Topic10\", \"Topic10\", \"Topic10\", \"Topic10\", \"Topic10\", \"Topic10\", \"Topic10\", \"Topic10\", \"Topic10\", \"Topic10\", \"Topic10\", \"Topic10\", \"Topic10\", \"Topic11\", \"Topic11\", \"Topic11\", \"Topic11\", \"Topic11\", \"Topic11\", \"Topic11\", \"Topic11\", \"Topic11\", \"Topic11\", \"Topic11\", \"Topic11\", \"Topic11\", \"Topic11\", \"Topic11\", \"Topic11\", \"Topic11\", \"Topic11\", \"Topic11\", \"Topic11\", \"Topic11\", \"Topic11\", \"Topic11\", \"Topic11\", \"Topic11\", \"Topic11\", \"Topic11\", \"Topic11\", \"Topic11\", \"Topic11\", \"Topic11\", \"Topic11\", \"Topic11\", \"Topic11\", \"Topic11\", \"Topic11\", \"Topic11\", \"Topic11\", \"Topic11\", \"Topic11\", \"Topic11\", \"Topic11\", \"Topic11\", \"Topic11\", \"Topic11\", \"Topic11\", \"Topic11\", \"Topic11\", \"Topic11\", \"Topic11\", \"Topic11\", \"Topic11\", \"Topic11\", \"Topic11\", \"Topic11\", \"Topic11\", \"Topic11\", \"Topic11\", \"Topic11\", \"Topic11\", \"Topic11\", \"Topic11\", \"Topic11\", \"Topic11\", \"Topic11\", \"Topic11\", \"Topic11\", \"Topic11\", \"Topic11\", \"Topic12\", \"Topic12\", \"Topic12\", \"Topic12\", \"Topic12\", \"Topic12\", \"Topic12\", \"Topic12\", \"Topic12\", \"Topic12\", \"Topic12\", \"Topic12\", \"Topic12\", \"Topic12\", \"Topic12\", \"Topic12\", \"Topic12\", \"Topic12\", \"Topic12\", \"Topic12\", \"Topic12\", \"Topic12\", \"Topic12\", \"Topic12\", \"Topic12\", \"Topic12\", \"Topic12\", \"Topic12\", \"Topic12\", \"Topic12\", \"Topic12\", \"Topic12\", \"Topic12\", \"Topic12\", \"Topic12\", \"Topic12\", \"Topic12\", \"Topic12\", \"Topic12\", \"Topic12\", \"Topic12\", \"Topic12\", \"Topic12\", \"Topic12\", \"Topic12\", \"Topic12\", \"Topic12\", \"Topic12\", \"Topic12\", \"Topic12\", \"Topic12\", \"Topic12\", \"Topic12\", \"Topic12\", \"Topic12\", \"Topic12\", \"Topic12\", \"Topic12\", \"Topic12\", \"Topic12\", \"Topic12\", \"Topic12\", \"Topic12\", \"Topic12\", \"Topic12\", \"Topic12\", \"Topic12\", \"Topic12\", \"Topic12\", \"Topic12\", \"Topic12\", \"Topic13\", \"Topic13\", \"Topic13\", \"Topic13\", \"Topic13\", \"Topic13\", \"Topic13\", \"Topic13\", \"Topic13\", \"Topic13\", \"Topic13\", \"Topic13\", \"Topic13\", \"Topic13\", \"Topic13\", \"Topic13\", \"Topic13\", \"Topic13\", \"Topic13\", \"Topic13\", \"Topic13\", \"Topic13\", \"Topic13\", \"Topic13\", \"Topic13\", \"Topic13\", \"Topic13\", \"Topic13\", \"Topic13\", \"Topic13\", \"Topic13\", \"Topic13\", \"Topic13\", \"Topic13\", \"Topic13\", \"Topic13\", \"Topic13\", \"Topic13\", \"Topic13\", \"Topic13\", \"Topic13\", \"Topic13\", \"Topic13\", \"Topic13\", \"Topic13\", \"Topic13\", \"Topic13\", \"Topic13\", \"Topic13\", \"Topic13\", \"Topic13\", \"Topic13\", \"Topic13\", \"Topic13\", \"Topic13\", \"Topic13\", \"Topic13\", \"Topic13\", \"Topic13\", \"Topic13\", \"Topic13\", \"Topic13\", \"Topic13\", \"Topic13\", \"Topic13\", \"Topic13\", \"Topic13\", \"Topic13\", \"Topic13\", \"Topic14\", \"Topic14\", \"Topic14\", \"Topic14\", \"Topic14\", \"Topic14\", \"Topic14\", \"Topic14\", \"Topic14\", \"Topic14\", \"Topic14\", \"Topic14\", \"Topic14\", \"Topic14\", \"Topic14\", \"Topic14\", \"Topic14\", \"Topic14\", \"Topic14\", \"Topic14\", \"Topic14\", \"Topic14\", \"Topic14\", \"Topic14\", \"Topic14\", \"Topic14\", \"Topic14\", \"Topic14\", \"Topic14\", \"Topic14\", \"Topic14\", \"Topic14\", \"Topic14\", \"Topic14\", \"Topic14\", \"Topic14\", \"Topic14\", \"Topic14\", \"Topic14\", \"Topic14\", \"Topic14\", \"Topic14\", \"Topic14\", \"Topic14\", \"Topic14\", \"Topic14\", \"Topic14\", \"Topic14\", \"Topic14\", \"Topic14\", \"Topic14\", \"Topic14\", \"Topic14\", \"Topic14\", \"Topic14\", \"Topic14\", \"Topic14\", \"Topic15\", \"Topic15\", \"Topic15\", \"Topic15\", \"Topic15\", \"Topic15\", \"Topic15\", \"Topic15\", \"Topic15\", \"Topic15\", \"Topic15\", \"Topic15\", \"Topic15\", \"Topic15\", \"Topic15\", \"Topic15\", \"Topic15\", \"Topic15\", \"Topic15\", \"Topic15\", \"Topic15\", \"Topic15\", \"Topic15\", \"Topic15\", \"Topic15\", \"Topic15\", \"Topic15\", \"Topic15\", \"Topic15\", \"Topic15\", \"Topic15\", \"Topic15\", \"Topic15\", \"Topic15\", \"Topic15\", \"Topic15\", \"Topic15\", \"Topic15\", \"Topic15\", \"Topic15\", \"Topic15\", \"Topic15\", \"Topic15\", \"Topic15\"], \"logprob\": [30.0, 29.0, 28.0, 27.0, 26.0, 25.0, 24.0, 23.0, 22.0, 21.0, 20.0, 19.0, 18.0, 17.0, 16.0, 15.0, 14.0, 13.0, 12.0, 11.0, 10.0, 9.0, 8.0, 7.0, 6.0, 5.0, 4.0, 3.0, 2.0, 1.0, -7.723599910736084, -8.265199661254883, -8.734800338745117, -8.181099891662598, -8.328499794006348, -8.843600273132324, -8.951499938964844, -8.750300407409668, -7.019199848175049, -8.75570011138916, -8.587300300598145, -9.084199905395508, -8.96500015258789, -9.089300155639648, -9.09220027923584, -9.090299606323242, -9.090700149536133, -9.092700004577637, -9.095800399780273, -9.231599807739258, -9.098899841308594, -9.098899841308594, -9.099200248718262, -9.100899696350098, -9.238800048828125, -9.23960018157959, -9.239800453186035, -8.27929973602295, -9.242400169372559, -9.241000175476074, -8.535599708557129, -7.9980998039245605, -7.602099895477295, -7.453100204467773, -8.47350025177002, -7.545400142669678, -7.293399810791016, -8.478099822998047, -7.2428998947143555, -7.853000164031982, -8.31190013885498, -8.644399642944336, -7.131499767303467, -5.39900016784668, -6.242700099945068, -7.912499904632568, -6.993599891662598, -7.651899814605713, -6.991399765014648, -6.716400146484375, -7.395699977874756, -6.867099761962891, -6.0619001388549805, -7.56279993057251, -6.101200103759766, -6.743000030517578, -7.22189998626709, -7.860799789428711, -7.238900184631348, -6.422100067138672, -6.212399959564209, -5.490300178527832, -5.388999938964844, -6.732999801635742, -5.869100093841553, -5.951900005340576, -6.236999988555908, -6.903500080108643, -6.165200233459473, -6.451300144195557, -5.011600017547607, -6.101500034332275, -6.4994001388549805, -6.438300132751465, -6.801400184631348, -5.7266998291015625, -5.755000114440918, -5.530099868774414, -5.498499870300293, -5.134099960327148, -5.440000057220459, -5.736400127410889, -5.691299915313721, -5.972599983215332, -6.164000034332275, -5.986700057983398, -5.829599857330322, -5.801799774169922, -5.650899887084961, -5.76230001449585, -6.025599956512451, -5.648900032043457, -5.646599769592285, -5.944499969482422, -5.735099792480469, -6.039299964904785, -6.0528998374938965, -6.033899784088135, -6.053899765014648, -5.769999980926514, -5.183899879455566, -5.820499897003174, -6.706999778747559, -6.667799949645996, -6.483099937438965, -6.912600040435791, -5.697500228881836, -7.2906999588012695, -6.3927998542785645, -6.105999946594238, -7.072199821472168, -7.2972002029418945, -4.511899948120117, -7.521999835968018, -7.491799831390381, -7.250899791717529, -4.957099914550781, -7.735599994659424, -6.437300205230713, -6.68310022354126, -7.789599895477295, -5.283599853515625, -8.312700271606445, -8.470600128173828, -8.553600311279297, -8.329000473022461, -8.647000312805176, -8.649299621582031, -7.22730016708374, -7.829899787902832, -7.747099876403809, -7.440899848937988, -7.160900115966797, -7.78380012512207, -7.186200141906738, -6.488500118255615, -4.610499858856201, -6.087299823760986, -4.703199863433838, -5.7342000007629395, -5.5971999168396, -5.515500068664551, -5.527100086212158, -5.265900135040283, -5.041500091552734, -5.794000148773193, -5.902100086212158, -5.166100025177002, -6.4766998291015625, -5.7052998542785645, -5.443900108337402, -5.232699871063232, -5.469900131225586, -5.656099796295166, -5.360499858856201, -5.28849983215332, -5.698500156402588, -5.792200088500977, -5.640900135040283, -5.704400062561035, -5.838600158691406, -5.8566999435424805, -5.848999977111816, -7.820700168609619, -8.315600395202637, -6.183199882507324, -8.666299819946289, -8.780400276184082, -8.781499862670898, -8.674699783325195, -7.229000091552734, -8.916000366210938, -8.922100067138672, -8.153499603271484, -8.804499626159668, -8.803999900817871, -9.0625, -8.927300453186035, -9.06309986114502, -8.926899909973145, -9.064299583435059, -9.066499710083008, -9.066399574279785, -9.069700241088867, -9.071100234985352, -9.069299697875977, -9.072199821472168, -8.162500381469727, -8.93690013885498, -8.816900253295898, -9.075400352478027, -8.938899993896484, -8.714099884033203, -7.587800025939941, -6.97599983215332, -6.771900177001953, -6.105999946594238, -7.099599838256836, -8.396200180053711, -8.303899765014648, -8.825499534606934, -5.9593000411987305, -8.834799766540527, -6.541299819946289, -7.991000175476074, -7.377699851989746, -7.7129998207092285, -5.893899917602539, -7.622200012207031, -7.456600189208984, -7.99459981918335, -6.2220001220703125, -6.557600021362305, -8.279999732971191, -8.074600219726562, -6.711699962615967, -6.777299880981445, -6.297699928283691, -6.942800045013428, -6.8404998779296875, -6.738100051879883, -5.725900173187256, -5.902900218963623, -6.993000030517578, -6.232600212097168, -6.11299991607666, -5.341700077056885, -5.871099948883057, -6.119999885559082, -6.218200206756592, -6.406099796295166, -5.234899997711182, -5.832399845123291, -5.567500114440918, -6.195300102233887, -5.889900207519531, -5.7459001541137695, -5.5742998123168945, -5.958399772644043, -5.97189998626709, -5.989200115203857, -5.908999919891357, -6.111000061035156, -6.002600193023682, -5.8059000968933105, -5.702600002288818, -5.926000118255615, -5.817599773406982, -5.951600074768066, -6.053999900817871, -6.133500099182129, -6.072999954223633, -6.085999965667725, -6.1020002365112305, -5.921899795532227, -4.2779998779296875, -6.924900054931641, -7.392499923706055, -4.478799819946289, -7.226200103759766, -5.8607001304626465, -8.017900466918945, -5.46019983291626, -7.185400009155273, -5.314300060272217, -7.880799770355225, -5.423600196838379, -8.698699951171875, -6.884399890899658, -8.830100059509277, -5.129300117492676, -8.984100341796875, -7.608799934387207, -8.849699974060059, -7.480599880218506, -8.994600296020508, -8.997400283813477, -8.031100273132324, -9.163700103759766, -9.168000221252441, -8.640199661254883, -9.013899803161621, -9.020700454711914, -8.467100143432617, -6.445300102233887, -8.549400329589844, -8.1806001663208, -8.758099555969238, -6.392000198364258, -5.519599914550781, -4.955399990081787, -7.71150016784668, -6.4670000076293945, -5.442399978637695, -7.51200008392334, -5.11959981918335, -6.966400146484375, -6.916100025177002, -6.092100143432617, -6.537799835205078, -6.820300102233887, -6.6128997802734375, -6.14709997177124, -5.180099964141846, -5.1433000564575195, -6.2932000160217285, -5.698299884796143, -5.2769999504089355, -5.695700168609619, -5.589300155639648, -5.508800029754639, -6.093400001525879, -5.80620002746582, -5.782100200653076, -6.067699909210205, -5.8907999992370605, -5.71619987487793, -5.756499767303467, -5.577199935913086, -5.880499839782715, -5.575399875640869, -5.775599956512451, -5.647799968719482, -5.825799942016602, -5.86329984664917, -6.386000156402588, -8.003899574279785, -6.729100227355957, -6.750999927520752, -7.191999912261963, -4.699699878692627, -5.589000225067139, -8.174500465393066, -8.61520004272461, -6.595699787139893, -8.6358003616333, -6.206099987030029, -8.366800308227539, -4.991300106048584, -8.12339973449707, -6.296299934387207, -7.282299995422363, -9.014699935913086, -4.024600028991699, -7.994800090789795, -8.564900398254395, -8.364999771118164, -6.5269999504089355, -7.396100044250488, -4.792099952697754, -4.606100082397461, -4.939000129699707, -8.506999969482422, -9.168899536132812, -7.258500099182129, -5.528500080108643, -6.212800025939941, -6.164599895477295, -5.574699878692627, -5.478099822998047, -6.12470006942749, -4.758600234985352, -6.953800201416016, -7.44320011138916, -4.685100078582764, -5.689199924468994, -5.198500156402588, -6.057799816131592, -5.505300045013428, -4.9756999015808105, -5.611499786376953, -5.031300067901611, -5.06820011138916, -5.213099956512451, -5.197999954223633, -5.64300012588501, -5.642300128936768, -5.523399829864502, -5.717299938201904, -5.662399768829346, -5.5229997634887695, -5.510499954223633, -5.7606000900268555, -5.633699893951416, -5.554299831390381, -5.663599967956543, -5.846199989318848, -8.187999725341797, -5.798900127410889, -8.389900207519531, -7.784200191497803, -6.76170015335083, -7.1493000984191895, -7.575900077819824, -7.725599765777588, -8.592399597167969, -8.413900375366211, -7.848199844360352, -8.402299880981445, -8.406499862670898, -7.69789981842041, -6.317999839782715, -8.596099853515625, -8.280799865722656, -8.421099662780762, -8.582200050354004, -8.417699813842773, -8.421199798583984, -8.602299690246582, -8.198599815368652, -8.628100395202637, -8.635600090026855, -8.187000274658203, -8.656000137329102, -8.511099815368652, -8.65820026397705, -8.383600234985352, -6.55079984664917, -7.7195000648498535, -7.554299831390381, -6.007500171661377, -7.619699954986572, -7.3730998039245605, -7.584099769592285, -7.985000133514404, -6.320700168609619, -6.020299911499023, -7.82420015335083, -6.514699935913086, -6.531700134277344, -6.5833001136779785, -7.019700050354004, -7.38100004196167, -5.895299911499023, -6.743199825286865, -4.951000213623047, -6.617800235748291, -6.867800235748291, -5.027400016784668, -6.313600063323975, -6.38129997253418, -5.689300060272217, -5.952400207519531, -5.341400146484375, -5.610300064086914, -5.792799949645996, -5.655099868774414, -5.569300174713135, -6.192699909210205, -5.561299800872803, -5.850299835205078, -5.941100120544434, -6.04449987411499, -5.673399925231934, -5.695700168609619, -6.186200141906738, -6.090700149536133, -6.029200077056885, -5.975900173187256, -6.03849983215332, -5.872700214385986, -6.051499843597412, -6.026500225067139, -6.168399810791016, -6.1631999015808105, -6.154699802398682, -6.165800094604492, -7.6859002113342285, -7.194399833679199, -7.849899768829346, -8.202500343322754, -7.944699764251709, -7.949399948120117, -8.112899780273438, -8.117899894714355, -7.573200225830078, -8.130399703979492, -7.529200077056885, -8.146200180053711, -8.160599708557129, -8.339599609375, -8.20989990234375, -8.098299980163574, -8.386300086975098, -8.096599578857422, -8.247400283813477, -6.799200057983398, -7.000500202178955, -6.844900131225586, -7.834799766540527, -8.169400215148926, -8.164400100708008, -8.462900161743164, -8.329299926757812, -6.853899955749512, -8.488300323486328, -7.623199939727783, -7.2505998611450195, -6.643799781799316, -5.884699821472168, -5.509099960327148, -7.71999979019165, -4.763599872589111, -6.787300109863281, -6.394599914550781, -6.688300132751465, -6.765200138092041, -6.890699863433838, -6.332399845123291, -7.354300022125244, -5.357100009918213, -6.267000198364258, -6.103099822998047, -6.092700004577637, -6.529399871826172, -6.1596999168396, -6.1697001457214355, -6.105800151824951, -6.414700031280518, -6.731299877166748, -5.928299903869629, -5.250999927520752, -5.564499855041504, -6.420199871063232, -5.327300071716309, -5.155300140380859, -5.294300079345703, -5.351200103759766, -5.755499839782715, -5.784200191497803, -5.55810022354126, -5.951300144195557, -5.964399814605713, -5.863699913024902, -5.749199867248535, -5.864500045776367, -6.056600093841553, -5.936999797821045, -5.899199962615967, -6.044400215148926, -5.972700119018555, -6.038400173187256, -6.076000213623047, -6.13040018081665, -6.836100101470947, -5.081200122833252, -7.325900077819824, -6.283299922943115, -4.6707000732421875, -6.563600063323975, -7.137199878692627, -7.6082000732421875, -7.184999942779541, -4.9257001876831055, -7.041299819946289, -4.636000156402588, -7.203999996185303, -7.801499843597412, -6.694699764251709, -8.299200057983398, -8.020299911499023, -7.183700084686279, -6.236499786376953, -8.0802001953125, -8.268699645996094, -8.280699729919434, -7.7835001945495605, -5.963099956512451, -8.149299621582031, -5.786200046539307, -8.241399765014648, -8.014699935913086, -4.749800205230713, -8.139699935913086, -4.771299839019775, -5.843500137329102, -7.821499824523926, -6.575900077819824, -5.066699981689453, -6.38700008392334, -4.640600204467773, -6.702700138092041, -6.4953999519348145, -4.4832000732421875, -4.565999984741211, -5.0081000328063965, -4.798999786376953, -4.87939977645874, -5.628799915313721, -5.88129997253418, -5.246399879455566, -5.657700061798096, -5.581699848175049, -5.341700077056885, -5.735899925231934, -5.834799766540527, -5.61269998550415, -5.715000152587891, -5.507400035858154, -5.65910005569458, -5.689199924468994, -5.699100017547607, -5.7555999755859375, -5.749800205230713, -5.794400215148926, -6.884399890899658, -5.80079984664917, -7.259200096130371, -7.4618000984191895, -7.179500102996826, -7.168600082397461, -7.307199954986572, -7.5594000816345215, -7.6118998527526855, -7.497000217437744, -7.559800148010254, -7.555099964141846, -7.258500099182129, -7.572199821472168, -7.183000087738037, -7.208199977874756, -7.653200149536133, -7.5605998039245605, -7.566199779510498, -6.665299892425537, -7.564700126647949, -7.575399875640869, -7.781300067901611, -7.782899856567383, -7.558499813079834, -7.563899993896484, -7.5782999992370605, -7.558000087738037, -7.128300189971924, -7.389200210571289, -5.688499927520752, -6.593100070953369, -7.280799865722656, -7.002799987792969, -5.573999881744385, -6.884699821472168, -6.780399799346924, -6.026800155639648, -5.7870001792907715, -6.457900047302246, -6.122000217437744, -7.168000221252441, -6.053100109100342, -6.303199768066406, -4.983799934387207, -4.9604997634887695, -5.303599834442139, -6.157599925994873, -6.062300205230713, -5.490699768066406, -5.375699996948242, -6.02810001373291, -5.672399997711182, -5.722300052642822, -5.652900218963623, -5.9054999351501465, -6.058800220489502, -5.608699798583984, -5.975299835205078, -6.422699928283691, -6.145100116729736, -5.9781999588012695, -5.843200206756592, -5.703400135040283, -5.827300071716309, -5.932199954986572, -6.046500205993652, -5.965700149536133, -6.060500144958496, -6.103600025177002, -6.099100112915039, -7.2600998878479, -7.257900238037109, -7.256800174713135, -7.2571001052856445, -7.257299900054932, -6.18310022354126, -7.257900238037109, -7.255499839782715, -6.579100131988525, -7.283299922943115, -6.864200115203857, -6.03410005569458, -7.258200168609619, -7.918700218200684, -7.9166998863220215, -7.256400108337402, -7.917699813842773, -7.917099952697754, -7.918600082397461, -7.2555999755859375, -7.92549991607666, -7.922299861907959, -7.917799949645996, -7.918099880218506, -7.922999858856201, -7.934899806976318, -7.9166998863220215, -7.917500019073486, -7.920199871063232, -7.920300006866455, -6.86460018157959, -5.895400047302246, -5.784800052642822, -5.411200046539307, -6.371699810028076, -7.2555999755859375, -5.870500087738037, -6.57889986038208, -6.178800106048584, -5.637800216674805, -6.178899765014648, -7.2581000328063965, -6.578400135040283, -6.863699913024902, -6.361800193786621, -5.252099990844727, -4.377900123596191, -5.573299884796143, -6.179699897766113, -6.357900142669678, -5.576900005340576, -5.757299900054932, -5.625899791717529, -5.519999980926514, -5.6381001472473145, -6.169600009918213, -6.113100051879883, -6.013999938964844, -5.771100044250488, -5.752200126647949, -5.584799766540527, -5.965799808502197, -5.726200103759766, -5.645199775695801, -5.651899814605713, -5.606100082397461, -5.882299900054932, -5.825699806213379, -5.813700199127197, -5.853499889373779, -5.841400146484375, -5.866700172424316, -6.0218000411987305, -5.979700088500977, -5.977799892425537, -5.985000133514404, -6.292099952697754, -6.589600086212158, -6.267600059509277, -6.860000133514404, -6.565400123596191, -7.334000110626221, -7.2600998878479, -5.719299793243408, -7.315899848937988, -6.973700046539307, -7.4552998542785645, -6.367599964141846, -5.713399887084961, -7.278500080108643, -7.142300128936768, -6.873799800872803, -5.896999835968018, -7.265399932861328, -7.266900062561035, -7.937399864196777, -7.923600196838379, -7.925600051879883, -7.902100086212158, -7.922299861907959, -7.922599792480469, -7.926799774169922, -7.26170015335083, -7.927299976348877, -7.926700115203857, -7.931300163269043, -6.571599960327148, -4.652100086212158, -7.162799835205078, -6.814799785614014, -7.057000160217285, -4.888999938964844, -6.863800048828125, -4.524600028991699, -6.678500175476074, -6.8668999671936035, -6.46019983291626, -5.161799907684326, -5.954400062561035, -5.222799777984619, -6.033100128173828, -5.842299938201904, -6.5817999839782715, -5.42710018157959, -4.9405999183654785, -5.980199813842773, -5.709499835968018, -5.287700176239014, -5.616700172424316, -5.27869987487793, -5.304900169372559, -5.857800006866455, -5.608099937438965, -5.409299850463867, -5.428800106048584, -5.418000221252441, -5.933800220489502, -5.5441999435424805, -5.490799903869629, -5.678599834442139, -5.8225998878479, -5.810100078582764, -5.732500076293945, -5.8572001457214355, -5.932300090789795, -6.661399841308594, -6.6656999588012695, -6.661399841308594, -6.664299964904785, -6.664599895477295, -6.263500213623047, -6.2789998054504395, -5.248300075531006, -6.283299922943115, -6.265900135040283, -6.264800071716309, -7.322500228881836, -7.325200080871582, -6.661600112915039, -7.321000099182129, -7.325300216674805, -7.323200225830078, -7.371600151062012, -7.329400062561035, -7.327700138092041, -7.323299884796143, -7.321700096130371, -7.3256001472473145, -7.324900150299072, -7.323800086975098, -7.323200225830078, -7.330699920654297, -6.661600112915039, -7.305300235748291, -6.274499893188477, -6.657700061798096, -6.045899868011475, -6.659200191497803, -6.659599781036377, -6.658400058746338, -6.662899971008301, -6.658699989318848, -6.660799980163574, -5.573500156402588, -6.26609992980957, -6.656199932098389, -5.932000160217285, -6.659999847412109, -6.26639986038208, -4.970799922943115, -5.329699993133545, -5.376800060272217, -5.2692999839782715, -5.17110013961792, -5.978700160980225, -5.800099849700928, -5.72730016708374, -5.610199928283691, -5.9567999839782715, -6.297599792480469, -6.155399799346924, -6.311200141906738, -6.035399913787842, -6.027299880981445, -6.247200012207031, -6.338900089263916, -6.251399993896484, -6.163099765777588, -6.223700046539307, -6.172699928283691, -6.197299957275391, -6.219099998474121, -6.173099994659424, -6.183300018310547, -6.224899768829346, -6.239099979400635, -6.259799957275391, -5.640100002288818, -6.430600166320801, -6.3856000900268555, -6.371300220489502, -6.917300224304199, -6.915800094604492, -6.9191999435424805, -6.926300048828125, -6.917799949645996, -6.507900238037109, -6.917399883270264, -6.923299789428711, -6.917600154876709, -6.91949987411499, -6.917099952697754, -7.059199810028076, -6.256100177764893, -6.93120002746582, -6.295300006866455, -7.082799911499023, -6.918600082397461, -6.92549991607666, -6.918300151824951, -6.442599773406982, -7.099999904632568, -6.916800022125244, -6.916399955749512, -6.917699813842773, -6.917099952697754, -6.309000015258789, -4.885200023651123, -6.5746002197265625, -6.253699779510498, -6.2546000480651855, -6.324699878692627, -6.253399848937988, -6.253399848937988, -6.252500057220459, -6.251999855041504, -6.244699954986572, -5.948400020599365, -6.250699996948242, -6.56220006942749, -5.850800037384033, -5.809500217437744, -6.516499996185303, -5.432700157165527, -5.555500030517578, -5.845600128173828, -6.247399806976318, -6.108699798583984, -5.752699851989746, -5.805300235748291, -5.814700126647949, -5.686299800872803, -6.1255998611450195, -6.122799873352051, -6.1234002113342285, -6.020599842071533, -6.159999847412109, -6.181600093841553, -6.15939998626709, -6.228899955749512, -6.238500118255615, -6.235199928283691, -6.246600151062012, -6.249199867248535, -6.250100135803223, -5.0366997718811035, -5.575399875640869, -6.223899841308594, -6.228099822998047, -6.887700080871582, -6.882900238037109, -5.830999851226807, -6.888999938964844, -5.151599884033203, -6.888299942016602, -6.8850998878479, -6.888899803161621, -6.889599800109863, -6.885000228881836, -6.883999824523926, -6.888400077819824, -6.886899948120117, -4.712100028991699, -6.892199993133545, -6.883200168609619, -6.886000156402588, -4.68779993057251, -6.633999824523926, -6.887800216674805, -6.883900165557861, -6.886000156402588, -5.835299968719482, -6.881499767303467, -6.890200138092041, -6.881899833679199, -5.978799819946289, -6.160200119018555, -4.1682000160217285, -4.965099811553955, -5.734000205993652, -5.113699913024902, -5.529900074005127, -5.490699768066406, -6.402599811553955, -6.027299880981445, -5.156599998474121, -6.225200176239014, -4.8379998207092285, -5.02400016784668, -6.225900173187256, -5.256899833679199, -5.519999980926514, -5.870800018310547, -5.823400020599365, -5.751699924468994, -5.683800220489502, -5.468900203704834, -5.815899848937988, -5.85860013961792, -5.724599838256836, -5.694699764251709, -5.769899845123291, -4.713699817657471, -5.842299938201904, -5.845699787139893, -6.522500038146973, -6.5447001457214355, -6.506199836730957, -6.543099880218506, -6.58620023727417, -5.876500129699707, -6.744699954986572, -6.540200233459473, -6.6971001625061035, -6.5833001136779785, -6.504799842834473, -6.842400074005127, -6.509399890899658, -6.710100173950195, -6.503699779510498, -6.498600006103516, -6.621799945831299, -6.665900230407715, -5.444699764251709, -6.587100028991699, -6.54580020904541, -7.1803998947143555, -6.104599952697754, -6.6956000328063965, -6.501299858093262, -5.105400085449219, -6.265100002288818, -5.422900199890137, -5.5868000984191895, -6.28000020980835, -5.206900119781494, -5.720699787139893, -6.286200046539307, -5.972300052642822, -6.08519983291626, -6.147500038146973, -6.218900203704834, -6.2600998878479, -6.141499996185303, -6.205599784851074, -6.436100006103516], \"loglift\": [30.0, 29.0, 28.0, 27.0, 26.0, 25.0, 24.0, 23.0, 22.0, 21.0, 20.0, 19.0, 18.0, 17.0, 16.0, 15.0, 14.0, 13.0, 12.0, 11.0, 10.0, 9.0, 8.0, 7.0, 6.0, 5.0, 4.0, 3.0, 2.0, 1.0, 1.5570000410079956, 1.5544999837875366, 1.5282000303268433, 1.526900053024292, 1.5247999429702759, 1.5174000263214111, 1.5164999961853027, 1.5128999948501587, 1.5092999935150146, 1.5085999965667725, 1.507699966430664, 1.506100058555603, 1.5051000118255615, 1.500499963760376, 1.499899983406067, 1.499500036239624, 1.4993000030517578, 1.4972000122070312, 1.495300054550171, 1.4948999881744385, 1.4931000471115112, 1.4918999671936035, 1.4917000532150269, 1.4895999431610107, 1.4889999628067017, 1.488700032234192, 1.4871000051498413, 1.486899971961975, 1.4865000247955322, 1.4859999418258667, 1.4855999946594238, 1.4769999980926514, 1.4673999547958374, 1.4607000350952148, 1.4782999753952026, 1.4450000524520874, 1.422700047492981, 1.4696999788284302, 1.4012999534606934, 1.4301999807357788, 1.45169997215271, 1.469499945640564, 1.3628000020980835, 1.2257000207901, 1.2884999513626099, 1.4132000207901, 1.336899995803833, 1.3932000398635864, 1.3076000213623047, 1.267199993133545, 1.3323999643325806, 1.245300054550171, 1.1207000017166138, 1.3265000581741333, 1.0866999626159668, 1.1806000471115112, 1.256500005722046, 1.3681999444961548, 1.2376999855041504, 1.0699000358581543, 1.021399974822998, 0.8619999885559082, 0.819599986076355, 1.1262999773025513, 0.9053999781608582, 0.9071000218391418, 0.9818999767303467, 1.1629999876022339, 0.9420999884605408, 0.9815999865531921, 0.44909998774528503, 0.8151000142097473, 0.9682999849319458, 0.9330000281333923, 1.0806000232696533, 0.4661000072956085, 0.4706000089645386, 0.3330000042915344, 0.30809998512268066, 0.07109999656677246, 0.17139999568462372, 0.36489999294281006, 0.30640000104904175, 0.49320000410079956, 0.6150000095367432, 0.450300008058548, 0.28540000319480896, 0.2184000015258789, 0.037700001150369644, 0.16089999675750732, 0.4212000072002411, -0.17589999735355377, -0.20280000567436218, 0.2775999903678894, -0.3452000021934509, 0.305400013923645, 0.23260000348091125, 0.08179999887943268, 0.1151999980211258, 1.7447999715805054, 1.743399977684021, 1.7402000427246094, 1.7395999431610107, 1.7371000051498413, 1.7369999885559082, 1.736899971961975, 1.736899971961975, 1.7314000129699707, 1.7302000522613525, 1.7263000011444092, 1.7259000539779663, 1.7252999544143677, 1.7252999544143677, 1.7246999740600586, 1.7235000133514404, 1.7223000526428223, 1.720900058746338, 1.719599962234497, 1.711400032043457, 1.7091000080108643, 1.7066999673843384, 1.705199956893921, 1.697700023651123, 1.6852999925613403, 1.6829999685287476, 1.680999994277954, 1.6780999898910522, 1.6755000352859497, 1.6751999855041504, 1.6712000370025635, 1.6692999601364136, 1.6574000120162964, 1.63919997215271, 1.6312999725341797, 1.5634000301361084, 1.4726999998092651, 1.2276999950408936, 1.403499960899353, 0.6341000199317932, 0.9929999709129333, 0.8208000063896179, 0.7731000185012817, 0.7081000208854675, 0.5655999779701233, 0.3483999967575073, 0.781499981880188, 0.8352000117301941, 0.31139999628067017, 1.1680999994277954, 0.5924000144004822, 0.38589999079704285, 0.2110999971628189, 0.382999986410141, 0.5012000203132629, 0.11259999871253967, -0.08330000191926956, 0.23520000278949738, 0.3725999891757965, 0.04769999906420708, 0.15870000422000885, 0.3946000039577484, 0.4731999933719635, -0.23759999871253967, 1.7510000467300415, 1.7139999866485596, 1.708400011062622, 1.7067999839782715, 1.7001999616622925, 1.698799967765808, 1.6985000371932983, 1.6888999938964844, 1.6859999895095825, 1.6806000471115112, 1.677899956703186, 1.677299976348877, 1.676800012588501, 1.6765999794006348, 1.6761000156402588, 1.6759999990463257, 1.6756999492645264, 1.6748000383377075, 1.6741000413894653, 1.6726000308990479, 1.6723999977111816, 1.670699954032898, 1.6704000234603882, 1.6686999797821045, 1.6685999631881714, 1.6663999557495117, 1.6657999753952026, 1.6647000312805176, 1.6646000146865845, 1.6586999893188477, 1.6439000368118286, 1.6117000579833984, 1.579300045967102, 1.5470000505447388, 1.5743999481201172, 1.6332000494003296, 1.6267999410629272, 1.6583000421524048, 1.4294999837875366, 1.655400037765503, 1.4005999565124512, 1.5408999919891357, 1.4408999681472778, 1.4658000469207764, 1.1430000066757202, 1.4277000427246094, 1.3867000341415405, 1.4891999959945679, 0.9962000250816345, 1.045799970626831, 1.5253000259399414, 1.4591000080108643, 1.0219000577926636, 1.0252000093460083, 0.8525000214576721, 1.069200038909912, 1.0297000408172607, 0.9348999857902527, 0.4997999966144562, 0.5339999794960022, 1.0318000316619873, 0.6664000153541565, 0.5547000169754028, 0.11909999698400497, 0.41440001130104065, 0.5475999712944031, 0.5985999703407288, 0.7049999833106995, -0.02969999983906746, 0.3366999924182892, 0.043800000101327896, 0.4749999940395355, 0.21130000054836273, 0.06080000102519989, -0.10119999945163727, 0.22709999978542328, 0.23589999973773956, 0.21940000355243683, 0.1111999973654747, 0.33219999074935913, 0.19009999930858612, -0.11739999800920486, -0.3127000033855438, -0.00279999990016222, -0.37380000948905945, -0.12189999967813492, 0.09640000015497208, 0.22509999573230743, -0.07540000230073929, -0.22290000319480896, -0.6245999932289124, 1.8766000270843506, 1.8625999689102173, 1.8592000007629395, 1.8523000478744507, 1.8516000509262085, 1.839400053024292, 1.8336999416351318, 1.8330999612808228, 1.830199956893921, 1.8276000022888184, 1.8217999935150146, 1.8036999702453613, 1.8026000261306763, 1.7994999885559082, 1.798699975013733, 1.7892999649047852, 1.7768000364303589, 1.7719999551773071, 1.7706999778747559, 1.770300030708313, 1.7623000144958496, 1.761199951171875, 1.7592999935150146, 1.7575000524520874, 1.7519999742507935, 1.7503000497817993, 1.7493000030517578, 1.7440999746322632, 1.7431000471115112, 1.742300033569336, 1.7208000421524048, 1.73989999294281, 1.7272000312805176, 1.7369999885559082, 1.63510000705719, 1.4292999505996704, 1.3423000574111938, 1.6237000226974487, 1.445099949836731, 1.287500023841858, 1.5378999710083008, 1.045199990272522, 1.3157000541687012, 1.292199969291687, 1.0006999969482422, 1.1549999713897705, 1.2503000497817993, 1.13510000705719, 0.8659999966621399, 0.2930000126361847, 0.24650000035762787, 0.8984000086784363, 0.5095000267028809, 0.2003999948501587, 0.4733999967575073, 0.3864000141620636, 0.32280001044273376, 0.7142999768257141, 0.4269999861717224, 0.3682999908924103, 0.644599974155426, 0.4097999930381775, 0.13670000433921814, 0.17720000445842743, -0.13339999318122864, 0.3546999990940094, -0.23819999396800995, -0.08699999749660492, -0.44269999861717224, 0.0038999998942017555, -0.25189998745918274, 2.0058000087738037, 1.9845000505447388, 1.967900037765503, 1.9673000574111938, 1.9644999504089355, 1.957900047302246, 1.9492000341415405, 1.9479000568389893, 1.9465999603271484, 1.9329999685287476, 1.9280999898910522, 1.9127000570297241, 1.8955999612808228, 1.892799973487854, 1.875499963760376, 1.874899983406067, 1.8615000247955322, 1.8544000387191772, 1.8443000316619873, 1.8086999654769897, 1.8039000034332275, 1.7972999811172485, 1.7817000150680542, 1.7811000347137451, 1.7685999870300293, 1.7655999660491943, 1.7489999532699585, 1.7483999729156494, 1.7444000244140625, 1.7438000440597534, 1.720900058746338, 1.6756000518798828, 1.6556999683380127, 1.607200026512146, 1.5331000089645386, 1.537600040435791, 1.2171000242233276, 1.5855000019073486, 1.642199993133545, 0.6521999835968018, 0.9919000267982483, 0.7351999878883362, 1.0562000274658203, 0.7832000255584717, 0.46799999475479126, 0.8065000176429749, 0.44620001316070557, 0.13699999451637268, 0.25999999046325684, 0.19189999997615814, 0.5902000069618225, 0.565500020980835, 0.39980000257492065, 0.6126000285148621, 0.4948999881744385, 0.1656000018119812, 0.10090000182390213, 0.6855000257492065, 0.2190999984741211, -0.09359999746084213, 0.1679999977350235, 2.714600086212158, 2.608799934387207, 2.582200050354004, 2.5636000633239746, 2.549499988555908, 2.5002999305725098, 2.4398000240325928, 2.437299966812134, 2.4302000999450684, 2.391400098800659, 2.385200023651123, 2.3840999603271484, 2.3835999965667725, 2.380000114440918, 2.3763999938964844, 2.3685998916625977, 2.365999937057495, 2.365799903869629, 2.364500045776367, 2.363100051879883, 2.359800100326538, 2.358099937438965, 2.338900089263916, 2.3327999114990234, 2.3299999237060547, 2.303499937057495, 2.2980000972747803, 2.28410005569458, 2.2832000255584717, 2.282099962234497, 2.270400047302246, 2.141900062561035, 2.217900037765503, 2.2019999027252197, 2.055500030517578, 2.2016000747680664, 2.1029999256134033, 2.1396000385284424, 2.1761999130249023, 1.6260000467300415, 1.4316999912261963, 2.1166999340057373, 1.4605000019073486, 1.4562000036239624, 1.476699948310852, 1.6917999982833862, 1.8523999452590942, 1.0408999919891357, 1.4732999801635742, 0.3862999975681305, 1.3791999816894531, 1.4970999956130981, 0.1777999997138977, 1.1058000326156616, 1.1196000576019287, 0.5034000277519226, 0.7152000069618225, 0.1193000003695488, 0.25279998779296875, 0.43290001153945923, 0.19779999554157257, 0.041999999433755875, 0.7063000202178955, -0.08389999717473984, 0.250900000333786, 0.3301999866962433, 0.39239999651908875, -0.2296999990940094, -0.3059000074863434, 0.5928000211715698, 0.352400004863739, 0.15629999339580536, -0.05270000174641609, 0.1306000053882599, -0.39959999918937683, 0.09889999777078629, -0.3379000127315521, 0.3538999855518341, 0.07199999690055847, -0.15700000524520874, -0.35910001397132874, 2.8466999530792236, 2.813800096511841, 2.802999973297119, 2.7483999729156494, 2.7304000854492188, 2.7044999599456787, 2.6791000366210938, 2.6735000610351562, 2.6610000133514404, 2.655100107192993, 2.6438000202178955, 2.6373000144958496, 2.6203999519348145, 2.5968000888824463, 2.577500104904175, 2.5494000911712646, 2.5487000942230225, 2.5413999557495117, 2.541100025177002, 2.5355000495910645, 2.5236001014709473, 2.4802000522613525, 2.473400115966797, 2.4723000526428223, 2.470599889755249, 2.4697000980377197, 2.454900026321411, 2.4514000415802, 2.4433999061584473, 2.438699960708618, 2.4344000816345215, 2.3940000534057617, 2.3401999473571777, 2.2451999187469482, 2.4321000576019287, 2.0107998847961426, 2.2952001094818115, 2.1803998947143555, 2.2249999046325684, 2.238100051879883, 2.2385001182556152, 2.07450008392334, 2.3473000526428223, 1.679800033569336, 1.9493999481201172, 1.8739999532699585, 1.808899998664856, 1.9910000562667847, 1.815500020980835, 1.8180999755859375, 1.7856999635696411, 1.8940999507904053, 2.0220999717712402, 1.5236999988555908, 1.0161999464035034, 1.0600999593734741, 1.6303999423980713, 0.361299991607666, 0.04989999905228615, 0.14949999749660492, 0.1096000000834465, 0.453000009059906, 0.4837000072002411, 0.053300000727176666, 0.3199999928474426, 0.22840000689029694, -0.03400000184774399, -0.3594000041484833, -0.05790000036358833, 0.38029998540878296, -0.09880000352859497, -0.42179998755455017, 0.14110000431537628, -0.49970000982284546, -0.18549999594688416, 0.03909999877214432, 0.2143000066280365, 3.2493999004364014, 3.2353999614715576, 3.207200050354004, 3.1696999073028564, 3.15339994430542, 3.1071999073028564, 3.0776000022888184, 3.0485000610351562, 2.976599931716919, 2.937299966812134, 2.8945000171661377, 2.88070011138916, 2.850100040435791, 2.8415000438690186, 2.8203001022338867, 2.782399892807007, 2.7743000984191895, 2.755199909210205, 2.7063000202178955, 2.6875998973846436, 2.666599988937378, 2.660399913787842, 2.6217000484466553, 2.61929988861084, 2.6187000274658203, 2.573699951171875, 2.524600028991699, 2.5100998878479004, 2.5076000690460205, 2.506700038909912, 2.4077000617980957, 2.392400026321411, 2.486799955368042, 2.2815001010894775, 1.906599998474121, 2.2035000324249268, 1.7311999797821045, 2.0769999027252197, 1.9401999711990356, 0.8539999723434448, 0.63919997215271, 0.8216000199317932, 0.6618000268936157, 0.5979999899864197, 1.1009999513626099, 1.3065999746322632, 0.36500000953674316, 0.7883999943733215, 0.6037999987602234, 0.10199999809265137, 0.682200014591217, 0.8327999711036682, 0.36309999227523804, 0.5522000193595886, -0.11760000139474869, 0.147599995136261, 0.14229999482631683, 0.13910000026226044, 0.36000001430511475, 0.17339999973773956, 0.521399974822998, 3.9916999340057373, 3.759500026702881, 3.586400032043457, 3.524899959564209, 3.416800022125244, 3.385999917984009, 3.3842999935150146, 3.367500066757202, 3.358099937438965, 3.312299966812134, 3.28439998626709, 3.2476000785827637, 3.213099956512451, 3.154400110244751, 3.1526999473571777, 3.1451001167297363, 3.142699956893921, 3.125499963760376, 3.124500036239624, 3.0920000076293945, 3.0678000450134277, 3.05049991607666, 3.0302000045776367, 3.0209999084472656, 2.999799966812134, 2.9955999851226807, 2.993799924850464, 2.9677000045776367, 2.9616000652313232, 2.9502999782562256, 2.6628000736236572, 2.7595999240875244, 2.892699956893921, 2.762200117111206, 2.1740000247955322, 2.648900032043457, 2.5827999114990234, 2.043800115585327, 1.6754000186920166, 2.1298000812530518, 1.7696000337600708, 2.744499921798706, 1.5999000072479248, 1.8543000221252441, 0.47690001130104065, 0.4293999969959259, 0.534600019454956, 1.5154000520706177, 1.3265000581741333, 0.19789999723434448, -0.03840000182390213, 1.0140000581741333, 0.325300008058548, 0.39329999685287476, 0.20000000298023224, 0.6448000073432922, 0.954200029373169, -0.1356000006198883, 0.546999990940094, 1.5741000175476074, 0.891700029373169, 0.3804999887943268, -0.013500000350177288, -0.498199999332428, -0.3497999906539917, -0.1005999967455864, 0.3806000053882599, -0.35429999232292175, 0.14730000495910645, 0.1818999946117401, -0.6553000211715698, 3.565000057220459, 3.5485999584198, 3.4697000980377197, 3.4217000007629395, 3.4193999767303467, 3.4059998989105225, 3.3675999641418457, 3.3310000896453857, 3.3268001079559326, 3.2644999027252197, 3.2304999828338623, 3.2279000282287598, 3.164400100708008, 3.0987000465393066, 3.0987000465393066, 3.0952999591827393, 3.0690999031066895, 3.0671000480651855, 3.0625, 3.059799909591675, 3.0555999279022217, 3.0541000366210938, 3.0471999645233154, 3.0439999103546143, 3.0439000129699707, 3.0408999919891357, 3.039599895477295, 3.0371999740600586, 3.0360000133514404, 3.032900094985962, 3.0290000438690186, 2.990499973297119, 2.9646999835968018, 2.813699960708618, 2.752500057220459, 2.918100118637085, 2.6308999061584473, 2.7558000087738037, 2.446199893951416, 2.2142999172210693, 2.331700086593628, 2.7716000080108643, 2.4518001079559326, 2.57450008392334, 2.3122000694274902, 1.736799955368042, 0.9593999981880188, 1.6449999809265137, 2.0882999897003174, 2.234600067138672, 1.4600000381469727, 1.2653000354766846, 1.0520999431610107, 0.717199981212616, 0.629800021648407, 1.54830002784729, 1.3777999877929688, 1.1721999645233154, 0.5001999735832214, 0.41690000891685486, -0.14100000262260437, 0.8360999822616577, 0.10530000180006027, -0.16779999434947968, -0.17880000174045563, -0.4009999930858612, 0.33980000019073486, -0.019099999219179153, -0.1251000016927719, 0.009600000455975533, -0.3806999921798706, -0.47679999470710754, 0.9143000245094299, 0.12160000205039978, 0.019899999722838402, -0.05130000039935112, 4.150300025939941, 3.889899969100952, 3.807300090789795, 3.749300003051758, 3.697000026702881, 3.683000087738037, 3.59060001373291, 3.5573999881744385, 3.4458000659942627, 3.38700008392334, 3.375999927520752, 3.365000009536743, 3.315500020980835, 3.3024001121520996, 3.2909998893737793, 3.2304000854492188, 3.188499927520752, 3.170099973678589, 3.158600091934204, 3.144200086593628, 3.1354000568389893, 3.11680006980896, 3.115299940109253, 3.108599901199341, 3.0968000888824463, 3.094399929046631, 3.071700096130371, 3.0683000087738037, 3.057499885559082, 3.0571999549865723, 2.938999891281128, 2.5973000526428223, 2.9514000415802, 2.8931000232696533, 2.8819000720977783, 2.2929000854492188, 2.787100076675415, 2.036099910736084, 2.7179999351501465, 2.6768999099731445, 2.423099994659424, 1.5262000560760498, 1.8659000396728516, 1.0627000331878662, 1.8157000541687012, 1.5465999841690063, 2.382699966430664, 1.0, 0.39660000801086426, 1.6482000350952148, 1.284999966621399, 0.6880000233650208, 1.1454999446868896, 0.6549000144004822, 0.5249000191688538, 1.15339994430542, 0.6251999735832214, 0.05139999836683273, 0.044199999421834946, -0.02810000069439411, 1.2144999504089355, -0.06669999659061432, -0.2856000065803528, -0.06729999929666519, 0.6054999828338623, 0.5196999907493591, -0.2888000011444092, 0.25839999318122864, -0.1006999984383583, 4.235899925231934, 4.201000213623047, 4.19980001449585, 4.074900150299072, 4.038599967956543, 3.9607999324798584, 3.9398000240325928, 3.7934000492095947, 3.7860000133514404, 3.7839999198913574, 3.7258999347686768, 3.698699951171875, 3.690999984741211, 3.6891000270843506, 3.685800075531006, 3.680299997329712, 3.674799919128418, 3.6709001064300537, 3.6695001125335693, 3.6663999557495117, 3.6633999347686768, 3.65939998626709, 3.6589999198913574, 3.658799886703491, 3.652600049972534, 3.6463000774383545, 3.6263999938964844, 3.61680006980896, 3.592099905014038, 3.5768001079559326, 3.5652999877929688, 3.3794000148773193, 3.4416000843048096, 3.4022998809814453, 3.3787999153137207, 3.2857000827789307, 3.2184998989105225, 3.129699945449829, 1.8152999877929688, 2.5548999309539795, 2.9532999992370605, 1.9200999736785889, 2.8392999172210693, 2.3213999271392822, 0.48989999294281006, 0.9381999969482422, 0.8309999704360962, 0.5835999846458435, 0.03400000184774399, 1.71589994430542, 0.8676000237464905, 0.539900004863739, -0.1664000004529953, 0.8776000142097473, 2.0381999015808105, 1.1835999488830566, 1.8544000387191772, 0.4016000032424927, 0.1655000001192093, 1.101199984550476, 1.7020000219345093, 0.8988000154495239, 0.0625, 0.6313999891281128, -0.015399999916553497, 0.10329999774694443, 0.5393999814987183, -0.7001000046730042, -0.3767000138759613, 0.14180000126361847, 0.5353999733924866, 4.534800052642822, 4.457499980926514, 4.28849983215332, 4.217700004577637, 4.211100101470947, 4.164299964904785, 4.147900104522705, 4.139800071716309, 4.126100063323975, 4.108500003814697, 4.107900142669678, 4.107699871063232, 4.089600086212158, 4.086900234222412, 4.073200225830078, 4.070899963378906, 4.0416998863220215, 4.03000020980835, 3.9955999851226807, 3.99180006980896, 3.9442999362945557, 3.9316000938415527, 3.9291999340057373, 3.921299934387207, 3.9163999557495117, 3.9154000282287598, 3.9123001098632812, 3.911400079727173, 3.9082999229431152, 3.9068000316619873, 3.7916998863220215, 2.977799892425537, 3.6036999225616455, 3.176300048828125, 3.074399948120117, 3.157900094985962, 2.9798998832702637, 2.838599920272827, 2.7643001079559326, 2.758699893951416, 2.697999954223633, 2.0260000228881836, 2.6651999950408936, 3.2960000038146973, 1.4620000123977661, 1.2977999448776245, 3.0882999897003174, 0.1785999983549118, 0.420199990272522, 1.1276999711990356, 2.2356998920440674, 1.773300051689148, 0.5630000233650208, 0.3594000041484833, 0.39309999346733093, -0.225600004196167, 1.6230000257492065, 1.3691999912261963, 0.8331999778747559, -0.8154000043869019, 0.6654000282287598, 1.0372999906539917, 0.06270000338554382, 1.6826000213623047, 1.7410999536514282, 0.7486000061035156, 1.836300015449524, 1.86080002784729, 2.214900016784668, 5.5152997970581055, 5.285099983215332, 4.734399795532227, 4.529300212860107, 4.213200092315674, 4.158100128173828, 4.1381001472473145, 4.123799800872803, 4.0808000564575195, 3.9772000312805176, 3.9769999980926514, 3.967400074005127, 3.9653000831604004, 3.9623000621795654, 3.9268999099731445, 3.9207000732421875, 3.839600086212158, 3.819000005722046, 3.775399923324585, 3.727299928665161, 3.6912999153137207, 3.6208999156951904, 3.5954999923706055, 3.585400104522705, 3.5583999156951904, 3.50600004196167, 3.4839999675750732, 3.4458999633789062, 3.3756000995635986, 3.3606998920440674, 3.316999912261963, 3.2467000484466553, 2.1203999519348145, 2.3477001190185547, 2.6577999591827393, 1.965000033378601, 2.1324000358581543, 2.016900062561035, 3.101799964904785, 2.519200086593628, 1.1105999946594238, 2.8164000511169434, 0.3671000003814697, 0.4196999967098236, 2.7044999599456787, 0.6119999885559082, 1.1610000133514404, 1.9031000137329102, 1.7335000038146973, 1.4395999908447266, 1.1468000411987305, 0.5069000124931335, 1.2294000387191772, 1.3003000020980835, 0.703499972820282, 0.1120000034570694, 0.5600000023841858, 5.251999855041504, 5.031400203704834, 4.997399806976318, 4.561800003051758, 4.558899879455566, 4.546800136566162, 4.524400234222412, 4.490499973297119, 4.465000152587891, 4.289999961853027, 4.167699813842773, 4.138400077819824, 4.112100124359131, 4.109399795532227, 4.018099784851074, 3.9918999671936035, 3.987799882888794, 3.9690001010894775, 3.550600051879883, 3.47379994392395, 3.4565000534057617, 3.3554000854492188, 3.3166000843048096, 3.2792999744415283, 3.2286999225616455, 3.154099941253662, 3.1078999042510986, 2.9814000129699707, 2.890700101852417, 2.8387999534606934, 2.5313000679016113, 2.0754001140594482, 2.5446999073028564, 0.13030000030994415, 0.4440999925136566, 2.253000020980835, 1.121999979019165, 0.5647000074386597, 0.5896999835968018, 0.43869999051094055, 0.6888999938964844, -0.9362999796867371, -0.36739999055862427, -0.5672000050544739]}, \"token.table\": {\"Topic\": [2, 5, 8, 1, 8, 1, 2, 3, 4, 5, 6, 7, 8, 9, 10, 11, 12, 5, 11, 3, 1, 3, 6, 7, 10, 1, 10, 11, 1, 2, 3, 4, 5, 6, 7, 8, 9, 10, 13, 3, 4, 9, 11, 1, 2, 3, 4, 5, 6, 7, 8, 10, 12, 13, 1, 2, 3, 4, 5, 6, 7, 8, 11, 12, 14, 1, 2, 3, 4, 5, 6, 7, 8, 9, 10, 11, 14, 1, 3, 1, 3, 7, 1, 2, 3, 4, 5, 6, 9, 3, 6, 7, 1, 6, 7, 10, 2, 4, 6, 1, 2, 3, 4, 5, 6, 7, 8, 9, 10, 11, 12, 13, 4, 7, 8, 9, 11, 1, 2, 3, 4, 6, 8, 1, 2, 3, 4, 5, 6, 7, 8, 9, 10, 12, 3, 7, 10, 1, 3, 6, 7, 12, 1, 6, 7, 10, 1, 2, 3, 4, 5, 6, 7, 8, 9, 10, 11, 12, 3, 6, 9, 1, 2, 3, 4, 5, 6, 7, 8, 11, 1, 6, 7, 9, 4, 6, 2, 12, 1, 8, 1, 2, 3, 4, 5, 6, 8, 10, 11, 1, 3, 4, 5, 14, 1, 2, 3, 4, 5, 6, 7, 8, 9, 10, 11, 12, 14, 3, 2, 4, 5, 9, 3, 7, 8, 4, 5, 1, 5, 6, 9, 14, 1, 3, 6, 7, 8, 2, 5, 8, 11, 14, 2, 1, 2, 4, 5, 11, 2, 5, 14, 4, 6, 1, 3, 6, 7, 8, 1, 2, 3, 4, 5, 6, 7, 8, 9, 10, 13, 14, 1, 2, 3, 4, 5, 6, 7, 8, 9, 10, 11, 12, 13, 2, 4, 5, 6, 8, 1, 3, 12, 7, 8, 13, 4, 6, 2, 4, 10, 2, 4, 5, 1, 3, 6, 7, 8, 6, 1, 3, 5, 2, 4, 10, 1, 2, 3, 5, 6, 7, 1, 3, 5, 6, 7, 9, 10, 1, 1, 1, 1, 3, 6, 9, 11, 1, 6, 1, 2, 3, 4, 5, 6, 8, 9, 10, 11, 14, 3, 6, 1, 2, 3, 4, 5, 6, 7, 8, 9, 10, 12, 1, 3, 4, 5, 6, 7, 9, 13, 1, 3, 6, 2, 1, 2, 3, 4, 5, 6, 8, 11, 12, 4, 5, 1, 2, 3, 5, 6, 7, 10, 1, 3, 4, 6, 7, 8, 3, 6, 10, 2, 6, 7, 8, 9, 11, 1, 2, 3, 4, 5, 6, 7, 9, 11, 13, 14, 2, 5, 14, 1, 3, 7, 9, 10, 6, 8, 10, 1, 6, 10, 3, 5, 6, 7, 1, 2, 3, 4, 5, 6, 7, 8, 9, 10, 11, 12, 2, 5, 15, 1, 3, 6, 7, 8, 1, 2, 3, 11, 1, 2, 3, 4, 5, 6, 7, 8, 9, 12, 14, 1, 3, 4, 7, 8, 9, 3, 5, 9, 2, 4, 6, 3, 1, 2, 3, 7, 10, 13, 1, 7, 1, 2, 3, 4, 5, 6, 7, 8, 9, 10, 11, 12, 1, 1, 2, 3, 4, 5, 6, 7, 8, 9, 10, 11, 6, 7, 1, 2, 3, 4, 5, 6, 7, 13, 4, 5, 6, 8, 1, 2, 3, 6, 10, 2, 4, 5, 4, 6, 9, 1, 2, 3, 4, 5, 6, 7, 8, 10, 11, 12, 13, 14, 1, 2, 3, 4, 5, 6, 7, 8, 9, 10, 11, 12, 13, 14, 6, 7, 1, 2, 3, 4, 5, 6, 7, 8, 9, 10, 13, 2, 5, 8, 11, 4, 7, 1, 7, 1, 2, 3, 4, 5, 7, 1, 2, 3, 4, 5, 6, 7, 8, 9, 10, 1, 2, 3, 5, 6, 4, 5, 3, 8, 10, 2, 6, 14, 2, 5, 8, 2, 1, 2, 4, 5, 6, 7, 10, 1, 5, 6, 7, 12, 1, 2, 3, 4, 5, 6, 7, 8, 9, 10, 11, 12, 14, 1, 3, 6, 7, 1, 2, 4, 9, 3, 6, 7, 12, 1, 5, 8, 10, 1, 2, 4, 7, 8, 2, 5, 8, 11, 5, 11, 1, 7, 11, 2, 3, 4, 5, 12, 3, 4, 5, 1, 7, 9, 3, 5, 8, 9, 3, 7, 12, 1, 3, 4, 5, 8, 9, 12, 1, 8, 1, 3, 6, 8, 1, 4, 8, 1, 3, 6, 1, 3, 5, 6, 3, 8, 9, 1, 1, 3, 6, 2, 4, 10, 1, 2, 3, 5, 6, 7, 8, 9, 11, 12, 13, 4, 5, 4, 5, 3, 7, 1, 2, 3, 4, 5, 6, 7, 8, 9, 10, 11, 12, 1, 2, 4, 1, 2, 3, 4, 5, 6, 7, 8, 10, 11, 14, 1, 2, 3, 4, 5, 6, 7, 8, 9, 11, 13, 2, 9, 4, 1, 2, 2, 10, 1, 3, 7, 1, 3, 3, 11, 1, 3, 4, 5, 6, 7, 9, 10, 1, 2, 3, 4, 5, 6, 8, 9, 10, 11, 12, 1, 3, 9, 4, 5, 1, 6, 9, 10, 3, 4, 7, 9, 1, 2, 3, 4, 5, 6, 7, 8, 13, 1, 3, 4, 6, 7, 10, 11, 12, 1, 2, 4, 5, 11, 5, 1, 6, 1, 4, 11, 12, 4, 1, 3, 5, 2, 5, 3, 4, 2, 5, 1, 2, 3, 4, 5, 6, 7, 8, 9, 10, 1, 3, 6, 7, 4, 1, 2, 4, 5, 6, 7, 13, 1, 2, 3, 4, 5, 6, 7, 8, 1, 4, 1, 1, 2, 3, 4, 5, 6, 7, 5, 6, 3, 3, 4, 5, 6, 1, 2, 3, 4, 5, 9, 10, 2, 4, 5, 8, 11, 1, 3, 6, 7, 8, 2, 4, 5, 8, 11, 14, 1, 3, 5, 6, 7, 10, 3, 6, 10, 11, 12, 1, 2, 3, 4, 5, 6, 7, 8, 9, 10, 11, 14, 2, 4, 5, 10, 1, 2, 3, 4, 5, 6, 7, 8, 9, 10, 1, 2, 3, 4, 5, 6, 7, 8, 9, 10, 12, 2, 5, 11, 3, 5, 6, 11, 2, 3, 12, 1, 2, 3, 4, 5, 6, 7, 8, 9, 11, 13, 1, 2, 3, 4, 6, 7, 8, 9, 1, 6, 7, 10, 1, 3, 6, 7, 10, 1, 3, 6, 7, 8, 6, 7, 4, 6, 7, 12, 2, 6, 7, 12, 3, 1, 3, 4, 5, 7, 9, 10, 11, 13, 2, 5, 11, 3, 5, 1, 2, 3, 4, 5, 6, 7, 8, 9, 10, 12, 13, 1, 2, 3, 4, 5, 6, 7, 8, 9, 10, 12, 1, 3, 6, 7, 8, 12, 1, 2, 3, 4, 5, 6, 7, 8, 9, 10, 12, 13, 3, 1, 2, 3, 4, 5, 6, 7, 8, 9, 11, 1, 2, 3, 4, 5, 6, 7, 8, 9, 10, 11, 12, 13, 1, 3, 9, 4, 5, 3, 4, 6, 8, 9, 12, 1, 2, 3, 5, 6, 7, 12, 1, 2, 3, 4, 5, 6, 7, 8, 9, 10, 11, 3, 1, 2, 3, 4, 5, 6, 7, 13, 1, 3, 7, 1, 3, 6, 8, 12, 1, 3, 4, 5, 11, 1, 3, 5, 1, 2, 3, 4, 5, 6, 7, 8, 9, 11, 12, 1, 2, 3, 4, 5, 6, 7, 8, 9, 10, 11, 12, 1, 7, 4, 5, 1, 2, 3, 4, 5, 6, 7, 8, 12, 3, 2, 3, 4, 12, 13, 1, 2, 3, 4, 5, 6, 7, 8, 9, 10, 11, 12, 2, 4, 1, 7, 8, 1, 2, 3, 4, 5, 6, 7, 8, 9, 12, 2, 3, 2, 4, 7, 1, 3, 6, 1, 3, 7, 9, 3, 6, 9, 10, 1, 2, 3, 4, 5, 8, 11, 4, 7, 1, 2, 3, 4, 5, 6, 7, 8, 10, 11, 1, 2, 3, 7, 1, 2, 3, 4, 5, 6, 7, 9, 1, 5, 13, 2, 4, 10, 1, 3, 6, 7, 8, 13, 1, 2, 3, 4, 5, 6, 7, 8, 9, 10, 11, 12, 13, 14, 1, 2, 4, 5, 6, 7, 8, 10, 11, 3, 5, 10, 1, 2, 3, 4, 6, 7, 8, 10, 2, 6, 9, 12, 1, 8, 1, 3, 4, 6, 7, 8, 1, 2, 3, 4, 5, 6, 7, 8, 9, 10, 12, 13, 1, 2, 3, 4, 5, 6, 7, 8, 9, 10, 11, 12, 1, 2, 3, 4, 5, 6, 7, 9, 10, 1, 3, 2, 5, 8, 1, 3, 6, 9, 1, 2, 3, 4, 5, 6, 7, 8, 9, 10, 11, 12, 14, 1, 3, 4, 5, 6, 8, 1, 3, 10, 12, 3, 5, 7, 8, 11, 1, 2, 3, 4, 5, 6, 7, 8, 9, 10, 11, 12, 14, 1, 3, 5, 7, 12, 1, 4, 5, 9, 2, 3, 5, 9, 11, 3, 5, 14, 1, 1, 2, 3, 4, 5, 6, 7, 8, 9, 1, 2, 3, 4, 5, 6, 7, 8, 9, 10, 11, 12, 1, 2, 3, 4, 5, 6, 7, 8, 10, 11, 13, 1, 1, 2, 3, 4, 5, 6, 7, 8, 9, 10, 11, 12, 14, 1, 3, 4, 6, 7, 8, 1, 3, 5, 6, 8, 4, 1, 2, 3, 4, 5, 6, 13, 2, 3, 4, 5, 8, 11, 2, 5, 8, 2, 5, 8, 15, 6, 8, 1, 2, 3, 4, 5, 6, 7, 8, 9, 11, 12, 1, 2, 3, 4, 5, 6, 7, 8, 9, 10, 11, 12, 13, 14, 1, 2, 3, 4, 5, 6, 7, 8, 9, 10, 11, 12, 13, 3, 4, 5, 11, 6, 1, 6, 7, 10, 3, 4, 10, 11, 12, 2, 3, 4, 5, 6, 7, 10, 3, 10, 2, 2, 5, 8, 11, 1, 2, 3, 4, 5, 6, 7, 8, 9, 10, 1, 2, 3, 4, 5, 6, 7, 8, 9, 10, 11, 14, 1, 2, 3, 4, 5, 6, 7, 8, 9, 10, 11, 14, 1, 2, 3, 4, 5, 6, 7, 8, 9, 10, 11, 12, 13, 1, 2, 3, 4, 5, 6, 7, 8, 1, 3, 6, 7, 9, 2, 2, 8, 10, 2, 3, 4, 8, 12, 3, 1, 2, 3, 4, 5, 6, 7, 8, 9, 10, 11, 13, 1, 3, 6, 7, 10, 1, 3, 6, 11, 3, 9, 2, 4, 5, 10, 2, 4, 10, 1, 3, 6, 7, 1, 3, 7, 9, 1, 2, 6, 11, 1, 3, 6, 7, 9, 10, 1, 2, 3, 4, 5, 6, 10, 11, 14, 1, 1, 6, 7, 9, 1, 2, 3, 6, 7, 9, 12, 1, 6, 3, 5, 6, 7, 8, 10, 11, 2, 4, 7, 8, 4, 1, 7, 13, 1, 5, 6, 5, 14, 5, 6, 8, 1, 2, 3, 4, 5, 6, 7, 8, 9, 11, 12, 1, 3, 6, 7, 10, 4, 5, 1, 6, 12, 1, 2, 3, 4, 5, 6, 7, 8, 9, 11, 12, 13, 14, 2, 3, 4, 1, 6, 7, 2, 3, 4, 2, 1, 2, 3, 4, 5, 6, 7, 8, 9, 10, 2, 2, 8, 2, 4, 8, 1, 2, 3, 4, 5, 6, 7, 8, 9, 10, 11, 12, 13, 2, 4, 5, 8, 11, 5, 8, 14, 1, 2, 3, 4, 5, 6, 7, 8, 9, 10, 11, 12, 13, 14, 1, 2, 3, 4, 5, 6, 7, 8, 9, 10, 11, 14, 1, 2, 3, 4, 6, 7, 8, 1, 2, 3, 5, 6, 7, 8, 10, 2, 3, 8, 9, 1, 2, 3, 4, 5, 6, 7, 8, 9, 10, 11, 12, 3, 12, 2, 3, 5, 12, 1, 3, 5, 3, 8, 10, 1, 2, 3, 4, 5, 6, 7, 8, 9, 10, 12, 1, 3, 1, 2, 3, 4, 5, 6, 7, 8, 9, 10, 11, 12, 14, 1, 2, 3, 4, 5, 6, 7, 8, 9, 12, 1, 3, 4, 12, 1, 3, 6, 7, 4, 1, 3, 4, 5, 6, 7, 9, 10, 1, 2, 3, 4, 5, 6, 7, 8, 9, 11, 12, 14, 1, 2, 3, 4, 6, 7, 8, 10, 1, 2, 3, 4, 5, 6, 7, 8, 9, 11, 14, 1, 2, 3, 4, 5, 6, 7, 8, 9, 10, 11, 1, 2, 3, 4, 5, 6, 7, 8, 9, 10, 11, 12, 13, 1, 2, 4, 5, 6, 7, 8, 12, 1, 2, 3, 5, 6, 10, 12, 1, 2, 3, 4, 5, 6, 7, 8, 9, 10, 11, 12, 13, 14, 2, 3, 6, 8, 2, 3, 4, 8, 1, 2, 3, 4, 5, 6, 7, 9, 10, 11, 14, 1, 2, 3, 4, 5, 6, 7, 8, 9, 10, 11, 12, 14, 2, 2, 3, 4, 5, 7, 11, 4, 1, 2, 3, 4, 5, 6, 7, 8, 9, 10, 12, 14, 1, 2, 3, 4, 5, 6, 7, 8, 9, 10, 11, 12, 13, 1, 2, 3, 4, 5, 6, 7, 8, 9, 10, 11, 12, 13, 1, 3, 6, 7, 8, 9, 10, 2, 2, 1, 3, 4, 5, 6, 7, 8, 2, 4, 6, 7, 10, 1, 3, 4, 5, 6, 7, 8, 11, 1, 3, 4, 6, 7, 10, 11, 2, 6, 7, 1, 3, 4, 5, 6, 8, 10, 7, 10, 1, 2, 3, 4, 5, 6, 7, 8, 9, 10, 11, 12, 14, 3, 9, 2, 5, 9, 11, 4, 5, 3, 4, 5, 6, 1, 2, 3, 4, 5, 9, 10, 1, 3, 2, 4, 5, 8, 5, 8, 1, 2, 3, 4, 5, 6, 7, 8, 9, 10, 1, 3, 7, 9, 1, 3, 4, 6, 7, 10, 11, 12, 1, 3, 7, 13, 1, 3, 4, 9, 10, 2, 12, 3, 4, 7, 2, 1, 6, 7, 4, 5, 6, 4, 5, 1, 2, 3, 6, 11, 2, 3, 7, 2, 7, 11, 2, 11, 1, 3, 6, 7, 1, 2, 3, 6, 9, 1, 2, 3, 4, 5, 6, 7, 8, 9, 10, 11, 12, 13, 1, 1, 2, 3, 4, 5, 6, 7, 8, 9, 10, 11, 12, 14, 15, 3, 4, 6, 9, 10, 1, 3, 6, 8, 2, 4, 9, 2, 4, 9, 1, 3, 4, 6, 7, 9, 10, 11, 4, 5, 1, 3, 7, 9, 12, 3, 9, 3, 2, 6, 9, 11, 3, 4, 6, 11, 1, 2, 3, 4, 5, 6, 7, 8, 9, 10, 11, 13, 1, 2, 6, 7, 9, 3, 3, 8, 8, 10, 1, 3, 6, 7, 1, 2, 3, 4, 5, 6, 7, 8, 10, 12, 3, 6, 1, 6, 7, 10, 1, 6, 2, 1, 2, 3, 4, 5, 7, 8, 9, 11, 15, 1, 2, 3, 4, 5, 6, 7, 8, 9, 10, 13, 1, 2, 3, 4, 7, 10, 13, 4, 5, 3, 6, 9, 1, 3, 5, 7, 8, 1, 7, 1, 10, 2, 1, 2, 3, 4, 5, 6, 7, 8, 9, 10, 11, 14, 1, 2, 3, 4, 5, 6, 7, 8, 9, 10, 11, 13, 14, 1, 3, 5, 9, 3, 8, 1, 2, 3, 4, 5, 6, 7, 11, 14, 3, 6, 1, 4, 5, 1, 1, 2, 3, 5, 6, 8, 1, 7, 1, 2, 3, 4, 5, 6, 7, 8, 10, 11, 1, 3, 6, 7, 10, 1, 10, 11, 5, 1, 3, 4, 6, 7, 8, 1, 3, 6, 8, 1, 1, 2, 6, 13, 1, 3, 4, 6, 7, 9, 2, 4, 10, 4, 6, 12, 1, 3, 7, 9, 10, 2, 5, 8, 11, 14, 1, 5, 7, 8, 7, 6, 8, 3, 9, 2, 1, 3, 6, 7, 10, 1, 3, 6, 7, 3, 7, 9, 13, 1, 2, 3, 4, 5, 6, 7, 8, 9, 10, 1, 2, 3, 4, 5, 6, 7, 8, 9, 10, 11, 12, 1, 2, 3, 4, 5, 6, 7, 8, 1, 2, 3, 4, 5, 6, 7, 8, 9, 10, 11, 12, 13, 6, 7, 10, 4, 1, 6, 8, 1, 2, 3, 4, 5, 6, 7, 8, 9, 10, 11, 12, 14, 1, 3, 9, 1, 2, 6, 9, 10, 6, 9, 1, 2, 3, 4, 5, 6, 7, 9, 1, 4, 7, 8, 2, 4, 6, 1, 2, 3, 4, 5, 6, 7, 8, 9, 10, 11, 1, 4, 7, 1, 6, 12, 1, 2, 11, 4, 8, 1, 2, 3, 4, 5, 6, 7, 8, 9, 11, 13, 4, 2, 4, 8, 11, 2, 10, 8, 11, 1, 3, 4, 6, 7, 10, 12, 2, 3, 4, 5, 8, 10, 11, 3, 4, 7, 10, 1, 3, 6, 7, 2, 5, 8, 11, 1, 2, 3, 3, 1, 3, 6, 7, 11, 14, 2, 3, 9, 5, 6, 1, 2, 3, 4, 5, 6, 7, 8, 9, 10, 12, 1, 2, 3, 4, 5, 6, 7, 13, 3, 4, 7, 8, 11, 1, 2, 3, 4, 5, 6, 7, 12, 14, 1, 3, 6, 7, 8, 13, 2, 4, 7, 2, 4, 1, 7, 3, 2, 4, 6, 9, 1, 2, 3, 4, 5, 6, 7, 8, 9, 10, 11, 1, 7, 8, 12, 1, 2, 3, 4, 5, 6, 11, 1, 3, 5, 12, 1, 2, 3, 4, 5, 6, 7, 8, 9, 10, 11, 12, 14, 1, 7, 2, 3, 5, 8, 1, 2, 3, 4, 5, 6, 7, 8, 9, 10, 11, 1, 3, 4, 6, 7, 10, 12, 2, 5, 7, 1, 7, 2, 3, 5, 7, 9, 12, 3, 4, 6, 7, 9, 3, 5, 8, 4, 5, 6, 7, 8, 9, 1, 6, 1, 3, 4, 5, 6, 7, 10, 12, 1, 2, 3, 4, 5, 6, 7, 8, 9, 10, 13, 1, 3, 1, 3, 6, 7, 8, 2, 1, 2, 3, 4, 5, 6, 7, 8, 9, 10, 11, 14, 5, 9, 3, 6, 1, 3, 6, 7, 1, 4, 6, 12, 1, 7, 2, 4, 1, 2, 3, 4, 5, 6, 7, 8, 9, 10, 11, 1, 2, 3, 4, 5, 6, 7, 8, 10, 11, 14, 15, 1, 6, 7, 6, 10, 3, 5, 6, 9, 12, 1, 3, 5, 1, 2, 3, 4, 5, 6, 7, 8, 9, 10, 11, 12, 3, 12, 2, 4, 8, 1, 2, 6, 8, 3, 3, 1, 2, 3, 5, 6, 7, 8, 14, 1, 2, 3, 4, 5, 6, 10, 11, 14, 2, 8, 11, 1, 2, 3, 4, 5, 6, 7, 8, 10, 13, 1, 2, 3, 7, 1, 3, 1, 2, 3, 4, 5, 6, 7, 8, 9, 10, 11, 1, 2, 3, 5, 6, 7, 3, 1, 2, 3, 4, 6, 14, 1, 2, 3, 4, 5, 6, 7, 8, 9, 10, 11, 12, 14, 1, 2, 3, 4, 5, 6, 7, 8, 9, 10, 11, 13, 2, 4, 9, 1, 2, 3, 4, 5, 6, 7, 8, 9, 10, 12, 13, 1, 2, 3, 4, 7, 12, 1, 3, 4, 5, 6, 7, 8, 1, 11, 1, 2, 3, 4, 5, 6, 7, 8, 10, 11, 1, 1, 2, 3, 4, 5, 6, 7, 8, 9, 10, 12, 1, 2, 3, 4, 5, 6, 8, 10, 1, 3, 6, 7, 8, 1, 3, 4, 5, 6, 7, 8, 9, 12, 3, 7, 8, 1, 3, 6, 10, 4, 5, 1, 2, 3, 4, 5, 6, 7, 8, 9, 11, 1, 2, 3, 4, 5, 6, 7, 8, 9, 10, 11, 14, 1, 2, 3, 4, 5, 6, 7, 8, 9, 10, 11, 12, 1, 2, 3, 5, 6, 14, 1, 2, 3, 4, 6, 9, 11, 6, 1, 2, 3, 5, 6, 13, 1, 7, 10, 1, 2, 3, 4, 5, 6, 7, 9, 12, 1, 2, 3, 5, 6, 1, 3, 4, 8, 1, 2, 3, 4, 6, 4, 5, 6, 4, 5, 6, 1, 3, 4, 6, 7, 8, 10, 1, 3, 6, 7, 8, 12, 1, 1, 3, 7, 8, 13, 1, 3, 4, 8, 10, 1, 4, 7, 1, 2, 3, 4, 5, 6, 7, 8, 9, 10, 1, 7, 1, 2, 3, 4, 5, 6, 7, 8, 9, 13, 5, 7, 3, 6, 1, 2, 3, 4, 5, 6, 7, 8, 9, 10, 11, 12, 1, 1, 3, 5, 7, 9, 2, 5, 11, 1, 6, 12, 1, 3, 6, 7, 9, 12, 1, 3, 9, 11, 5, 1, 2, 3, 4, 5, 6, 7, 8, 9, 10, 11, 14, 1, 2, 3, 4, 5, 6, 7, 8, 9, 10, 11, 14, 1, 7, 2, 5, 2, 5, 8, 11, 5, 9, 3, 4, 1, 6, 9, 10, 3, 6, 1, 3, 6, 7, 9, 12, 1, 2, 6, 12, 1, 6, 8, 1, 2, 3, 6, 7, 9, 10, 4, 7, 10, 11, 2, 3, 4, 6, 7, 10, 12, 2, 5, 11, 1, 2, 3, 4, 5, 6, 7, 8, 9, 10, 11, 12, 1, 2, 3, 4, 5, 6, 7, 8, 9, 10, 11, 12, 14, 1, 3, 4, 5, 6, 8, 1, 5, 3, 1, 2, 3, 4, 5, 6, 7, 8, 9, 10, 11, 12, 13, 14, 1, 2, 3, 4, 5, 6, 7, 8, 9, 10, 11, 12, 1, 2, 3, 4, 5, 6, 7, 8, 9, 10, 11, 12, 1, 3, 6, 7, 8, 1, 2, 3, 4, 5, 6, 7, 8, 9, 10, 11, 12, 13, 4, 1, 2, 3, 4, 5, 6, 7, 9, 12, 3, 3, 1, 2, 3, 4, 5, 6, 7, 8, 14, 1, 2, 3, 4, 5, 6, 7, 8, 9, 10, 11, 12, 14, 1, 2, 3, 4, 5, 6, 7, 8, 9, 10, 11, 2, 3, 4, 5, 6, 9, 1, 2, 3, 4, 5, 6, 7, 8, 9, 11, 1, 3, 6, 7, 3, 8, 3, 1, 2, 3, 4, 5, 6, 7, 1, 2, 3, 12, 3, 1, 3, 1, 2, 3, 4, 5, 6, 7, 8, 10, 11, 12, 13, 6, 7, 12, 1, 3, 6, 7, 12, 4, 1, 2, 3, 4, 5, 6, 7, 8, 9, 11, 1, 2, 3, 4, 6, 9, 2, 5, 3, 1, 5, 7, 10, 1, 3, 6, 7, 5, 2, 3, 4, 5, 8, 9, 10, 13, 4, 1, 6, 1, 1, 2, 3, 4, 6, 9, 13, 3, 3, 1, 1, 3, 5, 13, 1, 2, 5, 11, 2, 3, 6, 1, 3, 8, 5, 6, 9, 1, 11, 1, 3, 6, 7, 8, 1, 2, 3, 4, 5, 6, 7, 9, 12, 13, 1, 2, 3, 4, 5, 6, 7, 8, 9, 10, 11, 12, 13, 1, 3, 6, 7, 1, 3, 6, 7, 10, 3, 7, 1, 3, 6, 7, 1, 6, 10, 1, 3, 13, 1, 3, 6, 7, 10, 12, 2, 6, 8, 1, 3, 4, 7, 8, 10, 1, 1, 2, 3, 4, 5, 6, 7, 8, 9, 11, 12, 1, 2, 3, 4, 5, 6, 7, 8, 9, 10, 11, 2, 4, 5, 8, 11, 2, 5, 3, 9, 1, 2, 3, 4, 5, 6, 7, 8, 9, 12, 13, 2, 4, 4, 5, 1, 2, 3, 4, 5, 6, 7, 8, 9, 10, 12, 1, 2, 3, 4, 5, 7, 8, 9, 10, 11, 13, 1, 2, 3, 4, 6, 12, 2, 5, 6, 8, 2, 4, 5, 8, 11, 14, 1, 2, 3, 4, 5, 6, 7, 8, 9, 10, 12, 1, 2, 3, 4, 5, 6, 7, 8, 9, 10, 11, 1, 4, 3, 4, 2, 5, 11, 12, 2, 6, 7, 9, 1, 3, 5, 6, 1, 2, 3, 4, 5, 6, 7, 8, 9, 10, 11, 12, 3, 2, 11, 1, 2, 3, 4, 5, 6, 7, 8, 9, 10, 11, 12, 3, 6, 7], \"Freq\": [0.030230797827243805, 0.9069238901138306, 0.030230797827243805, 0.12199181318283081, 0.8539426922798157, 0.092251718044281, 0.1383775770664215, 0.11531464755535126, 0.0461258590221405, 0.16144050657749176, 0.06918878853321075, 0.06918878853321075, 0.092251718044281, 0.0461258590221405, 0.1383775770664215, 0.02306292951107025, 0.02306292951107025, 0.7006520628929138, 0.17516301572322845, 0.8040221333503723, 0.31988707184791565, 0.0595138743519783, 0.13390621542930603, 0.4761109948158264, 0.007439234293997288, 0.5640997886657715, 0.18803326785564423, 0.18803326785564423, 0.0575852170586586, 0.24185791611671448, 0.08829732984304428, 0.4107745587825775, 0.13052649796009064, 0.02687310054898262, 0.0191950723528862, 0.0038390145637094975, 0.011517043225467205, 0.0038390145637094975, 0.0038390145637094975, 0.22523446381092072, 0.33785170316696167, 0.22523446381092072, 0.11261723190546036, 0.34098872542381287, 0.030998973175883293, 0.34098872542381287, 0.04133196547627449, 0.07233093678951263, 0.030998973175883293, 0.09299692511558533, 0.020665982738137245, 0.020665982738137245, 0.010332991369068623, 0.010332991369068623, 0.18206220865249634, 0.05310147628188133, 0.08344517648220062, 0.06827332824468613, 0.2730933129787445, 0.08344517648220062, 0.10620295256376266, 0.09103110432624817, 0.03034370206296444, 0.00758592551574111, 0.00758592551574111, 0.3066127300262451, 0.151413694024086, 0.1892671138048172, 0.07192149758338928, 0.10220424085855484, 0.07949218899011612, 0.06435081362724304, 0.015141368843615055, 0.0075706844218075275, 0.0037853422109037638, 0.0037853422109037638, 0.011356026865541935, 0.8235870003700256, 0.1029483750462532, 0.8873818516731262, 0.15384528040885925, 0.7692264318466187, 0.7058916091918945, 0.030690940096974373, 0.16880017518997192, 0.030690940096974373, 0.015345470048487186, 0.030690940096974373, 0.015345470048487186, 0.1195668876171112, 0.7174013257026672, 0.1195668876171112, 0.19980144500732422, 0.19980144500732422, 0.49950364232063293, 0.19980144500732422, 0.3328453302383423, 0.3328453302383423, 0.16642266511917114, 0.1262856274843216, 0.22386997938156128, 0.17220766842365265, 0.13776613771915436, 0.11767524480819702, 0.07175319641828537, 0.054532431066036224, 0.057402558624744415, 0.008610383607447147, 0.017220767214894295, 0.005740255583077669, 0.0028701277915388346, 0.0028701277915388346, 0.19701391458511353, 0.19701391458511353, 0.19701391458511353, 0.19701391458511353, 0.19701391458511353, 0.31910499930381775, 0.06382100284099579, 0.12764200568199158, 0.12764200568199158, 0.12764200568199158, 0.12764200568199158, 0.11913292109966278, 0.2452736645936966, 0.07708600908517838, 0.21724237501621246, 0.18921110033988953, 0.021023456007242203, 0.08409382402896881, 0.007007818669080734, 0.014015637338161469, 0.014015637338161469, 0.021023456007242203, 0.6434414386749268, 0.10724024474620819, 0.21448048949241638, 0.44319966435432434, 0.14773322641849518, 0.07386661320924759, 0.14773322641849518, 0.14773322641849518, 0.36786919832229614, 0.18393459916114807, 0.18393459916114807, 0.18393459916114807, 0.25597432255744934, 0.12798716127872467, 0.28859850764274597, 0.05521015077829361, 0.06775791198015213, 0.05019104480743408, 0.07779612392187119, 0.052700597792863846, 0.002509552286937833, 0.010038209147751331, 0.002509552286937833, 0.007528657093644142, 0.4934116303920746, 0.1973646581172943, 0.1973646581172943, 0.07214801013469696, 0.4197702407836914, 0.019676730036735535, 0.19020839035511017, 0.22956185042858124, 0.006558910012245178, 0.006558910012245178, 0.019676730036735535, 0.03279455006122589, 0.2806546092033386, 0.1403273046016693, 0.1403273046016693, 0.2806546092033386, 0.5007146596908569, 0.25035732984542847, 0.76933354139328, 0.19233338534832, 0.302948921918869, 0.4544233977794647, 0.022863786667585373, 0.7030614614486694, 0.0628754124045372, 0.005715946666896343, 0.06859136372804642, 0.005715946666896343, 0.09717109799385071, 0.02857973426580429, 0.011431893333792686, 0.41701850295066833, 0.24326080083847046, 0.06950308382511139, 0.17375771701335907, 0.034751541912555695, 0.15264958143234253, 0.14043761789798737, 0.10990769416093826, 0.0671658143401146, 0.3236171007156372, 0.10380171239376068, 0.024423932656645775, 0.04884786531329155, 0.006105983164161444, 0.006105983164161444, 0.006105983164161444, 0.006105983164161444, 0.006105983164161444, 0.8842422366142273, 0.30016064643859863, 0.20010709762573242, 0.20010709762573242, 0.20010709762573242, 0.2078368365764618, 0.2078368365764618, 0.4156736731529236, 0.8422238230705261, 0.1459854543209076, 0.5565611720085144, 0.0856247991323471, 0.1712495982646942, 0.0856247991323471, 0.04281239956617355, 0.12266729027032852, 0.25896427035331726, 0.10903758555650711, 0.013629698194563389, 0.4770394563674927, 0.34601858258247375, 0.5970516800880432, 0.006784677971154451, 0.027138711884617805, 0.013569355942308903, 0.796082079410553, 0.04307658225297928, 0.2153829038143158, 0.08615316450595856, 0.516918957233429, 0.12922973930835724, 0.33230912685394287, 0.16615456342697144, 0.33230912685394287, 0.8664016723632812, 0.08664017170667648, 0.7261182069778442, 0.08332503587007523, 0.02380715310573578, 0.13093934953212738, 0.03571072965860367, 0.5569741725921631, 0.03094301000237465, 0.16355590522289276, 0.10609032213687897, 0.0618860200047493, 0.013261290267109871, 0.03094301000237465, 0.022102149203419685, 0.0044204299338161945, 0.0044204299338161945, 0.0044204299338161945, 0.0044204299338161945, 0.10385765135288239, 0.2646695077419281, 0.16751234233379364, 0.15746159851551056, 0.1373601257801056, 0.07035518437623978, 0.056954193860292435, 0.010050740092992783, 0.020101480185985565, 0.003350246697664261, 0.006700493395328522, 0.003350246697664261, 0.003350246697664261, 0.40569621324539185, 0.4756438434123993, 0.09093191474676132, 0.0139895249158144, 0.0069947624579072, 0.24861744046211243, 0.6215435862541199, 0.06215436011552811, 0.15555770695209503, 0.6222308278083801, 0.15555770695209503, 0.09811133146286011, 0.7848906517028809, 0.985802173614502, 0.003253472503274679, 0.006506945006549358, 0.9726813435554504, 0.8532227873802185, 0.05688152089715004, 0.05583713576197624, 0.05583713576197624, 0.015953468158841133, 0.023930201306939125, 0.8375570774078369, 0.9353852868080139, 0.2740004360675812, 0.2740004360675812, 0.2740004360675812, 0.9515005350112915, 0.0034600018989294767, 0.041520021855831146, 0.5340196490287781, 0.005394137464463711, 0.22115963697433472, 0.02697068825364113, 0.09170033782720566, 0.1132768914103508, 0.03578580915927887, 0.10735742747783661, 0.03578580915927887, 0.10735742747783661, 0.6083587408065796, 0.03578580915927887, 0.07157161831855774, 0.8882518410682678, 0.754986047744751, 0.8613585233688354, 0.19018466770648956, 0.19018466770648956, 0.19018466770648956, 0.19018466770648956, 0.19018466770648956, 0.18011976778507233, 0.7204790711402893, 0.035381678491830826, 0.1415267139673233, 0.021229008212685585, 0.1415267139673233, 0.5979503989219666, 0.017690839245915413, 0.01415267214179039, 0.0035381680354475975, 0.0035381680354475975, 0.021229008212685585, 0.0035381680354475975, 0.1542104035615921, 0.7710520029067993, 0.20508907735347748, 0.08203563094139099, 0.22149619460105896, 0.09023918956518173, 0.057424940168857574, 0.08203563094139099, 0.12305344641208649, 0.032814253121614456, 0.008203563280403614, 0.06562850624322891, 0.024610688909888268, 0.28520363569259644, 0.2376697063446045, 0.16636879742145538, 0.02376697026193142, 0.14260181784629822, 0.07130090892314911, 0.02376697026193142, 0.02376697026193142, 0.15139085054397583, 0.15139085054397583, 0.6812588572502136, 0.9778862595558167, 0.20583251118659973, 0.08821393549442291, 0.11761858314275742, 0.05880929157137871, 0.14702323079109192, 0.10291625559329987, 0.24993948638439178, 0.014702322892844677, 0.014702322892844677, 0.9458173513412476, 0.04904238134622574, 0.2739627957344055, 0.027396278455853462, 0.30135905742645264, 0.013698139227926731, 0.2876609265804291, 0.06849069893360138, 0.027396278455853462, 0.42261290550231934, 0.04602714627981186, 0.00418428611010313, 0.11716000735759735, 0.00418428611010313, 0.3975071907043457, 0.5468869805335999, 0.18229565024375916, 0.18229565024375916, 0.9342882633209229, 0.6803277730941772, 0.037795986980199814, 0.18897993862628937, 0.037795986980199814, 0.018897993490099907, 0.03899092972278595, 0.29065966606140137, 0.05671408027410507, 0.35800763964653015, 0.13824057579040527, 0.03190167248249054, 0.03190167248249054, 0.02481241151690483, 0.017723150551319122, 0.003544630017131567, 0.003544630017131567, 0.17680692672729492, 0.7072277069091797, 0.08840346336364746, 0.13587002456188202, 0.6793500781059265, 0.027174003422260284, 0.05434800684452057, 0.05434800684452057, 0.3749121427536011, 0.3749121427536011, 0.18745607137680054, 0.8734816312789917, 0.7727149128913879, 0.16798150539398193, 0.13248130679130554, 0.13248130679130554, 0.5299252271652222, 0.13248130679130554, 0.26569482684135437, 0.1675032675266266, 0.1357354074716568, 0.12995943427085876, 0.13284741342067719, 0.05920374020934105, 0.051983773708343506, 0.03609984368085861, 0.004331980831921101, 0.004331980831921101, 0.005775974597781897, 0.0028879872988909483, 0.8890990614891052, 0.0846761018037796, 0.0211690254509449, 0.7795279026031494, 0.0779527872800827, 0.01559055782854557, 0.0779527872800827, 0.03118111565709114, 0.07798923552036285, 0.3119569420814514, 0.3119569420814514, 0.1559784710407257, 0.19151270389556885, 0.18660211563110352, 0.13258571922779083, 0.23079736530780792, 0.10803280770778656, 0.04419523850083351, 0.058926984667778015, 0.014731746166944504, 0.014731746166944504, 0.009821164421737194, 0.004910582210868597, 0.7540274262428284, 0.04189041256904602, 0.04189041256904602, 0.04189041256904602, 0.04189041256904602, 0.04189041256904602, 0.49554896354675293, 0.16518299281597137, 0.16518299281597137, 0.973049521446228, 0.01608346402645111, 0.008041732013225555, 0.898769199848175, 0.24391764402389526, 0.12195882201194763, 0.3048970699310303, 0.12195882201194763, 0.12195882201194763, 0.060979411005973816, 0.07085127383470535, 0.8502152562141418, 0.2075241506099701, 0.1749132126569748, 0.2816399037837982, 0.1304437518119812, 0.0326109379529953, 0.05929261073470116, 0.06818650662899017, 0.02075241506099701, 0.008893892168998718, 0.0059292614459991455, 0.0059292614459991455, 0.008893892168998718, 0.9273598790168762, 0.3233261704444885, 0.05773681774735451, 0.22517359256744385, 0.046189453452825546, 0.040415771305561066, 0.19630518555641174, 0.023094726726412773, 0.06351049989461899, 0.011547363363206387, 0.011547363363206387, 0.005773681681603193, 0.15505455434322357, 0.7752727270126343, 0.7110329270362854, 0.009355696849524975, 0.1871139258146286, 0.009355696849524975, 0.01871139369904995, 0.02806708961725235, 0.01871139369904995, 0.009355696849524975, 0.04326390475034714, 0.25958341360092163, 0.08652780950069427, 0.6056946516036987, 0.06396402418613434, 0.25585609674453735, 0.3198201060295105, 0.06396402418613434, 0.19189207255840302, 0.750217616558075, 0.18297989666461945, 0.05489397048950195, 0.28527289628982544, 0.42790934443473816, 0.14263644814491272, 0.2180159091949463, 0.08175596594810486, 0.12944695353507996, 0.14647944271564484, 0.05791047587990761, 0.05791047587990761, 0.03406498581171036, 0.24186140298843384, 0.0068129971623420715, 0.010219495743513107, 0.0034064985811710358, 0.0034064985811710358, 0.0034064985811710358, 0.13394178450107574, 0.14350906014442444, 0.13394178450107574, 0.1195908859372139, 0.258316308259964, 0.08132179826498032, 0.01913454197347164, 0.06697089225053787, 0.00478363549336791, 0.00478363549336791, 0.00478363549336791, 0.00478363549336791, 0.00478363549336791, 0.014350906014442444, 0.1551584005355835, 0.7757920026779175, 0.5916693210601807, 0.08452418446540833, 0.1267862766981125, 0.07607176899909973, 0.050714511424303055, 0.016904836520552635, 0.008452418260276318, 0.016904836520552635, 0.016904836520552635, 0.008452418260276318, 0.008452418260276318, 0.1750994771718979, 0.7228465676307678, 0.00897946022450924, 0.09428433328866959, 0.13512907922267914, 0.8107744455337524, 0.17926618456840515, 0.7170647382736206, 0.7637494802474976, 0.02314392291009426, 0.16200746595859528, 0.02314392291009426, 0.02314392291009426, 0.02314392291009426, 0.22380483150482178, 0.049734409898519516, 0.28597286343574524, 0.012433602474629879, 0.03730080649256706, 0.21137124300003052, 0.07460161298513412, 0.012433602474629879, 0.03730080649256706, 0.06216800957918167, 0.24969875812530518, 0.04161646217107773, 0.12484937906265259, 0.04161646217107773, 0.5410140156745911, 0.7590376734733582, 0.21686790883541107, 0.4861648976802826, 0.2430824488401413, 0.2430824488401413, 0.5496464371681213, 0.18321548402309418, 0.18321548402309418, 0.3424686789512634, 0.6360132694244385, 0.016308031976222992, 0.9893601536750793, 0.013298748061060905, 0.2593255937099457, 0.6283658742904663, 0.04654562100768089, 0.023272810503840446, 0.019948123022913933, 0.006649374030530453, 0.17589089274406433, 0.08794544637203217, 0.08794544637203217, 0.35178178548812866, 0.17589089274406433, 0.23481892049312592, 0.16330046951770782, 0.16568441689014435, 0.08820609003305435, 0.1919078528881073, 0.06079068407416344, 0.03814317286014557, 0.042911071330308914, 0.004767896607518196, 0.002383948303759098, 0.004767896607518196, 0.001191974151879549, 0.001191974151879549, 0.13099275529384613, 0.17465701699256897, 0.04366425424814224, 0.6112995743751526, 0.2080138474702835, 0.31202077865600586, 0.2080138474702835, 0.2080138474702835, 0.37982481718063354, 0.18991240859031677, 0.18991240859031677, 0.18991240859031677, 0.3689132034778595, 0.18445660173892975, 0.18445660173892975, 0.18445660173892975, 0.2581474483013153, 0.2581474483013153, 0.2581474483013153, 0.14341524243354797, 0.028683049604296684, 0.14870712161064148, 0.545259416103363, 0.14870712161064148, 0.09913807362318039, 0.8222522735595703, 0.09136135876178741, 0.4052860736846924, 0.2026430368423462, 0.2026430368423462, 0.200259730219841, 0.33376622200012207, 0.13350649178028107, 0.200259730219841, 0.06675324589014053, 0.2924926280975342, 0.3899901509284973, 0.2924926280975342, 0.3925212025642395, 0.19626060128211975, 0.19626060128211975, 0.3280908167362213, 0.3280908167362213, 0.1093636080622673, 0.1093636080622673, 0.5623249411582947, 0.1874416470527649, 0.1874416470527649, 0.01171377208083868, 0.1054239496588707, 0.5505473017692566, 0.292844295501709, 0.01171377208083868, 0.01171377208083868, 0.01171377208083868, 0.30287158489227295, 0.4543074071407318, 0.06590424478054047, 0.13180848956108093, 0.06590424478054047, 0.659042477607727, 0.8872272968292236, 0.1355106681585312, 0.8130640387535095, 0.020256876945495605, 0.4659081697463989, 0.5064219236373901, 0.16522181034088135, 0.1101478710770607, 0.05507393553853035, 0.6058132648468018, 0.3164108991622925, 0.3164108991622925, 0.15820544958114624, 0.9073625802993774, 0.08864659816026688, 0.17729319632053375, 0.709172785282135, 0.966052770614624, 0.0076067144982516766, 0.02028457261621952, 0.5356552600860596, 0.017419684678316116, 0.20468129217624664, 0.03048444725573063, 0.1132279485464096, 0.0566139742732048, 0.017419684678316116, 0.017419684678316116, 0.004354921169579029, 0.004354921169579029, 0.004354921169579029, 0.9300069808959961, 0.060129761695861816, 0.7065526843070984, 0.2717510163784027, 0.1541547179222107, 0.7707735896110535, 0.2073935717344284, 0.1809980273246765, 0.14800359308719635, 0.13857661187648773, 0.15177439153194427, 0.04619220644235611, 0.072587750852108, 0.03016633726656437, 0.012255074456334114, 0.00659888656809926, 0.003770792158320546, 0.001885396079160273, 0.5932790637016296, 0.1977597028017044, 0.0988798514008522, 0.029200401157140732, 0.3744522035121918, 0.02404738962650299, 0.19581446051597595, 0.28169798851013184, 0.022329717874526978, 0.008588353171944618, 0.04294176772236824, 0.0034353414084762335, 0.005153011996299028, 0.012023694813251495, 0.2662906050682068, 0.08136657625436783, 0.34026023745536804, 0.12574835121631622, 0.014793923124670982, 0.044381771236658096, 0.03698480874300003, 0.044381771236658096, 0.014793923124670982, 0.014793923124670982, 0.007396961562335491, 0.6538547873497009, 0.32692739367485046, 0.9576012492179871, 0.888188898563385, 0.9034364819526672, 0.9388038516044617, 0.04267290234565735, 0.23535865545272827, 0.23535865545272827, 0.47071731090545654, 0.9445946216583252, 0.052477478981018066, 0.7792748212814331, 0.1298791468143463, 0.15599189698696136, 0.4679756760597229, 0.009749493561685085, 0.009749493561685085, 0.20473936200141907, 0.13649290800094604, 0.009749493561685085, 0.009749493561685085, 0.5239791870117188, 0.02495139092206955, 0.07485417276620865, 0.12475695461034775, 0.0499027818441391, 0.02495139092206955, 0.02495139092206955, 0.02495139092206955, 0.02495139092206955, 0.07485417276620865, 0.02495139092206955, 0.5943836569786072, 0.11887673288583755, 0.2377534657716751, 0.8690223097801208, 0.07556715607643127, 0.29064562916755676, 0.14532281458377838, 0.29064562916755676, 0.29064562916755676, 0.8107795715332031, 0.013512992300093174, 0.027025984600186348, 0.1486429125070572, 0.3083583116531372, 0.0770895779132843, 0.277522474527359, 0.015417915768921375, 0.0462537445127964, 0.123343326151371, 0.015417915768921375, 0.1079254075884819, 0.015417915768921375, 0.0646904781460762, 0.7115952968597412, 0.021563492715358734, 0.04312698543071747, 0.08625397086143494, 0.021563492715358734, 0.04312698543071747, 0.021563492715358734, 0.06611024588346481, 0.33055123686790466, 0.06611024588346481, 0.3966614902019501, 0.13222049176692963, 0.864549994468689, 0.17973007261753082, 0.7189202904701233, 0.39024055004119873, 0.19512027502059937, 0.19512027502059937, 0.19512027502059937, 0.9144859313964844, 0.3162377178668976, 0.1581188589334488, 0.3162377178668976, 0.9145858287811279, 0.04690183699131012, 0.575661301612854, 0.19188711047172546, 0.05851621553301811, 0.9167540073394775, 0.4741421937942505, 0.0750572606921196, 0.20320379734039307, 0.06041194126009941, 0.07871858775615692, 0.05308927968144417, 0.025629308074712753, 0.021967977285385132, 0.0018306648125872016, 0.005491994321346283, 0.8591535687446594, 0.02771463245153427, 0.05542926490306854, 0.05542926490306854, 0.8978341817855835, 0.15774041414260864, 0.2629006803035736, 0.34177088737487793, 0.1314503401517868, 0.05258013680577278, 0.02629006840288639, 0.02629006840288639, 0.5910911560058594, 0.004222079645842314, 0.08444158732891083, 0.021110396832227707, 0.004222079645842314, 0.12666238844394684, 0.03377663716673851, 0.13088446855545044, 0.21130220592021942, 0.42260441184043884, 0.8730579614639282, 0.02548033371567726, 0.0031850417144596577, 0.01274016685783863, 0.891811728477478, 0.006370083428919315, 0.05414571240544319, 0.006370083428919315, 0.15318509936332703, 0.6127403974533081, 0.8008855581283569, 0.0014813444577157497, 0.9702805876731873, 0.023701511323451996, 0.0014813444577157497, 0.0032631291542202234, 0.9691493511199951, 0.0016315645771101117, 0.006526258308440447, 0.0016315645771101117, 0.0016315645771101117, 0.014684081077575684, 0.15111108124256134, 0.005122409667819738, 0.7401881814002991, 0.06915252655744553, 0.030734457075595856, 0.28186702728271484, 0.11274681240320206, 0.27247145771980286, 0.3100537359714508, 0.009395567700266838, 0.14564020931720734, 0.002257987856864929, 0.8151335716247559, 0.025966860353946686, 0.005644969642162323, 0.002257987856864929, 0.2626315653324127, 0.282833993434906, 0.020202428102493286, 0.020202428102493286, 0.38384613394737244, 0.04040485620498657, 0.45156556367874146, 0.15052184462547302, 0.15052184462547302, 0.15052184462547302, 0.15052184462547302, 0.17225849628448486, 0.13944736123085022, 0.16815710067749023, 0.24198217689990997, 0.18866406381130219, 0.02460835687816143, 0.012304178439080715, 0.01640557125210762, 0.004101392813026905, 0.012304178439080715, 0.004101392813026905, 0.004101392813026905, 0.20032942295074463, 0.6358281970024109, 0.13935960829257965, 0.008709975518286228, 0.2341666966676712, 0.0468333400785923, 0.46052783727645874, 0.05463889613747597, 0.07805556803941727, 0.007805556524544954, 0.03902778401970863, 0.007805556524544954, 0.02341667003929615, 0.031222226098179817, 0.28289496898651123, 0.00870446115732193, 0.4482797384262085, 0.004352230578660965, 0.02611338347196579, 0.06528345495462418, 0.11315799504518509, 0.00870446115732193, 0.004352230578660965, 0.039170075207948685, 0.004352230578660965, 0.1407887190580368, 0.6757858395576477, 0.16894645988941193, 0.3226364552974701, 0.3226364552974701, 0.10754548758268356, 0.21509097516536713, 0.12940166890621185, 0.6470083594322205, 0.12940166890621185, 0.0559142604470253, 0.2236570417881012, 0.08387138694524765, 0.437995046377182, 0.09319043159484863, 0.02795713022351265, 0.018638087436556816, 0.009319043718278408, 0.018638087436556816, 0.009319043718278408, 0.009319043718278408, 0.26958832144737244, 0.014572340995073318, 0.4590287506580353, 0.014572340995073318, 0.13843724131584167, 0.07286170870065689, 0.014572340995073318, 0.007286170497536659, 0.07225644588470459, 0.14451289176940918, 0.6503080129623413, 0.10838466882705688, 0.14844335615634918, 0.24122044444084167, 0.27833127975463867, 0.306164413690567, 0.018555419519543648, 0.14170700311660767, 0.20075158774852753, 0.28341400623321533, 0.35426750779151917, 0.011808916926383972, 0.6220354437828064, 0.3110177218914032, 0.07475762814283371, 0.22427289187908173, 0.5980610251426697, 0.07475762814283371, 0.19414742290973663, 0.38829484581947327, 0.19414742290973663, 0.19414742290973663, 0.9092499017715454, 0.189317524433136, 0.189317524433136, 0.283976286649704, 0.047329381108284, 0.094658762216568, 0.047329381108284, 0.047329381108284, 0.047329381108284, 0.047329381108284, 0.09135577082633972, 0.5481346249580383, 0.27406731247901917, 0.648192286491394, 0.1620480716228485, 0.29360178112983704, 0.04516950249671936, 0.2860735058784485, 0.04266008734703064, 0.04516950249671936, 0.13299909234046936, 0.06022600457072258, 0.08281075209379196, 0.0050188335590064526, 0.0025094167795032263, 0.0050188335590064526, 0.0025094167795032263, 0.3183993101119995, 0.09364685416221619, 0.20134074985980988, 0.09676841646432877, 0.06399201601743698, 0.1061331033706665, 0.06399201601743698, 0.032776400446891785, 0.009364685975015163, 0.007803904823958874, 0.003121561836451292, 0.10098674893379211, 0.17167747020721436, 0.28276288509368896, 0.2221708446741104, 0.19187481701374054, 0.010098674334585667, 0.3128094971179962, 0.05778009817004204, 0.28292325139045715, 0.053795263171195984, 0.059772513806819916, 0.0956360250711441, 0.07371943444013596, 0.04184076189994812, 0.0059772515669465065, 0.007969669066369534, 0.003984834533184767, 0.0019924172665923834, 0.8834876418113708, 0.16948433220386505, 0.398153692483902, 0.026902277022600174, 0.0026902277022600174, 0.25826185941696167, 0.04304364323616028, 0.09146773815155029, 0.0026902277022600174, 0.0026902277022600174, 0.0026902277022600174, 0.04261534661054611, 0.4661053419113159, 0.03995188698172569, 0.24237477779388428, 0.13050949573516846, 0.015980754047632217, 0.029298050329089165, 0.005326918326318264, 0.005326918326318264, 0.007990377023816109, 0.013317295350134373, 0.002663459163159132, 0.002663459163159132, 0.4672743082046509, 0.1557580977678299, 0.1557580977678299, 0.9583568572998047, 0.02083384431898594, 0.17566131055355072, 0.2634919583797455, 0.08783065527677536, 0.17566131055355072, 0.17566131055355072, 0.08783065527677536, 0.07293734699487686, 0.14587469398975372, 0.14587469398975372, 0.14587469398975372, 0.07293734699487686, 0.29174938797950745, 0.07293734699487686, 0.07038364559412003, 0.3929753303527832, 0.06256324052810669, 0.060608137398958206, 0.28935497999191284, 0.01955101080238819, 0.007820405066013336, 0.07038364559412003, 0.007820405066013336, 0.005865303333848715, 0.009775505401194096, 0.9184390902519226, 0.15140770375728607, 0.19683001935482025, 0.13626693189144135, 0.09084462374448776, 0.24225233495235443, 0.12112616747617722, 0.04542231187224388, 0.015140770934522152, 0.13301151990890503, 0.13301151990890503, 0.6650575995445251, 0.1856691539287567, 0.2785037159919739, 0.2785037159919739, 0.09283457696437836, 0.09283457696437836, 0.053785815834999084, 0.16135744750499725, 0.2689290940761566, 0.2689290940761566, 0.21514326333999634, 0.563432514667511, 0.14085812866687775, 0.14085812866687775, 0.05247613415122032, 0.27549970149993896, 0.11544749140739441, 0.28599491715431213, 0.16267600655555725, 0.02361425943672657, 0.03935709968209267, 0.034109488129615784, 0.007871420122683048, 0.002623806707561016, 0.002623806707561016, 0.18401549756526947, 0.16905489563941956, 0.18251945078372955, 0.21842490136623383, 0.10622033476829529, 0.07181093096733093, 0.02842515893280506, 0.020944854244589806, 0.004488183185458183, 0.008976366370916367, 0.0029921219684183598, 0.0014960609842091799, 0.32794681191444397, 0.49192023277282715, 0.987396240234375, 0.007774773519486189, 0.41614311933517456, 0.07926535606384277, 0.08917352557182312, 0.06935718655586243, 0.09908169507980347, 0.10898986458778381, 0.09908169507980347, 0.019816339015960693, 0.019816339015960693, 0.8986337184906006, 0.15544632077217102, 0.46633896231651306, 0.07772316038608551, 0.07772316038608551, 0.07772316038608551, 0.20696325600147247, 0.17044033110141754, 0.18667274713516235, 0.07304585725069046, 0.1217430979013443, 0.1176849901676178, 0.06492964923381805, 0.020290516316890717, 0.008116206154227257, 0.004058103077113628, 0.02434861846268177, 0.004058103077113628, 0.912680983543396, 0.05704256147146225, 0.17905263602733612, 0.17905263602733612, 0.5371578931808472, 0.39656391739845276, 0.16853967308998108, 0.12392622232437134, 0.10409802943468094, 0.07435573637485504, 0.05948458984494209, 0.019828196614980698, 0.029742294922471046, 0.009914098307490349, 0.009914098307490349, 0.19348618388175964, 0.5804585218429565, 0.9783208966255188, 0.15443041920661926, 0.617721676826477, 0.8368563652038574, 0.1167706623673439, 0.03892355412244797, 0.00853327289223671, 0.9130602478981018, 0.00853327289223671, 0.059732913970947266, 0.705310583114624, 0.044081911444664, 0.132245734333992, 0.044081911444664, 0.016786320134997368, 0.20563243329524994, 0.037769220769405365, 0.012589740566909313, 0.6420767903327942, 0.012589740566909313, 0.06714528053998947, 0.2686178386211395, 0.6715445518493652, 0.0434841588139534, 0.37762558460235596, 0.07323648035526276, 0.17164799571037292, 0.23344126343727112, 0.016020478680729866, 0.022886399179697037, 0.05492735654115677, 0.002288640011101961, 0.002288640011101961, 0.8537780046463013, 0.07114816457033157, 0.02371605671942234, 0.02371605671942234, 0.525039792060852, 0.05026976764202118, 0.1899080127477646, 0.03909870982170105, 0.08378294855356216, 0.044684238731861115, 0.05026976764202118, 0.011171059682965279, 0.6290949583053589, 0.2516379654407501, 0.12581898272037506, 0.960077702999115, 0.01103537529706955, 0.0220707505941391, 0.12207424640655518, 0.0976594015955925, 0.12207424640655518, 0.0976594015955925, 0.5371267199516296, 0.024414850398898125, 0.07201951742172241, 0.3134967088699341, 0.05507374554872513, 0.2541865110397339, 0.1609847992658615, 0.05507374554872513, 0.046600863337516785, 0.012709326110780239, 0.008472884073853493, 0.008472884073853493, 0.008472884073853493, 0.004236442036926746, 0.004236442036926746, 0.004236442036926746, 0.2510439455509186, 0.3299434781074524, 0.035863421857357025, 0.08607221394777298, 0.1434536874294281, 0.08607221394777298, 0.021518053486943245, 0.035863421857357025, 0.014345369301736355, 0.577970564365387, 0.09632842987775803, 0.19265685975551605, 0.12015634775161743, 0.20598231256008148, 0.20598231256008148, 0.06866076588630676, 0.01716519147157669, 0.01716519147157669, 0.3261386454105377, 0.01716519147157669, 0.11413732916116714, 0.6848239898681641, 0.11413732916116714, 0.11413732916116714, 0.82355135679245, 0.14322632551193237, 0.44182857871055603, 0.15328747034072876, 0.018033819273114204, 0.3246087431907654, 0.03606763854622841, 0.018033819273114204, 0.17395611107349396, 0.16082733869552612, 0.10174790769815445, 0.12800543010234833, 0.12472324818372726, 0.18380267918109894, 0.029539715498685837, 0.06236162409186363, 0.006564381532371044, 0.019693143665790558, 0.003282190766185522, 0.003282190766185522, 0.12713012099266052, 0.22399115562438965, 0.13318394124507904, 0.2118835300207138, 0.13923774659633636, 0.05751124396920204, 0.05448433756828308, 0.0302690751850605, 0.003026907565072179, 0.006053815130144358, 0.006053815130144358, 0.006053815130144358, 0.6196655631065369, 0.008262207731604576, 0.10740870237350464, 0.02478662319481373, 0.016524415463209152, 0.13219532370567322, 0.06609766185283661, 0.008262207731604576, 0.008262207731604576, 0.8671597242355347, 0.06670459359884262, 0.03227211907505989, 0.8874832987785339, 0.06454423815011978, 0.7801803946495056, 0.0650150328874588, 0.0975225493311882, 0.0325075164437294, 0.16309072077274323, 0.21327248215675354, 0.11438489705324173, 0.13209611177444458, 0.20589281618595123, 0.051657695323228836, 0.05829939991235733, 0.03985022380948067, 0.0051657697185873985, 0.00664170365780592, 0.0051657697185873985, 0.0029518683440983295, 0.002213901374489069, 0.4254230558872223, 0.03168043866753578, 0.004525776952505112, 0.004525776952505112, 0.09504131972789764, 0.43900036811828613, 0.3790769577026367, 0.3790769577026367, 0.1263589859008789, 0.06317949295043945, 0.40319395065307617, 0.10079848766326904, 0.20159697532653809, 0.10079848766326904, 0.20159697532653809, 0.1505640298128128, 0.21801669895648956, 0.09033841639757156, 0.17947231233119965, 0.2686062157154083, 0.028908291831612587, 0.013249633833765984, 0.021681219339370728, 0.006022560875862837, 0.007227072957903147, 0.013249633833765984, 0.0012045121984556317, 0.0012045121984556317, 0.19958920776844025, 0.19958920776844025, 0.19958920776844025, 0.19958920776844025, 0.09979460388422012, 0.9141356348991394, 0.31365466117858887, 0.31365466117858887, 0.31365466117858887, 0.21288113296031952, 0.13305070996284485, 0.37254196405410767, 0.02661014162003994, 0.18627098202705383, 0.24410805106163025, 0.24410805106163025, 0.3661620616912842, 0.8740022778511047, 0.361892431974411, 0.06918531656265259, 0.11708284914493561, 0.07982921600341797, 0.021287789568305016, 0.19691206514835358, 0.10111699998378754, 0.04789752885699272, 0.005321947392076254, 0.21778878569602966, 0.16545194387435913, 0.1603870838880539, 0.10129711031913757, 0.15025737881660461, 0.08947911113500595, 0.0692196860909462, 0.025324277579784393, 0.005064855329692364, 0.011817995458841324, 0.0033765702974051237, 0.0033765702974051237, 0.5837018489837646, 0.06294823437929153, 0.1487867385149002, 0.005722566973417997, 0.028612835332751274, 0.06294823437929153, 0.051503103226423264, 0.03433540090918541, 0.011445133946835995, 0.005722566973417997, 0.005722566973417997, 0.9583055377006531, 0.3209783732891083, 0.05000165477395058, 0.2742026150226593, 0.09032557159662247, 0.05645348131656647, 0.10000330954790115, 0.04677573963999748, 0.043549828231334686, 0.008064783178269863, 0.0032259132713079453, 0.0016129566356539726, 0.0032259132713079453, 0.0016129566356539726, 0.4261951148509979, 0.03874501213431358, 0.07749002426862717, 0.34870511293411255, 0.03874501213431358, 0.03874501213431358, 0.023814436048269272, 0.9049485921859741, 0.07144330441951752, 0.7327468991279602, 0.18318672478199005, 0.9688029289245605, 0.33511126041412354, 0.04188890755176544, 0.33511126041412354, 0.08377781510353088, 0.08377781510353088, 0.04188890755176544, 0.04188890755176544, 0.0298658087849617, 0.0018666130490601063, 0.007466452196240425, 0.754111647605896, 0.20346082746982574, 0.0018666130490601063, 0.04794337972998619, 0.9049313068389893, 0.04195045679807663, 0.2037171870470047, 0.6111515760421753, 0.0679057240486145, 0.0679057240486145, 0.6356677412986755, 0.21188925206661224, 0.14544405043125153, 0.28349265456199646, 0.12079251557588577, 0.20214258134365082, 0.13065312802791595, 0.0517682209610939, 0.034512147307395935, 0.012325767427682877, 0.004930306691676378, 0.009860613383352757, 0.002465153345838189, 0.2635936141014099, 0.21376799046993256, 0.1462623029947281, 0.13179680705070496, 0.10447307676076889, 0.041789229959249496, 0.04339651018381119, 0.027323728427290916, 0.0048218341544270515, 0.009643668308854103, 0.008036390878260136, 0.0016072781290858984, 0.0016072781290858984, 0.0016072781290858984, 0.2240661233663559, 0.07468871027231216, 0.2332116812467575, 0.24235723912715912, 0.07621296495199203, 0.0731644481420517, 0.03658222407102585, 0.018291112035512924, 0.004572778008878231, 0.010669815354049206, 0.0030485186725854874, 0.0015242593362927437, 0.0015242593362927437, 0.32514458894729614, 0.10838152468204498, 0.21676304936408997, 0.21676304936408997, 0.9664714932441711, 0.13135534524917603, 0.3940660357475281, 0.13135534524917603, 0.26271069049835205, 0.8024098873138428, 0.037321388721466064, 0.07464277744293213, 0.037321388721466064, 0.018660694360733032, 0.0617280937731266, 0.0308640468865633, 0.0308640468865633, 0.7716012001037598, 0.0617280937731266, 0.0308640468865633, 0.0308640468865633, 0.6296778917312622, 0.3148389458656311, 0.9564473628997803, 0.2145652323961258, 0.6754831075668335, 0.05562802031636238, 0.047681160271167755, 0.05160301551222801, 0.13760803639888763, 0.3096180856227875, 0.017201004549860954, 0.22361306846141815, 0.08600502461194992, 0.017201004549860954, 0.03440200909972191, 0.017201004549860954, 0.06880401819944382, 0.12265176326036453, 0.1729188710451126, 0.15683339536190033, 0.12466244399547577, 0.25535693764686584, 0.040213692933321, 0.02814958430826664, 0.07841669768095016, 0.01407479215413332, 0.0020106846932321787, 0.0020106846932321787, 0.0020106846932321787, 0.13823390007019043, 0.27646780014038086, 0.0809655711054802, 0.20537608861923218, 0.2152499407529831, 0.01777293160557747, 0.005924310069531202, 0.03159632161259651, 0.009873850271105766, 0.003949540201574564, 0.011848620139062405, 0.003949540201574564, 0.24823394417762756, 0.1484149992465973, 0.18519040942192078, 0.16286247968673706, 0.17336973547935486, 0.027581550180912018, 0.021014513447880745, 0.010507256723940372, 0.007880442775785923, 0.006567035801708698, 0.005253628361970186, 0.0013134070904925466, 0.0013134070904925466, 0.22551719844341278, 0.11693484336137772, 0.46773937344551086, 0.05011493340134621, 0.016704978421330452, 0.05846742168068886, 0.05011493340134621, 0.016704978421330452, 0.013443827629089355, 0.7797420024871826, 0.14116019010543823, 0.013443827629089355, 0.047053396701812744, 0.9781351089477539, 0.8195555210113525, 0.029269840568304062, 0.11707936227321625, 0.37658846378326416, 0.07531769573688507, 0.3012707829475403, 0.07531769573688507, 0.15063539147377014, 0.8981384038925171, 0.11016326397657394, 0.23065432906150818, 0.1514744907617569, 0.10672065615653992, 0.27196556329727173, 0.017213009297847748, 0.05508163198828697, 0.034426018595695496, 0.0068852039985358715, 0.0068852039985358715, 0.0068852039985358715, 0.0034426019992679358, 0.16592815518379211, 0.26074424386024475, 0.07111206650733948, 0.47408047318458557, 0.04740804433822632, 0.3923402428627014, 0.1961701214313507, 0.1961701214313507, 0.1961701214313507, 0.565505862236023, 0.377003937959671, 0.13825437426567078, 0.5530174970626831, 0.13825437426567078, 0.27650874853134155, 0.5596902966499329, 0.1865634322166443, 0.1865634322166443, 0.3128873407840729, 0.052147891372442245, 0.10429578274488449, 0.5214788913726807, 0.3140002489089966, 0.1570001244544983, 0.3140002489089966, 0.1570001244544983, 0.5430966019630432, 0.108619324862957, 0.108619324862957, 0.217238649725914, 0.0833638608455658, 0.0119091235101223, 0.23818247020244598, 0.52400141954422, 0.0119091235101223, 0.11909123510122299, 0.04927939176559448, 0.22997048497200012, 0.14783817529678345, 0.37780866026878357, 0.08213231712579727, 0.04927939176559448, 0.016426462680101395, 0.016426462680101395, 0.016426462680101395, 0.8891746401786804, 0.2477159947156906, 0.578004002571106, 0.08257199823856354, 0.08257199823856354, 0.42593684792518616, 0.042593684047460556, 0.21296842396259308, 0.042593684047460556, 0.12778104841709137, 0.08518736809492111, 0.042593684047460556, 0.15415841341018677, 0.6166336536407471, 0.21716205775737762, 0.14477470517158508, 0.14477470517158508, 0.07238735258579254, 0.21716205775737762, 0.14477470517158508, 0.07238735258579254, 0.33397138118743896, 0.16698569059371948, 0.16698569059371948, 0.16698569059371948, 0.8998181223869324, 0.5138536095619202, 0.2569268047809601, 0.12846340239048004, 0.18963868916034698, 0.37927737832069397, 0.18963868916034698, 0.9568758010864258, 0.01407170295715332, 0.13367001712322235, 0.13367001712322235, 0.668350100517273, 0.09415429085493088, 0.5890117287635803, 0.09962838143110275, 0.014232626184821129, 0.0711631327867508, 0.021896347403526306, 0.04598233103752136, 0.04160305857658386, 0.01642226055264473, 0.002189634833484888, 0.002189634833484888, 0.10000713169574738, 0.22858771681785583, 0.24287445843219757, 0.4000285267829895, 0.01428673230111599, 0.9124537706375122, 0.07896234840154648, 0.37700942158699036, 0.37700942158699036, 0.18850471079349518, 0.1790342926979065, 0.0031687484588474035, 0.21072177588939667, 0.2503311336040497, 0.22656552493572235, 0.030103111639618874, 0.026934362947940826, 0.04911560192704201, 0.01109061948955059, 0.0015843742294237018, 0.007921871729195118, 0.0015843742294237018, 0.0015843742294237018, 0.4583453834056854, 0.2750072479248047, 0.09166907519102097, 0.15460073947906494, 0.15460073947906494, 0.6184029579162598, 0.20435333251953125, 0.20435333251953125, 0.4087066650390625, 0.8903095722198486, 0.06679829955101013, 0.18926183879375458, 0.12246354669332504, 0.2560601532459259, 0.16699574887752533, 0.08906439691781998, 0.011133049614727497, 0.033399149775505066, 0.06679829955101013, 0.011133049614727497, 0.9227997660636902, 0.5374177694320679, 0.26870888471603394, 0.9573020935058594, 0.014077971689403057, 0.014077971689403057, 0.2707163393497467, 0.11628084629774094, 0.15625238418579102, 0.13808350265026093, 0.13081595301628113, 0.06540797650814056, 0.06177419796586037, 0.04178842902183533, 0.0054506645537912846, 0.0054506645537912846, 0.0036337764468044043, 0.0018168882234022021, 0.0018168882234022021, 0.06211216747760773, 0.002484486671164632, 0.9142911434173584, 0.007453460246324539, 0.01242243405431509, 0.44962120056152344, 0.2997474670410156, 0.1498737335205078, 0.14194341003894806, 0.24473002552986145, 0.12166578322649002, 0.1929871141910553, 0.15592798590660095, 0.04754754900932312, 0.034961432218551636, 0.03216451779007912, 0.015383030287921429, 0.004195372108370066, 0.006992286536842585, 0.0013984573306515813, 0.0006992286653257906, 0.0006992286653257906, 0.12081141769886017, 0.2818933129310608, 0.11348951607942581, 0.27457141876220703, 0.10982856154441833, 0.029287617653608322, 0.021965712308883667, 0.029287617653608322, 0.0036609522067010403, 0.0073219044134020805, 0.0036609522067010403, 0.0036609522067010403, 0.2370608150959015, 0.02844729833304882, 0.26550811529159546, 0.07585946470499039, 0.2560257017612457, 0.1232716292142868, 0.009482433088123798, 0.302072137594223, 0.017768949270248413, 0.2843031883239746, 0.10661369562149048, 0.017768949270248413, 0.1421515941619873, 0.035537898540496826, 0.08884474635124207, 0.057843614369630814, 0.7519670128822327, 0.057843614369630814, 0.11568722873926163, 0.13353098928928375, 0.3501117527484894, 0.04885280132293701, 0.21495231986045837, 0.0944487452507019, 0.0700223445892334, 0.04396752268075943, 0.022797973826527596, 0.004885280039161444, 0.008142133243381977, 0.006513706874102354, 0.0016284267185255885, 0.8523707985877991, 0.06556698679924011, 0.8752282857894897, 0.3659757971763611, 0.3659757971763611, 0.18298789858818054, 0.8321232795715332, 0.11094977706670761, 0.9725058078765869, 0.3657059669494629, 0.3657059669494629, 0.18285298347473145, 0.507181704044342, 0.03550271689891815, 0.20794449746608734, 0.0710054337978363, 0.04564635083079338, 0.05578998476266861, 0.040574535727500916, 0.015215450897812843, 0.0050718169659376144, 0.0050718169659376144, 0.0050718169659376144, 0.8723277449607849, 0.8855257034301758, 0.2247418761253357, 0.11515699326992035, 0.18016497790813446, 0.20802552998065948, 0.12258647382259369, 0.03900478780269623, 0.06315060704946518, 0.02043107897043228, 0.011144224554300308, 0.005572112277150154, 0.003714741673320532, 0.003714741673320532, 0.001857370836660266, 0.15711429715156555, 0.34789595007896423, 0.1122245043516159, 0.16833674907684326, 0.02244490012526512, 0.1010020524263382, 0.02244490012526512, 0.03366735205054283, 0.01122245006263256, 0.02244490012526512, 0.33436620235443115, 0.16718310117721558, 0.16718310117721558, 0.16718310117721558, 0.12969277799129486, 0.2593855559825897, 0.10375422239303589, 0.4668940007686615, 0.8801937103271484, 0.12678559124469757, 0.45959776639938354, 0.015848198905587196, 0.015848198905587196, 0.03169639781117439, 0.22187478840351105, 0.03169639781117439, 0.07924099266529083, 0.2278478443622589, 0.23869773745536804, 0.14755859971046448, 0.08028923720121384, 0.0954790934920311, 0.09113913774490356, 0.028209732845425606, 0.05858944356441498, 0.017359836027026176, 0.008679918013513088, 0.002169979503378272, 0.002169979503378272, 0.298342764377594, 0.3297472894191742, 0.09421350806951523, 0.03140450268983841, 0.047106754034757614, 0.06280900537967682, 0.047106754034757614, 0.09421350806951523, 0.2517331540584564, 0.12501034140586853, 0.2517331540584564, 0.11473551392555237, 0.09076093137264252, 0.05137411132454872, 0.04966164007782936, 0.030824465677142143, 0.0119872922077775, 0.02054964378476143, 0.0017124703153967857, 0.45064011216163635, 0.061158303171396255, 0.22532005608081818, 0.0386262945830822, 0.025750864297151566, 0.11266002804040909, 0.03540743887424469, 0.028969721868634224, 0.006437716074287891, 0.0032188580371439457, 0.006437716074287891, 0.3130032420158386, 0.09157409518957138, 0.18690122663974762, 0.057046156376600266, 0.1170947402715683, 0.07280891388654709, 0.056295547634363174, 0.06980647891759872, 0.015762753784656525, 0.005254251416772604, 0.007506073452532291, 0.005254251416772604, 0.0015012146905064583, 0.16172736883163452, 0.13477280735969543, 0.026954561471939087, 0.2156364917755127, 0.053909122943878174, 0.053909122943878174, 0.2156364917755127, 0.13477280735969543, 0.2784951329231262, 0.1392475664615631, 0.06962378323078156, 0.1392475664615631, 0.1392475664615631, 0.06962378323078156, 0.1392475664615631, 0.21451403200626373, 0.15870550274848938, 0.1610308587551117, 0.09708358347415924, 0.1476600617170334, 0.07731806486845016, 0.05290183424949646, 0.06801664084196091, 0.005813388153910637, 0.004650710616260767, 0.005232049617916346, 0.0034880328457802534, 0.0005813388270325959, 0.0023253553081303835, 0.9787245988845825, 0.010755214840173721, 0.24781213700771332, 0.7434363961219788, 0.16522064805030823, 0.16522064805030823, 0.33044129610061646, 0.16522064805030823, 0.04068836569786072, 0.31969431042671204, 0.10462722182273865, 0.2266923189163208, 0.2034418284893036, 0.02325049415230751, 0.029063118621706963, 0.005812623538076878, 0.005812623538076878, 0.029063118621706963, 0.011625247076153755, 0.2726304829120636, 0.14639301598072052, 0.17609594762325287, 0.12305500358343124, 0.12517663836479187, 0.04455439746379852, 0.04773685336112976, 0.041371941566467285, 0.006364913657307625, 0.007425732910633087, 0.0031824568286538124, 0.0021216380409896374, 0.0021216380409896374, 0.9837413430213928, 0.11280237138271332, 0.22560474276542664, 0.22560474276542664, 0.11280237138271332, 0.11280237138271332, 0.11280237138271332, 0.9252472519874573, 0.1921427994966507, 0.1379089504480362, 0.20918773114681244, 0.11776494234800339, 0.13480986654758453, 0.07592739909887314, 0.05733293294906616, 0.06508062779903412, 0.0015495388070121408, 0.004648616071790457, 0.0015495388070121408, 0.0015495388070121408, 0.28770431876182556, 0.1296093612909317, 0.20509614050388336, 0.09257812052965164, 0.09542667865753174, 0.0826081708073616, 0.048425476998090744, 0.03418269008398056, 0.00854567252099514, 0.00854567252099514, 0.00427283626049757, 0.0014242787146940827, 0.0014242787146940827, 0.12355369329452515, 0.21710148453712463, 0.18003538250923157, 0.19592085480690002, 0.11649348586797714, 0.02647579088807106, 0.04942147806286812, 0.06001179292798042, 0.01235536951571703, 0.007060211151838303, 0.008825263939797878, 0.0017650527879595757, 0.0035301055759191513, 0.09505879133939743, 0.09505879133939743, 0.5513409972190857, 0.07604703307151794, 0.11407055705785751, 0.03802351653575897, 0.03802351653575897, 0.9811080098152161, 0.9231359362602234, 0.13352327048778534, 0.10147769004106522, 0.5447749495506287, 0.0053409310057759285, 0.07744349539279938, 0.02403418906033039, 0.10681861639022827, 0.9868062138557434, 0.006129230838268995, 0.35899418592453003, 0.5641337633132935, 0.05128488689661026, 0.6802694201469421, 0.12259272485971451, 0.0024037789553403854, 0.0024037789553403854, 0.019230231642723083, 0.14663051068782806, 0.019230231642723083, 0.0024037789553403854, 0.10239357501268387, 0.35837751626968384, 0.008532797917723656, 0.18772155046463013, 0.2986479103565216, 0.03413119167089462, 0.008532797917723656, 0.14532166719436646, 0.2906433343887329, 0.2906433343887329, 0.14519505202770233, 0.041484300047159195, 0.22816364467144012, 0.12445289641618729, 0.12445289641618729, 0.29039010405540466, 0.041484300047159195, 0.8282173275947571, 0.13803622126579285, 0.13221392035484314, 0.2533174157142639, 0.10888205468654633, 0.1722114086151123, 0.15998995304107666, 0.07888393849134445, 0.04221957176923752, 0.026664992794394493, 0.01222145464271307, 0.0022220825776457787, 0.004444165155291557, 0.005555206909775734, 0.0011110412888228893, 0.4911074936389923, 0.32740500569343567, 0.17047275602817535, 0.5114182829856873, 0.03409454971551895, 0.23866185545921326, 0.9385442733764648, 0.0276042427867651, 0.00179102155379951, 0.9599875211715698, 0.034029409289360046, 0.00179102155379951, 0.31973138451576233, 0.15986569225788116, 0.10657712817192078, 0.21315425634384155, 0.05328856408596039, 0.026644282042980194, 0.07993284612894058, 0.07237071543931961, 0.8684486150741577, 0.03385888785123825, 0.03385888785123825, 0.8351858854293823, 0.07900407165288925, 0.29672226309776306, 0.5934445261955261, 0.04800592362880707, 0.25374558568000793, 0.4251953363418579, 0.013715977780520916, 0.006857988890260458, 0.08229587227106094, 0.07543788105249405, 0.027431955561041832, 0.04800592362880707, 0.020573968067765236, 0.9035119414329529, 0.016134141013026237, 0.032268282026052475, 0.032268282026052475, 0.0897395983338356, 0.6730470061302185, 0.01794791966676712, 0.03589583933353424, 0.10768751800060272, 0.03589583933353424, 0.01794791966676712, 0.00897395983338356, 0.704375147819519, 0.10062502324581146, 0.10062502324581146, 0.10062502324581146, 0.295284241437912, 0.3691053092479706, 0.147642120718956, 0.073821060359478, 0.073821060359478, 0.7684045433998108, 0.1921011358499527, 0.9178732633590698, 0.1349988430738449, 0.8099930286407471, 0.9833018183708191, 0.16423280537128448, 0.739047646522522, 0.08211640268564224, 0.7719954252243042, 0.21498607099056244, 0.009772093966603279, 0.9227455258369446, 0.05126363784074783, 0.09274262189865112, 0.03091420605778694, 0.7110267281532288, 0.09274262189865112, 0.03091420605778694, 0.1539398729801178, 0.1539398729801178, 0.6157594919204712, 0.18884381651878357, 0.37768763303756714, 0.18884381651878357, 0.7537949085235596, 0.12563247978687286, 0.1403324455022812, 0.0701662227511406, 0.17541556060314178, 0.5964128971099854, 0.1810823529958725, 0.045270588248968124, 0.22635294497013092, 0.09054117649793625, 0.4074352979660034, 0.18427437543869019, 0.11995218694210052, 0.14255186915397644, 0.22773531079292297, 0.17036688327789307, 0.03824562579393387, 0.046937812119722366, 0.04172249883413315, 0.010430624708533287, 0.0034768751356750727, 0.008692187257111073, 0.0034768751356750727, 0.0017384375678375363, 0.9102915525436401, 0.046440254896879196, 0.32574522495269775, 0.024546992033720016, 0.11875436455011368, 0.24746021628379822, 0.09487080574035645, 0.016585806384682655, 0.0842558890581131, 0.009288051165640354, 0.019239533692598343, 0.010614915750920773, 0.0013268644688650966, 0.0006634322344325483, 0.0006634322344325483, 0.3790089786052704, 0.12633632123470306, 0.12633632123470306, 0.12633632123470306, 0.25267264246940613, 0.10111735761165619, 0.050558678805828094, 0.050558678805828094, 0.8089388608932495, 0.5608187913894653, 0.14020469784736633, 0.28040939569473267, 0.7082678079605103, 0.1287759691476822, 0.1287759691476822, 0.010890212841331959, 0.5191001296043396, 0.01815035380423069, 0.10890212655067444, 0.2722553014755249, 0.025410495698451996, 0.03267063945531845, 0.014520283788442612, 0.833126962184906, 0.12817338109016418, 0.0367870032787323, 0.6621660590171814, 0.0735740065574646, 0.1471480131149292, 0.0367870032787323, 0.6314642429351807, 0.31573212146759033, 0.8994221091270447, 0.1947651207447052, 0.3895302414894104, 0.1947651207447052, 0.1947651207447052, 0.16138048470020294, 0.3227609694004059, 0.16138048470020294, 0.16138048470020294, 0.09257926791906357, 0.2504193186759949, 0.05463694408535957, 0.4279893934726715, 0.050083864480257034, 0.051601558923721313, 0.022765392437577248, 0.036424629390239716, 0.0045530786737799644, 0.003035385860130191, 0.0045530786737799644, 0.0015176929300650954, 0.46126946806907654, 0.1537564992904663, 0.07687824964523315, 0.07687824964523315, 0.1537564992904663, 0.8829805254936218, 0.9090508222579956, 0.9186175465583801, 0.7840300798416138, 0.08711445331573486, 0.05614876374602318, 0.33689257502555847, 0.08422314375638962, 0.5053388476371765, 0.318765252828598, 0.1456427425146103, 0.21709012985229492, 0.09617917239665985, 0.0796913132071495, 0.07694333791732788, 0.02473178692162037, 0.02473178692162037, 0.008243929594755173, 0.005495952907949686, 0.39178740978240967, 0.39178740978240967, 0.250832200050354, 0.250832200050354, 0.33444294333457947, 0.16722147166728973, 0.15430068969726562, 0.7715035080909729, 0.983794629573822, 0.047364238649606705, 0.3599681854248047, 0.09472847729921341, 0.12314701825380325, 0.28418540954589844, 0.047364238649606705, 0.018945693969726562, 0.009472846984863281, 0.009472846984863281, 0.009472846984863281, 0.4534767270088196, 0.055495403707027435, 0.20612578094005585, 0.06976564973592758, 0.053909819573163986, 0.04281074181199074, 0.07927914708852768, 0.026954909786581993, 0.009513497352600098, 0.0015855829697102308, 0.0015855829697102308, 0.5223145484924316, 0.03264465928077698, 0.2938019335269928, 0.06528931856155396, 0.03264465928077698, 0.03264465928077698, 0.03264465928077698, 0.9038702845573425, 0.07532252371311188, 0.20359276235103607, 0.40718552470207214, 0.20359276235103607, 0.4035194516181946, 0.134506493806839, 0.044835496693849564, 0.044835496693849564, 0.3586839735507965, 0.3571505546569824, 0.5357258319854736, 0.5819409489631653, 0.19398030638694763, 0.9619406461715698, 0.11993886530399323, 0.27747049927711487, 0.07697568833827972, 0.11993886530399323, 0.23808759450912476, 0.059074368327856064, 0.032222382724285126, 0.04654344171285629, 0.00895066186785698, 0.0071605294942855835, 0.012530926614999771, 0.0017901323735713959, 0.32810863852500916, 0.059469688683748245, 0.1927638202905655, 0.07997647672891617, 0.15175023674964905, 0.06357105076313019, 0.05331765115261078, 0.0553683303296566, 0.004101357888430357, 0.004101357888430357, 0.006152037065476179, 0.0020506789442151785, 0.0020506789442151785, 0.0651862621307373, 0.847421407699585, 0.03259313106536865, 0.03259313106536865, 0.45350587368011475, 0.45350587368011475, 0.04600941762328148, 0.2760564982891083, 0.2530518174171448, 0.04600941762328148, 0.02300470881164074, 0.16103295981884003, 0.09201883524656296, 0.06901412457227707, 0.02300470881164074, 0.18085230886936188, 0.7234092354774475, 0.9153995513916016, 0.8446851968765259, 0.0938539132475853, 0.8722517490386963, 0.03519293665885925, 0.04105842486023903, 0.07625136524438858, 0.1935611516237259, 0.011730979196727276, 0.6393383741378784, 0.2869114875793457, 0.5738229751586914, 0.08234735578298569, 0.29801902174949646, 0.027449119836091995, 0.12156038731336594, 0.3725237548351288, 0.05881953984498978, 0.01568521186709404, 0.00784260593354702, 0.00784260593354702, 0.00784260593354702, 0.06760863214731216, 0.1859237402677536, 0.25353237986564636, 0.43945610523223877, 0.01690215803682804, 0.5623789429664612, 0.18745964765548706, 0.18745964765548706, 0.8736385107040405, 0.20343759655952454, 0.28041398525238037, 0.005498313810676336, 0.2694173753261566, 0.2309291660785675, 0.005498313810676336, 0.3853214979171753, 0.14449556171894073, 0.07224778085947037, 0.3973627984523773, 0.8877090811729431, 0.5618475079536438, 0.0936412513256073, 0.0936412513256073, 0.0936412513256073, 0.0650670975446701, 0.4182884693145752, 0.009295298717916012, 0.16731537878513336, 0.32533547282218933, 0.009295298717916012, 0.8251205086708069, 0.0201248899102211, 0.1408742368221283, 0.38163885474205017, 0.38163885474205017, 0.19081942737102509, 0.18850992619991302, 0.18850992619991302, 0.18850992619991302, 0.18850992619991302, 0.18850992619991302, 0.12949854135513306, 0.7640413641929626, 0.02589970827102661, 0.012949854135513306, 0.05179941654205322, 0.19131335616111755, 0.09565667808055878, 0.19131335616111755, 0.4782834053039551, 0.7274348735809326, 0.7357484102249146, 0.18393710255622864, 0.3375069499015808, 0.5062604546546936, 0.9594407081604004, 0.16027440130710602, 0.5208918452262878, 0.08013720065355301, 0.12020580470561981, 0.08013720065355301, 0.13058680295944214, 0.1958802044391632, 0.42440712451934814, 0.22852690517902374, 0.5203615427017212, 0.1300903856754303, 0.1300903856754303, 0.1300903856754303, 0.02843836136162281, 0.123232901096344, 0.17063017189502716, 0.22750689089298248, 0.20854797959327698, 0.09479454159736633, 0.02843836136162281, 0.047397270798683167, 0.047397270798683167, 0.009479453787207603, 0.18348710238933563, 0.165730282664299, 0.1479734629392624, 0.1538923978805542, 0.17559517920017242, 0.07102726399898529, 0.03156767413020134, 0.02367575466632843, 0.013810857199132442, 0.009864897467195988, 0.019729794934391975, 0.0019729796331375837, 0.06508661806583405, 0.06508661806583405, 0.21695537865161896, 0.04339107498526573, 0.08678214997053146, 0.2603464722633362, 0.17356429994106293, 0.08678214997053146, 0.060254212468862534, 0.2811863422393799, 0.18968918919563293, 0.14505644142627716, 0.19192083179950714, 0.03793783858418465, 0.040169477462768555, 0.022316375747323036, 0.01785309985280037, 0.004463274963200092, 0.004463274963200092, 0.002231637481600046, 0.002231637481600046, 0.1670958399772644, 0.6683833599090576, 0.0835479199886322, 0.8980614542961121, 0.03915748745203018, 0.026104992255568504, 0.9136747121810913, 0.055952880531549454, 0.13733889162540436, 0.11953569948673248, 0.1805752068758011, 0.34843385219573975, 0.045779626816511154, 0.02034650184214115, 0.06612613052129745, 0.010173250921070576, 0.002543312730267644, 0.005086625460535288, 0.005086625460535288, 0.005086625460535288, 0.370774507522583, 0.370774507522583, 0.370774507522583, 0.25515323877334595, 0.12757661938667297, 0.12757661938667297, 0.25515323877334595, 0.12757661938667297, 0.751778781414032, 0.187944695353508, 0.010206613689661026, 0.21433889865875244, 0.030619842931628227, 0.5307439565658569, 0.010206613689661026, 0.040826454758644104, 0.08165290951728821, 0.08165290951728821, 0.16836042702198029, 0.16836042702198029, 0.33672085404396057, 0.16836042702198029, 0.135152205824852, 0.135152205824852, 0.6757610440254211, 0.05723279342055321, 0.3924534320831299, 0.1798744946718216, 0.11446558684110641, 0.03270445391535759, 0.049056679010391235, 0.049056679010391235, 0.049056679010391235, 0.024528339505195618, 0.016352226957678795, 0.04088056832551956, 0.8450022339820862, 0.025606129318475723, 0.12803064286708832, 0.49876588582992554, 0.16625529527664185, 0.16625529527664185, 0.1943100541830063, 0.3886201083660126, 0.1943100541830063, 0.6618764400482178, 0.16546911001205444, 0.1566869020462036, 0.1566869020462036, 0.06963862478733063, 0.2437351793050766, 0.19150622189044952, 0.06963862478733063, 0.04352413862943649, 0.05222896859049797, 0.008704828098416328, 0.008704828098416328, 0.008704828098416328, 0.8779594898223877, 0.6302257776260376, 0.0787782222032547, 0.0787782222032547, 0.1575564444065094, 0.7457844018936157, 0.18644610047340393, 0.6217858195304871, 0.20726194977760315, 0.23030027747154236, 0.4733950197696686, 0.006397230084985495, 0.15353351831436157, 0.12154737114906311, 0.006397230084985495, 0.006397230084985495, 0.26718762516975403, 0.08906253427267075, 0.26718762516975403, 0.04453126713633537, 0.04453126713633537, 0.08906253427267075, 0.08906253427267075, 0.16037485003471375, 0.3207497000694275, 0.16037485003471375, 0.3207497000694275, 0.0800158903002739, 0.25605085492134094, 0.2720540463924408, 0.36807310581207275, 0.0856865793466568, 0.8782874345779419, 0.0214216448366642, 0.0214216448366642, 0.42367023229599, 0.14122341573238373, 0.28244683146476746, 0.8853538632392883, 0.31067854166030884, 0.31067854166030884, 0.19417408108711243, 0.038834817707538605, 0.07766963541507721, 0.038834817707538605, 0.20131701231002808, 0.40263402462005615, 0.20131701231002808, 0.15292099118232727, 0.6116839647293091, 0.06325437873601913, 0.14864778518676758, 0.32259732484817505, 0.10436972230672836, 0.08855612576007843, 0.12967146933078766, 0.034789908677339554, 0.07906796783208847, 0.015813594684004784, 0.0031627188436686993, 0.0063254376873373985, 0.15678942203521729, 0.05226314067840576, 0.4181051254272461, 0.10452628135681152, 0.07839471101760864, 0.1306578516960144, 0.02613157033920288, 0.02613157033920288, 0.16453348100185394, 0.16453348100185394, 0.16453348100185394, 0.16453348100185394, 0.3290669620037079, 0.16881126165390015, 0.21704305708408356, 0.024115895852446556, 0.2893907427787781, 0.16881126165390015, 0.04823179170489311, 0.07234768569469452, 0.024115895852446556, 0.024115895852446556, 0.008292701095342636, 0.12439051270484924, 0.08292701095342636, 0.07463430613279343, 0.6800014972686768, 0.033170804381370544, 0.2062532752752304, 0.4125065505504608, 0.2062532752752304, 0.9017614126205444, 0.03920701891183853, 0.35684677958488464, 0.5352701544761658, 0.8993032574653625, 0.12281214445829391, 0.49124857783317566, 0.12281214445829391, 0.24562428891658783, 0.04329725727438927, 0.36369696259498596, 0.057729676365852356, 0.30885377526283264, 0.14721067249774933, 0.04907022416591644, 0.011545935645699501, 0.011545935645699501, 0.0028864839114248753, 0.0028864839114248753, 0.0028864839114248753, 0.19064383208751678, 0.38128766417503357, 0.19064383208751678, 0.19064383208751678, 0.15742526948451996, 0.10495017468929291, 0.10495017468929291, 0.10495017468929291, 0.3148505389690399, 0.052475087344646454, 0.10495017468929291, 0.18529638648033142, 0.18529638648033142, 0.18529638648033142, 0.18529638648033142, 0.20069347321987152, 0.1678527146577835, 0.11311813443899155, 0.17879962921142578, 0.18974655866622925, 0.04743663966655731, 0.05108560994267464, 0.010946916416287422, 0.02554280497133732, 0.003648972138762474, 0.007297944277524948, 0.003648972138762474, 0.003648972138762474, 0.17900700867176056, 0.7160280346870422, 0.19776374101638794, 0.19776374101638794, 0.19776374101638794, 0.19776374101638794, 0.17281121015548706, 0.21917518973350525, 0.10958759486675262, 0.22760500013828278, 0.13066212832927704, 0.0674385204911232, 0.0168596301227808, 0.021074537187814713, 0.0084298150613904, 0.025289446115493774, 0.0084298150613904, 0.10360797494649887, 0.40148091316223145, 0.012950996868312359, 0.1165589690208435, 0.3367259204387665, 0.012950996868312359, 0.012950996868312359, 0.07019838690757751, 0.8423806428909302, 0.8379164934158325, 0.15345565974712372, 0.7672783136367798, 0.01711859554052353, 0.8388111591339111, 0.01711859554052353, 0.01711859554052353, 0.08559297770261765, 0.03423719108104706, 0.26283153891563416, 0.13141576945781708, 0.13141576945781708, 0.13141576945781708, 0.26283153891563416, 0.4231582581996918, 0.31736868619918823, 0.10578956454992294, 0.567470133304596, 0.2900402843952179, 0.01261044666171074, 0.01261044666171074, 0.10088357329368591, 0.01261044666171074, 0.17992587387561798, 0.7197034955024719, 0.4942273497581482, 0.02792244963347912, 0.0027922450099140406, 0.0027922450099140406, 0.07818286120891571, 0.3769530653953552, 0.008376735262572765, 0.005584490019828081, 0.27948564291000366, 0.20203781127929688, 0.1324470043182373, 0.11336565762758255, 0.1111207902431488, 0.08305998891592026, 0.029183238744735718, 0.03479539975523949, 0.005612161476165056, 0.007857025600969791, 0.0011224322952330112, 0.05937277153134346, 0.890591561794281, 0.8113999366760254, 0.02704666368663311, 0.05409332737326622, 0.05409332737326622, 0.02704666368663311, 0.9717747569084167, 0.3702654540538788, 0.06732099503278732, 0.1991579383611679, 0.05890586972236633, 0.08134619891643524, 0.11781173944473267, 0.05049074441194534, 0.03366049751639366, 0.0028050413820892572, 0.0056100827641785145, 0.011220165528357029, 0.0028050413820892572, 0.6613688468933105, 0.26454752683639526, 0.5805237293243408, 0.19350790977478027, 0.767716109752655, 0.1720743030309677, 0.026472968980669975, 0.026472968980669975, 0.3758869469165802, 0.1879434734582901, 0.1879434734582901, 0.1879434734582901, 0.2652204930782318, 0.5304409861564636, 0.9005107879638672, 0.07830528914928436, 0.2722305357456207, 0.15152454376220703, 0.15409275889396667, 0.1669338196516037, 0.10272850841283798, 0.05521657317876816, 0.03980729728937149, 0.030818551778793335, 0.01412516925483942, 0.007704637944698334, 0.006420531775802374, 0.045421648770570755, 0.26344555616378784, 0.21802391111850739, 0.11809629201889038, 0.11809629201889038, 0.09084329754114151, 0.018168659880757332, 0.07267463952302933, 0.018168659880757332, 0.018168659880757332, 0.009084329940378666, 0.009084329940378666, 0.08881723880767822, 0.08881723880767822, 0.7105379104614258, 0.7455201148986816, 0.232975035905838, 0.29433706402778625, 0.14716853201389313, 0.14716853201389313, 0.14716853201389313, 0.14716853201389313, 0.059353265911340714, 0.8902990221977234, 0.059353265911340714, 0.16668395698070526, 0.00406546238809824, 0.39028438925743103, 0.03252369910478592, 0.07317832857370377, 0.138225719332695, 0.06098193675279617, 0.09757109731435776, 0.00813092477619648, 0.01626184955239296, 0.00406546238809824, 0.00813092477619648, 0.7098162770271301, 0.14196325838565826, 0.23755024373531342, 0.23755024373531342, 0.47510048747062683, 0.19832941889762878, 0.1322196125984192, 0.0661098062992096, 0.594988226890564, 0.8838859796524048, 0.910171627998352, 0.5338007211685181, 0.03235156089067459, 0.19410936534404755, 0.03235156089067459, 0.03235156089067459, 0.04852734133601189, 0.03235156089067459, 0.06470312178134918, 0.2964548170566559, 0.05390087515115738, 0.21560350060462952, 0.13475218415260315, 0.13475218415260315, 0.08085131645202637, 0.02695043757557869, 0.02695043757557869, 0.02695043757557869, 0.4375024139881134, 0.10937560349702835, 0.4375024139881134, 0.30788949131965637, 0.19110383093357086, 0.07431815564632416, 0.07431815564632416, 0.1167856752872467, 0.0849350318312645, 0.1167856752872467, 0.021233757957816124, 0.010616878978908062, 0.010616878978908062, 0.325438529253006, 0.162719264626503, 0.162719264626503, 0.162719264626503, 0.8883881568908691, 0.8845461010932922, 0.10855962336063385, 0.2540295124053955, 0.14655549824237823, 0.15089787542819977, 0.1422131061553955, 0.042338255792856216, 0.04885183274745941, 0.08141972124576569, 0.009770366363227367, 0.0010855962755158544, 0.011941558681428432, 0.6892390847206116, 0.015316423960030079, 0.13784781098365784, 0.04594927281141281, 0.030632847920060158, 0.04594927281141281, 0.8829663395881653, 0.8995377421379089, 0.3406977653503418, 0.06813955307006836, 0.3406977653503418, 0.13627910614013672, 0.06813955307006836, 0.17149466276168823, 0.1698133498430252, 0.09919789433479309, 0.12778033316135406, 0.15636278688907623, 0.050439607352018356, 0.13954958319664001, 0.06220884993672371, 0.0067252810113132, 0.0033626405056566, 0.0033626405056566, 0.005043960642069578, 0.005043960642069578, 0.010400659404695034, 0.31201979517936707, 0.01213410310447216, 0.5772365927696228, 0.05893707275390625, 0.0017334433505311608, 0.005200329702347517, 0.006933773402124643, 0.0017334433505311608, 0.008667216636240482, 0.0034668867010623217, 0.0017334433505311608, 0.3688657879829407, 0.3688657879829407, 0.24591052532196045, 0.01111114863306284, 0.4277792274951935, 0.09444476664066315, 0.31666773557662964, 0.02222229726612568, 0.01111114863306284, 0.02222229726612568, 0.02222229726612568, 0.05555574223399162, 0.01111114863306284, 0.00555557431653142, 0.00555557431653142, 0.24225135147571564, 0.12112567573785782, 0.30281418561935425, 0.12112567573785782, 0.06056283786892891, 0.12112567573785782, 0.6403225064277649, 0.21344085037708282, 0.010163850151002407, 0.030491549521684647, 0.020327700302004814, 0.06098309904336929, 0.010163850151002407, 0.5675177574157715, 0.34051066637039185, 0.6917271018028259, 0.03192586824297905, 0.10641955584287643, 0.10641955584287643, 0.010641955770552158, 0.010641955770552158, 0.010641955770552158, 0.021283911541104317, 0.010641955770552158, 0.010641955770552158, 0.8878854513168335, 0.10765969008207321, 0.15379956364631653, 0.26530423760414124, 0.09612472355365753, 0.12303964793682098, 0.09612472355365753, 0.06536481529474258, 0.06151982396841049, 0.015379955992102623, 0.0076899779960513115, 0.0038449889980256557, 0.008506971411406994, 0.017013942822813988, 0.008506971411406994, 0.08506970852613449, 0.6890646815299988, 0.034027885645627975, 0.14461851119995117, 0.017013942822813988, 0.22135737538337708, 0.10216493904590607, 0.10216493904590607, 0.06810995936393738, 0.4937972128391266, 0.2406425178050995, 0.481285035610199, 0.019251400604844093, 0.0673799067735672, 0.08663130551576614, 0.009625700302422047, 0.0673799067735672, 0.009625700302422047, 0.009625700302422047, 0.18008199334144592, 0.18008199334144592, 0.5402459502220154, 0.1848001629114151, 0.1848001629114151, 0.3696003258228302, 0.1848001629114151, 0.8071122169494629, 0.11530175060033798, 0.19614097476005554, 0.17549455165863037, 0.0774240717291832, 0.232272207736969, 0.13420172035694122, 0.03096962720155716, 0.04645444080233574, 0.06710086017847061, 0.010323208756744862, 0.03096962720155716, 0.10766862332820892, 0.30451732873916626, 0.11419399827718735, 0.20772431790828705, 0.15225866436958313, 0.03153929486870766, 0.016313428059220314, 0.041327349841594696, 0.008700494654476643, 0.007612932939082384, 0.006525371223688126, 0.0010875618318095803, 0.21789832413196564, 0.16273419559001923, 0.16549240052700043, 0.035856686532497406, 0.19859087467193604, 0.05240592733025551, 0.06343875080347061, 0.06068054586648941, 0.013791033066809177, 0.0055164131335914135, 0.022065652534365654, 0.0027582065667957067, 0.4240187406539917, 0.03261682763695717, 0.26093462109565735, 0.13046731054782867, 0.03261682763695717, 0.09785047918558121, 0.07686425745487213, 0.38432130217552185, 0.2305927723646164, 0.1152963861823082, 0.038432128727436066, 0.038432128727436066, 0.1152963861823082, 0.9117270708084106, 0.9142872095108032, 0.09354832023382187, 0.3741932809352875, 0.280644953250885, 0.09354832023382187, 0.09354832023382187, 0.3651393949985504, 0.3651393949985504, 0.1825696974992752, 0.08258023113012314, 0.030967585742473602, 0.6916094422340393, 0.036128848791122437, 0.005161264445632696, 0.04129011556506157, 0.05161264166235924, 0.036128848791122437, 0.020645057782530785, 0.7485183477401733, 0.03939570114016533, 0.03939570114016533, 0.07879140228033066, 0.03939570114016533, 0.11273442208766937, 0.4509376883506775, 0.22546884417533875, 0.11273442208766937, 0.23195675015449524, 0.07731891423463821, 0.3865945637226105, 0.15463782846927643, 0.07731891423463821, 0.9428786039352417, 0.026191072538495064, 0.026191072538495064, 0.8899205327033997, 0.06592004001140594, 0.03296002000570297, 0.11051010340452194, 0.6630606055259705, 0.02210202068090439, 0.13261212408542633, 0.02210202068090439, 0.02210202068090439, 0.02210202068090439, 0.170980766415596, 0.22797435522079468, 0.11398717761039734, 0.22797435522079468, 0.11398717761039734, 0.05699358880519867, 0.9389689564704895, 0.1679926961660385, 0.5039780735969543, 0.08399634808301926, 0.08399634808301926, 0.08399634808301926, 0.18284817039966583, 0.18284817039966583, 0.18284817039966583, 0.18284817039966583, 0.18284817039966583, 0.8730962872505188, 0.04157601296901703, 0.04157601296901703, 0.49527525901794434, 0.03950047865509987, 0.2248488813638687, 0.03646198287606239, 0.030384983867406845, 0.09419345110654831, 0.030384983867406845, 0.03646198287606239, 0.0030384985730051994, 0.006076997146010399, 0.8900041580200195, 0.05562525987625122, 0.5141115784645081, 0.046737417578697205, 0.17916010320186615, 0.11684354394674301, 0.03894784674048424, 0.0350530631840229, 0.023368708789348602, 0.027263492345809937, 0.007789569441229105, 0.0038947847206145525, 0.7257834076881409, 0.18144585192203522, 0.3922303020954132, 0.3922303020954132, 0.11975173652172089, 0.07983449101448059, 0.3459494709968567, 0.09314023703336716, 0.039917245507240295, 0.06652874499559402, 0.06652874499559402, 0.09314023703336716, 0.02661149762570858, 0.02661149762570858, 0.01330574881285429, 0.02661149762570858, 0.8873543739318848, 0.12236189842224121, 0.12236189842224121, 0.24472379684448242, 0.12236189842224121, 0.24472379684448242, 0.3787337839603424, 0.22724027931690216, 0.3029870390892029, 0.37621980905532837, 0.37621980905532837, 0.18810990452766418, 0.5231178998947144, 0.14266853034496307, 0.14266853034496307, 0.04755617678165436, 0.09511235356330872, 0.04755617678165436, 0.3343607783317566, 0.3343607783317566, 0.1671803891658783, 0.08359019458293915, 0.8379016518592834, 0.1063246950507164, 0.215602844953537, 0.10337122529745102, 0.18606820702552795, 0.13585932552814484, 0.09746430069208145, 0.07383659482002258, 0.0531623475253582, 0.005906927399337292, 0.005906927399337292, 0.005906927399337292, 0.005906927399337292, 0.09588834643363953, 0.2567857503890991, 0.06825949996709824, 0.23078212141990662, 0.232407346367836, 0.030879298225045204, 0.02600361965596676, 0.029254071414470673, 0.008126131258904934, 0.009751357138156891, 0.01300180982798338, 0.0016252262284979224, 0.8706128597259521, 0.06697022169828415, 0.23320506513118744, 0.7255268692970276, 0.08954623341560364, 0.8357648253440857, 0.029848745092749596, 0.029848745092749596, 0.8129528164863586, 0.10161910206079483, 0.9109852313995361, 0.8299942016601562, 0.37359267473220825, 0.24906177818775177, 0.24906177818775177, 0.12453088909387589, 0.17996416985988617, 0.7198566794395447, 0.15823198854923248, 0.07911599427461624, 0.23734797537326813, 0.3560219705104828, 0.03955799713730812, 0.07911599427461624, 0.3447982966899872, 0.1723991483449936, 0.1723991483449936, 0.1723991483449936, 0.31613966822624207, 0.10537989437580109, 0.5268994569778442, 0.22302880883216858, 0.26020029187202454, 0.07434293627738953, 0.22302880883216858, 0.07434293627738953, 0.14868587255477905, 0.03717146813869476, 0.38876083493232727, 0.19438041746616364, 0.19438041746616364, 0.19438041746616364, 0.29499951004981995, 0.23599961400032043, 0.17699970304965973, 0.05899990350008011, 0.05899990350008011, 0.05899990350008011, 0.05899990350008011, 0.0381893627345562, 0.9165447354316711, 0.0381893627345562, 0.15130215883255005, 0.12968756258487701, 0.237760528922081, 0.08645837754011154, 0.04322918877005577, 0.08645837754011154, 0.04322918877005577, 0.04322918877005577, 0.04322918877005577, 0.04322918877005577, 0.021614594385027885, 0.04322918877005577, 0.16766008734703064, 0.1584479957818985, 0.20819330215454102, 0.2026660442352295, 0.09764818102121353, 0.055272556841373444, 0.03132111579179764, 0.053430140018463135, 0.01473934855312109, 0.0036848371382802725, 0.0036848371382802725, 0.0018424185691401362, 0.0018424185691401362, 0.05568693205714226, 0.013921733014285564, 0.02784346602857113, 0.02784346602857113, 0.8492256999015808, 0.013921733014285564, 0.631278932094574, 0.1578197330236435, 0.9182088971138, 0.04899509623646736, 0.12688472867012024, 0.045226242393255234, 0.22236235439777374, 0.4359307289123535, 0.01884426735341549, 0.027638258412480354, 0.05150766298174858, 0.0037688533775508404, 0.001256284536793828, 0.013819129206240177, 0.001256284536793828, 0.002512569073587656, 0.002512569073587656, 0.19832922518253326, 0.16701409220695496, 0.23312382400035858, 0.07654812186956406, 0.12874002754688263, 0.06610973924398422, 0.017397301271557808, 0.0591508224606514, 0.013917840085923672, 0.013917840085923672, 0.024356219917535782, 0.003479460021480918, 0.11067196726799011, 0.23584577441215515, 0.08930082619190216, 0.183944433927536, 0.20149929821491241, 0.05953388661146164, 0.032819963991642, 0.06487666815519333, 0.006869294680655003, 0.006106039509177208, 0.006106039509177208, 0.001526509877294302, 0.5602301955223083, 0.12004932016134262, 0.04001643881201744, 0.2601068615913391, 0.01000410970300436, 0.2373548001050949, 0.1361299604177475, 0.17365296185016632, 0.11693214625120163, 0.14223836362361908, 0.06719235330820084, 0.05323030427098274, 0.05148505046963692, 0.006981023587286472, 0.004363139625638723, 0.006108395755290985, 0.001745255896821618, 0.001745255896821618, 0.9138478636741638, 0.0073919049464166164, 0.25132477283477783, 0.0960947647690773, 0.465690016746521, 0.044351428747177124, 0.022175714373588562, 0.014783809892833233, 0.08870285749435425, 0.0073919049464166164, 0.9119579792022705, 0.9186243414878845, 0.10672307014465332, 0.03557435795664787, 0.10672307014465332, 0.10672307014465332, 0.32016921043395996, 0.1422974318265915, 0.07114871591329575, 0.03557435795664787, 0.03557435795664787, 0.1679438203573227, 0.19302140176296234, 0.15046550333499908, 0.20214052498340607, 0.16718389093875885, 0.0433158278465271, 0.030397070571780205, 0.02127794921398163, 0.008359194733202457, 0.006079414393752813, 0.007599267642945051, 0.0015198535984382033, 0.0007599267992191017, 0.26663103699684143, 0.12429417669773102, 0.23054563999176025, 0.1122657060623169, 0.06816132366657257, 0.09221825748682022, 0.058137599378824234, 0.03007117100059986, 0.006014234386384487, 0.004009489435702562, 0.006014234386384487, 0.0555599071085453, 0.277799516916275, 0.2222396284341812, 0.2222396284341812, 0.0555599071085453, 0.1666797250509262, 0.11441487073898315, 0.2881559729576111, 0.04237587749958038, 0.36867013573646545, 0.10170210897922516, 0.016950352117419243, 0.033900704234838486, 0.016950352117419243, 0.008475176058709621, 0.008475176058709621, 0.0880059003829956, 0.7920531630516052, 0.0440029501914978, 0.0440029501914978, 0.6440240740776062, 0.16100601851940155, 0.9087801575660706, 0.652031660079956, 0.008811239153146744, 0.1586022973060608, 0.035244956612586975, 0.04405619576573372, 0.035244956612586975, 0.061678674072027206, 0.3731466233730316, 0.1865733116865158, 0.1865733116865158, 0.1865733116865158, 0.8828862905502319, 0.4028327167034149, 0.4028327167034149, 0.3643358051776886, 0.13515682518482208, 0.1821679025888443, 0.08814575523138046, 0.06757841259241104, 0.06170203164219856, 0.055825646966695786, 0.0264437273144722, 0.011752767488360405, 0.0029381918720901012, 0.0029381918720901012, 0.0029381918720901012, 0.34478121995925903, 0.34478121995925903, 0.17239060997962952, 0.2132255733013153, 0.10661278665065765, 0.5330639481544495, 0.05330639332532883, 0.05330639332532883, 0.8986406922340393, 0.026669010519981384, 0.5533819794654846, 0.0866742879152298, 0.14001230895519257, 0.0733397826552391, 0.05333802103996277, 0.020001757889986038, 0.013334505259990692, 0.013334505259990692, 0.013334505259990692, 0.055134017020463943, 0.16540205478668213, 0.16540205478668213, 0.055134017020463943, 0.33080410957336426, 0.22053606808185577, 0.6578401923179626, 0.16446004807949066, 0.8994474411010742, 0.1385437548160553, 0.1385437548160553, 0.4156312644481659, 0.2770875096321106, 0.02684757299721241, 0.268475741147995, 0.1342378705739975, 0.5637990236282349, 0.8627166152000427, 0.07947955280542374, 0.15895910561084747, 0.3973977565765381, 0.19869887828826904, 0.03973977640271187, 0.03973977640271187, 0.03973977640271187, 0.03973977640271187, 0.90498286485672, 0.13415616750717163, 0.6707808375358582, 0.8893465399742126, 0.07184965908527374, 0.2514738142490387, 0.43109795451164246, 0.07184965908527374, 0.03592482954263687, 0.07184965908527374, 0.03592482954263687, 0.9616013765335083, 0.8829978108406067, 0.8872619271278381, 0.5423728227615356, 0.1549636572599411, 0.07748182862997055, 0.1549636572599411, 0.8719168305397034, 0.11547248810529709, 0.808307409286499, 0.057736244052648544, 0.07120778411626816, 0.14241556823253632, 0.7120778560638428, 0.2096857875585556, 0.7548688650131226, 0.04193715751171112, 0.13956965506076813, 0.5582786202430725, 0.27913931012153625, 0.8662697672843933, 0.07875179499387741, 0.8150959014892578, 0.07245296984910965, 0.018113242462277412, 0.018113242462277412, 0.07245296984910965, 0.028344430029392242, 0.2550998628139496, 0.056688860058784485, 0.4818553030490875, 0.056688860058784485, 0.028344430029392242, 0.028344430029392242, 0.028344430029392242, 0.028344430029392242, 0.028344430029392242, 0.23903529345989227, 0.06542018800973892, 0.26671305298805237, 0.14342117309570312, 0.10064644366502762, 0.08303331583738327, 0.06290402263402939, 0.020129287615418434, 0.0025161609519273043, 0.0075484830886125565, 0.0050323219038546085, 0.0025161609519273043, 0.0025161609519273043, 0.0818193331360817, 0.0818193331360817, 0.2454579919576645, 0.5727353096008301, 0.11205580085515976, 0.3447870910167694, 0.20687225461006165, 0.3103083670139313, 0.01723935455083847, 0.2669832110404968, 0.5339664220809937, 0.13201452791690826, 0.198021799325943, 0.5940654277801514, 0.06600726395845413, 0.4634987711906433, 0.3089991807937622, 0.1544995903968811, 0.5769724249839783, 0.28848621249198914, 0.14424310624599457, 0.7438992261886597, 0.19238772988319397, 0.02565169706940651, 0.012825848534703255, 0.012825848534703255, 0.012825848534703255, 0.15626296401023865, 0.6250518560409546, 0.8383418917655945, 0.23202572762966156, 0.23202572762966156, 0.11601286381483078, 0.11601286381483078, 0.11601286381483078, 0.11601286381483078, 0.8977600336074829, 0.21674001216888428, 0.21529507637023926, 0.15171800553798676, 0.10981493443250656, 0.15749773383140564, 0.041903067380189896, 0.02889866754412651, 0.05201760306954384, 0.014449333772063255, 0.008669599890708923, 0.0014449333539232612, 0.3038318157196045, 0.1488977074623108, 0.17706754803657532, 0.11066722124814987, 0.07042459398508072, 0.0744488537311554, 0.056339673697948456, 0.04225475713610649, 0.010060655884444714, 0.0020121312700212, 0.0040242625400424, 0.18264426290988922, 0.00225486746057868, 0.7553805708885193, 0.00450973492115736, 0.05411681905388832, 0.16531184315681458, 0.7439032793045044, 0.6882131695747375, 0.19663232564926147, 0.613136887550354, 0.012598703615367413, 0.14278531074523926, 0.02099783904850483, 0.02099783904850483, 0.07559221982955933, 0.08399135619401932, 0.016798270866274834, 0.004199567716568708, 0.004199567716568708, 0.004199567716568708, 0.9831855893135071, 0.010804236866533756, 0.9402074217796326, 0.05145413801074028, 0.1288345754146576, 0.15388573706150055, 0.18609438836574554, 0.22188176214694977, 0.14314952492713928, 0.03578738123178482, 0.05368107184767723, 0.03578738123178482, 0.007157476153224707, 0.025051167234778404, 0.007157476153224707, 0.05562472343444824, 0.32447755336761475, 0.02781236171722412, 0.380102276802063, 0.07416629791259766, 0.05562472343444824, 0.046353936195373535, 0.009270787239074707, 0.009270787239074707, 0.009270787239074707, 0.009270787239074707, 0.08746688812971115, 0.1749337762594223, 0.1749337762594223, 0.1749337762594223, 0.1749337762594223, 0.1749337762594223, 0.1341208815574646, 0.1341208815574646, 0.2682417631149292, 0.4023626446723938, 0.0841270312666893, 0.003115816041827202, 0.8568494319915771, 0.03427397832274437, 0.01557908020913601, 0.003115816041827202, 0.17477434873580933, 0.1019517034292221, 0.3029422163963318, 0.13690657913684845, 0.09030008316040039, 0.06699683517217636, 0.058258116245269775, 0.04951939731836319, 0.01165162306278944, 0.00582581153139472, 0.00291290576569736, 0.23067612946033478, 0.09774412214756012, 0.3362397849559784, 0.07037577033042908, 0.046917177736759186, 0.09383435547351837, 0.050826944410800934, 0.050826944410800934, 0.011729294434189796, 0.011729294434189796, 0.003909764811396599, 0.65315842628479, 0.1632896065711975, 0.6420601606369019, 0.16051504015922546, 0.3986099362373352, 0.1993049681186676, 0.1993049681186676, 0.1993049681186676, 0.17755460739135742, 0.17755460739135742, 0.17755460739135742, 0.35510921478271484, 0.401824027299881, 0.26788267493247986, 0.23439735174179077, 0.06697066873311996, 0.16657216846942902, 0.1968580186367035, 0.16657216846942902, 0.10600047558546066, 0.13628631830215454, 0.05047641694545746, 0.08244480937719345, 0.05384150892496109, 0.011777830310165882, 0.013460377231240273, 0.006730188615620136, 0.008412735536694527, 0.9409747123718262, 0.646164059638977, 0.25846561789512634, 0.1144847497344017, 0.2847054898738861, 0.10394009947776794, 0.14461231231689453, 0.2108929604291916, 0.04669772833585739, 0.025608431547880173, 0.04820410534739494, 0.003012756584212184, 0.006025513168424368, 0.006025513168424368, 0.003012756584212184, 0.2350977659225464, 0.587744414806366, 0.1175488829612732], \"Term\": [\"abbey\", \"abbey\", \"abbey\", \"abbot\", \"abbot\", \"accomplished\", \"accomplished\", \"accomplished\", \"accomplished\", \"accomplished\", \"accomplished\", \"accomplished\", \"accomplished\", \"accomplished\", \"accomplished\", \"accomplished\", \"accomplished\", \"aches\", \"aches\", \"achieve\", \"adele\", \"adele\", \"adele\", \"adele\", \"adele\", \"adoption\", \"adoption\", \"adoption\", \"affection\", \"affection\", \"affection\", \"affection\", \"affection\", \"affection\", \"affection\", \"affection\", \"affection\", \"affection\", \"affection\", \"affluence\", \"affluence\", \"affluence\", \"affluence\", \"afternoon\", \"afternoon\", \"afternoon\", \"afternoon\", \"afternoon\", \"afternoon\", \"afternoon\", \"afternoon\", \"afternoon\", \"afternoon\", \"afternoon\", \"ah\", \"ah\", \"ah\", \"ah\", \"ah\", \"ah\", \"ah\", \"ah\", \"ah\", \"ah\", \"ah\", \"air\", \"air\", \"air\", \"air\", \"air\", \"air\", \"air\", \"air\", \"air\", \"air\", \"air\", \"air\", \"alley\", \"alley\", \"alleys\", \"allez\", \"allez\", \"amidst\", \"amidst\", \"amidst\", \"amidst\", \"amidst\", \"amidst\", \"amidst\", \"amour\", \"amour\", \"amour\", \"amy\", \"amy\", \"amy\", \"amy\", \"anecdote\", \"anecdote\", \"anecdote\", \"answer\", \"answer\", \"answer\", \"answer\", \"answer\", \"answer\", \"answer\", \"answer\", \"answer\", \"answer\", \"answer\", \"answer\", \"answer\", \"antagonist\", \"antagonist\", \"antagonist\", \"antagonist\", \"antagonist\", \"appeal\", \"appeal\", \"appeal\", \"appeal\", \"appeal\", \"appeal\", \"appearance\", \"appearance\", \"appearance\", \"appearance\", \"appearance\", \"appearance\", \"appearance\", \"appearance\", \"appearance\", \"appearance\", \"appearance\", \"arithmetic\", \"arithmetic\", \"arithmetic\", \"artist\", \"artist\", \"artist\", \"artist\", \"artist\", \"ascribe\", \"ascribe\", \"ascribe\", \"ascribe\", \"asked\", \"asked\", \"asked\", \"asked\", \"asked\", \"asked\", \"asked\", \"asked\", \"asked\", \"asked\", \"asked\", \"asked\", \"association\", \"association\", \"association\", \"assure\", \"assure\", \"assure\", \"assure\", \"assure\", \"assure\", \"assure\", \"assure\", \"assure\", \"asylum\", \"asylum\", \"asylum\", \"asylum\", \"attachments\", \"attachments\", \"attorney\", \"attorney\", \"auburn\", \"auburn\", \"aunt\", \"aunt\", \"aunt\", \"aunt\", \"aunt\", \"aunt\", \"aunt\", \"aunt\", \"aunt\", \"autumn\", \"autumn\", \"autumn\", \"autumn\", \"autumn\", \"bad\", \"bad\", \"bad\", \"bad\", \"bad\", \"bad\", \"bad\", \"bad\", \"bad\", \"bad\", \"bad\", \"bad\", \"bad\", \"bands\", \"barouche\", \"barouche\", \"barouche\", \"barouche\", \"bars\", \"bars\", \"bars\", \"barton\", \"barton\", \"basin\", \"basin\", \"basin\", \"basin\", \"basin\", \"bassompierre\", \"bassompierre\", \"bassompierre\", \"bassompierre\", \"bassompierre\", \"bates\", \"bates\", \"bates\", \"bates\", \"bates\", \"bateses\", \"bath\", \"bath\", \"bath\", \"bath\", \"bath\", \"bathing\", \"bathing\", \"bathing\", \"beaux\", \"beaux\", \"beck\", \"beck\", \"beck\", \"beck\", \"beck\", \"bed\", \"bed\", \"bed\", \"bed\", \"bed\", \"bed\", \"bed\", \"bed\", \"bed\", \"bed\", \"bed\", \"bed\", \"began\", \"began\", \"began\", \"began\", \"began\", \"began\", \"began\", \"began\", \"began\", \"began\", \"began\", \"began\", \"began\", \"behaviour\", \"behaviour\", \"behaviour\", \"behaviour\", \"behaviour\", \"belgian\", \"belgian\", \"belgian\", \"bends\", \"bends\", \"bends\", \"benefactress\", \"benefactress\", \"bennet\", \"bennet\", \"bennet\", \"bennets\", \"berkeley\", \"berkeley\", \"bessie\", \"bessie\", \"bessie\", \"bessie\", \"bessie\", \"bigben\", \"bilious\", \"bilious\", \"bilious\", \"bingley\", \"bingley\", \"bingley\", \"black\", \"black\", \"black\", \"black\", \"black\", \"black\", \"blanche\", \"blanche\", \"blanche\", \"blanche\", \"blanche\", \"blanche\", \"blanche\", \"blanched\", \"bled\", \"blew\", \"block\", \"block\", \"block\", \"block\", \"block\", \"blossoms\", \"blossoms\", \"body\", \"body\", \"body\", \"body\", \"body\", \"body\", \"body\", \"body\", \"body\", \"body\", \"body\", \"bonnets\", \"bonnets\", \"books\", \"books\", \"books\", \"books\", \"books\", \"books\", \"books\", \"books\", \"books\", \"books\", \"books\", \"bound\", \"bound\", \"bound\", \"bound\", \"bound\", \"bound\", \"bound\", \"bound\", \"bouquet\", \"bouquet\", \"bouquet\", \"bourgh\", \"boy\", \"boy\", \"boy\", \"boy\", \"boy\", \"boy\", \"boy\", \"boy\", \"boy\", \"brandon\", \"brandon\", \"bread\", \"bread\", \"bread\", \"bread\", \"bread\", \"bread\", \"bread\", \"bretton\", \"bretton\", \"bretton\", \"bretton\", \"bretton\", \"bretton\", \"brevity\", \"brevity\", \"brevity\", \"brighton\", \"brocklehurst\", \"brocklehurst\", \"brocklehurst\", \"brocklehurst\", \"brocklehurst\", \"brother\", \"brother\", \"brother\", \"brother\", \"brother\", \"brother\", \"brother\", \"brother\", \"brother\", \"brother\", \"brother\", \"brunswick\", \"brunswick\", \"brunswick\", \"brussels\", \"brussels\", \"brussels\", \"brussels\", \"brussels\", \"bundle\", \"bundle\", \"bundle\", \"burghers\", \"burns\", \"burns\", \"butter\", \"butter\", \"butter\", \"butter\", \"came\", \"came\", \"came\", \"came\", \"came\", \"came\", \"came\", \"came\", \"came\", \"came\", \"came\", \"came\", \"campbell\", \"campbell\", \"campbell\", \"candle\", \"candle\", \"candle\", \"candle\", \"candle\", \"captain\", \"captain\", \"captain\", \"captain\", \"case\", \"case\", \"case\", \"case\", \"case\", \"case\", \"case\", \"case\", \"case\", \"case\", \"case\", \"casement\", \"casement\", \"casement\", \"casement\", \"casement\", \"casement\", \"casements\", \"casements\", \"casements\", \"catherine\", \"catherine\", \"catherine\", \"causeway\", \"ceaseless\", \"ceaseless\", \"ceaseless\", \"ceaseless\", \"ceaseless\", \"ceaseless\", \"celine\", \"celine\", \"certain\", \"certain\", \"certain\", \"certain\", \"certain\", \"certain\", \"certain\", \"certain\", \"certain\", \"certain\", \"certain\", \"certain\", \"cette\", \"chair\", \"chair\", \"chair\", \"chair\", \"chair\", \"chair\", \"chair\", \"chair\", \"chair\", \"chair\", \"chair\", \"chalk\", \"chalk\", \"chamber\", \"chamber\", \"chamber\", \"chamber\", \"chamber\", \"chamber\", \"chamber\", \"chamber\", \"charade\", \"charade\", \"charade\", \"charade\", \"charles\", \"charles\", \"charles\", \"charles\", \"charles\", \"charlotte\", \"charlotte\", \"charlotte\", \"cherishing\", \"cherishing\", \"cherishing\", \"child\", \"child\", \"child\", \"child\", \"child\", \"child\", \"child\", \"child\", \"child\", \"child\", \"child\", \"child\", \"child\", \"children\", \"children\", \"children\", \"children\", \"children\", \"children\", \"children\", \"children\", \"children\", \"children\", \"children\", \"children\", \"children\", \"children\", \"chocolate\", \"chocolate\", \"church\", \"church\", \"church\", \"church\", \"church\", \"church\", \"church\", \"church\", \"church\", \"church\", \"church\", \"churchill\", \"churchill\", \"churchill\", \"churchill\", \"circled\", \"circled\", \"circlet\", \"circlet\", \"city\", \"city\", \"city\", \"city\", \"city\", \"city\", \"class\", \"class\", \"class\", \"class\", \"class\", \"class\", \"class\", \"class\", \"class\", \"class\", \"clerk\", \"clerk\", \"clerk\", \"clerk\", \"clerk\", \"cleveland\", \"cleveland\", \"coarseness\", \"coarseness\", \"coarseness\", \"colds\", \"colds\", \"colds\", \"cole\", \"cole\", \"cole\", \"collins\", \"colonel\", \"colonel\", \"colonel\", \"colonel\", \"colonel\", \"colonel\", \"colonel\", \"colours\", \"colours\", \"colours\", \"colours\", \"colours\", \"come\", \"come\", \"come\", \"come\", \"come\", \"come\", \"come\", \"come\", \"come\", \"come\", \"come\", \"come\", \"come\", \"comme\", \"comme\", \"comme\", \"comme\", \"communicative\", \"communicative\", \"communicative\", \"communicative\", \"confided\", \"confided\", \"confided\", \"confided\", \"conformity\", \"conformity\", \"conformity\", \"conformity\", \"conjecture\", \"conjecture\", \"conjecture\", \"conjecture\", \"conjecture\", \"connexion\", \"connexion\", \"connexion\", \"connexion\", \"connexions\", \"connexions\", \"conservatory\", \"conservatory\", \"conservatory\", \"considerably\", \"considerably\", \"considerably\", \"considerably\", \"considerably\", \"considers\", \"considers\", \"considers\", \"contours\", \"contours\", \"contours\", \"cooler\", \"cooler\", \"cooler\", \"cooler\", \"corded\", \"corded\", \"corded\", \"cottage\", \"cottage\", \"cottage\", \"cottage\", \"cottage\", \"cottage\", \"cottage\", \"couldn\", \"couldn\", \"countess\", \"countess\", \"countess\", \"countess\", \"covers\", \"creating\", \"creating\", \"crimsworth\", \"crimsworth\", \"crimsworth\", \"curled\", \"curled\", \"curled\", \"curled\", \"cursed\", \"cursed\", \"cursed\", \"cushioned\", \"dans\", \"dans\", \"dans\", \"darcy\", \"darcy\", \"darcy\", \"dark\", \"dark\", \"dark\", \"dark\", \"dark\", \"dark\", \"dark\", \"dark\", \"dark\", \"dark\", \"dark\", \"dashwood\", \"dashwood\", \"dashwoods\", \"dashwoods\", \"david\", \"david\", \"day\", \"day\", \"day\", \"day\", \"day\", \"day\", \"day\", \"day\", \"day\", \"day\", \"day\", \"day\", \"deaf\", \"deaf\", \"deaf\", \"dear\", \"dear\", \"dear\", \"dear\", \"dear\", \"dear\", \"dear\", \"dear\", \"dear\", \"dear\", \"dear\", \"death\", \"death\", \"death\", \"death\", \"death\", \"death\", \"death\", \"death\", \"death\", \"death\", \"death\", \"deigned\", \"deigned\", \"delaford\", \"demonstrative\", \"denny\", \"derbyshire\", \"derbyshire\", \"des\", \"des\", \"des\", \"desiree\", \"desiree\", \"desires\", \"desires\", \"desk\", \"desk\", \"desk\", \"desk\", \"desk\", \"desk\", \"desk\", \"desk\", \"despair\", \"despair\", \"despair\", \"despair\", \"despair\", \"despair\", \"despair\", \"despair\", \"despair\", \"despair\", \"despair\", \"destitution\", \"destitution\", \"destitution\", \"devonshire\", \"devonshire\", \"devoured\", \"devoured\", \"devoured\", \"devoured\", \"diana\", \"diana\", \"diana\", \"diana\", \"die\", \"die\", \"die\", \"die\", \"die\", \"die\", \"die\", \"die\", \"die\", \"directress\", \"directress\", \"directress\", \"directress\", \"directress\", \"directress\", \"directress\", \"directress\", \"disengaged\", \"disengaged\", \"disengaged\", \"disengaged\", \"disengaged\", \"disparity\", \"displeasing\", \"displeasing\", \"dissimulation\", \"dissimulation\", \"dissimulation\", \"dissimulation\", \"distresses\", \"divisions\", \"divisions\", \"divisions\", \"dixon\", \"dixon\", \"dogs\", \"dogs\", \"donwell\", \"donwell\", \"door\", \"door\", \"door\", \"door\", \"door\", \"door\", \"door\", \"door\", \"door\", \"door\", \"dormitory\", \"dormitory\", \"dormitory\", \"dormitory\", \"dorsetshire\", \"doubted\", \"doubted\", \"doubted\", \"doubted\", \"doubted\", \"doubted\", \"doubted\", \"dr\", \"dr\", \"dr\", \"dr\", \"dr\", \"dr\", \"dr\", \"dr\", \"drain\", \"drain\", \"drenched\", \"edward\", \"edward\", \"edward\", \"edward\", \"edward\", \"edward\", \"edward\", \"eighty\", \"eighty\", \"elicit\", \"elinor\", \"elinor\", \"elinor\", \"elinor\", \"elizabeth\", \"elizabeth\", \"elizabeth\", \"elizabeth\", \"elizabeth\", \"elizabeth\", \"elizabeth\", \"elton\", \"elton\", \"elton\", \"elton\", \"elton\", \"emanuel\", \"emanuel\", \"emanuel\", \"emanuel\", \"emanuel\", \"emma\", \"emma\", \"emma\", \"emma\", \"emma\", \"emma\", \"en\", \"en\", \"en\", \"en\", \"en\", \"en\", \"encore\", \"encore\", \"encore\", \"encore\", \"encore\", \"end\", \"end\", \"end\", \"end\", \"end\", \"end\", \"end\", \"end\", \"end\", \"end\", \"end\", \"end\", \"engagement\", \"engagement\", \"engagement\", \"engagement\", \"england\", \"england\", \"england\", \"england\", \"england\", \"england\", \"england\", \"england\", \"england\", \"england\", \"english\", \"english\", \"english\", \"english\", \"english\", \"english\", \"english\", \"english\", \"english\", \"english\", \"english\", \"enscombe\", \"enscombe\", \"enscombe\", \"entertaining\", \"entertaining\", \"entertaining\", \"entertaining\", \"envious\", \"envious\", \"envious\", \"equally\", \"equally\", \"equally\", \"equally\", \"equally\", \"equally\", \"equally\", \"equally\", \"equally\", \"equally\", \"equally\", \"ere\", \"ere\", \"ere\", \"ere\", \"ere\", \"ere\", \"ere\", \"ere\", \"eshton\", \"eshton\", \"eshton\", \"eshton\", \"est\", \"est\", \"est\", \"est\", \"est\", \"et\", \"et\", \"et\", \"et\", \"et\", \"etre\", \"etre\", \"eulalie\", \"eulalie\", \"eulalie\", \"eulalie\", \"evade\", \"evade\", \"evade\", \"evade\", \"evans\", \"expedient\", \"expedient\", \"expedient\", \"expedient\", \"expedient\", \"expedient\", \"expedient\", \"expedient\", \"expedient\", \"exploring\", \"exploring\", \"exploring\", \"exulting\", \"exulting\", \"eye\", \"eye\", \"eye\", \"eye\", \"eye\", \"eye\", \"eye\", \"eye\", \"eye\", \"eye\", \"eye\", \"eye\", \"eyes\", \"eyes\", \"eyes\", \"eyes\", \"eyes\", \"eyes\", \"eyes\", \"eyes\", \"eyes\", \"eyes\", \"eyes\", \"eyre\", \"eyre\", \"eyre\", \"eyre\", \"eyre\", \"eyre\", \"face\", \"face\", \"face\", \"face\", \"face\", \"face\", \"face\", \"face\", \"face\", \"face\", \"face\", \"face\", \"fade\", \"fairfax\", \"fairfax\", \"fairfax\", \"fairfax\", \"fairfax\", \"fairfax\", \"fairfax\", \"fairfax\", \"fairfax\", \"fairfax\", \"family\", \"family\", \"family\", \"family\", \"family\", \"family\", \"family\", \"family\", \"family\", \"family\", \"family\", \"family\", \"family\", \"famine\", \"famine\", \"famine\", \"fanny\", \"fanny\", \"farthest\", \"farthest\", \"farthest\", \"farthest\", \"farthest\", \"farthest\", \"fashionable\", \"fashionable\", \"fashionable\", \"fashionable\", \"fashionable\", \"fashionable\", \"fashionable\", \"father\", \"father\", \"father\", \"father\", \"father\", \"father\", \"father\", \"father\", \"father\", \"father\", \"father\", \"faubourg\", \"fault\", \"fault\", \"fault\", \"fault\", \"fault\", \"fault\", \"fault\", \"fault\", \"feast\", \"feast\", \"feast\", \"featured\", \"featured\", \"featured\", \"featured\", \"featured\", \"february\", \"february\", \"february\", \"february\", \"february\", \"feebly\", \"feebly\", \"feebly\", \"feelings\", \"feelings\", \"feelings\", \"feelings\", \"feelings\", \"feelings\", \"feelings\", \"feelings\", \"feelings\", \"feelings\", \"feelings\", \"felt\", \"felt\", \"felt\", \"felt\", \"felt\", \"felt\", \"felt\", \"felt\", \"felt\", \"felt\", \"felt\", \"felt\", \"fence\", \"fence\", \"ferrars\", \"ferrars\", \"figure\", \"figure\", \"figure\", \"figure\", \"figure\", \"figure\", \"figure\", \"figure\", \"figure\", \"fille\", \"finds\", \"finds\", \"finds\", \"finds\", \"finds\", \"fine\", \"fine\", \"fine\", \"fine\", \"fine\", \"fine\", \"fine\", \"fine\", \"fine\", \"fine\", \"fine\", \"fine\", \"fitzwilliam\", \"fitzwilliam\", \"flown\", \"flown\", \"flown\", \"followed\", \"followed\", \"followed\", \"followed\", \"followed\", \"followed\", \"followed\", \"followed\", \"followed\", \"followed\", \"forgets\", \"forgets\", \"forster\", \"forthwith\", \"forthwith\", \"fossette\", \"fossette\", \"fossette\", \"frances\", \"frances\", \"frances\", \"frances\", \"francs\", \"francs\", \"francs\", \"francs\", \"frank\", \"frank\", \"frank\", \"frank\", \"frank\", \"frank\", \"frank\", \"fraternity\", \"fraternity\", \"friend\", \"friend\", \"friend\", \"friend\", \"friend\", \"friend\", \"friend\", \"friend\", \"friend\", \"friend\", \"gallery\", \"gallery\", \"gallery\", \"gallery\", \"garden\", \"garden\", \"garden\", \"garden\", \"garden\", \"garden\", \"garden\", \"garden\", \"gardener\", \"gardener\", \"gardener\", \"gardiner\", \"gardiner\", \"gardiner\", \"gateshead\", \"gateshead\", \"gateshead\", \"gateshead\", \"gateshead\", \"gateshead\", \"general\", \"general\", \"general\", \"general\", \"general\", \"general\", \"general\", \"general\", \"general\", \"general\", \"general\", \"general\", \"general\", \"general\", \"gentlemen\", \"gentlemen\", \"gentlemen\", \"gentlemen\", \"gentlemen\", \"gentlemen\", \"gentlemen\", \"gentlemen\", \"gentlemen\", \"geography\", \"geography\", \"geography\", \"georgiana\", \"georgiana\", \"georgiana\", \"georgiana\", \"georgiana\", \"georgiana\", \"georgiana\", \"georgiana\", \"gestures\", \"gestures\", \"gestures\", \"gestures\", \"ghost\", \"ghost\", \"ginevra\", \"ginevra\", \"ginevra\", \"ginevra\", \"ginevra\", \"ginevra\", \"girl\", \"girl\", \"girl\", \"girl\", \"girl\", \"girl\", \"girl\", \"girl\", \"girl\", \"girl\", \"girl\", \"girl\", \"given\", \"given\", \"given\", \"given\", \"given\", \"given\", \"given\", \"given\", \"given\", \"given\", \"given\", \"given\", \"glass\", \"glass\", \"glass\", \"glass\", \"glass\", \"glass\", \"glass\", \"glass\", \"glass\", \"gleamed\", \"gleamed\", \"goddard\", \"goddard\", \"goddard\", \"godmother\", \"godmother\", \"godmother\", \"godmother\", \"good\", \"good\", \"good\", \"good\", \"good\", \"good\", \"good\", \"good\", \"good\", \"good\", \"good\", \"good\", \"good\", \"graham\", \"graham\", \"graham\", \"graham\", \"graham\", \"graham\", \"grammar\", \"grammar\", \"grammar\", \"grammar\", \"grant\", \"grant\", \"grant\", \"grant\", \"grant\", \"great\", \"great\", \"great\", \"great\", \"great\", \"great\", \"great\", \"great\", \"great\", \"great\", \"great\", \"great\", \"great\", \"grecian\", \"grecian\", \"grecian\", \"grecian\", \"grecian\", \"grenier\", \"gross\", \"gross\", \"gross\", \"grove\", \"grove\", \"grove\", \"grove\", \"grove\", \"gruel\", \"gruel\", \"gruel\", \"hail\", \"hair\", \"hair\", \"hair\", \"hair\", \"hair\", \"hair\", \"hair\", \"hair\", \"hair\", \"half\", \"half\", \"half\", \"half\", \"half\", \"half\", \"half\", \"half\", \"half\", \"half\", \"half\", \"half\", \"hall\", \"hall\", \"hall\", \"hall\", \"hall\", \"hall\", \"hall\", \"hall\", \"hall\", \"hall\", \"hall\", \"hamal\", \"hand\", \"hand\", \"hand\", \"hand\", \"hand\", \"hand\", \"hand\", \"hand\", \"hand\", \"hand\", \"hand\", \"hand\", \"hand\", \"handkerchief\", \"handkerchief\", \"handkerchief\", \"handkerchief\", \"handkerchief\", \"handkerchief\", \"hannah\", \"hannah\", \"hannah\", \"harass\", \"harass\", \"harley\", \"harmony\", \"harmony\", \"harmony\", \"harmony\", \"harmony\", \"harmony\", \"harmony\", \"harriet\", \"harriet\", \"harriet\", \"harriet\", \"harriet\", \"harriet\", \"hartfield\", \"hartfield\", \"hartfield\", \"hawkins\", \"hawkins\", \"hawkins\", \"hawkins\", \"healed\", \"healed\", \"hear\", \"hear\", \"hear\", \"hear\", \"hear\", \"hear\", \"hear\", \"hear\", \"hear\", \"hear\", \"hear\", \"heard\", \"heard\", \"heard\", \"heard\", \"heard\", \"heard\", \"heard\", \"heard\", \"heard\", \"heard\", \"heard\", \"heard\", \"heard\", \"heard\", \"heart\", \"heart\", \"heart\", \"heart\", \"heart\", \"heart\", \"heart\", \"heart\", \"heart\", \"heart\", \"heart\", \"heart\", \"heart\", \"heir\", \"heir\", \"heir\", \"heir\", \"helen\", \"hem\", \"hem\", \"hem\", \"hem\", \"henri\", \"henri\", \"henri\", \"henri\", \"henri\", \"henry\", \"henry\", \"henry\", \"henry\", \"henry\", \"henry\", \"henry\", \"herd\", \"herd\", \"hertfordshire\", \"highbury\", \"highbury\", \"highbury\", \"highbury\", \"history\", \"history\", \"history\", \"history\", \"history\", \"history\", \"history\", \"history\", \"history\", \"history\", \"home\", \"home\", \"home\", \"home\", \"home\", \"home\", \"home\", \"home\", \"home\", \"home\", \"home\", \"home\", \"hope\", \"hope\", \"hope\", \"hope\", \"hope\", \"hope\", \"hope\", \"hope\", \"hope\", \"hope\", \"hope\", \"hope\", \"house\", \"house\", \"house\", \"house\", \"house\", \"house\", \"house\", \"house\", \"house\", \"house\", \"house\", \"house\", \"house\", \"human\", \"human\", \"human\", \"human\", \"human\", \"human\", \"human\", \"human\", \"hunsden\", \"hunsden\", \"hunsden\", \"hunsden\", \"hunsden\", \"hunsford\", \"hurst\", \"hurst\", \"hurst\", \"husbands\", \"husbands\", \"husbands\", \"husbands\", \"husbands\", \"icy\", \"idea\", \"idea\", \"idea\", \"idea\", \"idea\", \"idea\", \"idea\", \"idea\", \"idea\", \"idea\", \"idea\", \"idea\", \"il\", \"il\", \"il\", \"il\", \"il\", \"immense\", \"immense\", \"immense\", \"immense\", \"impassioned\", \"impassioned\", \"inattention\", \"inattention\", \"inattention\", \"inattention\", \"inattentive\", \"inattentive\", \"inattentive\", \"indian\", \"indian\", \"indian\", \"indian\", \"indicating\", \"indicating\", \"indicating\", \"indicating\", \"inference\", \"inference\", \"inference\", \"inference\", \"ingram\", \"ingram\", \"ingram\", \"ingram\", \"ingram\", \"ingram\", \"inquiry\", \"inquiry\", \"inquiry\", \"inquiry\", \"inquiry\", \"inquiry\", \"inquiry\", \"inquiry\", \"inquiry\", \"inscription\", \"institution\", \"institution\", \"institution\", \"institution\", \"intellect\", \"intellect\", \"intellect\", \"intellect\", \"intellect\", \"intellect\", \"intellect\", \"interchanged\", \"interchanged\", \"interposed\", \"interposed\", \"interposed\", \"interposed\", \"interposed\", \"interposed\", \"interposed\", \"interrupting\", \"interrupting\", \"interrupting\", \"interrupting\", \"invariable\", \"irids\", \"irids\", \"irids\", \"irrational\", \"irrational\", \"irrational\", \"isabella\", \"isabella\", \"iv\", \"iv\", \"iv\", \"jane\", \"jane\", \"jane\", \"jane\", \"jane\", \"jane\", \"jane\", \"jane\", \"jane\", \"jane\", \"jane\", \"je\", \"je\", \"je\", \"je\", \"je\", \"jennings\", \"jennings\", \"jocund\", \"jocund\", \"jocund\", \"john\", \"john\", \"john\", \"john\", \"john\", \"john\", \"john\", \"john\", \"john\", \"john\", \"john\", \"john\", \"john\", \"joining\", \"joining\", \"joining\", \"jour\", \"jour\", \"jour\", \"joyfully\", \"joyfully\", \"joyfully\", \"judgement\", \"justice\", \"justice\", \"justice\", \"justice\", \"justice\", \"justice\", \"justice\", \"justice\", \"justice\", \"justice\", \"kent\", \"killed\", \"killed\", \"kitty\", \"kitty\", \"kitty\", \"knew\", \"knew\", \"knew\", \"knew\", \"knew\", \"knew\", \"knew\", \"knew\", \"knew\", \"knew\", \"knew\", \"knew\", \"knew\", \"knightley\", \"knightley\", \"knightley\", \"knightley\", \"knightley\", \"knightleys\", \"knightleys\", \"knightleys\", \"know\", \"know\", \"know\", \"know\", \"know\", \"know\", \"know\", \"know\", \"know\", \"know\", \"know\", \"know\", \"know\", \"know\", \"known\", \"known\", \"known\", \"known\", \"known\", \"known\", \"known\", \"known\", \"known\", \"known\", \"known\", \"known\", \"la\", \"la\", \"la\", \"la\", \"la\", \"la\", \"la\", \"lace\", \"lace\", \"lace\", \"lace\", \"lace\", \"lace\", \"lace\", \"lace\", \"lad\", \"lad\", \"lad\", \"lad\", \"lady\", \"lady\", \"lady\", \"lady\", \"lady\", \"lady\", \"lady\", \"lady\", \"lady\", \"lady\", \"lady\", \"lady\", \"lamb\", \"lamb\", \"lambton\", \"lame\", \"lame\", \"lame\", \"lamps\", \"lamps\", \"larkins\", \"launched\", \"launched\", \"launched\", \"lay\", \"lay\", \"lay\", \"lay\", \"lay\", \"lay\", \"lay\", \"lay\", \"lay\", \"lay\", \"lay\", \"leafy\", \"leap\", \"left\", \"left\", \"left\", \"left\", \"left\", \"left\", \"left\", \"left\", \"left\", \"left\", \"left\", \"left\", \"left\", \"length\", \"length\", \"length\", \"length\", \"length\", \"length\", \"length\", \"length\", \"length\", \"length\", \"lengths\", \"lengths\", \"lengths\", \"lengths\", \"les\", \"les\", \"les\", \"les\", \"lesser\", \"lessons\", \"lessons\", \"lessons\", \"lessons\", \"lessons\", \"lessons\", \"lessons\", \"lessons\", \"let\", \"let\", \"let\", \"let\", \"let\", \"let\", \"let\", \"let\", \"let\", \"let\", \"let\", \"let\", \"library\", \"library\", \"library\", \"library\", \"library\", \"library\", \"library\", \"library\", \"life\", \"life\", \"life\", \"life\", \"life\", \"life\", \"life\", \"life\", \"life\", \"life\", \"life\", \"light\", \"light\", \"light\", \"light\", \"light\", \"light\", \"light\", \"light\", \"light\", \"light\", \"light\", \"like\", \"like\", \"like\", \"like\", \"like\", \"like\", \"like\", \"like\", \"like\", \"like\", \"like\", \"like\", \"like\", \"likeness\", \"likeness\", \"likeness\", \"likeness\", \"likeness\", \"likeness\", \"likeness\", \"likeness\", \"list\", \"list\", \"list\", \"list\", \"list\", \"list\", \"list\", \"little\", \"little\", \"little\", \"little\", \"little\", \"little\", \"little\", \"little\", \"little\", \"little\", \"little\", \"little\", \"little\", \"little\", \"lizzy\", \"lizzy\", \"lloyd\", \"lloyd\", \"local\", \"local\", \"local\", \"local\", \"london\", \"london\", \"london\", \"london\", \"london\", \"london\", \"london\", \"london\", \"london\", \"london\", \"london\", \"long\", \"long\", \"long\", \"long\", \"long\", \"long\", \"long\", \"long\", \"long\", \"long\", \"long\", \"long\", \"long\", \"longbourn\", \"longest\", \"longest\", \"longest\", \"longest\", \"longest\", \"longest\", \"longstaple\", \"look\", \"look\", \"look\", \"look\", \"look\", \"look\", \"look\", \"look\", \"look\", \"look\", \"look\", \"look\", \"looked\", \"looked\", \"looked\", \"looked\", \"looked\", \"looked\", \"looked\", \"looked\", \"looked\", \"looked\", \"looked\", \"looked\", \"looked\", \"love\", \"love\", \"love\", \"love\", \"love\", \"love\", \"love\", \"love\", \"love\", \"love\", \"love\", \"love\", \"love\", \"lowood\", \"lowood\", \"lowood\", \"lowood\", \"lowood\", \"lowood\", \"lowood\", \"lucas\", \"lucases\", \"lucy\", \"lucy\", \"lucy\", \"lucy\", \"lucy\", \"lucy\", \"lucy\", \"lydia\", \"lydia\", \"lynn\", \"lynn\", \"lynn\", \"madame\", \"madame\", \"madame\", \"madame\", \"madame\", \"madame\", \"madame\", \"madame\", \"mademoiselle\", \"mademoiselle\", \"mademoiselle\", \"mademoiselle\", \"mademoiselle\", \"mademoiselle\", \"mademoiselle\", \"magistrate\", \"magistrate\", \"magistrate\", \"mama\", \"mama\", \"mama\", \"mama\", \"mama\", \"mama\", \"mama\", \"maman\", \"maman\", \"man\", \"man\", \"man\", \"man\", \"man\", \"man\", \"man\", \"man\", \"man\", \"man\", \"man\", \"man\", \"man\", \"manifestation\", \"manifestation\", \"maple\", \"maple\", \"maple\", \"maple\", \"margaret\", \"margaret\", \"marianne\", \"marianne\", \"marianne\", \"marianne\", \"mark\", \"mark\", \"mark\", \"mark\", \"mark\", \"mark\", \"mark\", \"marsh\", \"marsh\", \"martin\", \"martin\", \"martin\", \"martin\", \"martins\", \"martins\", \"mary\", \"mary\", \"mary\", \"mary\", \"mary\", \"mary\", \"mary\", \"mary\", \"mary\", \"mary\", \"mason\", \"mason\", \"mason\", \"mason\", \"mdlle\", \"mdlle\", \"mdlle\", \"mdlle\", \"mdlle\", \"mdlle\", \"mdlle\", \"mdlle\", \"meadow\", \"meadow\", \"meadow\", \"meadow\", \"medium\", \"medium\", \"medium\", \"medium\", \"medium\", \"meets\", \"meets\", \"melt\", \"meme\", \"meme\", \"meryton\", \"messieurs\", \"messieurs\", \"messieurs\", \"middleton\", \"middleton\", \"middleton\", \"middletons\", \"middletons\", \"mien\", \"mien\", \"mien\", \"mien\", \"mien\", \"mildly\", \"mildly\", \"mildly\", \"military\", \"military\", \"military\", \"militia\", \"militia\", \"millcote\", \"millcote\", \"millcote\", \"millcote\", \"miller\", \"miller\", \"miller\", \"miller\", \"miller\", \"mind\", \"mind\", \"mind\", \"mind\", \"mind\", \"mind\", \"mind\", \"mind\", \"mind\", \"mind\", \"mind\", \"mind\", \"mind\", \"mirror\", \"miss\", \"miss\", \"miss\", \"miss\", \"miss\", \"miss\", \"miss\", \"miss\", \"miss\", \"miss\", \"miss\", \"miss\", \"miss\", \"miss\", \"mission\", \"mission\", \"mission\", \"mission\", \"mission\", \"missis\", \"missis\", \"missis\", \"missis\", \"misunderstand\", \"misunderstand\", \"misunderstand\", \"monday\", \"monday\", \"monday\", \"monsieur\", \"monsieur\", \"monsieur\", \"monsieur\", \"monsieur\", \"monsieur\", \"monsieur\", \"monsieur\", \"monstrous\", \"monstrous\", \"moor\", \"moor\", \"moor\", \"moor\", \"moor\", \"moorland\", \"moorland\", \"morally\", \"mortals\", \"mortals\", \"mortals\", \"mortals\", \"mortify\", \"mortify\", \"mortify\", \"mortify\", \"mother\", \"mother\", \"mother\", \"mother\", \"mother\", \"mother\", \"mother\", \"mother\", \"mother\", \"mother\", \"mother\", \"mother\", \"mountains\", \"mountains\", \"mountains\", \"mountains\", \"mountains\", \"mutinous\", \"narrated\", \"nash\", \"naughty\", \"naughty\", \"ne\", \"ne\", \"ne\", \"ne\", \"near\", \"near\", \"near\", \"near\", \"near\", \"near\", \"near\", \"near\", \"near\", \"near\", \"necks\", \"necks\", \"needful\", \"needful\", \"needful\", \"needful\", \"needles\", \"needles\", \"netherfield\", \"news\", \"news\", \"news\", \"news\", \"news\", \"news\", \"news\", \"news\", \"news\", \"news\", \"night\", \"night\", \"night\", \"night\", \"night\", \"night\", \"night\", \"night\", \"night\", \"night\", \"night\", \"noon\", \"noon\", \"noon\", \"noon\", \"noon\", \"noon\", \"noon\", \"norland\", \"norland\", \"noxious\", \"noxious\", \"noxious\", \"nursery\", \"nursery\", \"nursery\", \"nursery\", \"nursery\", \"oblivious\", \"oblivious\", \"obviously\", \"obviously\", \"officers\", \"oh\", \"oh\", \"oh\", \"oh\", \"oh\", \"oh\", \"oh\", \"oh\", \"oh\", \"oh\", \"oh\", \"oh\", \"old\", \"old\", \"old\", \"old\", \"old\", \"old\", \"old\", \"old\", \"old\", \"old\", \"old\", \"old\", \"old\", \"oliver\", \"oliver\", \"oliver\", \"oliver\", \"opaque\", \"opaque\", \"ordered\", \"ordered\", \"ordered\", \"ordered\", \"ordered\", \"ordered\", \"ordered\", \"ordered\", \"ordered\", \"oriental\", \"oriental\", \"overhead\", \"palmers\", \"palmers\", \"panels\", \"papa\", \"papa\", \"papa\", \"papa\", \"papa\", \"papa\", \"paris\", \"paris\", \"party\", \"party\", \"party\", \"party\", \"party\", \"party\", \"party\", \"party\", \"party\", \"party\", \"pas\", \"pas\", \"pas\", \"pas\", \"pas\", \"pastor\", \"pastor\", \"pastor\", \"patty\", \"paul\", \"paul\", \"paul\", \"paul\", \"paul\", \"paul\", \"paulina\", \"paulina\", \"paulina\", \"paulina\", \"pear\", \"peep\", \"peep\", \"peep\", \"peep\", \"pelet\", \"pelet\", \"pelet\", \"pelet\", \"pelet\", \"pelet\", \"pemberley\", \"pemberley\", \"pemberley\", \"performances\", \"performances\", \"performances\", \"perish\", \"perish\", \"perish\", \"perish\", \"perish\", \"perry\", \"perry\", \"perry\", \"perry\", \"perry\", \"pet\", \"pet\", \"pet\", \"pet\", \"petit\", \"petty\", \"petty\", \"philanthropist\", \"philanthropist\", \"phillips\", \"phrases\", \"phrases\", \"phrases\", \"phrases\", \"phrases\", \"pierre\", \"pierre\", \"pierre\", \"pierre\", \"pillar\", \"pillar\", \"pillar\", \"pillar\", \"pity\", \"pity\", \"pity\", \"pity\", \"pity\", \"pity\", \"pity\", \"pity\", \"pity\", \"pity\", \"place\", \"place\", \"place\", \"place\", \"place\", \"place\", \"place\", \"place\", \"place\", \"place\", \"place\", \"place\", \"played\", \"played\", \"played\", \"played\", \"played\", \"played\", \"played\", \"played\", \"pleasure\", \"pleasure\", \"pleasure\", \"pleasure\", \"pleasure\", \"pleasure\", \"pleasure\", \"pleasure\", \"pleasure\", \"pleasure\", \"pleasure\", \"pleasure\", \"pleasure\", \"plus\", \"plus\", \"plus\", \"plymouth\", \"polly\", \"polly\", \"polly\", \"poor\", \"poor\", \"poor\", \"poor\", \"poor\", \"poor\", \"poor\", \"poor\", \"poor\", \"poor\", \"poor\", \"poor\", \"poor\", \"population\", \"population\", \"population\", \"porridge\", \"porridge\", \"porridge\", \"porridge\", \"porridge\", \"potatoes\", \"potatoes\", \"pounds\", \"pounds\", \"pounds\", \"pounds\", \"pounds\", \"pounds\", \"pounds\", \"pounds\", \"precise\", \"precise\", \"precise\", \"precise\", \"prettiest\", \"prettiest\", \"prettiest\", \"pride\", \"pride\", \"pride\", \"pride\", \"pride\", \"pride\", \"pride\", \"pride\", \"pride\", \"pride\", \"pride\", \"priest\", \"priest\", \"priest\", \"profile\", \"profile\", \"profile\", \"profusion\", \"profusion\", \"profusion\", \"prohibited\", \"prohibited\", \"promise\", \"promise\", \"promise\", \"promise\", \"promise\", \"promise\", \"promise\", \"promise\", \"promise\", \"promise\", \"promise\", \"promoting\", \"protest\", \"protest\", \"protest\", \"protest\", \"protesting\", \"protesting\", \"punished\", \"punished\", \"pupils\", \"pupils\", \"pupils\", \"pupils\", \"pupils\", \"pupils\", \"pupils\", \"purchase\", \"purchase\", \"purchase\", \"purchase\", \"purchase\", \"purchase\", \"purchase\", \"purchases\", \"purchases\", \"purchases\", \"purchases\", \"que\", \"que\", \"que\", \"que\", \"randalls\", \"randalls\", \"randalls\", \"randalls\", \"random\", \"random\", \"random\", \"ranged\", \"rarely\", \"rarely\", \"rarely\", \"rarely\", \"rarely\", \"rarely\", \"rave\", \"rave\", \"rave\", \"raving\", \"raving\", \"read\", \"read\", \"read\", \"read\", \"read\", \"read\", \"read\", \"read\", \"read\", \"read\", \"read\", \"recall\", \"recall\", \"recall\", \"recall\", \"recall\", \"recall\", \"recall\", \"recall\", \"reckon\", \"reckon\", \"reckon\", \"reckon\", \"reckon\", \"recommended\", \"recommended\", \"recommended\", \"recommended\", \"recommended\", \"recommended\", \"recommended\", \"recommended\", \"recommended\", \"reed\", \"reed\", \"reed\", \"reed\", \"reed\", \"reed\", \"regards\", \"regards\", \"regards\", \"regiment\", \"regiment\", \"reine\", \"reine\", \"relentless\", \"repentance\", \"repentance\", \"repentance\", \"repentance\", \"replied\", \"replied\", \"replied\", \"replied\", \"replied\", \"replied\", \"replied\", \"replied\", \"replied\", \"replied\", \"replied\", \"reported\", \"reported\", \"reported\", \"reported\", \"resources\", \"resources\", \"resources\", \"resources\", \"resources\", \"resources\", \"resources\", \"respite\", \"respite\", \"respite\", \"respite\", \"rest\", \"rest\", \"rest\", \"rest\", \"rest\", \"rest\", \"rest\", \"rest\", \"rest\", \"rest\", \"rest\", \"rest\", \"rest\", \"reste\", \"reste\", \"restoring\", \"restoring\", \"restoring\", \"restoring\", \"returned\", \"returned\", \"returned\", \"returned\", \"returned\", \"returned\", \"returned\", \"returned\", \"returned\", \"returned\", \"returned\", \"reuter\", \"reuter\", \"reuter\", \"reuter\", \"reuter\", \"reuter\", \"reuter\", \"richmond\", \"richmond\", \"rien\", \"ringlets\", \"ringlets\", \"rivers\", \"rivers\", \"rivers\", \"rivers\", \"rivers\", \"rivers\", \"roads\", \"roads\", \"roads\", \"roads\", \"roads\", \"roast\", \"roast\", \"roast\", \"robert\", \"robert\", \"robert\", \"robert\", \"robert\", \"robert\", \"robes\", \"robes\", \"rochester\", \"rochester\", \"rochester\", \"rochester\", \"rochester\", \"rochester\", \"rochester\", \"rochester\", \"room\", \"room\", \"room\", \"room\", \"room\", \"room\", \"room\", \"room\", \"room\", \"room\", \"room\", \"rosamond\", \"rosamond\", \"rosine\", \"rosine\", \"rosine\", \"rosine\", \"rosine\", \"rosings\", \"round\", \"round\", \"round\", \"round\", \"round\", \"round\", \"round\", \"round\", \"round\", \"round\", \"round\", \"round\", \"rubber\", \"rubber\", \"rubbish\", \"rubbish\", \"rue\", \"rue\", \"rue\", \"rue\", \"saddened\", \"saddened\", \"saddened\", \"saddened\", \"sais\", \"sais\", \"saturday\", \"saturday\", \"saw\", \"saw\", \"saw\", \"saw\", \"saw\", \"saw\", \"saw\", \"saw\", \"saw\", \"saw\", \"saw\", \"says\", \"says\", \"says\", \"says\", \"says\", \"says\", \"says\", \"says\", \"says\", \"says\", \"says\", \"says\", \"scarf\", \"scarf\", \"scarf\", \"scatcherd\", \"scatcherd\", \"scholar\", \"scholar\", \"scholar\", \"scholar\", \"scholar\", \"scholars\", \"scholars\", \"scholars\", \"school\", \"school\", \"school\", \"school\", \"school\", \"school\", \"school\", \"school\", \"school\", \"school\", \"school\", \"school\", \"schoolmistress\", \"schoolmistress\", \"scold\", \"scold\", \"scold\", \"scotch\", \"scotch\", \"scotch\", \"scotch\", \"scoured\", \"scrupulously\", \"sea\", \"sea\", \"sea\", \"sea\", \"sea\", \"sea\", \"sea\", \"sea\", \"season\", \"season\", \"season\", \"season\", \"season\", \"season\", \"season\", \"season\", \"season\", \"selina\", \"selina\", \"selina\", \"servants\", \"servants\", \"servants\", \"servants\", \"servants\", \"servants\", \"servants\", \"servants\", \"servants\", \"servants\", \"serving\", \"serving\", \"serving\", \"serving\", \"severed\", \"sew\", \"shall\", \"shall\", \"shall\", \"shall\", \"shall\", \"shall\", \"shall\", \"shall\", \"shall\", \"shall\", \"shall\", \"shawl\", \"shawl\", \"shawl\", \"shawl\", \"shawl\", \"shawl\", \"shores\", \"shrine\", \"sickly\", \"sickly\", \"sickly\", \"sickly\", \"sickly\", \"sir\", \"sir\", \"sir\", \"sir\", \"sir\", \"sir\", \"sir\", \"sir\", \"sir\", \"sir\", \"sir\", \"sir\", \"sir\", \"sister\", \"sister\", \"sister\", \"sister\", \"sister\", \"sister\", \"sister\", \"sister\", \"sister\", \"sister\", \"sister\", \"sister\", \"sisterly\", \"sisterly\", \"sisterly\", \"sisters\", \"sisters\", \"sisters\", \"sisters\", \"sisters\", \"sisters\", \"sisters\", \"sisters\", \"sisters\", \"sisters\", \"sisters\", \"sisters\", \"sketch\", \"sketch\", \"sketch\", \"sketch\", \"sketch\", \"sketch\", \"sky\", \"sky\", \"sky\", \"sky\", \"sky\", \"sky\", \"sky\", \"slate\", \"slate\", \"sleep\", \"sleep\", \"sleep\", \"sleep\", \"sleep\", \"sleep\", \"sleep\", \"sleep\", \"sleep\", \"sleep\", \"slippers\", \"smile\", \"smile\", \"smile\", \"smile\", \"smile\", \"smile\", \"smile\", \"smile\", \"smile\", \"smile\", \"smile\", \"smith\", \"smith\", \"smith\", \"smith\", \"smith\", \"smith\", \"smith\", \"smith\", \"snowe\", \"snowe\", \"snowe\", \"snowe\", \"snowe\", \"soft\", \"soft\", \"soft\", \"soft\", \"soft\", \"soft\", \"soft\", \"soft\", \"soft\", \"softest\", \"softest\", \"softest\", \"solved\", \"solved\", \"solved\", \"solved\", \"somersetshire\", \"somersetshire\", \"son\", \"son\", \"son\", \"son\", \"son\", \"son\", \"son\", \"son\", \"son\", \"son\", \"soon\", \"soon\", \"soon\", \"soon\", \"soon\", \"soon\", \"soon\", \"soon\", \"soon\", \"soon\", \"soon\", \"soon\", \"sort\", \"sort\", \"sort\", \"sort\", \"sort\", \"sort\", \"sort\", \"sort\", \"sort\", \"sort\", \"sort\", \"sort\", \"south\", \"south\", \"south\", \"south\", \"south\", \"south\", \"speaks\", \"speaks\", \"speaks\", \"speaks\", \"speaks\", \"speaks\", \"speaks\", \"spectators\", \"spectral\", \"spoiled\", \"spoiled\", \"spoiled\", \"spoiled\", \"spoiled\", \"spontaneously\", \"spontaneously\", \"spontaneously\", \"st\", \"st\", \"st\", \"st\", \"st\", \"st\", \"st\", \"st\", \"st\", \"staircase\", \"staircase\", \"staircase\", \"staircase\", \"staircase\", \"standard\", \"standard\", \"standard\", \"standard\", \"starting\", \"starting\", \"starting\", \"starting\", \"starting\", \"steele\", \"steele\", \"steele\", \"steeles\", \"steeles\", \"steeles\", \"stern\", \"stern\", \"stern\", \"stern\", \"stern\", \"stern\", \"stern\", \"stiff\", \"stiff\", \"stiff\", \"stiff\", \"stiff\", \"stiff\", \"stillness\", \"stimulus\", \"stimulus\", \"stimulus\", \"stimulus\", \"stimulus\", \"stocks\", \"stocks\", \"stocks\", \"stocks\", \"stocks\", \"stole\", \"stole\", \"stole\", \"stood\", \"stood\", \"stood\", \"stood\", \"stood\", \"stood\", \"stood\", \"stood\", \"stood\", \"stood\", \"storey\", \"storey\", \"strange\", \"strange\", \"strange\", \"strange\", \"strange\", \"strange\", \"strange\", \"strange\", \"strange\", \"strange\", \"strawberries\", \"strawberries\", \"strove\", \"strove\", \"study\", \"study\", \"study\", \"study\", \"study\", \"study\", \"study\", \"study\", \"study\", \"study\", \"study\", \"study\", \"subjoined\", \"submissive\", \"submissive\", \"submissive\", \"submissive\", \"submissive\", \"suckling\", \"suckling\", \"suckling\", \"suggestive\", \"suggestive\", \"suggestive\", \"sullen\", \"sullen\", \"sullen\", \"sullen\", \"sullen\", \"sullen\", \"sunrise\", \"sunrise\", \"sunrise\", \"sunrise\", \"supplanted\", \"suppose\", \"suppose\", \"suppose\", \"suppose\", \"suppose\", \"suppose\", \"suppose\", \"suppose\", \"suppose\", \"suppose\", \"suppose\", \"suppose\", \"sure\", \"sure\", \"sure\", \"sure\", \"sure\", \"sure\", \"sure\", \"sure\", \"sure\", \"sure\", \"sure\", \"sure\", \"surgeon\", \"surgeon\", \"surprize\", \"surprize\", \"surprized\", \"surprized\", \"surprized\", \"surprized\", \"surry\", \"surry\", \"susceptible\", \"sussex\", \"swallow\", \"swallow\", \"swallow\", \"swallow\", \"swung\", \"swung\", \"sylvie\", \"sylvie\", \"sylvie\", \"sylvie\", \"sylvie\", \"sylvie\", \"symmetry\", \"symmetry\", \"symmetry\", \"symmetry\", \"syne\", \"syne\", \"syne\", \"tables\", \"tables\", \"tables\", \"tables\", \"tables\", \"tables\", \"tables\", \"tacitly\", \"tacitly\", \"tacitly\", \"tacitly\", \"talks\", \"talks\", \"talks\", \"talks\", \"talks\", \"talks\", \"talks\", \"taylor\", \"taylor\", \"taylor\", \"teach\", \"teach\", \"teach\", \"teach\", \"teach\", \"teach\", \"teach\", \"teach\", \"teach\", \"teach\", \"teach\", \"teach\", \"tell\", \"tell\", \"tell\", \"tell\", \"tell\", \"tell\", \"tell\", \"tell\", \"tell\", \"tell\", \"tell\", \"tell\", \"tell\", \"temple\", \"temple\", \"temple\", \"temple\", \"temple\", \"temple\", \"terribly\", \"terribly\", \"thereof\", \"thing\", \"thing\", \"thing\", \"thing\", \"thing\", \"thing\", \"thing\", \"thing\", \"thing\", \"thing\", \"thing\", \"thing\", \"thing\", \"thing\", \"things\", \"things\", \"things\", \"things\", \"things\", \"things\", \"things\", \"things\", \"things\", \"things\", \"things\", \"things\", \"think\", \"think\", \"think\", \"think\", \"think\", \"think\", \"think\", \"think\", \"think\", \"think\", \"think\", \"think\", \"thornfield\", \"thornfield\", \"thornfield\", \"thornfield\", \"thornfield\", \"thought\", \"thought\", \"thought\", \"thought\", \"thought\", \"thought\", \"thought\", \"thought\", \"thought\", \"thought\", \"thought\", \"thought\", \"thought\", \"thoughtfulness\", \"thousand\", \"thousand\", \"thousand\", \"thousand\", \"thousand\", \"thousand\", \"thousand\", \"thousand\", \"thousand\", \"thrice\", \"thrilling\", \"throat\", \"throat\", \"throat\", \"throat\", \"throat\", \"throat\", \"throat\", \"throat\", \"throat\", \"time\", \"time\", \"time\", \"time\", \"time\", \"time\", \"time\", \"time\", \"time\", \"time\", \"time\", \"time\", \"time\", \"took\", \"took\", \"took\", \"took\", \"took\", \"took\", \"took\", \"took\", \"took\", \"took\", \"took\", \"topic\", \"topic\", \"topic\", \"topic\", \"topic\", \"topic\", \"town\", \"town\", \"town\", \"town\", \"town\", \"town\", \"town\", \"town\", \"town\", \"town\", \"track\", \"track\", \"track\", \"track\", \"transitory\", \"transitory\", \"translation\", \"trees\", \"trees\", \"trees\", \"trees\", \"trees\", \"trees\", \"trees\", \"trunks\", \"trunks\", \"trunks\", \"trunks\", \"truthful\", \"tune\", \"tune\", \"turned\", \"turned\", \"turned\", \"turned\", \"turned\", \"turned\", \"turned\", \"turned\", \"turned\", \"turned\", \"turned\", \"turned\", \"tutor\", \"tutor\", \"tutor\", \"tyrant\", \"tyrant\", \"tyrant\", \"tyrant\", \"tyrant\", \"unceasing\", \"uncle\", \"uncle\", \"uncle\", \"uncle\", \"uncle\", \"uncle\", \"uncle\", \"uncle\", \"uncle\", \"uncle\", \"uncles\", \"uncles\", \"uncles\", \"uncles\", \"uncles\", \"uncles\", \"unconnected\", \"unconnected\", \"undisturbed\", \"undue\", \"undue\", \"undue\", \"undue\", \"une\", \"une\", \"une\", \"une\", \"unexceptionable\", \"unjust\", \"unjust\", \"unjust\", \"unjust\", \"unjust\", \"unjust\", \"unjust\", \"unjust\", \"unjustifiable\", \"unused\", \"unused\", \"upward\", \"useless\", \"useless\", \"useless\", \"useless\", \"useless\", \"useless\", \"useless\", \"vandenhuten\", \"vapid\", \"vapour\", \"vault\", \"vault\", \"vault\", \"vault\", \"venerable\", \"vicarage\", \"vicarage\", \"vicarage\", \"vicious\", \"vicious\", \"vicious\", \"victor\", \"victor\", \"victor\", \"vile\", \"vile\", \"vile\", \"ville\", \"ville\", \"villette\", \"villette\", \"villette\", \"villette\", \"villette\", \"violent\", \"violent\", \"violent\", \"violent\", \"violent\", \"violent\", \"violent\", \"violent\", \"violent\", \"violent\", \"voice\", \"voice\", \"voice\", \"voice\", \"voice\", \"voice\", \"voice\", \"voice\", \"voice\", \"voice\", \"voice\", \"voice\", \"voice\", \"votre\", \"votre\", \"votre\", \"votre\", \"vous\", \"vous\", \"vous\", \"vous\", \"vous\", \"vrai\", \"vrai\", \"wages\", \"wages\", \"wages\", \"wages\", \"waiter\", \"waiter\", \"waiter\", \"waken\", \"waken\", \"waken\", \"wall\", \"wall\", \"wall\", \"wall\", \"wall\", \"wall\", \"waltz\", \"waltz\", \"warren\", \"washing\", \"washing\", \"washing\", \"washing\", \"washing\", \"washing\", \"washstand\", \"way\", \"way\", \"way\", \"way\", \"way\", \"way\", \"way\", \"way\", \"way\", \"way\", \"way\", \"went\", \"went\", \"went\", \"went\", \"went\", \"went\", \"went\", \"went\", \"went\", \"went\", \"went\", \"weston\", \"weston\", \"weston\", \"weston\", \"weston\", \"westons\", \"westons\", \"whitcross\", \"whitcross\", \"white\", \"white\", \"white\", \"white\", \"white\", \"white\", \"white\", \"white\", \"white\", \"white\", \"white\", \"wickham\", \"wickham\", \"willoughby\", \"willoughby\", \"wished\", \"wished\", \"wished\", \"wished\", \"wished\", \"wished\", \"wished\", \"wished\", \"wished\", \"wished\", \"wished\", \"wishes\", \"wishes\", \"wishes\", \"wishes\", \"wishes\", \"wishes\", \"wishes\", \"wishes\", \"wishes\", \"wishes\", \"wishes\", \"wives\", \"wives\", \"wives\", \"wives\", \"wives\", \"wives\", \"womanly\", \"womanly\", \"womanly\", \"womanly\", \"woodhouse\", \"woodhouse\", \"woodhouse\", \"woodhouse\", \"woodhouse\", \"woodhouse\", \"words\", \"words\", \"words\", \"words\", \"words\", \"words\", \"words\", \"words\", \"words\", \"words\", \"words\", \"work\", \"work\", \"work\", \"work\", \"work\", \"work\", \"work\", \"work\", \"work\", \"work\", \"work\", \"worlds\", \"worlds\", \"wrongs\", \"wrongs\", \"yawn\", \"yawn\", \"yawn\", \"yawn\", \"yawned\", \"yawned\", \"yawned\", \"yawned\", \"ye\", \"ye\", \"ye\", \"ye\", \"yes\", \"yes\", \"yes\", \"yes\", \"yes\", \"yes\", \"yes\", \"yes\", \"yes\", \"yes\", \"yes\", \"yes\", \"yorke\", \"yorkshire\", \"yorkshire\", \"young\", \"young\", \"young\", \"young\", \"young\", \"young\", \"young\", \"young\", \"young\", \"young\", \"young\", \"young\", \"zelie\", \"zelie\", \"zelie\"]}, \"R\": 30, \"lambda.step\": 0.01, \"plot.opts\": {\"xlab\": \"PC1\", \"ylab\": \"PC2\"}, \"topic.order\": [8, 14, 6, 11, 12, 9, 15, 7, 13, 1, 3, 10, 2, 5, 4]};\n",
       "\n",
       "function LDAvis_load_lib(url, callback){\n",
       "  var s = document.createElement('script');\n",
       "  s.src = url;\n",
       "  s.async = true;\n",
       "  s.onreadystatechange = s.onload = callback;\n",
       "  s.onerror = function(){console.warn(\"failed to load library \" + url);};\n",
       "  document.getElementsByTagName(\"head\")[0].appendChild(s);\n",
       "}\n",
       "\n",
       "if(typeof(LDAvis) !== \"undefined\"){\n",
       "   // already loaded: just create the visualization\n",
       "   !function(LDAvis){\n",
       "       new LDAvis(\"#\" + \"ldavis_el80991401234936696481639394456\", ldavis_el80991401234936696481639394456_data);\n",
       "   }(LDAvis);\n",
       "}else if(typeof define === \"function\" && define.amd){\n",
       "   // require.js is available: use it to load d3/LDAvis\n",
       "   require.config({paths: {d3: \"https://cdnjs.cloudflare.com/ajax/libs/d3/3.5.5/d3.min\"}});\n",
       "   require([\"d3\"], function(d3){\n",
       "      window.d3 = d3;\n",
       "      LDAvis_load_lib(\"https://cdn.rawgit.com/bmabey/pyLDAvis/files/ldavis.v1.0.0.js\", function(){\n",
       "        new LDAvis(\"#\" + \"ldavis_el80991401234936696481639394456\", ldavis_el80991401234936696481639394456_data);\n",
       "      });\n",
       "    });\n",
       "}else{\n",
       "    // require.js not available: dynamically load d3 & LDAvis\n",
       "    LDAvis_load_lib(\"https://cdnjs.cloudflare.com/ajax/libs/d3/3.5.5/d3.min.js\", function(){\n",
       "         LDAvis_load_lib(\"https://cdn.rawgit.com/bmabey/pyLDAvis/files/ldavis.v1.0.0.js\", function(){\n",
       "                 new LDAvis(\"#\" + \"ldavis_el80991401234936696481639394456\", ldavis_el80991401234936696481639394456_data);\n",
       "            })\n",
       "         });\n",
       "}\n",
       "</script>"
      ],
      "text/plain": [
       "PreparedData(topic_coordinates=              x         y  topics  cluster       Freq\n",
       "topic                                                \n",
       "7     -0.035837 -0.087028       1        1  19.998714\n",
       "13     0.128797  0.047815       2        1  17.269522\n",
       "5     -0.018748 -0.066216       3        1  16.610149\n",
       "10     0.110067  0.041641       4        1  15.069300\n",
       "11     0.136440  0.052373       5        1  12.892591\n",
       "8     -0.004402 -0.090995       6        1   6.455765\n",
       "14    -0.018052 -0.107779       7        1   5.041890\n",
       "6      0.079492 -0.051574       8        1   3.587849\n",
       "12    -0.006304 -0.026825       9        1   0.991836\n",
       "0      0.009417 -0.023443      10        1   0.728118\n",
       "2      0.045614  0.083109      11        1   0.692152\n",
       "9     -0.090031  0.004590      12        1   0.319363\n",
       "1     -0.144117  0.057869      13        1   0.157182\n",
       "4     -0.078693  0.098340      14        1   0.147970\n",
       "3     -0.113644  0.068122      15        1   0.037594, topic_info=           Term         Freq        Total Category  logprob  loglift\n",
       "165        miss  1507.000000  1507.000000  Default  30.0000  30.0000\n",
       "148      little  1720.000000  1720.000000  Default  29.0000  29.0000\n",
       "948        emma   885.000000   885.000000  Default  28.0000  28.0000\n",
       "1089       dear   582.000000   582.000000  Default  27.0000  27.0000\n",
       "405        like  1332.000000  1332.000000  Default  26.0000  26.0000\n",
       "...         ...          ...          ...      ...      ...      ...\n",
       "987   knightley     0.234649   402.497620  Topic15  -6.2189   0.4387\n",
       "2056    colonel     0.225185   300.780182  Topic15  -6.2601   0.6889\n",
       "148      little     0.253536  1720.167236  Topic15  -6.1415  -0.9363\n",
       "984        jane     0.237802   913.394348  Topic15  -6.2056  -0.3674\n",
       "948        emma     0.188841   885.744385  Topic15  -6.4361  -0.5672\n",
       "\n",
       "[1092 rows x 6 columns], token_table=      Topic      Freq   Term\n",
       "term                        \n",
       "1946      2  0.030231  abbey\n",
       "1946      5  0.906924  abbey\n",
       "1946      8  0.030231  abbey\n",
       "6203      1  0.121992  abbot\n",
       "6203      8  0.853943  abbot\n",
       "...     ...       ...    ...\n",
       "292      11  0.006026  young\n",
       "292      12  0.003013  young\n",
       "6585      3  0.235098  zelie\n",
       "6585      6  0.587744  zelie\n",
       "6585      7  0.117549  zelie\n",
       "\n",
       "[3879 rows x 3 columns], R=30, lambda_step=0.01, plot_opts={'xlab': 'PC1', 'ylab': 'PC2'}, topic_order=[8, 14, 6, 11, 12, 9, 15, 7, 13, 1, 3, 10, 2, 5, 4])"
      ]
     },
     "execution_count": 45,
     "metadata": {},
     "output_type": "execute_result"
    }
   ],
   "source": [
    "pyLDAvis.gensim.prepare(lda, corpus, id2word)"
   ]
  },
  {
   "cell_type": "markdown",
   "metadata": {},
   "source": [
    "### Overall Model / Documents"
   ]
  },
  {
   "cell_type": "code",
   "execution_count": 46,
   "metadata": {},
   "outputs": [
    {
     "data": {
      "text/plain": [
       "[(10, 0.99742657)]"
      ]
     },
     "execution_count": 46,
     "metadata": {},
     "output_type": "execute_result"
    }
   ],
   "source": [
    "lda[corpus[0]]"
   ]
  },
  {
   "cell_type": "code",
   "execution_count": 47,
   "metadata": {},
   "outputs": [],
   "source": [
    "distro = [lda[d] for d in corpus]"
   ]
  },
  {
   "cell_type": "code",
   "execution_count": 49,
   "metadata": {},
   "outputs": [
    {
     "data": {
      "text/plain": [
       "[(10, 0.050196726), (13, 0.94735783)]"
      ]
     },
     "execution_count": 49,
     "metadata": {},
     "output_type": "execute_result"
    }
   ],
   "source": [
    "distro[1]"
   ]
  },
  {
   "cell_type": "code",
   "execution_count": 50,
   "metadata": {},
   "outputs": [],
   "source": [
    "distro = [lda[d] for d in corpus]\n",
    "\n",
    "def update(doc):\n",
    "        d_dist = {k:0 for k in range(0,15)}\n",
    "        for t in doc:\n",
    "            d_dist[t[0]] = t[1]\n",
    "        return d_dist\n",
    "    \n",
    "new_distro = [update(d) for d in distro]"
   ]
  },
  {
   "cell_type": "code",
   "execution_count": 51,
   "metadata": {},
   "outputs": [
    {
     "data": {
      "text/plain": [
       "813"
      ]
     },
     "execution_count": 51,
     "metadata": {},
     "output_type": "execute_result"
    }
   ],
   "source": [
    "len(new_distro)"
   ]
  },
  {
   "cell_type": "code",
   "execution_count": 52,
   "metadata": {},
   "outputs": [
    {
     "data": {
      "text/html": [
       "<div>\n",
       "<style scoped>\n",
       "    .dataframe tbody tr th:only-of-type {\n",
       "        vertical-align: middle;\n",
       "    }\n",
       "\n",
       "    .dataframe tbody tr th {\n",
       "        vertical-align: top;\n",
       "    }\n",
       "\n",
       "    .dataframe thead th {\n",
       "        text-align: right;\n",
       "    }\n",
       "</style>\n",
       "<table border=\"1\" class=\"dataframe\">\n",
       "  <thead>\n",
       "    <tr style=\"text-align: right;\">\n",
       "      <th></th>\n",
       "      <th>tokens</th>\n",
       "      <th>author</th>\n",
       "      <th>book</th>\n",
       "      <th>section</th>\n",
       "    </tr>\n",
       "  </thead>\n",
       "  <tbody>\n",
       "    <tr>\n",
       "      <th>Austen_Sense0057</th>\n",
       "      <td>[liberty, society, amusement, till, father, po...</td>\n",
       "      <td>1</td>\n",
       "      <td>Sense</td>\n",
       "      <td>57</td>\n",
       "    </tr>\n",
       "    <tr>\n",
       "      <th>Austen_Pride0013</th>\n",
       "      <td>[attention, messages, sister, hurst, bingley, ...</td>\n",
       "      <td>1</td>\n",
       "      <td>Pride</td>\n",
       "      <td>13</td>\n",
       "    </tr>\n",
       "    <tr>\n",
       "      <th>CBronte_Villette0007</th>\n",
       "      <td>[likes, better, turns, away, thoughts, consoli...</td>\n",
       "      <td>0</td>\n",
       "      <td>Villette</td>\n",
       "      <td>7</td>\n",
       "    </tr>\n",
       "    <tr>\n",
       "      <th>Austen_Pride0109</th>\n",
       "      <td>[attentions, spring, score, let, sit, understa...</td>\n",
       "      <td>1</td>\n",
       "      <td>Pride</td>\n",
       "      <td>109</td>\n",
       "    </tr>\n",
       "    <tr>\n",
       "      <th>Austen_Emma0123</th>\n",
       "      <td>[far, strongly, issue, feeling, softer, uprigh...</td>\n",
       "      <td>1</td>\n",
       "      <td>Emma</td>\n",
       "      <td>123</td>\n",
       "    </tr>\n",
       "  </tbody>\n",
       "</table>\n",
       "</div>"
      ],
      "text/plain": [
       "                                                                 tokens  \\\n",
       "Austen_Sense0057      [liberty, society, amusement, till, father, po...   \n",
       "Austen_Pride0013      [attention, messages, sister, hurst, bingley, ...   \n",
       "CBronte_Villette0007  [likes, better, turns, away, thoughts, consoli...   \n",
       "Austen_Pride0109      [attentions, spring, score, let, sit, understa...   \n",
       "Austen_Emma0123       [far, strongly, issue, feeling, softer, uprigh...   \n",
       "\n",
       "                      author      book  section  \n",
       "Austen_Sense0057           1     Sense       57  \n",
       "Austen_Pride0013           1     Pride       13  \n",
       "CBronte_Villette0007       0  Villette        7  \n",
       "Austen_Pride0109           1     Pride      109  \n",
       "Austen_Emma0123            1      Emma      123  "
      ]
     },
     "execution_count": 52,
     "metadata": {},
     "output_type": "execute_result"
    }
   ],
   "source": [
    "df.head()"
   ]
  },
  {
   "cell_type": "code",
   "execution_count": 53,
   "metadata": {},
   "outputs": [],
   "source": [
    "df = pd.DataFrame.from_records(new_distro, index=titles)\n",
    "df.columns = topics\n",
    "df['author'] = df.reset_index()['index'].apply(lambda x: x.split('_')[0]).tolist()"
   ]
  },
  {
   "cell_type": "code",
   "execution_count": 54,
   "metadata": {},
   "outputs": [
    {
     "data": {
      "text/html": [
       "<div>\n",
       "<style scoped>\n",
       "    .dataframe tbody tr th:only-of-type {\n",
       "        vertical-align: middle;\n",
       "    }\n",
       "\n",
       "    .dataframe tbody tr th {\n",
       "        vertical-align: top;\n",
       "    }\n",
       "\n",
       "    .dataframe thead th {\n",
       "        text-align: right;\n",
       "    }\n",
       "</style>\n",
       "<table border=\"1\" class=\"dataframe\">\n",
       "  <thead>\n",
       "    <tr style=\"text-align: right;\">\n",
       "      <th></th>\n",
       "      <th>miss bingley ingram elizabeth english</th>\n",
       "      <th>reed thought thing vault like</th>\n",
       "      <th>weston churchill frank miss elton</th>\n",
       "      <th>hawkins news miss says campbell</th>\n",
       "      <th>dear perry sea little children</th>\n",
       "      <th>little like thought time know</th>\n",
       "      <th>miss little papa harriet bessie</th>\n",
       "      <th>like little night madame thought</th>\n",
       "      <th>miss little like think thought</th>\n",
       "      <th>like little likeness man yes</th>\n",
       "      <th>elinor marianne sister mother edward</th>\n",
       "      <th>emma harriet miss knightley thing</th>\n",
       "      <th>know like jane miss day</th>\n",
       "      <th>elizabeth jane miss darcy know</th>\n",
       "      <th>rochester little sir good day</th>\n",
       "      <th>author</th>\n",
       "    </tr>\n",
       "  </thead>\n",
       "  <tbody>\n",
       "    <tr>\n",
       "      <th>Austen_Sense0057</th>\n",
       "      <td>0.0</td>\n",
       "      <td>0.0</td>\n",
       "      <td>0.0</td>\n",
       "      <td>0.0</td>\n",
       "      <td>0.0</td>\n",
       "      <td>0.000000</td>\n",
       "      <td>0.00000</td>\n",
       "      <td>0.000000</td>\n",
       "      <td>0.0</td>\n",
       "      <td>0.0</td>\n",
       "      <td>0.997427</td>\n",
       "      <td>0.000000</td>\n",
       "      <td>0.0</td>\n",
       "      <td>0.000000</td>\n",
       "      <td>0.0</td>\n",
       "      <td>Austen</td>\n",
       "    </tr>\n",
       "    <tr>\n",
       "      <th>Austen_Pride0013</th>\n",
       "      <td>0.0</td>\n",
       "      <td>0.0</td>\n",
       "      <td>0.0</td>\n",
       "      <td>0.0</td>\n",
       "      <td>0.0</td>\n",
       "      <td>0.000000</td>\n",
       "      <td>0.00000</td>\n",
       "      <td>0.000000</td>\n",
       "      <td>0.0</td>\n",
       "      <td>0.0</td>\n",
       "      <td>0.050193</td>\n",
       "      <td>0.000000</td>\n",
       "      <td>0.0</td>\n",
       "      <td>0.947362</td>\n",
       "      <td>0.0</td>\n",
       "      <td>Austen</td>\n",
       "    </tr>\n",
       "    <tr>\n",
       "      <th>CBronte_Villette0007</th>\n",
       "      <td>0.0</td>\n",
       "      <td>0.0</td>\n",
       "      <td>0.0</td>\n",
       "      <td>0.0</td>\n",
       "      <td>0.0</td>\n",
       "      <td>0.290945</td>\n",
       "      <td>0.36969</td>\n",
       "      <td>0.337258</td>\n",
       "      <td>0.0</td>\n",
       "      <td>0.0</td>\n",
       "      <td>0.000000</td>\n",
       "      <td>0.000000</td>\n",
       "      <td>0.0</td>\n",
       "      <td>0.000000</td>\n",
       "      <td>0.0</td>\n",
       "      <td>CBronte</td>\n",
       "    </tr>\n",
       "    <tr>\n",
       "      <th>Austen_Pride0109</th>\n",
       "      <td>0.0</td>\n",
       "      <td>0.0</td>\n",
       "      <td>0.0</td>\n",
       "      <td>0.0</td>\n",
       "      <td>0.0</td>\n",
       "      <td>0.000000</td>\n",
       "      <td>0.00000</td>\n",
       "      <td>0.000000</td>\n",
       "      <td>0.0</td>\n",
       "      <td>0.0</td>\n",
       "      <td>0.281097</td>\n",
       "      <td>0.000000</td>\n",
       "      <td>0.0</td>\n",
       "      <td>0.716396</td>\n",
       "      <td>0.0</td>\n",
       "      <td>Austen</td>\n",
       "    </tr>\n",
       "    <tr>\n",
       "      <th>Austen_Emma0123</th>\n",
       "      <td>0.0</td>\n",
       "      <td>0.0</td>\n",
       "      <td>0.0</td>\n",
       "      <td>0.0</td>\n",
       "      <td>0.0</td>\n",
       "      <td>0.000000</td>\n",
       "      <td>0.00000</td>\n",
       "      <td>0.000000</td>\n",
       "      <td>0.0</td>\n",
       "      <td>0.0</td>\n",
       "      <td>0.055417</td>\n",
       "      <td>0.584784</td>\n",
       "      <td>0.0</td>\n",
       "      <td>0.357777</td>\n",
       "      <td>0.0</td>\n",
       "      <td>Austen</td>\n",
       "    </tr>\n",
       "  </tbody>\n",
       "</table>\n",
       "</div>"
      ],
      "text/plain": [
       "                      miss bingley ingram elizabeth english  \\\n",
       "Austen_Sense0057                                        0.0   \n",
       "Austen_Pride0013                                        0.0   \n",
       "CBronte_Villette0007                                    0.0   \n",
       "Austen_Pride0109                                        0.0   \n",
       "Austen_Emma0123                                         0.0   \n",
       "\n",
       "                      reed thought thing vault like  \\\n",
       "Austen_Sense0057                                0.0   \n",
       "Austen_Pride0013                                0.0   \n",
       "CBronte_Villette0007                            0.0   \n",
       "Austen_Pride0109                                0.0   \n",
       "Austen_Emma0123                                 0.0   \n",
       "\n",
       "                      weston churchill frank miss elton  \\\n",
       "Austen_Sense0057                                    0.0   \n",
       "Austen_Pride0013                                    0.0   \n",
       "CBronte_Villette0007                                0.0   \n",
       "Austen_Pride0109                                    0.0   \n",
       "Austen_Emma0123                                     0.0   \n",
       "\n",
       "                      hawkins news miss says campbell  \\\n",
       "Austen_Sense0057                                  0.0   \n",
       "Austen_Pride0013                                  0.0   \n",
       "CBronte_Villette0007                              0.0   \n",
       "Austen_Pride0109                                  0.0   \n",
       "Austen_Emma0123                                   0.0   \n",
       "\n",
       "                      dear perry sea little children  \\\n",
       "Austen_Sense0057                                 0.0   \n",
       "Austen_Pride0013                                 0.0   \n",
       "CBronte_Villette0007                             0.0   \n",
       "Austen_Pride0109                                 0.0   \n",
       "Austen_Emma0123                                  0.0   \n",
       "\n",
       "                      little like thought time know  \\\n",
       "Austen_Sense0057                           0.000000   \n",
       "Austen_Pride0013                           0.000000   \n",
       "CBronte_Villette0007                       0.290945   \n",
       "Austen_Pride0109                           0.000000   \n",
       "Austen_Emma0123                            0.000000   \n",
       "\n",
       "                      miss little papa harriet bessie  \\\n",
       "Austen_Sense0057                              0.00000   \n",
       "Austen_Pride0013                              0.00000   \n",
       "CBronte_Villette0007                          0.36969   \n",
       "Austen_Pride0109                              0.00000   \n",
       "Austen_Emma0123                               0.00000   \n",
       "\n",
       "                      like little night madame thought  \\\n",
       "Austen_Sense0057                              0.000000   \n",
       "Austen_Pride0013                              0.000000   \n",
       "CBronte_Villette0007                          0.337258   \n",
       "Austen_Pride0109                              0.000000   \n",
       "Austen_Emma0123                               0.000000   \n",
       "\n",
       "                      miss little like think thought  \\\n",
       "Austen_Sense0057                                 0.0   \n",
       "Austen_Pride0013                                 0.0   \n",
       "CBronte_Villette0007                             0.0   \n",
       "Austen_Pride0109                                 0.0   \n",
       "Austen_Emma0123                                  0.0   \n",
       "\n",
       "                      like little likeness man yes  \\\n",
       "Austen_Sense0057                               0.0   \n",
       "Austen_Pride0013                               0.0   \n",
       "CBronte_Villette0007                           0.0   \n",
       "Austen_Pride0109                               0.0   \n",
       "Austen_Emma0123                                0.0   \n",
       "\n",
       "                      elinor marianne sister mother edward  \\\n",
       "Austen_Sense0057                                  0.997427   \n",
       "Austen_Pride0013                                  0.050193   \n",
       "CBronte_Villette0007                              0.000000   \n",
       "Austen_Pride0109                                  0.281097   \n",
       "Austen_Emma0123                                   0.055417   \n",
       "\n",
       "                      emma harriet miss knightley thing  \\\n",
       "Austen_Sense0057                               0.000000   \n",
       "Austen_Pride0013                               0.000000   \n",
       "CBronte_Villette0007                           0.000000   \n",
       "Austen_Pride0109                               0.000000   \n",
       "Austen_Emma0123                                0.584784   \n",
       "\n",
       "                      know like jane miss day  elizabeth jane miss darcy know  \\\n",
       "Austen_Sense0057                          0.0                        0.000000   \n",
       "Austen_Pride0013                          0.0                        0.947362   \n",
       "CBronte_Villette0007                      0.0                        0.000000   \n",
       "Austen_Pride0109                          0.0                        0.716396   \n",
       "Austen_Emma0123                           0.0                        0.357777   \n",
       "\n",
       "                      rochester little sir good day   author  \n",
       "Austen_Sense0057                                0.0   Austen  \n",
       "Austen_Pride0013                                0.0   Austen  \n",
       "CBronte_Villette0007                            0.0  CBronte  \n",
       "Austen_Pride0109                                0.0   Austen  \n",
       "Austen_Emma0123                                 0.0   Austen  "
      ]
     },
     "execution_count": 54,
     "metadata": {},
     "output_type": "execute_result"
    }
   ],
   "source": [
    "df.head()"
   ]
  },
  {
   "cell_type": "code",
   "execution_count": 55,
   "metadata": {},
   "outputs": [
    {
     "data": {
      "text/html": [
       "<div>\n",
       "<style scoped>\n",
       "    .dataframe tbody tr th:only-of-type {\n",
       "        vertical-align: middle;\n",
       "    }\n",
       "\n",
       "    .dataframe tbody tr th {\n",
       "        vertical-align: top;\n",
       "    }\n",
       "\n",
       "    .dataframe thead th {\n",
       "        text-align: right;\n",
       "    }\n",
       "</style>\n",
       "<table border=\"1\" class=\"dataframe\">\n",
       "  <thead>\n",
       "    <tr style=\"text-align: right;\">\n",
       "      <th></th>\n",
       "      <th>miss bingley ingram elizabeth english</th>\n",
       "      <th>reed thought thing vault like</th>\n",
       "      <th>weston churchill frank miss elton</th>\n",
       "      <th>hawkins news miss says campbell</th>\n",
       "      <th>dear perry sea little children</th>\n",
       "      <th>little like thought time know</th>\n",
       "      <th>miss little papa harriet bessie</th>\n",
       "      <th>like little night madame thought</th>\n",
       "      <th>miss little like think thought</th>\n",
       "      <th>like little likeness man yes</th>\n",
       "      <th>elinor marianne sister mother edward</th>\n",
       "      <th>emma harriet miss knightley thing</th>\n",
       "      <th>know like jane miss day</th>\n",
       "      <th>elizabeth jane miss darcy know</th>\n",
       "      <th>rochester little sir good day</th>\n",
       "    </tr>\n",
       "    <tr>\n",
       "      <th>author</th>\n",
       "      <th></th>\n",
       "      <th></th>\n",
       "      <th></th>\n",
       "      <th></th>\n",
       "      <th></th>\n",
       "      <th></th>\n",
       "      <th></th>\n",
       "      <th></th>\n",
       "      <th></th>\n",
       "      <th></th>\n",
       "      <th></th>\n",
       "      <th></th>\n",
       "      <th></th>\n",
       "      <th></th>\n",
       "      <th></th>\n",
       "    </tr>\n",
       "  </thead>\n",
       "  <tbody>\n",
       "    <tr>\n",
       "      <th>Austen</th>\n",
       "      <td>0.005276</td>\n",
       "      <td>0.000000</td>\n",
       "      <td>0.011047</td>\n",
       "      <td>0.000438</td>\n",
       "      <td>0.00295</td>\n",
       "      <td>0.000888</td>\n",
       "      <td>0.014403</td>\n",
       "      <td>0.006993</td>\n",
       "      <td>0.002147</td>\n",
       "      <td>0.000890</td>\n",
       "      <td>0.295458</td>\n",
       "      <td>0.275726</td>\n",
       "      <td>0.000493</td>\n",
       "      <td>0.380713</td>\n",
       "      <td>0.000000</td>\n",
       "    </tr>\n",
       "    <tr>\n",
       "      <th>CBronte</th>\n",
       "      <td>0.009048</td>\n",
       "      <td>0.002605</td>\n",
       "      <td>0.002990</td>\n",
       "      <td>0.000000</td>\n",
       "      <td>0.00000</td>\n",
       "      <td>0.301037</td>\n",
       "      <td>0.053180</td>\n",
       "      <td>0.346904</td>\n",
       "      <td>0.113389</td>\n",
       "      <td>0.004525</td>\n",
       "      <td>0.032121</td>\n",
       "      <td>0.005557</td>\n",
       "      <td>0.018340</td>\n",
       "      <td>0.017344</td>\n",
       "      <td>0.090535</td>\n",
       "    </tr>\n",
       "  </tbody>\n",
       "</table>\n",
       "</div>"
      ],
      "text/plain": [
       "         miss bingley ingram elizabeth english  reed thought thing vault like  \\\n",
       "author                                                                          \n",
       "Austen                                0.005276                       0.000000   \n",
       "CBronte                               0.009048                       0.002605   \n",
       "\n",
       "         weston churchill frank miss elton  hawkins news miss says campbell  \\\n",
       "author                                                                        \n",
       "Austen                            0.011047                         0.000438   \n",
       "CBronte                           0.002990                         0.000000   \n",
       "\n",
       "         dear perry sea little children  little like thought time know  \\\n",
       "author                                                                   \n",
       "Austen                          0.00295                       0.000888   \n",
       "CBronte                         0.00000                       0.301037   \n",
       "\n",
       "         miss little papa harriet bessie  like little night madame thought  \\\n",
       "author                                                                       \n",
       "Austen                          0.014403                          0.006993   \n",
       "CBronte                         0.053180                          0.346904   \n",
       "\n",
       "         miss little like think thought  like little likeness man yes  \\\n",
       "author                                                                  \n",
       "Austen                         0.002147                      0.000890   \n",
       "CBronte                        0.113389                      0.004525   \n",
       "\n",
       "         elinor marianne sister mother edward  \\\n",
       "author                                          \n",
       "Austen                               0.295458   \n",
       "CBronte                              0.032121   \n",
       "\n",
       "         emma harriet miss knightley thing  know like jane miss day  \\\n",
       "author                                                                \n",
       "Austen                            0.275726                 0.000493   \n",
       "CBronte                           0.005557                 0.018340   \n",
       "\n",
       "         elizabeth jane miss darcy know  rochester little sir good day  \n",
       "author                                                                  \n",
       "Austen                         0.380713                       0.000000  \n",
       "CBronte                        0.017344                       0.090535  "
      ]
     },
     "execution_count": 55,
     "metadata": {},
     "output_type": "execute_result"
    }
   ],
   "source": [
    "df.groupby('author').mean()"
   ]
  },
  {
   "cell_type": "markdown",
   "metadata": {},
   "source": [
    "## Challenge\n",
    "### *Can we see if one of the authors focus more on men than women?*\n",
    "\n",
    "*  Use Spacy for text preprocessing\n",
    "*  Extract the Named Entities from the documents using Spacy (command is fairly straight forward)\n",
    "*  Create unique list of names from the authors (you'll find that there are different types of named entities not all people)\n",
    "*  Label the names with genders (can you this by hand or you use the US census name lists)\n",
    "*  Customize your processing to replace the proper name with your gender from the previous step's lookup table\n",
    "*  Then follow the rest of the LDA flow\n"
   ]
  },
  {
   "cell_type": "markdown",
   "metadata": {},
   "source": [
    "# Selecting the Number of Topics (Learn)\n",
    "<a id=\"#p4\"></a>"
   ]
  },
  {
   "cell_type": "markdown",
   "metadata": {},
   "source": [
    "## Overview"
   ]
  },
  {
   "cell_type": "markdown",
   "metadata": {},
   "source": [
    "## Follow Along"
   ]
  },
  {
   "cell_type": "code",
   "execution_count": 87,
   "metadata": {},
   "outputs": [],
   "source": [
    "from gensim.models.coherencemodel import CoherenceModel\n",
    "\n",
    "def compute_coherence_values(dictionary, corpus, limit, start=2, step=3, passes=5):\n",
    "    \"\"\"\n",
    "    Compute c_v coherence for various number of topics\n",
    "\n",
    "    Parameters:\n",
    "    ----------\n",
    "    dictionary : Gensim dictionary\n",
    "    corpus : Gensim corpus\n",
    "    limit : Max num of topics\n",
    "    passes: the number of times the entire lda model & coherence values are calculated\n",
    "\n",
    "    Returns:\n",
    "    -------\n",
    "    coherence_values : Coherence values corresponding to the LDA model with respective number of topics\n",
    "    \"\"\"\n",
    "    \n",
    "    coherence_values = []\n",
    "    \n",
    "    for iter_ in range(passes):\n",
    "        for num_topics in range(start, limit, step):\n",
    "            model = LdaMulticore(corpus=corpus, num_topics=num_topics, id2word=dictionary, workers=4)\n",
    "            coherencemodel = CoherenceModel(model=model,dictionary=dictionary,corpus=corpus, coherence='u_mass')\n",
    "            coherence_values.append({'pass': iter_, \n",
    "                                     'num_topics': num_topics, \n",
    "                                     'coherence_score': coherencemodel.get_coherence()\n",
    "                                    })\n",
    "\n",
    "    return coherence_values"
   ]
  },
  {
   "cell_type": "code",
   "execution_count": null,
   "metadata": {},
   "outputs": [],
   "source": [
    "# Can take a long time to run.\n",
    "coherence_values = compute_coherence_values(dictionary=id2word, \n",
    "                                                        corpus=corpus,\n",
    "                                                        start=2, \n",
    "                                                        limit=40, \n",
    "                                                        step=2,\n",
    "                                                        passes=100)"
   ]
  },
  {
   "cell_type": "code",
   "execution_count": 89,
   "metadata": {},
   "outputs": [],
   "source": [
    "topic_coherence = pd.DataFrame.from_records(coherence_values)"
   ]
  },
  {
   "cell_type": "code",
   "execution_count": null,
   "metadata": {},
   "outputs": [],
   "source": []
  },
  {
   "cell_type": "code",
   "execution_count": null,
   "metadata": {},
   "outputs": [],
   "source": [
    "topic_coherence.head()"
   ]
  },
  {
   "cell_type": "code",
   "execution_count": null,
   "metadata": {},
   "outputs": [],
   "source": [
    "import seaborn as sns\n",
    "\n",
    "ax = sns.lineplot(x=\"num_topics\", y=\"coherence_score\", data=topic_coherence)"
   ]
  },
  {
   "cell_type": "code",
   "execution_count": null,
   "metadata": {},
   "outputs": [],
   "source": [
    "# Print the coherence scores\n",
    "for m, cv in zip(x, coherence_values):\n",
    "    print(\"Num Topics =\", m, \" has Coherence Value of\", round(cv, 4))"
   ]
  },
  {
   "cell_type": "code",
   "execution_count": null,
   "metadata": {},
   "outputs": [],
   "source": [
    "lda[id2word.doc2bow(tokenize(\"This is a sample document to score with a topic distribution.\"))]"
   ]
  },
  {
   "cell_type": "markdown",
   "metadata": {},
   "source": [
    "# Sources\n",
    "\n",
    "### *References*\n",
    "* [Andrew Ng et al paper on LDA](https://ai.stanford.edu/~ang/papers/jair03-lda.pdf)\n",
    "* On [Coherence](https://pdfs.semanticscholar.org/1521/8d9c029cbb903ae7c729b2c644c24994c201.pdf)\n",
    "\n",
    "### *Resources*\n",
    "\n",
    "* [Gensim](https://radimrehurek.com/gensim/): Python package for topic modeling, nlp, word vectorization, and few other things. Well maintained and well documented.\n",
    "* [Topic Modeling with Gensim](http://www.machinelearningplus.com/nlp/topic-modeling-gensim-python/#11createthedictionaryandcorpusneededfortopicmodeling): A kind of cookbook for LDA with gensim. Excellent overview, but the you need to be aware of missing import statements and assumed prior knowledge.\n",
    "* [Chinese Restuarant Process](https://en.wikipedia.org/wiki/Chinese_restaurant_process): That really obscure stats thing I mentioned... \n",
    "* [PyLDAvis](https://github.com/bmabey/pyLDAvis): Library for visualizing the topic model and performing some exploratory work. Works well. Has a direct parrell implementation in R as well. \n",
    "* [Rare Technologies](https://rare-technologies.com/): The people that made & maintain gensim and a few other libraries.\n",
    "* [Jane Austen v. Charlotte Bronte](https://www.literaryladiesguide.com/literary-musings/jane-austen-charlotte-bronte-different-alike/)"
   ]
  }
 ],
 "metadata": {
  "kernelspec": {
   "display_name": "U4-S1-NLP (Python3)",
   "language": "python",
   "name": "u4-s1-nlp"
  },
  "language_info": {
   "codemirror_mode": {
    "name": "ipython",
    "version": 3
   },
   "file_extension": ".py",
   "mimetype": "text/x-python",
   "name": "python",
   "nbconvert_exporter": "python",
   "pygments_lexer": "ipython3",
   "version": "3.7.0"
  }
 },
 "nbformat": 4,
 "nbformat_minor": 4
}
